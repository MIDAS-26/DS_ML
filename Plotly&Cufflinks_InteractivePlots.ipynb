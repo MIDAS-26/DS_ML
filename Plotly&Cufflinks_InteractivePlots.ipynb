{
 "cells": [
  {
   "cell_type": "code",
   "execution_count": 1,
   "metadata": {},
   "outputs": [],
   "source": [
    "import pandas as pd\n",
    "import numpy as np\n",
    "import cufflinks as cf\n",
    "from plotly.offline import download_plotlyjs, init_notebook_mode, plot, iplot\n",
    "%matplotlib inline"
   ]
  },
  {
   "cell_type": "code",
   "execution_count": 2,
   "metadata": {},
   "outputs": [
    {
     "data": {
      "text/html": [
       "        <script type=\"text/javascript\">\n",
       "        window.PlotlyConfig = {MathJaxConfig: 'local'};\n",
       "        if (window.MathJax) {MathJax.Hub.Config({SVG: {font: \"STIX-Web\"}});}\n",
       "        if (typeof require !== 'undefined') {\n",
       "        require.undef(\"plotly\");\n",
       "        requirejs.config({\n",
       "            paths: {\n",
       "                'plotly': ['https://cdn.plot.ly/plotly-2.6.3.min']\n",
       "            }\n",
       "        });\n",
       "        require(['plotly'], function(Plotly) {\n",
       "            window._Plotly = Plotly;\n",
       "        });\n",
       "        }\n",
       "        </script>\n",
       "        "
      ]
     },
     "metadata": {},
     "output_type": "display_data"
    },
    {
     "data": {
      "text/html": [
       "        <script type=\"text/javascript\">\n",
       "        window.PlotlyConfig = {MathJaxConfig: 'local'};\n",
       "        if (window.MathJax) {MathJax.Hub.Config({SVG: {font: \"STIX-Web\"}});}\n",
       "        if (typeof require !== 'undefined') {\n",
       "        require.undef(\"plotly\");\n",
       "        requirejs.config({\n",
       "            paths: {\n",
       "                'plotly': ['https://cdn.plot.ly/plotly-2.6.3.min']\n",
       "            }\n",
       "        });\n",
       "        require(['plotly'], function(Plotly) {\n",
       "            window._Plotly = Plotly;\n",
       "        });\n",
       "        }\n",
       "        </script>\n",
       "        "
      ]
     },
     "metadata": {},
     "output_type": "display_data"
    }
   ],
   "source": [
    "init_notebook_mode(connected=True)\n",
    "cf.go_offline()"
   ]
  },
  {
   "cell_type": "code",
   "execution_count": 3,
   "metadata": {},
   "outputs": [
    {
     "data": {
      "text/html": [
       "<div>\n",
       "<style scoped>\n",
       "    .dataframe tbody tr th:only-of-type {\n",
       "        vertical-align: middle;\n",
       "    }\n",
       "\n",
       "    .dataframe tbody tr th {\n",
       "        vertical-align: top;\n",
       "    }\n",
       "\n",
       "    .dataframe thead th {\n",
       "        text-align: right;\n",
       "    }\n",
       "</style>\n",
       "<table border=\"1\" class=\"dataframe\">\n",
       "  <thead>\n",
       "    <tr style=\"text-align: right;\">\n",
       "      <th></th>\n",
       "      <th>A</th>\n",
       "      <th>B</th>\n",
       "      <th>C</th>\n",
       "      <th>D</th>\n",
       "    </tr>\n",
       "  </thead>\n",
       "  <tbody>\n",
       "    <tr>\n",
       "      <th>0</th>\n",
       "      <td>0.634069</td>\n",
       "      <td>-0.080321</td>\n",
       "      <td>-0.358402</td>\n",
       "      <td>0.392222</td>\n",
       "    </tr>\n",
       "    <tr>\n",
       "      <th>1</th>\n",
       "      <td>0.636376</td>\n",
       "      <td>-0.160904</td>\n",
       "      <td>0.570189</td>\n",
       "      <td>-1.554432</td>\n",
       "    </tr>\n",
       "    <tr>\n",
       "      <th>2</th>\n",
       "      <td>0.474246</td>\n",
       "      <td>-0.667872</td>\n",
       "      <td>0.735764</td>\n",
       "      <td>-0.365070</td>\n",
       "    </tr>\n",
       "    <tr>\n",
       "      <th>3</th>\n",
       "      <td>-0.365601</td>\n",
       "      <td>0.788379</td>\n",
       "      <td>-0.884971</td>\n",
       "      <td>0.729989</td>\n",
       "    </tr>\n",
       "    <tr>\n",
       "      <th>4</th>\n",
       "      <td>0.310198</td>\n",
       "      <td>1.048137</td>\n",
       "      <td>0.984989</td>\n",
       "      <td>-0.236972</td>\n",
       "    </tr>\n",
       "    <tr>\n",
       "      <th>...</th>\n",
       "      <td>...</td>\n",
       "      <td>...</td>\n",
       "      <td>...</td>\n",
       "      <td>...</td>\n",
       "    </tr>\n",
       "    <tr>\n",
       "      <th>95</th>\n",
       "      <td>-0.620109</td>\n",
       "      <td>-1.263582</td>\n",
       "      <td>-0.818946</td>\n",
       "      <td>0.464217</td>\n",
       "    </tr>\n",
       "    <tr>\n",
       "      <th>96</th>\n",
       "      <td>-1.324948</td>\n",
       "      <td>-0.239213</td>\n",
       "      <td>-0.388168</td>\n",
       "      <td>1.338999</td>\n",
       "    </tr>\n",
       "    <tr>\n",
       "      <th>97</th>\n",
       "      <td>0.501385</td>\n",
       "      <td>-0.129546</td>\n",
       "      <td>-0.530085</td>\n",
       "      <td>-0.550906</td>\n",
       "    </tr>\n",
       "    <tr>\n",
       "      <th>98</th>\n",
       "      <td>0.208114</td>\n",
       "      <td>0.104205</td>\n",
       "      <td>0.273682</td>\n",
       "      <td>-0.316083</td>\n",
       "    </tr>\n",
       "    <tr>\n",
       "      <th>99</th>\n",
       "      <td>-1.389207</td>\n",
       "      <td>0.892326</td>\n",
       "      <td>-0.294631</td>\n",
       "      <td>-0.998869</td>\n",
       "    </tr>\n",
       "  </tbody>\n",
       "</table>\n",
       "<p>100 rows × 4 columns</p>\n",
       "</div>"
      ],
      "text/plain": [
       "           A         B         C         D\n",
       "0   0.634069 -0.080321 -0.358402  0.392222\n",
       "1   0.636376 -0.160904  0.570189 -1.554432\n",
       "2   0.474246 -0.667872  0.735764 -0.365070\n",
       "3  -0.365601  0.788379 -0.884971  0.729989\n",
       "4   0.310198  1.048137  0.984989 -0.236972\n",
       "..       ...       ...       ...       ...\n",
       "95 -0.620109 -1.263582 -0.818946  0.464217\n",
       "96 -1.324948 -0.239213 -0.388168  1.338999\n",
       "97  0.501385 -0.129546 -0.530085 -0.550906\n",
       "98  0.208114  0.104205  0.273682 -0.316083\n",
       "99 -1.389207  0.892326 -0.294631 -0.998869\n",
       "\n",
       "[100 rows x 4 columns]"
      ]
     },
     "execution_count": 3,
     "metadata": {},
     "output_type": "execute_result"
    }
   ],
   "source": [
    "df = pd.DataFrame(np.random.randn(100,4), columns='A B C D'.split())\n",
    "df"
   ]
  },
  {
   "cell_type": "code",
   "execution_count": 4,
   "metadata": {},
   "outputs": [
    {
     "data": {
      "text/html": [
       "<div>\n",
       "<style scoped>\n",
       "    .dataframe tbody tr th:only-of-type {\n",
       "        vertical-align: middle;\n",
       "    }\n",
       "\n",
       "    .dataframe tbody tr th {\n",
       "        vertical-align: top;\n",
       "    }\n",
       "\n",
       "    .dataframe thead th {\n",
       "        text-align: right;\n",
       "    }\n",
       "</style>\n",
       "<table border=\"1\" class=\"dataframe\">\n",
       "  <thead>\n",
       "    <tr style=\"text-align: right;\">\n",
       "      <th></th>\n",
       "      <th>Category</th>\n",
       "      <th>Values</th>\n",
       "    </tr>\n",
       "  </thead>\n",
       "  <tbody>\n",
       "    <tr>\n",
       "      <th>0</th>\n",
       "      <td>A</td>\n",
       "      <td>32</td>\n",
       "    </tr>\n",
       "    <tr>\n",
       "      <th>1</th>\n",
       "      <td>B</td>\n",
       "      <td>43</td>\n",
       "    </tr>\n",
       "    <tr>\n",
       "      <th>2</th>\n",
       "      <td>C</td>\n",
       "      <td>50</td>\n",
       "    </tr>\n",
       "  </tbody>\n",
       "</table>\n",
       "</div>"
      ],
      "text/plain": [
       "  Category  Values\n",
       "0        A      32\n",
       "1        B      43\n",
       "2        C      50"
      ]
     },
     "execution_count": 4,
     "metadata": {},
     "output_type": "execute_result"
    }
   ],
   "source": [
    "df2 = pd.DataFrame({'Category': ['A', 'B', 'C'], 'Values': [32, 43, 50]})\n",
    "df2"
   ]
  },
  {
   "cell_type": "code",
   "execution_count": 5,
   "metadata": {},
   "outputs": [
    {
     "data": {
      "text/plain": [
       "<AxesSubplot:>"
      ]
     },
     "execution_count": 5,
     "metadata": {},
     "output_type": "execute_result"
    },
    {
     "data": {
      "image/png": "[encoded data removed]",
      "text/plain": [
       "<Figure size 432x288 with 1 Axes>"
      ]
     },
     "metadata": {
      "needs_background": "light"
     },
     "output_type": "display_data"
    }
   ],
   "source": [
    "# this is just a normal plot that could be plotted using pandas, just an image\n",
    "df.plot()"
   ]
  },
  {
   "cell_type": "code",
   "execution_count": 6,
   "metadata": {},
   "outputs": [
    {
     "data": {
      "application/vnd.plotly.v1+json": {
       "config": {
        "linkText": "Export to plot.ly",
        "plotlyServerURL": "https://plot.ly",
        "showLink": true
       },
       "data": [
        {
         "line": {
          "color": "rgba(255, 153, 51, 1.0)",
          "dash": "solid",
          "shape": "linear",
          "width": 1.3
         },
         "mode": "lines",
         "name": "A",
         "text": "",
         "type": "scatter",
         "x": [
          0,
          1,
          2,
          3,
          4,
          5,
          6,
          7,
          8,
          9,
          10,
          11,
          12,
          13,
          14,
          15,
          16,
          17,
          18,
          19,
          20,
          21,
          22,
          23,
          24,
          25,
          26,
          27,
          28,
          29,
          30,
          31,
          32,
          33,
          34,
          35,
          36,
          37,
          38,
          39,
          40,
          41,
          42,
          43,
          44,
          45,
          46,
          47,
          48,
          49,
          50,
          51,
          52,
          53,
          54,
          55,
          56,
          57,
          58,
          59,
          60,
          61,
          62,
          63,
          64,
          65,
          66,
          67,
          68,
          69,
          70,
          71,
          72,
          73,
          74,
          75,
          76,
          77,
          78,
          79,
          80,
          81,
          82,
          83,
          84,
          85,
          86,
          87,
          88,
          89,
          90,
          91,
          92,
          93,
          94,
          95,
          96,
          97,
          98,
          99
         ],
         "y": [
          0.6340690285445192,
          0.6363764488160495,
          0.47424566446194105,
          -0.3656007874269261,
          0.31019842574216494,
          0.6133166465230364,
          0.4015139724890553,
          1.0843183417123523,
          1.8676117919988002,
          1.6384213413433457,
          -0.16301817232122512,
          -0.30650874033092773,
          -0.25882630000825074,
          -1.4693846744192478,
          -0.29880151867827603,
          0.41955290427554326,
          0.20984014045386293,
          0.23988911698442872,
          -1.6259579212680848,
          -0.4612373711794841,
          1.5141367518807543,
          0.7730012234544018,
          0.4276272475596875,
          -0.33858776348073943,
          0.16658589794338344,
          0.6517302031748515,
          1.5556829184537349,
          0.39209358035842823,
          1.0299612186521827,
          0.542088567822567,
          0.013705714711266368,
          -2.127365913376156,
          -0.5859377530723702,
          -0.06168312896183187,
          -1.5580479695388452,
          1.1472127211651113,
          -1.339200791020804,
          -0.5680841237444482,
          -1.7337603635121772,
          -0.6288132070068464,
          -0.23711161850880924,
          -0.5256323377832142,
          -0.41070673633817456,
          0.2817098761768104,
          0.07304340518655603,
          -0.7433533869884789,
          0.7191551625857573,
          0.643854102902786,
          -0.22546122755029266,
          -0.5326157709744833,
          0.8500075814609327,
          -0.7167297194917449,
          0.011375675581556343,
          0.2141312470228031,
          1.3529840154213615,
          1.62566020339839,
          0.1375498129923566,
          -0.5916666232485508,
          -0.9448622996390506,
          -0.4023954800794268,
          -0.351019740292634,
          -0.534764874184316,
          -0.22878058471314425,
          -2.4066723053060475,
          1.0347663131873135,
          -1.7272900774507332,
          -0.33879603788022483,
          0.9403286631322976,
          -0.6476790949783093,
          -0.4171658164144538,
          -0.7761115180801232,
          -0.39264814144067517,
          0.32960317973911524,
          -0.555946097907347,
          0.5864315419932845,
          -0.1646560090747852,
          1.966234713002135,
          -1.1108062670762948,
          0.9363108049172509,
          -0.5157390715196071,
          -1.379283775819249,
          1.084377557736333,
          0.21095896773221803,
          0.5921677555217936,
          0.8484015114723811,
          -0.007815608856742347,
          0.22323636092213217,
          -0.7231067157225732,
          -0.6096612576467489,
          0.9346302153244844,
          0.34301917991070396,
          -0.9121765767937241,
          -0.7101481804597242,
          0.5845292289342606,
          0.7882002929822814,
          -0.620109226924012,
          -1.3249477476565736,
          0.5013849086138401,
          0.20811357037246234,
          -1.3892071865559705
         ]
        },
        {
         "line": {
          "color": "rgba(55, 128, 191, 1.0)",
          "dash": "solid",
          "shape": "linear",
          "width": 1.3
         },
         "mode": "lines",
         "name": "B",
         "text": "",
         "type": "scatter",
         "x": [
          0,
          1,
          2,
          3,
          4,
          5,
          6,
          7,
          8,
          9,
          10,
          11,
          12,
          13,
          14,
          15,
          16,
          17,
          18,
          19,
          20,
          21,
          22,
          23,
          24,
          25,
          26,
          27,
          28,
          29,
          30,
          31,
          32,
          33,
          34,
          35,
          36,
          37,
          38,
          39,
          40,
          41,
          42,
          43,
          44,
          45,
          46,
          47,
          48,
          49,
          50,
          51,
          52,
          53,
          54,
          55,
          56,
          57,
          58,
          59,
          60,
          61,
          62,
          63,
          64,
          65,
          66,
          67,
          68,
          69,
          70,
          71,
          72,
          73,
          74,
          75,
          76,
          77,
          78,
          79,
          80,
          81,
          82,
          83,
          84,
          85,
          86,
          87,
          88,
          89,
          90,
          91,
          92,
          93,
          94,
          95,
          96,
          97,
          98,
          99
         ],
         "y": [
          -0.08032060304680495,
          -0.1609039441085918,
          -0.6678717530184467,
          0.7883791466244617,
          1.048136570552438,
          0.6091257871646372,
          0.40104248072890436,
          0.7057752514104487,
          0.6366038514415097,
          0.6291466772174211,
          -0.8594750090715991,
          -1.0258484837265025,
          -1.9242991096294642,
          0.03760220837420321,
          1.999557730405643,
          -0.7759591687658876,
          -1.1953540144894055,
          -1.6769807399527163,
          -0.7396600915364707,
          -1.3440307145228225,
          0.3460561204796086,
          -1.0275247058637582,
          0.8207590993692914,
          -1.9389478123695338,
          0.3324016350890594,
          0.9836820207901033,
          0.6075287051503802,
          -1.3992156564514944,
          1.6532636117407529,
          -1.6209905158439644,
          -0.7061018868858568,
          1.2013310338353194,
          1.38259850541742,
          -0.7167203997208442,
          1.2423307759876432,
          -0.04517548986985527,
          0.7266547570298199,
          0.21035617173165544,
          0.9535253596746064,
          -0.3275134932273681,
          -0.6054167898618014,
          -0.8306397968263588,
          1.6120444096033373,
          2.743245872601505,
          -1.961981933444692,
          1.0199669319790297,
          1.6540322091920006,
          0.9150873537616793,
          1.2533747313447028,
          0.6634952873016217,
          -2.904549376511346,
          -0.1159559453065317,
          2.148274967867067,
          -1.646681382591035,
          1.6154431543893384,
          -1.048827895668607,
          1.8440881485404483,
          0.09355246749838587,
          0.49705314867034295,
          0.12928369014702804,
          0.10285291474699775,
          -0.5483192778627028,
          0.5074060742780225,
          -0.02574824954308262,
          -0.9208691463319174,
          -0.7704904379349985,
          1.1403687667624922,
          1.3055180353451266,
          0.34922204892362446,
          2.295989280042878,
          0.12829014129178357,
          2.4806970453578208,
          2.015446418590636,
          0.4356909384135753,
          1.7090969770577051,
          0.6051229910366045,
          -0.37313623890346065,
          0.14852523991120495,
          0.5166297117090667,
          -0.5746780362567062,
          0.21607842780217076,
          2.611234621842474,
          -0.9722097514826098,
          1.3136918928821784,
          0.7530011642617872,
          0.9395566143585494,
          0.4047542743444355,
          0.7573154975636051,
          -0.8673672589216012,
          2.133632000157932,
          0.5996888364309373,
          -0.05808935028634026,
          0.2687100580421572,
          -0.17808248365715199,
          -0.2807048202685498,
          -1.2635824916942744,
          -0.2392133503622213,
          -0.12954593224463076,
          0.10420525027625935,
          0.8923263425988539
         ]
        },
        {
         "line": {
          "color": "rgba(50, 171, 96, 1.0)",
          "dash": "solid",
          "shape": "linear",
          "width": 1.3
         },
         "mode": "lines",
         "name": "C",
         "text": "",
         "type": "scatter",
         "x": [
          0,
          1,
          2,
          3,
          4,
          5,
          6,
          7,
          8,
          9,
          10,
          11,
          12,
          13,
          14,
          15,
          16,
          17,
          18,
          19,
          20,
          21,
          22,
          23,
          24,
          25,
          26,
          27,
          28,
          29,
          30,
          31,
          32,
          33,
          34,
          35,
          36,
          37,
          38,
          39,
          40,
          41,
          42,
          43,
          44,
          45,
          46,
          47,
          48,
          49,
          50,
          51,
          52,
          53,
          54,
          55,
          56,
          57,
          58,
          59,
          60,
          61,
          62,
          63,
          64,
          65,
          66,
          67,
          68,
          69,
          70,
          71,
          72,
          73,
          74,
          75,
          76,
          77,
          78,
          79,
          80,
          81,
          82,
          83,
          84,
          85,
          86,
          87,
          88,
          89,
          90,
          91,
          92,
          93,
          94,
          95,
          96,
          97,
          98,
          99
         ],
         "y": [
          -0.3584016367504639,
          0.5701885643369574,
          0.7357635602882788,
          -0.8849711014936266,
          0.9849888425527564,
          1.583792698154375,
          0.5231517147221714,
          -0.0653977006691527,
          0.5717364923459709,
          2.090835636226135,
          -0.479540061201448,
          0.5784207894724221,
          0.43726504087406104,
          1.7552342941659524,
          -0.8939184124685284,
          -0.06387776980485302,
          -1.5538107501996052,
          1.7212319026143703,
          1.2365406102887118,
          -0.31313752450525884,
          0.7299216922040418,
          0.8240933208181342,
          -1.0274107658158582,
          -1.4424632064352345,
          0.8977413581641787,
          0.07299450396337133,
          0.30309565484452705,
          0.22477424067930335,
          0.8431347168253637,
          -0.1100675864312277,
          1.3290030871023761,
          0.33194854318843475,
          1.4699357253896568,
          1.1177598616905424,
          -0.9924780323651106,
          -0.4083419502719188,
          -0.06517477005637011,
          1.5841893065591017,
          -0.1686121314185225,
          -1.7592488624795553,
          -0.5433118101668706,
          0.13191794970992154,
          0.1934563276563048,
          -0.2963066563440202,
          -1.0475370708731184,
          0.2682029849118698,
          1.8857174016785132,
          0.7540621822738426,
          1.1323823540286215,
          0.8529483650143957,
          0.2545039797285195,
          0.929633880628263,
          -1.792122626949423,
          -1.068941917518827,
          0.48992877091849013,
          -0.343205776289418,
          -1.1362161786782268,
          0.5367938626455159,
          0.47426716127089563,
          0.4745610058414888,
          -0.014706644842119171,
          -1.3455529529781813,
          0.6996734578239979,
          -0.3668165976975527,
          -1.8175541877610508,
          -0.1702299678663863,
          -2.055198975508207,
          -0.10478119959444156,
          -0.2203849833328258,
          -0.8778661846869283,
          -0.3437426776035342,
          -0.8567486387170653,
          0.6658923925224223,
          1.5388588156923113,
          1.712034482683656,
          -0.11024165129994737,
          1.0630253398150766,
          -1.0959237525758578,
          -0.815907708506401,
          0.3141266691353028,
          -0.38873633798755913,
          -0.2975899753448869,
          -0.3034894981824399,
          -0.4598400348124729,
          0.22168877300082004,
          -0.3382915267542433,
          1.4961993664331161,
          -0.8678264580266357,
          1.285070267734503,
          -0.4003198557860778,
          0.22462996099452673,
          -0.32513851474129785,
          -0.35577327880974813,
          -0.353421691691976,
          -0.8826390551913883,
          -0.8189457094531281,
          -0.38816759001683016,
          -0.5300853706860322,
          0.27368203890109805,
          -0.29463102513128453
         ]
        },
        {
         "line": {
          "color": "rgba(128, 0, 128, 1.0)",
          "dash": "solid",
          "shape": "linear",
          "width": 1.3
         },
         "mode": "lines",
         "name": "D",
         "text": "",
         "type": "scatter",
         "x": [
          0,
          1,
          2,
          3,
          4,
          5,
          6,
          7,
          8,
          9,
          10,
          11,
          12,
          13,
          14,
          15,
          16,
          17,
          18,
          19,
          20,
          21,
          22,
          23,
          24,
          25,
          26,
          27,
          28,
          29,
          30,
          31,
          32,
          33,
          34,
          35,
          36,
          37,
          38,
          39,
          40,
          41,
          42,
          43,
          44,
          45,
          46,
          47,
          48,
          49,
          50,
          51,
          52,
          53,
          54,
          55,
          56,
          57,
          58,
          59,
          60,
          61,
          62,
          63,
          64,
          65,
          66,
          67,
          68,
          69,
          70,
          71,
          72,
          73,
          74,
          75,
          76,
          77,
          78,
          79,
          80,
          81,
          82,
          83,
          84,
          85,
          86,
          87,
          88,
          89,
          90,
          91,
          92,
          93,
          94,
          95,
          96,
          97,
          98,
          99
         ],
         "y": [
          0.39222180507096804,
          -1.5544317806295647,
          -0.3650700705005138,
          0.7299885262828609,
          -0.23697161081680587,
          -1.2268521582848813,
          -0.5756762613550966,
          -0.47291266841686835,
          1.976266198690308,
          1.0917775398337106,
          0.09445661710006603,
          0.22501876441049226,
          0.783176781382954,
          -1.037907449797409,
          0.8682613994781404,
          0.26092481594935013,
          -0.027804325203587534,
          -1.2794665999868409,
          1.4915446965210837,
          0.607297248499928,
          1.870880132900046,
          -0.5034486887129305,
          -0.008621693705242087,
          -0.9412048360453161,
          0.3674244015023599,
          0.4113073803175301,
          -0.6453883250928906,
          1.0283228862419032,
          0.8158209859440491,
          0.9306012411387367,
          1.0711910983388566,
          0.9328127610793168,
          0.15207647965566484,
          -0.6683377208490966,
          -1.0742071179321795,
          -0.8697246178928302,
          -0.775422680988558,
          1.2764325888898564,
          -0.8205713420902156,
          -0.2308584326712186,
          -1.4002311809823338,
          -1.4040151216594379,
          -0.04059840232057073,
          1.5174774948482135,
          -0.7227488023706681,
          -1.4303320208122403,
          0.9858248649164522,
          2.4078389936954285,
          0.5688144578341943,
          0.571235589056567,
          -1.4037668627152595,
          -1.2727128038650786,
          1.031467391958704,
          1.3415461818428869,
          -0.3647671780566446,
          0.4878827983951631,
          -0.5378032155858032,
          -0.25440178257472273,
          -1.3045582664944644,
          -0.7778720473091861,
          0.5563460135229842,
          -0.8043820627797813,
          0.8266338537741749,
          2.50110670788643,
          -1.7158576764073703,
          0.4055837702765413,
          -0.2713523458031687,
          0.892583805346085,
          0.7881807132222192,
          -0.9342824128457277,
          -0.049285720841754366,
          0.6976499452786146,
          -0.17262337488995555,
          -1.0666258957878902,
          -0.1780949418605606,
          0.15160452246672398,
          0.22258096387263407,
          -0.21801694252127732,
          -0.3696120473144105,
          -0.6646624320887392,
          -0.6330914548409855,
          -0.004534617787695786,
          -1.2527439674556704,
          1.82603373860979,
          -0.4931925753914936,
          -0.05065549992470328,
          0.5381523635158629,
          -0.28404433849115573,
          -0.7437724665794027,
          0.6875811979237333,
          0.15809420726616272,
          0.2732646975966561,
          -0.8491984781706114,
          0.20727706159833176,
          0.22686432201384873,
          0.46421727589391487,
          1.3389986185318135,
          -0.5509059125801133,
          -0.31608317836461364,
          -0.9988690781577019
         ]
        }
       ],
       "layout": {
        "legend": {
         "bgcolor": "#F5F6F9",
         "font": {
          "color": "#4D5663"
         }
        },
        "paper_bgcolor": "#F5F6F9",
        "plot_bgcolor": "#F5F6F9",
        "template": {
         "data": {
          "bar": [
           {
            "error_x": {
             "color": "#2a3f5f"
            },
            "error_y": {
             "color": "#2a3f5f"
            },
            "marker": {
             "line": {
              "color": "#E5ECF6",
              "width": 0.5
             },
             "pattern": {
              "fillmode": "overlay",
              "size": 10,
              "solidity": 0.2
             }
            },
            "type": "bar"
           }
          ],
          "barpolar": [
           {
            "marker": {
             "line": {
              "color": "#E5ECF6",
              "width": 0.5
             },
             "pattern": {
              "fillmode": "overlay",
              "size": 10,
              "solidity": 0.2
             }
            },
            "type": "barpolar"
           }
          ],
          "carpet": [
           {
            "aaxis": {
             "endlinecolor": "#2a3f5f",
             "gridcolor": "white",
             "linecolor": "white",
             "minorgridcolor": "white",
             "startlinecolor": "#2a3f5f"
            },
            "baxis": {
             "endlinecolor": "#2a3f5f",
             "gridcolor": "white",
             "linecolor": "white",
             "minorgridcolor": "white",
             "startlinecolor": "#2a3f5f"
            },
            "type": "carpet"
           }
          ],
          "choropleth": [
           {
            "colorbar": {
             "outlinewidth": 0,
             "ticks": ""
            },
            "type": "choropleth"
           }
          ],
          "contour": [
           {
            "colorbar": {
             "outlinewidth": 0,
             "ticks": ""
            },
            "colorscale": [
             [
              0,
              "#0d0887"
             ],
             [
              0.1111111111111111,
              "#46039f"
             ],
             [
              0.2222222222222222,
              "#7201a8"
             ],
             [
              0.3333333333333333,
              "#9c179e"
             ],
             [
              0.4444444444444444,
              "#bd3786"
             ],
             [
              0.5555555555555556,
              "#d8576b"
             ],
             [
              0.6666666666666666,
              "#ed7953"
             ],
             [
              0.7777777777777778,
              "#fb9f3a"
             ],
             [
              0.8888888888888888,
              "#fdca26"
             ],
             [
              1,
              "#f0f921"
             ]
            ],
            "type": "contour"
           }
          ],
          "contourcarpet": [
           {
            "colorbar": {
             "outlinewidth": 0,
             "ticks": ""
            },
            "type": "contourcarpet"
           }
          ],
          "heatmap": [
           {
            "colorbar": {
             "outlinewidth": 0,
             "ticks": ""
            },
            "colorscale": [
             [
              0,
              "#0d0887"
             ],
             [
              0.1111111111111111,
              "#46039f"
             ],
             [
              0.2222222222222222,
              "#7201a8"
             ],
             [
              0.3333333333333333,
              "#9c179e"
             ],
             [
              0.4444444444444444,
              "#bd3786"
             ],
             [
              0.5555555555555556,
              "#d8576b"
             ],
             [
              0.6666666666666666,
              "#ed7953"
             ],
             [
              0.7777777777777778,
              "#fb9f3a"
             ],
             [
              0.8888888888888888,
              "#fdca26"
             ],
             [
              1,
              "#f0f921"
             ]
            ],
            "type": "heatmap"
           }
          ],
          "heatmapgl": [
           {
            "colorbar": {
             "outlinewidth": 0,
             "ticks": ""
            },
            "colorscale": [
             [
              0,
              "#0d0887"
             ],
             [
              0.1111111111111111,
              "#46039f"
             ],
             [
              0.2222222222222222,
              "#7201a8"
             ],
             [
              0.3333333333333333,
              "#9c179e"
             ],
             [
              0.4444444444444444,
              "#bd3786"
             ],
             [
              0.5555555555555556,
              "#d8576b"
             ],
             [
              0.6666666666666666,
              "#ed7953"
             ],
             [
              0.7777777777777778,
              "#fb9f3a"
             ],
             [
              0.8888888888888888,
              "#fdca26"
             ],
             [
              1,
              "#f0f921"
             ]
            ],
            "type": "heatmapgl"
           }
          ],
          "histogram": [
           {
            "marker": {
             "pattern": {
              "fillmode": "overlay",
              "size": 10,
              "solidity": 0.2
             }
            },
            "type": "histogram"
           }
          ],
          "histogram2d": [
           {
            "colorbar": {
             "outlinewidth": 0,
             "ticks": ""
            },
            "colorscale": [
             [
              0,
              "#0d0887"
             ],
             [
              0.1111111111111111,
              "#46039f"
             ],
             [
              0.2222222222222222,
              "#7201a8"
             ],
             [
              0.3333333333333333,
              "#9c179e"
             ],
             [
              0.4444444444444444,
              "#bd3786"
             ],
             [
              0.5555555555555556,
              "#d8576b"
             ],
             [
              0.6666666666666666,
              "#ed7953"
             ],
             [
              0.7777777777777778,
              "#fb9f3a"
             ],
             [
              0.8888888888888888,
              "#fdca26"
             ],
             [
              1,
              "#f0f921"
             ]
            ],
            "type": "histogram2d"
           }
          ],
          "histogram2dcontour": [
           {
            "colorbar": {
             "outlinewidth": 0,
             "ticks": ""
            },
            "colorscale": [
             [
              0,
              "#0d0887"
             ],
             [
              0.1111111111111111,
              "#46039f"
             ],
             [
              0.2222222222222222,
              "#7201a8"
             ],
             [
              0.3333333333333333,
              "#9c179e"
             ],
             [
              0.4444444444444444,
              "#bd3786"
             ],
             [
              0.5555555555555556,
              "#d8576b"
             ],
             [
              0.6666666666666666,
              "#ed7953"
             ],
             [
              0.7777777777777778,
              "#fb9f3a"
             ],
             [
              0.8888888888888888,
              "#fdca26"
             ],
             [
              1,
              "#f0f921"
             ]
            ],
            "type": "histogram2dcontour"
           }
          ],
          "mesh3d": [
           {
            "colorbar": {
             "outlinewidth": 0,
             "ticks": ""
            },
            "type": "mesh3d"
           }
          ],
          "parcoords": [
           {
            "line": {
             "colorbar": {
              "outlinewidth": 0,
              "ticks": ""
             }
            },
            "type": "parcoords"
           }
          ],
          "pie": [
           {
            "automargin": true,
            "type": "pie"
           }
          ],
          "scatter": [
           {
            "marker": {
             "colorbar": {
              "outlinewidth": 0,
              "ticks": ""
             }
            },
            "type": "scatter"
           }
          ],
          "scatter3d": [
           {
            "line": {
             "colorbar": {
              "outlinewidth": 0,
              "ticks": ""
             }
            },
            "marker": {
             "colorbar": {
              "outlinewidth": 0,
              "ticks": ""
             }
            },
            "type": "scatter3d"
           }
          ],
          "scattercarpet": [
           {
            "marker": {
             "colorbar": {
              "outlinewidth": 0,
              "ticks": ""
             }
            },
            "type": "scattercarpet"
           }
          ],
          "scattergeo": [
           {
            "marker": {
             "colorbar": {
              "outlinewidth": 0,
              "ticks": ""
             }
            },
            "type": "scattergeo"
           }
          ],
          "scattergl": [
           {
            "marker": {
             "colorbar": {
              "outlinewidth": 0,
              "ticks": ""
             }
            },
            "type": "scattergl"
           }
          ],
          "scattermapbox": [
           {
            "marker": {
             "colorbar": {
              "outlinewidth": 0,
              "ticks": ""
             }
            },
            "type": "scattermapbox"
           }
          ],
          "scatterpolar": [
           {
            "marker": {
             "colorbar": {
              "outlinewidth": 0,
              "ticks": ""
             }
            },
            "type": "scatterpolar"
           }
          ],
          "scatterpolargl": [
           {
            "marker": {
             "colorbar": {
              "outlinewidth": 0,
              "ticks": ""
             }
            },
            "type": "scatterpolargl"
           }
          ],
          "scatterternary": [
           {
            "marker": {
             "colorbar": {
              "outlinewidth": 0,
              "ticks": ""
             }
            },
            "type": "scatterternary"
           }
          ],
          "surface": [
           {
            "colorbar": {
             "outlinewidth": 0,
             "ticks": ""
            },
            "colorscale": [
             [
              0,
              "#0d0887"
             ],
             [
              0.1111111111111111,
              "#46039f"
             ],
             [
              0.2222222222222222,
              "#7201a8"
             ],
             [
              0.3333333333333333,
              "#9c179e"
             ],
             [
              0.4444444444444444,
              "#bd3786"
             ],
             [
              0.5555555555555556,
              "#d8576b"
             ],
             [
              0.6666666666666666,
              "#ed7953"
             ],
             [
              0.7777777777777778,
              "#fb9f3a"
             ],
             [
              0.8888888888888888,
              "#fdca26"
             ],
             [
              1,
              "#f0f921"
             ]
            ],
            "type": "surface"
           }
          ],
          "table": [
           {
            "cells": {
             "fill": {
              "color": "#EBF0F8"
             },
             "line": {
              "color": "white"
             }
            },
            "header": {
             "fill": {
              "color": "#C8D4E3"
             },
             "line": {
              "color": "white"
             }
            },
            "type": "table"
           }
          ]
         },
         "layout": {
          "annotationdefaults": {
           "arrowcolor": "#2a3f5f",
           "arrowhead": 0,
           "arrowwidth": 1
          },
          "autotypenumbers": "strict",
          "coloraxis": {
           "colorbar": {
            "outlinewidth": 0,
            "ticks": ""
           }
          },
          "colorscale": {
           "diverging": [
            [
             0,
             "#8e0152"
            ],
            [
             0.1,
             "#c51b7d"
            ],
            [
             0.2,
             "#de77ae"
            ],
            [
             0.3,
             "#f1b6da"
            ],
            [
             0.4,
             "#fde0ef"
            ],
            [
             0.5,
             "#f7f7f7"
            ],
            [
             0.6,
             "#e6f5d0"
            ],
            [
             0.7,
             "#b8e186"
            ],
            [
             0.8,
             "#7fbc41"
            ],
            [
             0.9,
             "#4d9221"
            ],
            [
             1,
             "#276419"
            ]
           ],
           "sequential": [
            [
             0,
             "#0d0887"
            ],
            [
             0.1111111111111111,
             "#46039f"
            ],
            [
             0.2222222222222222,
             "#7201a8"
            ],
            [
             0.3333333333333333,
             "#9c179e"
            ],
            [
             0.4444444444444444,
             "#bd3786"
            ],
            [
             0.5555555555555556,
             "#d8576b"
            ],
            [
             0.6666666666666666,
             "#ed7953"
            ],
            [
             0.7777777777777778,
             "#fb9f3a"
            ],
            [
             0.8888888888888888,
             "#fdca26"
            ],
            [
             1,
             "#f0f921"
            ]
           ],
           "sequentialminus": [
            [
             0,
             "#0d0887"
            ],
            [
             0.1111111111111111,
             "#46039f"
            ],
            [
             0.2222222222222222,
             "#7201a8"
            ],
            [
             0.3333333333333333,
             "#9c179e"
            ],
            [
             0.4444444444444444,
             "#bd3786"
            ],
            [
             0.5555555555555556,
             "#d8576b"
            ],
            [
             0.6666666666666666,
             "#ed7953"
            ],
            [
             0.7777777777777778,
             "#fb9f3a"
            ],
            [
             0.8888888888888888,
             "#fdca26"
            ],
            [
             1,
             "#f0f921"
            ]
           ]
          },
          "colorway": [
           "#636efa",
           "#EF553B",
           "#00cc96",
           "#ab63fa",
           "#FFA15A",
           "#19d3f3",
           "#FF6692",
           "#B6E880",
           "#FF97FF",
           "#FECB52"
          ],
          "font": {
           "color": "#2a3f5f"
          },
          "geo": {
           "bgcolor": "white",
           "lakecolor": "white",
           "landcolor": "#E5ECF6",
           "showlakes": true,
           "showland": true,
           "subunitcolor": "white"
          },
          "hoverlabel": {
           "align": "left"
          },
          "hovermode": "closest",
          "mapbox": {
           "style": "light"
          },
          "paper_bgcolor": "white",
          "plot_bgcolor": "#E5ECF6",
          "polar": {
           "angularaxis": {
            "gridcolor": "white",
            "linecolor": "white",
            "ticks": ""
           },
           "bgcolor": "#E5ECF6",
           "radialaxis": {
            "gridcolor": "white",
            "linecolor": "white",
            "ticks": ""
           }
          },
          "scene": {
           "xaxis": {
            "backgroundcolor": "#E5ECF6",
            "gridcolor": "white",
            "gridwidth": 2,
            "linecolor": "white",
            "showbackground": true,
            "ticks": "",
            "zerolinecolor": "white"
           },
           "yaxis": {
            "backgroundcolor": "#E5ECF6",
            "gridcolor": "white",
            "gridwidth": 2,
            "linecolor": "white",
            "showbackground": true,
            "ticks": "",
            "zerolinecolor": "white"
           },
           "zaxis": {
            "backgroundcolor": "#E5ECF6",
            "gridcolor": "white",
            "gridwidth": 2,
            "linecolor": "white",
            "showbackground": true,
            "ticks": "",
            "zerolinecolor": "white"
           }
          },
          "shapedefaults": {
           "line": {
            "color": "#2a3f5f"
           }
          },
          "ternary": {
           "aaxis": {
            "gridcolor": "white",
            "linecolor": "white",
            "ticks": ""
           },
           "baxis": {
            "gridcolor": "white",
            "linecolor": "white",
            "ticks": ""
           },
           "bgcolor": "#E5ECF6",
           "caxis": {
            "gridcolor": "white",
            "linecolor": "white",
            "ticks": ""
           }
          },
          "title": {
           "x": 0.05
          },
          "xaxis": {
           "automargin": true,
           "gridcolor": "white",
           "linecolor": "white",
           "ticks": "",
           "title": {
            "standoff": 15
           },
           "zerolinecolor": "white",
           "zerolinewidth": 2
          },
          "yaxis": {
           "automargin": true,
           "gridcolor": "white",
           "linecolor": "white",
           "ticks": "",
           "title": {
            "standoff": 15
           },
           "zerolinecolor": "white",
           "zerolinewidth": 2
          }
         }
        },
        "title": {
         "font": {
          "color": "#4D5663"
         }
        },
        "xaxis": {
         "gridcolor": "#E1E5ED",
         "showgrid": true,
         "tickfont": {
          "color": "#4D5663"
         },
         "title": {
          "font": {
           "color": "#4D5663"
          },
          "text": ""
         },
         "zerolinecolor": "#E1E5ED"
        },
        "yaxis": {
         "gridcolor": "#E1E5ED",
         "showgrid": true,
         "tickfont": {
          "color": "#4D5663"
         },
         "title": {
          "font": {
           "color": "#4D5663"
          },
          "text": ""
         },
         "zerolinecolor": "#E1E5ED"
        }
       }
      },
      "text/html": [
       "<div>                            <div id=\"2ac35be5-a922-4243-94a4-cd5b7bc962dd\" class=\"plotly-graph-div\" style=\"height:525px; width:100%;\"></div>            <script type=\"text/javascript\">                require([\"plotly\"], function(Plotly) {                    window.PLOTLYENV=window.PLOTLYENV || {};\n",
       "                    window.PLOTLYENV.BASE_URL='https://plot.ly';                                    if (document.getElementById(\"2ac35be5-a922-4243-94a4-cd5b7bc962dd\")) {                    Plotly.newPlot(                        \"2ac35be5-a922-4243-94a4-cd5b7bc962dd\",                        [{\"line\":{\"color\":\"rgba(255, 153, 51, 1.0)\",\"dash\":\"solid\",\"shape\":\"linear\",\"width\":1.3},\"mode\":\"lines\",\"name\":\"A\",\"text\":\"\",\"x\":[0,1,2,3,4,5,6,7,8,9,10,11,12,13,14,15,16,17,18,19,20,21,22,23,24,25,26,27,28,29,30,31,32,33,34,35,36,37,38,39,40,41,42,43,44,45,46,47,48,49,50,51,52,53,54,55,56,57,58,59,60,61,62,63,64,65,66,67,68,69,70,71,72,73,74,75,76,77,78,79,80,81,82,83,84,85,86,87,88,89,90,91,92,93,94,95,96,97,98,99],\"y\":[0.6340690285445192,0.6363764488160495,0.47424566446194105,-0.3656007874269261,0.31019842574216494,0.6133166465230364,0.4015139724890553,1.0843183417123523,1.8676117919988002,1.6384213413433457,-0.16301817232122512,-0.30650874033092773,-0.25882630000825074,-1.4693846744192478,-0.29880151867827603,0.41955290427554326,0.20984014045386293,0.23988911698442872,-1.6259579212680848,-0.4612373711794841,1.5141367518807543,0.7730012234544018,0.4276272475596875,-0.33858776348073943,0.16658589794338344,0.6517302031748515,1.5556829184537349,0.39209358035842823,1.0299612186521827,0.542088567822567,0.013705714711266368,-2.127365913376156,-0.5859377530723702,-0.06168312896183187,-1.5580479695388452,1.1472127211651113,-1.339200791020804,-0.5680841237444482,-1.7337603635121772,-0.6288132070068464,-0.23711161850880924,-0.5256323377832142,-0.41070673633817456,0.2817098761768104,0.07304340518655603,-0.7433533869884789,0.7191551625857573,0.643854102902786,-0.22546122755029266,-0.5326157709744833,0.8500075814609327,-0.7167297194917449,0.011375675581556343,0.2141312470228031,1.3529840154213615,1.62566020339839,0.1375498129923566,-0.5916666232485508,-0.9448622996390506,-0.4023954800794268,-0.351019740292634,-0.534764874184316,-0.22878058471314425,-2.4066723053060475,1.0347663131873135,-1.7272900774507332,-0.33879603788022483,0.9403286631322976,-0.6476790949783093,-0.4171658164144538,-0.7761115180801232,-0.39264814144067517,0.32960317973911524,-0.555946097907347,0.5864315419932845,-0.1646560090747852,1.966234713002135,-1.1108062670762948,0.9363108049172509,-0.5157390715196071,-1.379283775819249,1.084377557736333,0.21095896773221803,0.5921677555217936,0.8484015114723811,-0.007815608856742347,0.22323636092213217,-0.7231067157225732,-0.6096612576467489,0.9346302153244844,0.34301917991070396,-0.9121765767937241,-0.7101481804597242,0.5845292289342606,0.7882002929822814,-0.620109226924012,-1.3249477476565736,0.5013849086138401,0.20811357037246234,-1.3892071865559705],\"type\":\"scatter\"},{\"line\":{\"color\":\"rgba(55, 128, 191, 1.0)\",\"dash\":\"solid\",\"shape\":\"linear\",\"width\":1.3},\"mode\":\"lines\",\"name\":\"B\",\"text\":\"\",\"x\":[0,1,2,3,4,5,6,7,8,9,10,11,12,13,14,15,16,17,18,19,20,21,22,23,24,25,26,27,28,29,30,31,32,33,34,35,36,37,38,39,40,41,42,43,44,45,46,47,48,49,50,51,52,53,54,55,56,57,58,59,60,61,62,63,64,65,66,67,68,69,70,71,72,73,74,75,76,77,78,79,80,81,82,83,84,85,86,87,88,89,90,91,92,93,94,95,96,97,98,99],\"y\":[-0.08032060304680495,-0.1609039441085918,-0.6678717530184467,0.7883791466244617,1.048136570552438,0.6091257871646372,0.40104248072890436,0.7057752514104487,0.6366038514415097,0.6291466772174211,-0.8594750090715991,-1.0258484837265025,-1.9242991096294642,0.03760220837420321,1.999557730405643,-0.7759591687658876,-1.1953540144894055,-1.6769807399527163,-0.7396600915364707,-1.3440307145228225,0.3460561204796086,-1.0275247058637582,0.8207590993692914,-1.9389478123695338,0.3324016350890594,0.9836820207901033,0.6075287051503802,-1.3992156564514944,1.6532636117407529,-1.6209905158439644,-0.7061018868858568,1.2013310338353194,1.38259850541742,-0.7167203997208442,1.2423307759876432,-0.04517548986985527,0.7266547570298199,0.21035617173165544,0.9535253596746064,-0.3275134932273681,-0.6054167898618014,-0.8306397968263588,1.6120444096033373,2.743245872601505,-1.961981933444692,1.0199669319790297,1.6540322091920006,0.9150873537616793,1.2533747313447028,0.6634952873016217,-2.904549376511346,-0.1159559453065317,2.148274967867067,-1.646681382591035,1.6154431543893384,-1.048827895668607,1.8440881485404483,0.09355246749838587,0.49705314867034295,0.12928369014702804,0.10285291474699775,-0.5483192778627028,0.5074060742780225,-0.02574824954308262,-0.9208691463319174,-0.7704904379349985,1.1403687667624922,1.3055180353451266,0.34922204892362446,2.295989280042878,0.12829014129178357,2.4806970453578208,2.015446418590636,0.4356909384135753,1.7090969770577051,0.6051229910366045,-0.37313623890346065,0.14852523991120495,0.5166297117090667,-0.5746780362567062,0.21607842780217076,2.611234621842474,-0.9722097514826098,1.3136918928821784,0.7530011642617872,0.9395566143585494,0.4047542743444355,0.7573154975636051,-0.8673672589216012,2.133632000157932,0.5996888364309373,-0.05808935028634026,0.2687100580421572,-0.17808248365715199,-0.2807048202685498,-1.2635824916942744,-0.2392133503622213,-0.12954593224463076,0.10420525027625935,0.8923263425988539],\"type\":\"scatter\"},{\"line\":{\"color\":\"rgba(50, 171, 96, 1.0)\",\"dash\":\"solid\",\"shape\":\"linear\",\"width\":1.3},\"mode\":\"lines\",\"name\":\"C\",\"text\":\"\",\"x\":[0,1,2,3,4,5,6,7,8,9,10,11,12,13,14,15,16,17,18,19,20,21,22,23,24,25,26,27,28,29,30,31,32,33,34,35,36,37,38,39,40,41,42,43,44,45,46,47,48,49,50,51,52,53,54,55,56,57,58,59,60,61,62,63,64,65,66,67,68,69,70,71,72,73,74,75,76,77,78,79,80,81,82,83,84,85,86,87,88,89,90,91,92,93,94,95,96,97,98,99],\"y\":[-0.3584016367504639,0.5701885643369574,0.7357635602882788,-0.8849711014936266,0.9849888425527564,1.583792698154375,0.5231517147221714,-0.0653977006691527,0.5717364923459709,2.090835636226135,-0.479540061201448,0.5784207894724221,0.43726504087406104,1.7552342941659524,-0.8939184124685284,-0.06387776980485302,-1.5538107501996052,1.7212319026143703,1.2365406102887118,-0.31313752450525884,0.7299216922040418,0.8240933208181342,-1.0274107658158582,-1.4424632064352345,0.8977413581641787,0.07299450396337133,0.30309565484452705,0.22477424067930335,0.8431347168253637,-0.1100675864312277,1.3290030871023761,0.33194854318843475,1.4699357253896568,1.1177598616905424,-0.9924780323651106,-0.4083419502719188,-0.06517477005637011,1.5841893065591017,-0.1686121314185225,-1.7592488624795553,-0.5433118101668706,0.13191794970992154,0.1934563276563048,-0.2963066563440202,-1.0475370708731184,0.2682029849118698,1.8857174016785132,0.7540621822738426,1.1323823540286215,0.8529483650143957,0.2545039797285195,0.929633880628263,-1.792122626949423,-1.068941917518827,0.48992877091849013,-0.343205776289418,-1.1362161786782268,0.5367938626455159,0.47426716127089563,0.4745610058414888,-0.014706644842119171,-1.3455529529781813,0.6996734578239979,-0.3668165976975527,-1.8175541877610508,-0.1702299678663863,-2.055198975508207,-0.10478119959444156,-0.2203849833328258,-0.8778661846869283,-0.3437426776035342,-0.8567486387170653,0.6658923925224223,1.5388588156923113,1.712034482683656,-0.11024165129994737,1.0630253398150766,-1.0959237525758578,-0.815907708506401,0.3141266691353028,-0.38873633798755913,-0.2975899753448869,-0.3034894981824399,-0.4598400348124729,0.22168877300082004,-0.3382915267542433,1.4961993664331161,-0.8678264580266357,1.285070267734503,-0.4003198557860778,0.22462996099452673,-0.32513851474129785,-0.35577327880974813,-0.353421691691976,-0.8826390551913883,-0.8189457094531281,-0.38816759001683016,-0.5300853706860322,0.27368203890109805,-0.29463102513128453],\"type\":\"scatter\"},{\"line\":{\"color\":\"rgba(128, 0, 128, 1.0)\",\"dash\":\"solid\",\"shape\":\"linear\",\"width\":1.3},\"mode\":\"lines\",\"name\":\"D\",\"text\":\"\",\"x\":[0,1,2,3,4,5,6,7,8,9,10,11,12,13,14,15,16,17,18,19,20,21,22,23,24,25,26,27,28,29,30,31,32,33,34,35,36,37,38,39,40,41,42,43,44,45,46,47,48,49,50,51,52,53,54,55,56,57,58,59,60,61,62,63,64,65,66,67,68,69,70,71,72,73,74,75,76,77,78,79,80,81,82,83,84,85,86,87,88,89,90,91,92,93,94,95,96,97,98,99],\"y\":[0.39222180507096804,-1.5544317806295647,-0.3650700705005138,0.7299885262828609,-0.23697161081680587,-1.2268521582848813,-0.5756762613550966,-0.47291266841686835,1.976266198690308,1.0917775398337106,0.09445661710006603,0.22501876441049226,0.783176781382954,-1.037907449797409,0.8682613994781404,0.26092481594935013,-0.027804325203587534,-1.2794665999868409,1.4915446965210837,0.607297248499928,1.870880132900046,-0.5034486887129305,-0.008621693705242087,-0.9412048360453161,0.3674244015023599,0.4113073803175301,-0.6453883250928906,1.0283228862419032,0.8158209859440491,0.9306012411387367,1.0711910983388566,0.9328127610793168,0.15207647965566484,-0.6683377208490966,-1.0742071179321795,-0.8697246178928302,-0.775422680988558,1.2764325888898564,-0.8205713420902156,-0.2308584326712186,-1.4002311809823338,-1.4040151216594379,-0.04059840232057073,1.5174774948482135,-0.7227488023706681,-1.4303320208122403,0.9858248649164522,2.4078389936954285,0.5688144578341943,0.571235589056567,-1.4037668627152595,-1.2727128038650786,1.031467391958704,1.3415461818428869,-0.3647671780566446,0.4878827983951631,-0.5378032155858032,-0.25440178257472273,-1.3045582664944644,-0.7778720473091861,0.5563460135229842,-0.8043820627797813,0.8266338537741749,2.50110670788643,-1.7158576764073703,0.4055837702765413,-0.2713523458031687,0.892583805346085,0.7881807132222192,-0.9342824128457277,-0.049285720841754366,0.6976499452786146,-0.17262337488995555,-1.0666258957878902,-0.1780949418605606,0.15160452246672398,0.22258096387263407,-0.21801694252127732,-0.3696120473144105,-0.6646624320887392,-0.6330914548409855,-0.004534617787695786,-1.2527439674556704,1.82603373860979,-0.4931925753914936,-0.05065549992470328,0.5381523635158629,-0.28404433849115573,-0.7437724665794027,0.6875811979237333,0.15809420726616272,0.2732646975966561,-0.8491984781706114,0.20727706159833176,0.22686432201384873,0.46421727589391487,1.3389986185318135,-0.5509059125801133,-0.31608317836461364,-0.9988690781577019],\"type\":\"scatter\"}],                        {\"legend\":{\"bgcolor\":\"#F5F6F9\",\"font\":{\"color\":\"#4D5663\"}},\"paper_bgcolor\":\"#F5F6F9\",\"plot_bgcolor\":\"#F5F6F9\",\"template\":{\"data\":{\"barpolar\":[{\"marker\":{\"line\":{\"color\":\"#E5ECF6\",\"width\":0.5},\"pattern\":{\"fillmode\":\"overlay\",\"size\":10,\"solidity\":0.2}},\"type\":\"barpolar\"}],\"bar\":[{\"error_x\":{\"color\":\"#2a3f5f\"},\"error_y\":{\"color\":\"#2a3f5f\"},\"marker\":{\"line\":{\"color\":\"#E5ECF6\",\"width\":0.5},\"pattern\":{\"fillmode\":\"overlay\",\"size\":10,\"solidity\":0.2}},\"type\":\"bar\"}],\"carpet\":[{\"aaxis\":{\"endlinecolor\":\"#2a3f5f\",\"gridcolor\":\"white\",\"linecolor\":\"white\",\"minorgridcolor\":\"white\",\"startlinecolor\":\"#2a3f5f\"},\"baxis\":{\"endlinecolor\":\"#2a3f5f\",\"gridcolor\":\"white\",\"linecolor\":\"white\",\"minorgridcolor\":\"white\",\"startlinecolor\":\"#2a3f5f\"},\"type\":\"carpet\"}],\"choropleth\":[{\"colorbar\":{\"outlinewidth\":0,\"ticks\":\"\"},\"type\":\"choropleth\"}],\"contourcarpet\":[{\"colorbar\":{\"outlinewidth\":0,\"ticks\":\"\"},\"type\":\"contourcarpet\"}],\"contour\":[{\"colorbar\":{\"outlinewidth\":0,\"ticks\":\"\"},\"colorscale\":[[0.0,\"#0d0887\"],[0.1111111111111111,\"#46039f\"],[0.2222222222222222,\"#7201a8\"],[0.3333333333333333,\"#9c179e\"],[0.4444444444444444,\"#bd3786\"],[0.5555555555555556,\"#d8576b\"],[0.6666666666666666,\"#ed7953\"],[0.7777777777777778,\"#fb9f3a\"],[0.8888888888888888,\"#fdca26\"],[1.0,\"#f0f921\"]],\"type\":\"contour\"}],\"heatmapgl\":[{\"colorbar\":{\"outlinewidth\":0,\"ticks\":\"\"},\"colorscale\":[[0.0,\"#0d0887\"],[0.1111111111111111,\"#46039f\"],[0.2222222222222222,\"#7201a8\"],[0.3333333333333333,\"#9c179e\"],[0.4444444444444444,\"#bd3786\"],[0.5555555555555556,\"#d8576b\"],[0.6666666666666666,\"#ed7953\"],[0.7777777777777778,\"#fb9f3a\"],[0.8888888888888888,\"#fdca26\"],[1.0,\"#f0f921\"]],\"type\":\"heatmapgl\"}],\"heatmap\":[{\"colorbar\":{\"outlinewidth\":0,\"ticks\":\"\"},\"colorscale\":[[0.0,\"#0d0887\"],[0.1111111111111111,\"#46039f\"],[0.2222222222222222,\"#7201a8\"],[0.3333333333333333,\"#9c179e\"],[0.4444444444444444,\"#bd3786\"],[0.5555555555555556,\"#d8576b\"],[0.6666666666666666,\"#ed7953\"],[0.7777777777777778,\"#fb9f3a\"],[0.8888888888888888,\"#fdca26\"],[1.0,\"#f0f921\"]],\"type\":\"heatmap\"}],\"histogram2dcontour\":[{\"colorbar\":{\"outlinewidth\":0,\"ticks\":\"\"},\"colorscale\":[[0.0,\"#0d0887\"],[0.1111111111111111,\"#46039f\"],[0.2222222222222222,\"#7201a8\"],[0.3333333333333333,\"#9c179e\"],[0.4444444444444444,\"#bd3786\"],[0.5555555555555556,\"#d8576b\"],[0.6666666666666666,\"#ed7953\"],[0.7777777777777778,\"#fb9f3a\"],[0.8888888888888888,\"#fdca26\"],[1.0,\"#f0f921\"]],\"type\":\"histogram2dcontour\"}],\"histogram2d\":[{\"colorbar\":{\"outlinewidth\":0,\"ticks\":\"\"},\"colorscale\":[[0.0,\"#0d0887\"],[0.1111111111111111,\"#46039f\"],[0.2222222222222222,\"#7201a8\"],[0.3333333333333333,\"#9c179e\"],[0.4444444444444444,\"#bd3786\"],[0.5555555555555556,\"#d8576b\"],[0.6666666666666666,\"#ed7953\"],[0.7777777777777778,\"#fb9f3a\"],[0.8888888888888888,\"#fdca26\"],[1.0,\"#f0f921\"]],\"type\":\"histogram2d\"}],\"histogram\":[{\"marker\":{\"pattern\":{\"fillmode\":\"overlay\",\"size\":10,\"solidity\":0.2}},\"type\":\"histogram\"}],\"mesh3d\":[{\"colorbar\":{\"outlinewidth\":0,\"ticks\":\"\"},\"type\":\"mesh3d\"}],\"parcoords\":[{\"line\":{\"colorbar\":{\"outlinewidth\":0,\"ticks\":\"\"}},\"type\":\"parcoords\"}],\"pie\":[{\"automargin\":true,\"type\":\"pie\"}],\"scatter3d\":[{\"line\":{\"colorbar\":{\"outlinewidth\":0,\"ticks\":\"\"}},\"marker\":{\"colorbar\":{\"outlinewidth\":0,\"ticks\":\"\"}},\"type\":\"scatter3d\"}],\"scattercarpet\":[{\"marker\":{\"colorbar\":{\"outlinewidth\":0,\"ticks\":\"\"}},\"type\":\"scattercarpet\"}],\"scattergeo\":[{\"marker\":{\"colorbar\":{\"outlinewidth\":0,\"ticks\":\"\"}},\"type\":\"scattergeo\"}],\"scattergl\":[{\"marker\":{\"colorbar\":{\"outlinewidth\":0,\"ticks\":\"\"}},\"type\":\"scattergl\"}],\"scattermapbox\":[{\"marker\":{\"colorbar\":{\"outlinewidth\":0,\"ticks\":\"\"}},\"type\":\"scattermapbox\"}],\"scatterpolargl\":[{\"marker\":{\"colorbar\":{\"outlinewidth\":0,\"ticks\":\"\"}},\"type\":\"scatterpolargl\"}],\"scatterpolar\":[{\"marker\":{\"colorbar\":{\"outlinewidth\":0,\"ticks\":\"\"}},\"type\":\"scatterpolar\"}],\"scatter\":[{\"marker\":{\"colorbar\":{\"outlinewidth\":0,\"ticks\":\"\"}},\"type\":\"scatter\"}],\"scatterternary\":[{\"marker\":{\"colorbar\":{\"outlinewidth\":0,\"ticks\":\"\"}},\"type\":\"scatterternary\"}],\"surface\":[{\"colorbar\":{\"outlinewidth\":0,\"ticks\":\"\"},\"colorscale\":[[0.0,\"#0d0887\"],[0.1111111111111111,\"#46039f\"],[0.2222222222222222,\"#7201a8\"],[0.3333333333333333,\"#9c179e\"],[0.4444444444444444,\"#bd3786\"],[0.5555555555555556,\"#d8576b\"],[0.6666666666666666,\"#ed7953\"],[0.7777777777777778,\"#fb9f3a\"],[0.8888888888888888,\"#fdca26\"],[1.0,\"#f0f921\"]],\"type\":\"surface\"}],\"table\":[{\"cells\":{\"fill\":{\"color\":\"#EBF0F8\"},\"line\":{\"color\":\"white\"}},\"header\":{\"fill\":{\"color\":\"#C8D4E3\"},\"line\":{\"color\":\"white\"}},\"type\":\"table\"}]},\"layout\":{\"annotationdefaults\":{\"arrowcolor\":\"#2a3f5f\",\"arrowhead\":0,\"arrowwidth\":1},\"autotypenumbers\":\"strict\",\"coloraxis\":{\"colorbar\":{\"outlinewidth\":0,\"ticks\":\"\"}},\"colorscale\":{\"diverging\":[[0,\"#8e0152\"],[0.1,\"#c51b7d\"],[0.2,\"#de77ae\"],[0.3,\"#f1b6da\"],[0.4,\"#fde0ef\"],[0.5,\"#f7f7f7\"],[0.6,\"#e6f5d0\"],[0.7,\"#b8e186\"],[0.8,\"#7fbc41\"],[0.9,\"#4d9221\"],[1,\"#276419\"]],\"sequential\":[[0.0,\"#0d0887\"],[0.1111111111111111,\"#46039f\"],[0.2222222222222222,\"#7201a8\"],[0.3333333333333333,\"#9c179e\"],[0.4444444444444444,\"#bd3786\"],[0.5555555555555556,\"#d8576b\"],[0.6666666666666666,\"#ed7953\"],[0.7777777777777778,\"#fb9f3a\"],[0.8888888888888888,\"#fdca26\"],[1.0,\"#f0f921\"]],\"sequentialminus\":[[0.0,\"#0d0887\"],[0.1111111111111111,\"#46039f\"],[0.2222222222222222,\"#7201a8\"],[0.3333333333333333,\"#9c179e\"],[0.4444444444444444,\"#bd3786\"],[0.5555555555555556,\"#d8576b\"],[0.6666666666666666,\"#ed7953\"],[0.7777777777777778,\"#fb9f3a\"],[0.8888888888888888,\"#fdca26\"],[1.0,\"#f0f921\"]]},\"colorway\":[\"#636efa\",\"#EF553B\",\"#00cc96\",\"#ab63fa\",\"#FFA15A\",\"#19d3f3\",\"#FF6692\",\"#B6E880\",\"#FF97FF\",\"#FECB52\"],\"font\":{\"color\":\"#2a3f5f\"},\"geo\":{\"bgcolor\":\"white\",\"lakecolor\":\"white\",\"landcolor\":\"#E5ECF6\",\"showlakes\":true,\"showland\":true,\"subunitcolor\":\"white\"},\"hoverlabel\":{\"align\":\"left\"},\"hovermode\":\"closest\",\"mapbox\":{\"style\":\"light\"},\"paper_bgcolor\":\"white\",\"plot_bgcolor\":\"#E5ECF6\",\"polar\":{\"angularaxis\":{\"gridcolor\":\"white\",\"linecolor\":\"white\",\"ticks\":\"\"},\"bgcolor\":\"#E5ECF6\",\"radialaxis\":{\"gridcolor\":\"white\",\"linecolor\":\"white\",\"ticks\":\"\"}},\"scene\":{\"xaxis\":{\"backgroundcolor\":\"#E5ECF6\",\"gridcolor\":\"white\",\"gridwidth\":2,\"linecolor\":\"white\",\"showbackground\":true,\"ticks\":\"\",\"zerolinecolor\":\"white\"},\"yaxis\":{\"backgroundcolor\":\"#E5ECF6\",\"gridcolor\":\"white\",\"gridwidth\":2,\"linecolor\":\"white\",\"showbackground\":true,\"ticks\":\"\",\"zerolinecolor\":\"white\"},\"zaxis\":{\"backgroundcolor\":\"#E5ECF6\",\"gridcolor\":\"white\",\"gridwidth\":2,\"linecolor\":\"white\",\"showbackground\":true,\"ticks\":\"\",\"zerolinecolor\":\"white\"}},\"shapedefaults\":{\"line\":{\"color\":\"#2a3f5f\"}},\"ternary\":{\"aaxis\":{\"gridcolor\":\"white\",\"linecolor\":\"white\",\"ticks\":\"\"},\"baxis\":{\"gridcolor\":\"white\",\"linecolor\":\"white\",\"ticks\":\"\"},\"bgcolor\":\"#E5ECF6\",\"caxis\":{\"gridcolor\":\"white\",\"linecolor\":\"white\",\"ticks\":\"\"}},\"title\":{\"x\":0.05},\"xaxis\":{\"automargin\":true,\"gridcolor\":\"white\",\"linecolor\":\"white\",\"ticks\":\"\",\"title\":{\"standoff\":15},\"zerolinecolor\":\"white\",\"zerolinewidth\":2},\"yaxis\":{\"automargin\":true,\"gridcolor\":\"white\",\"linecolor\":\"white\",\"ticks\":\"\",\"title\":{\"standoff\":15},\"zerolinecolor\":\"white\",\"zerolinewidth\":2}}},\"title\":{\"font\":{\"color\":\"#4D5663\"}},\"xaxis\":{\"gridcolor\":\"#E1E5ED\",\"showgrid\":true,\"tickfont\":{\"color\":\"#4D5663\"},\"title\":{\"font\":{\"color\":\"#4D5663\"},\"text\":\"\"},\"zerolinecolor\":\"#E1E5ED\"},\"yaxis\":{\"gridcolor\":\"#E1E5ED\",\"showgrid\":true,\"tickfont\":{\"color\":\"#4D5663\"},\"title\":{\"font\":{\"color\":\"#4D5663\"},\"text\":\"\"},\"zerolinecolor\":\"#E1E5ED\"}},                        {\"showLink\": true, \"linkText\": \"Export to plot.ly\", \"plotlyServerURL\": \"https://plot.ly\", \"responsive\": true}                    ).then(function(){\n",
       "                            \n",
       "var gd = document.getElementById('2ac35be5-a922-4243-94a4-cd5b7bc962dd');\n",
       "var x = new MutationObserver(function (mutations, observer) {{\n",
       "        var display = window.getComputedStyle(gd).display;\n",
       "        if (!display || display === 'none') {{\n",
       "            console.log([gd, 'removed!']);\n",
       "            Plotly.purge(gd);\n",
       "            observer.disconnect();\n",
       "        }}\n",
       "}});\n",
       "\n",
       "// Listen for the removal of the full notebook cells\n",
       "var notebookContainer = gd.closest('#notebook-container');\n",
       "if (notebookContainer) {{\n",
       "    x.observe(notebookContainer, {childList: true});\n",
       "}}\n",
       "\n",
       "// Listen for the clearing of the current output cell\n",
       "var outputEl = gd.closest('.output');\n",
       "if (outputEl) {{\n",
       "    x.observe(outputEl, {childList: true});\n",
       "}}\n",
       "\n",
       "                        })                };                });            </script>        </div>"
      ]
     },
     "metadata": {},
     "output_type": "display_data"
    }
   ],
   "source": [
    "#this plot will be an interactive plot using iplot(), you can move your cursor over the plot to get the interactive data, also click on the lines in legend to switch the plot for that column on/off.\n",
    "df.iplot()"
   ]
  },
  {
   "cell_type": "code",
   "execution_count": null,
   "metadata": {},
   "outputs": [],
   "source": []
  }
 ],
 "metadata": {
  "interpreter": {
   "hash": "20bb7e915129be2440817e85fcb2f61d9415d6722a6075d97b5b724c3b79bb8f"
  },
  "kernelspec": {
   "display_name": "Python 3.9.9 64-bit (windows store)",
   "language": "python",
   "name": "python3"
  },
  "language_info": {
   "codemirror_mode": {
    "name": "ipython",
    "version": 3
   },
   "file_extension": ".py",
   "mimetype": "text/x-python",
   "name": "python",
   "nbconvert_exporter": "python",
   "pygments_lexer": "ipython3",
   "version": "3.9.9"
  },
  "orig_nbformat": 4
 },
 "nbformat": 4,
 "nbformat_minor": 2
}
