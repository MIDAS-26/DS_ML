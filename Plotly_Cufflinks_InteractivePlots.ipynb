{
 "cells": [
  {
   "cell_type": "code",
   "execution_count": 1,
   "metadata": {},
   "outputs": [],
   "source": [
    "import pandas as pd\n",
    "import numpy as np\n",
    "import cufflinks as cf\n",
    "from plotly.offline import download_plotlyjs, init_notebook_mode, plot, iplot\n",
    "%matplotlib inline"
   ]
  },
  {
   "cell_type": "code",
   "execution_count": 2,
   "metadata": {},
   "outputs": [
    {
     "data": {
      "text/html": [
       "        <script type=\"text/javascript\">\n",
       "        window.PlotlyConfig = {MathJaxConfig: 'local'};\n",
       "        if (window.MathJax) {MathJax.Hub.Config({SVG: {font: \"STIX-Web\"}});}\n",
       "        if (typeof require !== 'undefined') {\n",
       "        require.undef(\"plotly\");\n",
       "        requirejs.config({\n",
       "            paths: {\n",
       "                'plotly': ['https://cdn.plot.ly/plotly-2.6.3.min']\n",
       "            }\n",
       "        });\n",
       "        require(['plotly'], function(Plotly) {\n",
       "            window._Plotly = Plotly;\n",
       "        });\n",
       "        }\n",
       "        </script>\n",
       "        "
      ]
     },
     "metadata": {},
     "output_type": "display_data"
    },
    {
     "data": {
      "text/html": [
       "        <script type=\"text/javascript\">\n",
       "        window.PlotlyConfig = {MathJaxConfig: 'local'};\n",
       "        if (window.MathJax) {MathJax.Hub.Config({SVG: {font: \"STIX-Web\"}});}\n",
       "        if (typeof require !== 'undefined') {\n",
       "        require.undef(\"plotly\");\n",
       "        requirejs.config({\n",
       "            paths: {\n",
       "                'plotly': ['https://cdn.plot.ly/plotly-2.6.3.min']\n",
       "            }\n",
       "        });\n",
       "        require(['plotly'], function(Plotly) {\n",
       "            window._Plotly = Plotly;\n",
       "        });\n",
       "        }\n",
       "        </script>\n",
       "        "
      ]
     },
     "metadata": {},
     "output_type": "display_data"
    }
   ],
   "source": [
    "init_notebook_mode(connected=True)\n",
    "cf.go_offline()"
   ]
  },
  {
   "cell_type": "code",
   "execution_count": 3,
   "metadata": {},
   "outputs": [
    {
     "data": {
      "text/html": [
       "<div>\n",
       "<style scoped>\n",
       "    .dataframe tbody tr th:only-of-type {\n",
       "        vertical-align: middle;\n",
       "    }\n",
       "\n",
       "    .dataframe tbody tr th {\n",
       "        vertical-align: top;\n",
       "    }\n",
       "\n",
       "    .dataframe thead th {\n",
       "        text-align: right;\n",
       "    }\n",
       "</style>\n",
       "<table border=\"1\" class=\"dataframe\">\n",
       "  <thead>\n",
       "    <tr style=\"text-align: right;\">\n",
       "      <th></th>\n",
       "      <th>A</th>\n",
       "      <th>B</th>\n",
       "      <th>C</th>\n",
       "      <th>D</th>\n",
       "    </tr>\n",
       "  </thead>\n",
       "  <tbody>\n",
       "    <tr>\n",
       "      <th>0</th>\n",
       "      <td>0.886482</td>\n",
       "      <td>-0.464490</td>\n",
       "      <td>0.520111</td>\n",
       "      <td>-0.898837</td>\n",
       "    </tr>\n",
       "    <tr>\n",
       "      <th>1</th>\n",
       "      <td>-0.349962</td>\n",
       "      <td>0.352398</td>\n",
       "      <td>0.072618</td>\n",
       "      <td>-0.597399</td>\n",
       "    </tr>\n",
       "    <tr>\n",
       "      <th>2</th>\n",
       "      <td>-1.585777</td>\n",
       "      <td>-2.356829</td>\n",
       "      <td>0.484549</td>\n",
       "      <td>-2.476954</td>\n",
       "    </tr>\n",
       "    <tr>\n",
       "      <th>3</th>\n",
       "      <td>0.648490</td>\n",
       "      <td>2.390596</td>\n",
       "      <td>0.041757</td>\n",
       "      <td>0.185808</td>\n",
       "    </tr>\n",
       "    <tr>\n",
       "      <th>4</th>\n",
       "      <td>-1.997997</td>\n",
       "      <td>-0.971149</td>\n",
       "      <td>0.072148</td>\n",
       "      <td>-1.447727</td>\n",
       "    </tr>\n",
       "    <tr>\n",
       "      <th>...</th>\n",
       "      <td>...</td>\n",
       "      <td>...</td>\n",
       "      <td>...</td>\n",
       "      <td>...</td>\n",
       "    </tr>\n",
       "    <tr>\n",
       "      <th>95</th>\n",
       "      <td>1.145305</td>\n",
       "      <td>-0.863423</td>\n",
       "      <td>-0.528005</td>\n",
       "      <td>-1.010766</td>\n",
       "    </tr>\n",
       "    <tr>\n",
       "      <th>96</th>\n",
       "      <td>-3.250282</td>\n",
       "      <td>1.401823</td>\n",
       "      <td>0.664212</td>\n",
       "      <td>1.035544</td>\n",
       "    </tr>\n",
       "    <tr>\n",
       "      <th>97</th>\n",
       "      <td>1.522124</td>\n",
       "      <td>-1.656219</td>\n",
       "      <td>-0.414974</td>\n",
       "      <td>0.111656</td>\n",
       "    </tr>\n",
       "    <tr>\n",
       "      <th>98</th>\n",
       "      <td>0.142005</td>\n",
       "      <td>-0.216485</td>\n",
       "      <td>0.484072</td>\n",
       "      <td>-0.683788</td>\n",
       "    </tr>\n",
       "    <tr>\n",
       "      <th>99</th>\n",
       "      <td>0.385717</td>\n",
       "      <td>-0.059782</td>\n",
       "      <td>1.457288</td>\n",
       "      <td>0.066297</td>\n",
       "    </tr>\n",
       "  </tbody>\n",
       "</table>\n",
       "<p>100 rows × 4 columns</p>\n",
       "</div>"
      ],
      "text/plain": [
       "           A         B         C         D\n",
       "0   0.886482 -0.464490  0.520111 -0.898837\n",
       "1  -0.349962  0.352398  0.072618 -0.597399\n",
       "2  -1.585777 -2.356829  0.484549 -2.476954\n",
       "3   0.648490  2.390596  0.041757  0.185808\n",
       "4  -1.997997 -0.971149  0.072148 -1.447727\n",
       "..       ...       ...       ...       ...\n",
       "95  1.145305 -0.863423 -0.528005 -1.010766\n",
       "96 -3.250282  1.401823  0.664212  1.035544\n",
       "97  1.522124 -1.656219 -0.414974  0.111656\n",
       "98  0.142005 -0.216485  0.484072 -0.683788\n",
       "99  0.385717 -0.059782  1.457288  0.066297\n",
       "\n",
       "[100 rows x 4 columns]"
      ]
     },
     "execution_count": 3,
     "metadata": {},
     "output_type": "execute_result"
    }
   ],
   "source": [
    "df = pd.DataFrame(np.random.randn(100,4), columns='A B C D'.split())\n",
    "df"
   ]
  },
  {
   "cell_type": "code",
   "execution_count": 4,
   "metadata": {},
   "outputs": [
    {
     "data": {
      "text/html": [
       "<div>\n",
       "<style scoped>\n",
       "    .dataframe tbody tr th:only-of-type {\n",
       "        vertical-align: middle;\n",
       "    }\n",
       "\n",
       "    .dataframe tbody tr th {\n",
       "        vertical-align: top;\n",
       "    }\n",
       "\n",
       "    .dataframe thead th {\n",
       "        text-align: right;\n",
       "    }\n",
       "</style>\n",
       "<table border=\"1\" class=\"dataframe\">\n",
       "  <thead>\n",
       "    <tr style=\"text-align: right;\">\n",
       "      <th></th>\n",
       "      <th>Category</th>\n",
       "      <th>Values</th>\n",
       "    </tr>\n",
       "  </thead>\n",
       "  <tbody>\n",
       "    <tr>\n",
       "      <th>0</th>\n",
       "      <td>A</td>\n",
       "      <td>32</td>\n",
       "    </tr>\n",
       "    <tr>\n",
       "      <th>1</th>\n",
       "      <td>B</td>\n",
       "      <td>43</td>\n",
       "    </tr>\n",
       "    <tr>\n",
       "      <th>2</th>\n",
       "      <td>C</td>\n",
       "      <td>50</td>\n",
       "    </tr>\n",
       "  </tbody>\n",
       "</table>\n",
       "</div>"
      ],
      "text/plain": [
       "  Category  Values\n",
       "0        A      32\n",
       "1        B      43\n",
       "2        C      50"
      ]
     },
     "execution_count": 4,
     "metadata": {},
     "output_type": "execute_result"
    }
   ],
   "source": [
    "df2 = pd.DataFrame({'Category': ['A', 'B', 'C'], 'Values': [32, 43, 50]})\n",
    "df2"
   ]
  },
  {
   "cell_type": "code",
   "execution_count": 22,
   "metadata": {},
   "outputs": [
    {
     "data": {
      "text/html": [
       "<div>\n",
       "<style scoped>\n",
       "    .dataframe tbody tr th:only-of-type {\n",
       "        vertical-align: middle;\n",
       "    }\n",
       "\n",
       "    .dataframe tbody tr th {\n",
       "        vertical-align: top;\n",
       "    }\n",
       "\n",
       "    .dataframe thead th {\n",
       "        text-align: right;\n",
       "    }\n",
       "</style>\n",
       "<table border=\"1\" class=\"dataframe\">\n",
       "  <thead>\n",
       "    <tr style=\"text-align: right;\">\n",
       "      <th></th>\n",
       "      <th>x</th>\n",
       "      <th>y</th>\n",
       "      <th>z</th>\n",
       "    </tr>\n",
       "  </thead>\n",
       "  <tbody>\n",
       "    <tr>\n",
       "      <th>0</th>\n",
       "      <td>1</td>\n",
       "      <td>10</td>\n",
       "      <td>5</td>\n",
       "    </tr>\n",
       "    <tr>\n",
       "      <th>1</th>\n",
       "      <td>2</td>\n",
       "      <td>20</td>\n",
       "      <td>4</td>\n",
       "    </tr>\n",
       "    <tr>\n",
       "      <th>2</th>\n",
       "      <td>3</td>\n",
       "      <td>30</td>\n",
       "      <td>3</td>\n",
       "    </tr>\n",
       "    <tr>\n",
       "      <th>3</th>\n",
       "      <td>4</td>\n",
       "      <td>20</td>\n",
       "      <td>2</td>\n",
       "    </tr>\n",
       "    <tr>\n",
       "      <th>4</th>\n",
       "      <td>5</td>\n",
       "      <td>10</td>\n",
       "      <td>1</td>\n",
       "    </tr>\n",
       "  </tbody>\n",
       "</table>\n",
       "</div>"
      ],
      "text/plain": [
       "   x   y  z\n",
       "0  1  10  5\n",
       "1  2  20  4\n",
       "2  3  30  3\n",
       "3  4  20  2\n",
       "4  5  10  1"
      ]
     },
     "execution_count": 22,
     "metadata": {},
     "output_type": "execute_result"
    }
   ],
   "source": [
    "df3 = pd.DataFrame({'x': [1,2,3,4,5], 'y': [10,20,30,20,10], 'z': [5,4,3,2,1]})\n",
    "df3"
   ]
  },
  {
   "cell_type": "code",
   "execution_count": 5,
   "metadata": {},
   "outputs": [
    {
     "data": {
      "text/plain": [
       "<AxesSubplot:>"
      ]
     },
     "execution_count": 5,
     "metadata": {},
     "output_type": "execute_result"
    },
    {
     "data": {
      "image/png": "[encoded data removed]",
      "text/plain": [
       "<Figure size 432x288 with 1 Axes>"
      ]
     },
     "metadata": {
      "needs_background": "light"
     },
     "output_type": "display_data"
    }
   ],
   "source": [
    "# this is just a normal plot that could be plotted using pandas, just an image\n",
    "df.plot()"
   ]
  },
  {
   "cell_type": "code",
   "execution_count": 6,
   "metadata": {},
   "outputs": [
    {
     "data": {
      "application/vnd.plotly.v1+json": {
       "config": {
        "linkText": "Export to plot.ly",
        "plotlyServerURL": "https://plot.ly",
        "showLink": true
       },
       "data": [
        {
         "line": {
          "color": "rgba(255, 153, 51, 1.0)",
          "dash": "solid",
          "shape": "linear",
          "width": 1.3
         },
         "mode": "lines",
         "name": "A",
         "text": "",
         "type": "scatter",
         "x": [
          0,
          1,
          2,
          3,
          4,
          5,
          6,
          7,
          8,
          9,
          10,
          11,
          12,
          13,
          14,
          15,
          16,
          17,
          18,
          19,
          20,
          21,
          22,
          23,
          24,
          25,
          26,
          27,
          28,
          29,
          30,
          31,
          32,
          33,
          34,
          35,
          36,
          37,
          38,
          39,
          40,
          41,
          42,
          43,
          44,
          45,
          46,
          47,
          48,
          49,
          50,
          51,
          52,
          53,
          54,
          55,
          56,
          57,
          58,
          59,
          60,
          61,
          62,
          63,
          64,
          65,
          66,
          67,
          68,
          69,
          70,
          71,
          72,
          73,
          74,
          75,
          76,
          77,
          78,
          79,
          80,
          81,
          82,
          83,
          84,
          85,
          86,
          87,
          88,
          89,
          90,
          91,
          92,
          93,
          94,
          95,
          96,
          97,
          98,
          99
         ],
         "y": [
          0.886481626762867,
          -0.3499620218114763,
          -1.585776582814845,
          0.6484898454257476,
          -1.9979968441142282,
          0.1201311235502911,
          -0.4148740926620486,
          0.48602098140719663,
          -0.4421915736894337,
          1.2418778460177193,
          0.10118778876868344,
          -0.3818017352390294,
          -1.0889405954178286,
          -1.0775398374986283,
          0.7176163433204604,
          0.33913004139571756,
          -0.4032606079303681,
          -0.3637756464595728,
          -1.4718184440680067,
          0.713886037258169,
          0.19269588171664376,
          0.23304829932510332,
          0.5709190035735119,
          -1.8433915506663612,
          0.8324219856241711,
          -1.0757550291979756,
          0.5077556723582699,
          -0.44413901106422243,
          -1.0086197778973143,
          -1.4028236947855495,
          0.7121967790439677,
          0.3204505587958397,
          0.4445431803849003,
          -0.7710464998332621,
          -0.32331670313769884,
          -0.37674258119090615,
          -0.4248675218977924,
          0.40764947955994546,
          -1.3078826247959392,
          1.0601288365287158,
          -0.07365209559188851,
          -0.15604718500861364,
          0.6942083782207596,
          1.6486670014904792,
          -0.7077253997726066,
          1.2800832468714303,
          -0.9465578355996911,
          -0.20620629379940864,
          -0.7963607240498749,
          -0.36078265872225806,
          1.2110561274705427,
          -0.1104525081824256,
          -0.6700042401655598,
          0.5569922218535346,
          0.3089864141526496,
          -0.2255228252683958,
          -0.2420062158747075,
          1.422815466914821,
          0.1503362119866953,
          -0.08743388513554257,
          -2.0349797681611563,
          0.8458105742183093,
          1.5407511255122293,
          0.029309506747405435,
          0.8584238640416992,
          0.9580984168929361,
          -0.9005130295018315,
          -0.013473286256282085,
          -0.8038220434152606,
          0.5661970188353798,
          -0.41924053958573,
          -0.29814007571196643,
          -0.03279477170129877,
          0.29650560309755564,
          -0.5463247852636246,
          -0.7671606914275885,
          1.0529157002903464,
          0.7838311671342689,
          1.9802407213895976,
          0.47847443413408924,
          1.0458971972595335,
          -1.2475785868909688,
          -0.8810956529233439,
          -1.6642079892521435,
          0.7756690712728784,
          -0.14000153305790228,
          -0.298192880456967,
          0.6070013657895164,
          0.9080645827077884,
          0.7257777964960853,
          -2.3168928477995996,
          -0.23743985166319456,
          -0.6036935396622959,
          -1.022352491479891,
          1.11444393383111,
          1.145304707468234,
          -3.250282066368351,
          1.5221237939575507,
          0.14200502104205395,
          0.38571662007639357
         ]
        },
        {
         "line": {
          "color": "rgba(55, 128, 191, 1.0)",
          "dash": "solid",
          "shape": "linear",
          "width": 1.3
         },
         "mode": "lines",
         "name": "B",
         "text": "",
         "type": "scatter",
         "x": [
          0,
          1,
          2,
          3,
          4,
          5,
          6,
          7,
          8,
          9,
          10,
          11,
          12,
          13,
          14,
          15,
          16,
          17,
          18,
          19,
          20,
          21,
          22,
          23,
          24,
          25,
          26,
          27,
          28,
          29,
          30,
          31,
          32,
          33,
          34,
          35,
          36,
          37,
          38,
          39,
          40,
          41,
          42,
          43,
          44,
          45,
          46,
          47,
          48,
          49,
          50,
          51,
          52,
          53,
          54,
          55,
          56,
          57,
          58,
          59,
          60,
          61,
          62,
          63,
          64,
          65,
          66,
          67,
          68,
          69,
          70,
          71,
          72,
          73,
          74,
          75,
          76,
          77,
          78,
          79,
          80,
          81,
          82,
          83,
          84,
          85,
          86,
          87,
          88,
          89,
          90,
          91,
          92,
          93,
          94,
          95,
          96,
          97,
          98,
          99
         ],
         "y": [
          -0.46449043768408943,
          0.3523981764252299,
          -2.3568287709836473,
          2.390595577632367,
          -0.9711494279100952,
          -0.598162370267831,
          -0.3968615131465438,
          -1.4678698356334754,
          -0.28684894742407796,
          0.9208405274368389,
          0.9624893523587785,
          -0.4726705970974675,
          -0.6879754336784105,
          -1.3738071612856435,
          0.15306973430517098,
          1.39271128590778,
          1.4306641888922735,
          -1.7229685803087822,
          0.876023771464418,
          -0.6803902408216923,
          -0.5941052879566986,
          0.12043446146704843,
          -0.28515613992993033,
          -0.32609061091749375,
          0.47425472148627396,
          -1.2522126657446717,
          -0.3243536009422392,
          0.5049793346016036,
          -0.04176998943973294,
          0.40192394612822196,
          -0.28054043055164984,
          0.14883547195933453,
          -0.12105123038966474,
          1.0343349745490065,
          0.5991071166463736,
          0.567778493863068,
          0.3037646239706531,
          -1.3719041517480557,
          -0.4436317499417215,
          0.38529293294782807,
          0.18887020024921888,
          -0.44131088434181726,
          -1.345417457240369,
          0.1950054187256295,
          0.008516791334651708,
          -0.030138945389232976,
          -0.052181696931563104,
          -0.28531533414502924,
          -0.3837973447267495,
          -0.07335949970633836,
          -0.5016619524152183,
          -0.07377196799595183,
          1.314600491631252,
          -0.5755533402380913,
          1.04234687914125,
          -1.9884263599852992,
          -0.4546812851638831,
          -0.9135355999965279,
          0.1202491772493144,
          0.2982883545760662,
          1.1759196674481656,
          0.1765180905394663,
          -0.1393540853360605,
          -1.6912307557741173,
          0.6517544039399077,
          -0.11723751480317693,
          0.225761143742028,
          2.575309512971,
          -0.38535401952248977,
          0.12673017985596988,
          -0.07216106803459287,
          1.5616852752254324,
          -1.0467543733046534,
          0.8101267949195068,
          -0.42749849903243314,
          -0.11251204442772755,
          -1.1106289672153369,
          0.3332379125685002,
          1.0663205215842115,
          -1.9046403985666256,
          1.8284597174145687,
          -0.6975813374405788,
          0.46500534847745456,
          0.2676519512599508,
          -0.9130053337789412,
          -0.1662797376110315,
          0.8053195931493092,
          -1.3026754192540417,
          0.15700431317050292,
          -1.207547463863445,
          0.3039178415683296,
          1.994212832448182,
          -0.14322280376679514,
          -1.0562473515513469,
          -1.2639667192364323,
          -0.8634228472340293,
          1.4018232890368303,
          -1.6562191518856821,
          -0.21648483960705828,
          -0.05978220684500359
         ]
        },
        {
         "line": {
          "color": "rgba(50, 171, 96, 1.0)",
          "dash": "solid",
          "shape": "linear",
          "width": 1.3
         },
         "mode": "lines",
         "name": "C",
         "text": "",
         "type": "scatter",
         "x": [
          0,
          1,
          2,
          3,
          4,
          5,
          6,
          7,
          8,
          9,
          10,
          11,
          12,
          13,
          14,
          15,
          16,
          17,
          18,
          19,
          20,
          21,
          22,
          23,
          24,
          25,
          26,
          27,
          28,
          29,
          30,
          31,
          32,
          33,
          34,
          35,
          36,
          37,
          38,
          39,
          40,
          41,
          42,
          43,
          44,
          45,
          46,
          47,
          48,
          49,
          50,
          51,
          52,
          53,
          54,
          55,
          56,
          57,
          58,
          59,
          60,
          61,
          62,
          63,
          64,
          65,
          66,
          67,
          68,
          69,
          70,
          71,
          72,
          73,
          74,
          75,
          76,
          77,
          78,
          79,
          80,
          81,
          82,
          83,
          84,
          85,
          86,
          87,
          88,
          89,
          90,
          91,
          92,
          93,
          94,
          95,
          96,
          97,
          98,
          99
         ],
         "y": [
          0.5201109778797136,
          0.07261771142678988,
          0.4845486456551353,
          0.04175729206404078,
          0.07214813886953271,
          2.5606694217959833,
          0.07923671155527522,
          -0.2554548938241622,
          -0.48350893289418834,
          -0.3601080724389737,
          0.1791297395186548,
          -0.3718455967328699,
          -0.10285950790430816,
          0.1352652300933272,
          -0.403587208589028,
          -0.9703320757531556,
          -1.0309098376147865,
          -0.7839258323598245,
          0.42945907942978373,
          -0.16623496285325534,
          -1.4169503388885316,
          0.2539949991347254,
          -0.020580254158317893,
          -1.0488541639354112,
          -2.900279322232684,
          0.014575478409169191,
          -0.326673408691736,
          -0.18735692164121553,
          0.5945073068751859,
          -1.1483605677505577,
          -0.06420435125397268,
          0.18831486406559445,
          -2.0494593872241715,
          -0.293484960876104,
          -0.9929240294800716,
          -0.4339844599054614,
          -0.8077561213226911,
          0.16124317270479846,
          -0.9424420244798318,
          -3.0363692113542298,
          -1.0081465330942094,
          -0.2576960247641065,
          -0.629302913191415,
          -0.7512827541389725,
          1.3097259912622083,
          0.3891212137644769,
          0.25792350431937977,
          -1.4255660416617586,
          0.6313337215541744,
          -0.8086724659291554,
          -0.31398184848967853,
          0.8968079243347657,
          -0.41047214370925006,
          0.3085293139653205,
          2.440954175592653,
          1.172510577125236,
          -0.21452964732278043,
          1.2500901451930229,
          0.43545890987911706,
          -0.15450392741326677,
          0.34389616421093383,
          0.7022310466650089,
          0.26950241011431497,
          -0.4087380376584617,
          -0.05854610989108658,
          -1.2253792268194523,
          0.36920968290947853,
          0.9510900473471998,
          -0.58479957902115,
          0.2012651723901271,
          -2.2157890554992186,
          0.2572549110191389,
          0.6026994347030282,
          -0.5190278348745757,
          -0.659545259399039,
          0.1013534807846591,
          -1.3857377750410784,
          0.6780432092694408,
          -2.7686858883402987,
          -1.151356806602218,
          -0.38093518884231675,
          1.7752163898008257,
          1.638870823306406,
          0.42769795627912727,
          -1.724320012317729,
          -0.313077254850423,
          -1.6924590866164944,
          0.24414122730241494,
          0.004458488897950751,
          1.232211012758207,
          -0.5640207859786823,
          1.4659627874886405,
          -1.4612430503540268,
          0.5515163223382007,
          -1.1760157382514314,
          -0.5280048160291578,
          0.6642118534920832,
          -0.41497442121476247,
          0.4840723227255899,
          1.4572878058103327
         ]
        },
        {
         "line": {
          "color": "rgba(128, 0, 128, 1.0)",
          "dash": "solid",
          "shape": "linear",
          "width": 1.3
         },
         "mode": "lines",
         "name": "D",
         "text": "",
         "type": "scatter",
         "x": [
          0,
          1,
          2,
          3,
          4,
          5,
          6,
          7,
          8,
          9,
          10,
          11,
          12,
          13,
          14,
          15,
          16,
          17,
          18,
          19,
          20,
          21,
          22,
          23,
          24,
          25,
          26,
          27,
          28,
          29,
          30,
          31,
          32,
          33,
          34,
          35,
          36,
          37,
          38,
          39,
          40,
          41,
          42,
          43,
          44,
          45,
          46,
          47,
          48,
          49,
          50,
          51,
          52,
          53,
          54,
          55,
          56,
          57,
          58,
          59,
          60,
          61,
          62,
          63,
          64,
          65,
          66,
          67,
          68,
          69,
          70,
          71,
          72,
          73,
          74,
          75,
          76,
          77,
          78,
          79,
          80,
          81,
          82,
          83,
          84,
          85,
          86,
          87,
          88,
          89,
          90,
          91,
          92,
          93,
          94,
          95,
          96,
          97,
          98,
          99
         ],
         "y": [
          -0.8988369730855046,
          -0.5973989117894579,
          -2.4769542611372675,
          0.18580822703921393,
          -1.4477266106016817,
          0.7475126441147879,
          -0.40662767732843136,
          0.21562464027425288,
          -0.8437175533042076,
          -0.9206671582879606,
          -0.5128985721362068,
          0.4125456490439085,
          -0.8139361694983875,
          -0.24474602739648574,
          1.399660958090668,
          -0.5690667592803338,
          0.10284268754132027,
          -1.0493291743851698,
          0.8627545558195271,
          -0.9045099347478545,
          -1.026386794162491,
          0.060680317538162075,
          -0.3415314804401644,
          -2.3994321359360637,
          -1.8292002486713017,
          -0.2954406411178994,
          0.4308804806320366,
          -0.10689556363777028,
          1.4089556192348474,
          0.5716511233697971,
          0.18342394810870205,
          0.36969571924469097,
          -0.6231566510192728,
          -1.3706148974987369,
          -0.28615276432148967,
          0.22151874757782652,
          0.8618996252866993,
          -2.104564936295545,
          0.050772616377669236,
          -1.5751320938408422,
          0.529309231319148,
          1.2505362277466154,
          0.5802563261424589,
          1.7510243835154893,
          -0.1627631243159947,
          -0.07003449753416875,
          -0.7440752774362521,
          0.31874611082693405,
          0.1704263449760727,
          -0.11002542802261428,
          -0.24391672792443203,
          0.12914644876715653,
          -0.11217720875904467,
          -1.1825183945583666,
          -0.6923098843607846,
          -0.7681572995718657,
          1.1967731690030423,
          -1.0847602441923174,
          -0.2468238604708724,
          -1.275210084786202,
          -0.2937753192692088,
          -0.009646863994237882,
          -0.09900121737954734,
          -2.273401838062692,
          0.6410847024367559,
          -1.0315530517482356,
          -0.23298010070511913,
          0.21011149847632665,
          -1.6448213858583116,
          0.9457050033179516,
          -0.558715442009201,
          -0.4626338089775159,
          -0.4970146323240726,
          0.5580016935266144,
          1.4573952335048144,
          0.013241314320308596,
          -0.5396902491902932,
          2.0752884236753153,
          0.32674800644109625,
          -0.9622506422535216,
          0.018215536423492086,
          0.8843134448695068,
          -0.018465958943413796,
          -1.1360868737298324,
          -1.7102980416719817,
          -1.6399112314218767,
          -1.9949333484692264,
          0.4223668366027454,
          -1.205824691590463,
          -1.0046967973566239,
          1.0545659444662052,
          -0.16281636113476167,
          -2.195290457025516,
          -0.40360203397521616,
          -0.5068641103072004,
          -1.010766369579888,
          1.035543712197159,
          0.11165562042085199,
          -0.6837883644397107,
          0.06629731977819796
         ]
        }
       ],
       "layout": {
        "legend": {
         "bgcolor": "#F5F6F9",
         "font": {
          "color": "#4D5663"
         }
        },
        "paper_bgcolor": "#F5F6F9",
        "plot_bgcolor": "#F5F6F9",
        "template": {
         "data": {
          "bar": [
           {
            "error_x": {
             "color": "#2a3f5f"
            },
            "error_y": {
             "color": "#2a3f5f"
            },
            "marker": {
             "line": {
              "color": "#E5ECF6",
              "width": 0.5
             },
             "pattern": {
              "fillmode": "overlay",
              "size": 10,
              "solidity": 0.2
             }
            },
            "type": "bar"
           }
          ],
          "barpolar": [
           {
            "marker": {
             "line": {
              "color": "#E5ECF6",
              "width": 0.5
             },
             "pattern": {
              "fillmode": "overlay",
              "size": 10,
              "solidity": 0.2
             }
            },
            "type": "barpolar"
           }
          ],
          "carpet": [
           {
            "aaxis": {
             "endlinecolor": "#2a3f5f",
             "gridcolor": "white",
             "linecolor": "white",
             "minorgridcolor": "white",
             "startlinecolor": "#2a3f5f"
            },
            "baxis": {
             "endlinecolor": "#2a3f5f",
             "gridcolor": "white",
             "linecolor": "white",
             "minorgridcolor": "white",
             "startlinecolor": "#2a3f5f"
            },
            "type": "carpet"
           }
          ],
          "choropleth": [
           {
            "colorbar": {
             "outlinewidth": 0,
             "ticks": ""
            },
            "type": "choropleth"
           }
          ],
          "contour": [
           {
            "colorbar": {
             "outlinewidth": 0,
             "ticks": ""
            },
            "colorscale": [
             [
              0,
              "#0d0887"
             ],
             [
              0.1111111111111111,
              "#46039f"
             ],
             [
              0.2222222222222222,
              "#7201a8"
             ],
             [
              0.3333333333333333,
              "#9c179e"
             ],
             [
              0.4444444444444444,
              "#bd3786"
             ],
             [
              0.5555555555555556,
              "#d8576b"
             ],
             [
              0.6666666666666666,
              "#ed7953"
             ],
             [
              0.7777777777777778,
              "#fb9f3a"
             ],
             [
              0.8888888888888888,
              "#fdca26"
             ],
             [
              1,
              "#f0f921"
             ]
            ],
            "type": "contour"
           }
          ],
          "contourcarpet": [
           {
            "colorbar": {
             "outlinewidth": 0,
             "ticks": ""
            },
            "type": "contourcarpet"
           }
          ],
          "heatmap": [
           {
            "colorbar": {
             "outlinewidth": 0,
             "ticks": ""
            },
            "colorscale": [
             [
              0,
              "#0d0887"
             ],
             [
              0.1111111111111111,
              "#46039f"
             ],
             [
              0.2222222222222222,
              "#7201a8"
             ],
             [
              0.3333333333333333,
              "#9c179e"
             ],
             [
              0.4444444444444444,
              "#bd3786"
             ],
             [
              0.5555555555555556,
              "#d8576b"
             ],
             [
              0.6666666666666666,
              "#ed7953"
             ],
             [
              0.7777777777777778,
              "#fb9f3a"
             ],
             [
              0.8888888888888888,
              "#fdca26"
             ],
             [
              1,
              "#f0f921"
             ]
            ],
            "type": "heatmap"
           }
          ],
          "heatmapgl": [
           {
            "colorbar": {
             "outlinewidth": 0,
             "ticks": ""
            },
            "colorscale": [
             [
              0,
              "#0d0887"
             ],
             [
              0.1111111111111111,
              "#46039f"
             ],
             [
              0.2222222222222222,
              "#7201a8"
             ],
             [
              0.3333333333333333,
              "#9c179e"
             ],
             [
              0.4444444444444444,
              "#bd3786"
             ],
             [
              0.5555555555555556,
              "#d8576b"
             ],
             [
              0.6666666666666666,
              "#ed7953"
             ],
             [
              0.7777777777777778,
              "#fb9f3a"
             ],
             [
              0.8888888888888888,
              "#fdca26"
             ],
             [
              1,
              "#f0f921"
             ]
            ],
            "type": "heatmapgl"
           }
          ],
          "histogram": [
           {
            "marker": {
             "pattern": {
              "fillmode": "overlay",
              "size": 10,
              "solidity": 0.2
             }
            },
            "type": "histogram"
           }
          ],
          "histogram2d": [
           {
            "colorbar": {
             "outlinewidth": 0,
             "ticks": ""
            },
            "colorscale": [
             [
              0,
              "#0d0887"
             ],
             [
              0.1111111111111111,
              "#46039f"
             ],
             [
              0.2222222222222222,
              "#7201a8"
             ],
             [
              0.3333333333333333,
              "#9c179e"
             ],
             [
              0.4444444444444444,
              "#bd3786"
             ],
             [
              0.5555555555555556,
              "#d8576b"
             ],
             [
              0.6666666666666666,
              "#ed7953"
             ],
             [
              0.7777777777777778,
              "#fb9f3a"
             ],
             [
              0.8888888888888888,
              "#fdca26"
             ],
             [
              1,
              "#f0f921"
             ]
            ],
            "type": "histogram2d"
           }
          ],
          "histogram2dcontour": [
           {
            "colorbar": {
             "outlinewidth": 0,
             "ticks": ""
            },
            "colorscale": [
             [
              0,
              "#0d0887"
             ],
             [
              0.1111111111111111,
              "#46039f"
             ],
             [
              0.2222222222222222,
              "#7201a8"
             ],
             [
              0.3333333333333333,
              "#9c179e"
             ],
             [
              0.4444444444444444,
              "#bd3786"
             ],
             [
              0.5555555555555556,
              "#d8576b"
             ],
             [
              0.6666666666666666,
              "#ed7953"
             ],
             [
              0.7777777777777778,
              "#fb9f3a"
             ],
             [
              0.8888888888888888,
              "#fdca26"
             ],
             [
              1,
              "#f0f921"
             ]
            ],
            "type": "histogram2dcontour"
           }
          ],
          "mesh3d": [
           {
            "colorbar": {
             "outlinewidth": 0,
             "ticks": ""
            },
            "type": "mesh3d"
           }
          ],
          "parcoords": [
           {
            "line": {
             "colorbar": {
              "outlinewidth": 0,
              "ticks": ""
             }
            },
            "type": "parcoords"
           }
          ],
          "pie": [
           {
            "automargin": true,
            "type": "pie"
           }
          ],
          "scatter": [
           {
            "marker": {
             "colorbar": {
              "outlinewidth": 0,
              "ticks": ""
             }
            },
            "type": "scatter"
           }
          ],
          "scatter3d": [
           {
            "line": {
             "colorbar": {
              "outlinewidth": 0,
              "ticks": ""
             }
            },
            "marker": {
             "colorbar": {
              "outlinewidth": 0,
              "ticks": ""
             }
            },
            "type": "scatter3d"
           }
          ],
          "scattercarpet": [
           {
            "marker": {
             "colorbar": {
              "outlinewidth": 0,
              "ticks": ""
             }
            },
            "type": "scattercarpet"
           }
          ],
          "scattergeo": [
           {
            "marker": {
             "colorbar": {
              "outlinewidth": 0,
              "ticks": ""
             }
            },
            "type": "scattergeo"
           }
          ],
          "scattergl": [
           {
            "marker": {
             "colorbar": {
              "outlinewidth": 0,
              "ticks": ""
             }
            },
            "type": "scattergl"
           }
          ],
          "scattermapbox": [
           {
            "marker": {
             "colorbar": {
              "outlinewidth": 0,
              "ticks": ""
             }
            },
            "type": "scattermapbox"
           }
          ],
          "scatterpolar": [
           {
            "marker": {
             "colorbar": {
              "outlinewidth": 0,
              "ticks": ""
             }
            },
            "type": "scatterpolar"
           }
          ],
          "scatterpolargl": [
           {
            "marker": {
             "colorbar": {
              "outlinewidth": 0,
              "ticks": ""
             }
            },
            "type": "scatterpolargl"
           }
          ],
          "scatterternary": [
           {
            "marker": {
             "colorbar": {
              "outlinewidth": 0,
              "ticks": ""
             }
            },
            "type": "scatterternary"
           }
          ],
          "surface": [
           {
            "colorbar": {
             "outlinewidth": 0,
             "ticks": ""
            },
            "colorscale": [
             [
              0,
              "#0d0887"
             ],
             [
              0.1111111111111111,
              "#46039f"
             ],
             [
              0.2222222222222222,
              "#7201a8"
             ],
             [
              0.3333333333333333,
              "#9c179e"
             ],
             [
              0.4444444444444444,
              "#bd3786"
             ],
             [
              0.5555555555555556,
              "#d8576b"
             ],
             [
              0.6666666666666666,
              "#ed7953"
             ],
             [
              0.7777777777777778,
              "#fb9f3a"
             ],
             [
              0.8888888888888888,
              "#fdca26"
             ],
             [
              1,
              "#f0f921"
             ]
            ],
            "type": "surface"
           }
          ],
          "table": [
           {
            "cells": {
             "fill": {
              "color": "#EBF0F8"
             },
             "line": {
              "color": "white"
             }
            },
            "header": {
             "fill": {
              "color": "#C8D4E3"
             },
             "line": {
              "color": "white"
             }
            },
            "type": "table"
           }
          ]
         },
         "layout": {
          "annotationdefaults": {
           "arrowcolor": "#2a3f5f",
           "arrowhead": 0,
           "arrowwidth": 1
          },
          "autotypenumbers": "strict",
          "coloraxis": {
           "colorbar": {
            "outlinewidth": 0,
            "ticks": ""
           }
          },
          "colorscale": {
           "diverging": [
            [
             0,
             "#8e0152"
            ],
            [
             0.1,
             "#c51b7d"
            ],
            [
             0.2,
             "#de77ae"
            ],
            [
             0.3,
             "#f1b6da"
            ],
            [
             0.4,
             "#fde0ef"
            ],
            [
             0.5,
             "#f7f7f7"
            ],
            [
             0.6,
             "#e6f5d0"
            ],
            [
             0.7,
             "#b8e186"
            ],
            [
             0.8,
             "#7fbc41"
            ],
            [
             0.9,
             "#4d9221"
            ],
            [
             1,
             "#276419"
            ]
           ],
           "sequential": [
            [
             0,
             "#0d0887"
            ],
            [
             0.1111111111111111,
             "#46039f"
            ],
            [
             0.2222222222222222,
             "#7201a8"
            ],
            [
             0.3333333333333333,
             "#9c179e"
            ],
            [
             0.4444444444444444,
             "#bd3786"
            ],
            [
             0.5555555555555556,
             "#d8576b"
            ],
            [
             0.6666666666666666,
             "#ed7953"
            ],
            [
             0.7777777777777778,
             "#fb9f3a"
            ],
            [
             0.8888888888888888,
             "#fdca26"
            ],
            [
             1,
             "#f0f921"
            ]
           ],
           "sequentialminus": [
            [
             0,
             "#0d0887"
            ],
            [
             0.1111111111111111,
             "#46039f"
            ],
            [
             0.2222222222222222,
             "#7201a8"
            ],
            [
             0.3333333333333333,
             "#9c179e"
            ],
            [
             0.4444444444444444,
             "#bd3786"
            ],
            [
             0.5555555555555556,
             "#d8576b"
            ],
            [
             0.6666666666666666,
             "#ed7953"
            ],
            [
             0.7777777777777778,
             "#fb9f3a"
            ],
            [
             0.8888888888888888,
             "#fdca26"
            ],
            [
             1,
             "#f0f921"
            ]
           ]
          },
          "colorway": [
           "#636efa",
           "#EF553B",
           "#00cc96",
           "#ab63fa",
           "#FFA15A",
           "#19d3f3",
           "#FF6692",
           "#B6E880",
           "#FF97FF",
           "#FECB52"
          ],
          "font": {
           "color": "#2a3f5f"
          },
          "geo": {
           "bgcolor": "white",
           "lakecolor": "white",
           "landcolor": "#E5ECF6",
           "showlakes": true,
           "showland": true,
           "subunitcolor": "white"
          },
          "hoverlabel": {
           "align": "left"
          },
          "hovermode": "closest",
          "mapbox": {
           "style": "light"
          },
          "paper_bgcolor": "white",
          "plot_bgcolor": "#E5ECF6",
          "polar": {
           "angularaxis": {
            "gridcolor": "white",
            "linecolor": "white",
            "ticks": ""
           },
           "bgcolor": "#E5ECF6",
           "radialaxis": {
            "gridcolor": "white",
            "linecolor": "white",
            "ticks": ""
           }
          },
          "scene": {
           "xaxis": {
            "backgroundcolor": "#E5ECF6",
            "gridcolor": "white",
            "gridwidth": 2,
            "linecolor": "white",
            "showbackground": true,
            "ticks": "",
            "zerolinecolor": "white"
           },
           "yaxis": {
            "backgroundcolor": "#E5ECF6",
            "gridcolor": "white",
            "gridwidth": 2,
            "linecolor": "white",
            "showbackground": true,
            "ticks": "",
            "zerolinecolor": "white"
           },
           "zaxis": {
            "backgroundcolor": "#E5ECF6",
            "gridcolor": "white",
            "gridwidth": 2,
            "linecolor": "white",
            "showbackground": true,
            "ticks": "",
            "zerolinecolor": "white"
           }
          },
          "shapedefaults": {
           "line": {
            "color": "#2a3f5f"
           }
          },
          "ternary": {
           "aaxis": {
            "gridcolor": "white",
            "linecolor": "white",
            "ticks": ""
           },
           "baxis": {
            "gridcolor": "white",
            "linecolor": "white",
            "ticks": ""
           },
           "bgcolor": "#E5ECF6",
           "caxis": {
            "gridcolor": "white",
            "linecolor": "white",
            "ticks": ""
           }
          },
          "title": {
           "x": 0.05
          },
          "xaxis": {
           "automargin": true,
           "gridcolor": "white",
           "linecolor": "white",
           "ticks": "",
           "title": {
            "standoff": 15
           },
           "zerolinecolor": "white",
           "zerolinewidth": 2
          },
          "yaxis": {
           "automargin": true,
           "gridcolor": "white",
           "linecolor": "white",
           "ticks": "",
           "title": {
            "standoff": 15
           },
           "zerolinecolor": "white",
           "zerolinewidth": 2
          }
         }
        },
        "title": {
         "font": {
          "color": "#4D5663"
         }
        },
        "xaxis": {
         "gridcolor": "#E1E5ED",
         "showgrid": true,
         "tickfont": {
          "color": "#4D5663"
         },
         "title": {
          "font": {
           "color": "#4D5663"
          },
          "text": ""
         },
         "zerolinecolor": "#E1E5ED"
        },
        "yaxis": {
         "gridcolor": "#E1E5ED",
         "showgrid": true,
         "tickfont": {
          "color": "#4D5663"
         },
         "title": {
          "font": {
           "color": "#4D5663"
          },
          "text": ""
         },
         "zerolinecolor": "#E1E5ED"
        }
       }
      },
      "text/html": [
       "<div>                            <div id=\"6c343c23-2f79-4b6b-a988-a997168258b8\" class=\"plotly-graph-div\" style=\"height:525px; width:100%;\"></div>            <script type=\"text/javascript\">                require([\"plotly\"], function(Plotly) {                    window.PLOTLYENV=window.PLOTLYENV || {};\n",
       "                    window.PLOTLYENV.BASE_URL='https://plot.ly';                                    if (document.getElementById(\"6c343c23-2f79-4b6b-a988-a997168258b8\")) {                    Plotly.newPlot(                        \"6c343c23-2f79-4b6b-a988-a997168258b8\",                        [{\"line\":{\"color\":\"rgba(255, 153, 51, 1.0)\",\"dash\":\"solid\",\"shape\":\"linear\",\"width\":1.3},\"mode\":\"lines\",\"name\":\"A\",\"text\":\"\",\"x\":[0,1,2,3,4,5,6,7,8,9,10,11,12,13,14,15,16,17,18,19,20,21,22,23,24,25,26,27,28,29,30,31,32,33,34,35,36,37,38,39,40,41,42,43,44,45,46,47,48,49,50,51,52,53,54,55,56,57,58,59,60,61,62,63,64,65,66,67,68,69,70,71,72,73,74,75,76,77,78,79,80,81,82,83,84,85,86,87,88,89,90,91,92,93,94,95,96,97,98,99],\"y\":[0.886481626762867,-0.3499620218114763,-1.585776582814845,0.6484898454257476,-1.9979968441142282,0.1201311235502911,-0.4148740926620486,0.48602098140719663,-0.4421915736894337,1.2418778460177193,0.10118778876868344,-0.3818017352390294,-1.0889405954178286,-1.0775398374986283,0.7176163433204604,0.33913004139571756,-0.4032606079303681,-0.3637756464595728,-1.4718184440680067,0.713886037258169,0.19269588171664376,0.23304829932510332,0.5709190035735119,-1.8433915506663612,0.8324219856241711,-1.0757550291979756,0.5077556723582699,-0.44413901106422243,-1.0086197778973143,-1.4028236947855495,0.7121967790439677,0.3204505587958397,0.4445431803849003,-0.7710464998332621,-0.32331670313769884,-0.37674258119090615,-0.4248675218977924,0.40764947955994546,-1.3078826247959392,1.0601288365287158,-0.07365209559188851,-0.15604718500861364,0.6942083782207596,1.6486670014904792,-0.7077253997726066,1.2800832468714303,-0.9465578355996911,-0.20620629379940864,-0.7963607240498749,-0.36078265872225806,1.2110561274705427,-0.1104525081824256,-0.6700042401655598,0.5569922218535346,0.3089864141526496,-0.2255228252683958,-0.2420062158747075,1.422815466914821,0.1503362119866953,-0.08743388513554257,-2.0349797681611563,0.8458105742183093,1.5407511255122293,0.029309506747405435,0.8584238640416992,0.9580984168929361,-0.9005130295018315,-0.013473286256282085,-0.8038220434152606,0.5661970188353798,-0.41924053958573,-0.29814007571196643,-0.03279477170129877,0.29650560309755564,-0.5463247852636246,-0.7671606914275885,1.0529157002903464,0.7838311671342689,1.9802407213895976,0.47847443413408924,1.0458971972595335,-1.2475785868909688,-0.8810956529233439,-1.6642079892521435,0.7756690712728784,-0.14000153305790228,-0.298192880456967,0.6070013657895164,0.9080645827077884,0.7257777964960853,-2.3168928477995996,-0.23743985166319456,-0.6036935396622959,-1.022352491479891,1.11444393383111,1.145304707468234,-3.250282066368351,1.5221237939575507,0.14200502104205395,0.38571662007639357],\"type\":\"scatter\"},{\"line\":{\"color\":\"rgba(55, 128, 191, 1.0)\",\"dash\":\"solid\",\"shape\":\"linear\",\"width\":1.3},\"mode\":\"lines\",\"name\":\"B\",\"text\":\"\",\"x\":[0,1,2,3,4,5,6,7,8,9,10,11,12,13,14,15,16,17,18,19,20,21,22,23,24,25,26,27,28,29,30,31,32,33,34,35,36,37,38,39,40,41,42,43,44,45,46,47,48,49,50,51,52,53,54,55,56,57,58,59,60,61,62,63,64,65,66,67,68,69,70,71,72,73,74,75,76,77,78,79,80,81,82,83,84,85,86,87,88,89,90,91,92,93,94,95,96,97,98,99],\"y\":[-0.46449043768408943,0.3523981764252299,-2.3568287709836473,2.390595577632367,-0.9711494279100952,-0.598162370267831,-0.3968615131465438,-1.4678698356334754,-0.28684894742407796,0.9208405274368389,0.9624893523587785,-0.4726705970974675,-0.6879754336784105,-1.3738071612856435,0.15306973430517098,1.39271128590778,1.4306641888922735,-1.7229685803087822,0.876023771464418,-0.6803902408216923,-0.5941052879566986,0.12043446146704843,-0.28515613992993033,-0.32609061091749375,0.47425472148627396,-1.2522126657446717,-0.3243536009422392,0.5049793346016036,-0.04176998943973294,0.40192394612822196,-0.28054043055164984,0.14883547195933453,-0.12105123038966474,1.0343349745490065,0.5991071166463736,0.567778493863068,0.3037646239706531,-1.3719041517480557,-0.4436317499417215,0.38529293294782807,0.18887020024921888,-0.44131088434181726,-1.345417457240369,0.1950054187256295,0.008516791334651708,-0.030138945389232976,-0.052181696931563104,-0.28531533414502924,-0.3837973447267495,-0.07335949970633836,-0.5016619524152183,-0.07377196799595183,1.314600491631252,-0.5755533402380913,1.04234687914125,-1.9884263599852992,-0.4546812851638831,-0.9135355999965279,0.1202491772493144,0.2982883545760662,1.1759196674481656,0.1765180905394663,-0.1393540853360605,-1.6912307557741173,0.6517544039399077,-0.11723751480317693,0.225761143742028,2.575309512971,-0.38535401952248977,0.12673017985596988,-0.07216106803459287,1.5616852752254324,-1.0467543733046534,0.8101267949195068,-0.42749849903243314,-0.11251204442772755,-1.1106289672153369,0.3332379125685002,1.0663205215842115,-1.9046403985666256,1.8284597174145687,-0.6975813374405788,0.46500534847745456,0.2676519512599508,-0.9130053337789412,-0.1662797376110315,0.8053195931493092,-1.3026754192540417,0.15700431317050292,-1.207547463863445,0.3039178415683296,1.994212832448182,-0.14322280376679514,-1.0562473515513469,-1.2639667192364323,-0.8634228472340293,1.4018232890368303,-1.6562191518856821,-0.21648483960705828,-0.05978220684500359],\"type\":\"scatter\"},{\"line\":{\"color\":\"rgba(50, 171, 96, 1.0)\",\"dash\":\"solid\",\"shape\":\"linear\",\"width\":1.3},\"mode\":\"lines\",\"name\":\"C\",\"text\":\"\",\"x\":[0,1,2,3,4,5,6,7,8,9,10,11,12,13,14,15,16,17,18,19,20,21,22,23,24,25,26,27,28,29,30,31,32,33,34,35,36,37,38,39,40,41,42,43,44,45,46,47,48,49,50,51,52,53,54,55,56,57,58,59,60,61,62,63,64,65,66,67,68,69,70,71,72,73,74,75,76,77,78,79,80,81,82,83,84,85,86,87,88,89,90,91,92,93,94,95,96,97,98,99],\"y\":[0.5201109778797136,0.07261771142678988,0.4845486456551353,0.04175729206404078,0.07214813886953271,2.5606694217959833,0.07923671155527522,-0.2554548938241622,-0.48350893289418834,-0.3601080724389737,0.1791297395186548,-0.3718455967328699,-0.10285950790430816,0.1352652300933272,-0.403587208589028,-0.9703320757531556,-1.0309098376147865,-0.7839258323598245,0.42945907942978373,-0.16623496285325534,-1.4169503388885316,0.2539949991347254,-0.020580254158317893,-1.0488541639354112,-2.900279322232684,0.014575478409169191,-0.326673408691736,-0.18735692164121553,0.5945073068751859,-1.1483605677505577,-0.06420435125397268,0.18831486406559445,-2.0494593872241715,-0.293484960876104,-0.9929240294800716,-0.4339844599054614,-0.8077561213226911,0.16124317270479846,-0.9424420244798318,-3.0363692113542298,-1.0081465330942094,-0.2576960247641065,-0.629302913191415,-0.7512827541389725,1.3097259912622083,0.3891212137644769,0.25792350431937977,-1.4255660416617586,0.6313337215541744,-0.8086724659291554,-0.31398184848967853,0.8968079243347657,-0.41047214370925006,0.3085293139653205,2.440954175592653,1.172510577125236,-0.21452964732278043,1.2500901451930229,0.43545890987911706,-0.15450392741326677,0.34389616421093383,0.7022310466650089,0.26950241011431497,-0.4087380376584617,-0.05854610989108658,-1.2253792268194523,0.36920968290947853,0.9510900473471998,-0.58479957902115,0.2012651723901271,-2.2157890554992186,0.2572549110191389,0.6026994347030282,-0.5190278348745757,-0.659545259399039,0.1013534807846591,-1.3857377750410784,0.6780432092694408,-2.7686858883402987,-1.151356806602218,-0.38093518884231675,1.7752163898008257,1.638870823306406,0.42769795627912727,-1.724320012317729,-0.313077254850423,-1.6924590866164944,0.24414122730241494,0.004458488897950751,1.232211012758207,-0.5640207859786823,1.4659627874886405,-1.4612430503540268,0.5515163223382007,-1.1760157382514314,-0.5280048160291578,0.6642118534920832,-0.41497442121476247,0.4840723227255899,1.4572878058103327],\"type\":\"scatter\"},{\"line\":{\"color\":\"rgba(128, 0, 128, 1.0)\",\"dash\":\"solid\",\"shape\":\"linear\",\"width\":1.3},\"mode\":\"lines\",\"name\":\"D\",\"text\":\"\",\"x\":[0,1,2,3,4,5,6,7,8,9,10,11,12,13,14,15,16,17,18,19,20,21,22,23,24,25,26,27,28,29,30,31,32,33,34,35,36,37,38,39,40,41,42,43,44,45,46,47,48,49,50,51,52,53,54,55,56,57,58,59,60,61,62,63,64,65,66,67,68,69,70,71,72,73,74,75,76,77,78,79,80,81,82,83,84,85,86,87,88,89,90,91,92,93,94,95,96,97,98,99],\"y\":[-0.8988369730855046,-0.5973989117894579,-2.4769542611372675,0.18580822703921393,-1.4477266106016817,0.7475126441147879,-0.40662767732843136,0.21562464027425288,-0.8437175533042076,-0.9206671582879606,-0.5128985721362068,0.4125456490439085,-0.8139361694983875,-0.24474602739648574,1.399660958090668,-0.5690667592803338,0.10284268754132027,-1.0493291743851698,0.8627545558195271,-0.9045099347478545,-1.026386794162491,0.060680317538162075,-0.3415314804401644,-2.3994321359360637,-1.8292002486713017,-0.2954406411178994,0.4308804806320366,-0.10689556363777028,1.4089556192348474,0.5716511233697971,0.18342394810870205,0.36969571924469097,-0.6231566510192728,-1.3706148974987369,-0.28615276432148967,0.22151874757782652,0.8618996252866993,-2.104564936295545,0.050772616377669236,-1.5751320938408422,0.529309231319148,1.2505362277466154,0.5802563261424589,1.7510243835154893,-0.1627631243159947,-0.07003449753416875,-0.7440752774362521,0.31874611082693405,0.1704263449760727,-0.11002542802261428,-0.24391672792443203,0.12914644876715653,-0.11217720875904467,-1.1825183945583666,-0.6923098843607846,-0.7681572995718657,1.1967731690030423,-1.0847602441923174,-0.2468238604708724,-1.275210084786202,-0.2937753192692088,-0.009646863994237882,-0.09900121737954734,-2.273401838062692,0.6410847024367559,-1.0315530517482356,-0.23298010070511913,0.21011149847632665,-1.6448213858583116,0.9457050033179516,-0.558715442009201,-0.4626338089775159,-0.4970146323240726,0.5580016935266144,1.4573952335048144,0.013241314320308596,-0.5396902491902932,2.0752884236753153,0.32674800644109625,-0.9622506422535216,0.018215536423492086,0.8843134448695068,-0.018465958943413796,-1.1360868737298324,-1.7102980416719817,-1.6399112314218767,-1.9949333484692264,0.4223668366027454,-1.205824691590463,-1.0046967973566239,1.0545659444662052,-0.16281636113476167,-2.195290457025516,-0.40360203397521616,-0.5068641103072004,-1.010766369579888,1.035543712197159,0.11165562042085199,-0.6837883644397107,0.06629731977819796],\"type\":\"scatter\"}],                        {\"legend\":{\"bgcolor\":\"#F5F6F9\",\"font\":{\"color\":\"#4D5663\"}},\"paper_bgcolor\":\"#F5F6F9\",\"plot_bgcolor\":\"#F5F6F9\",\"template\":{\"data\":{\"barpolar\":[{\"marker\":{\"line\":{\"color\":\"#E5ECF6\",\"width\":0.5},\"pattern\":{\"fillmode\":\"overlay\",\"size\":10,\"solidity\":0.2}},\"type\":\"barpolar\"}],\"bar\":[{\"error_x\":{\"color\":\"#2a3f5f\"},\"error_y\":{\"color\":\"#2a3f5f\"},\"marker\":{\"line\":{\"color\":\"#E5ECF6\",\"width\":0.5},\"pattern\":{\"fillmode\":\"overlay\",\"size\":10,\"solidity\":0.2}},\"type\":\"bar\"}],\"carpet\":[{\"aaxis\":{\"endlinecolor\":\"#2a3f5f\",\"gridcolor\":\"white\",\"linecolor\":\"white\",\"minorgridcolor\":\"white\",\"startlinecolor\":\"#2a3f5f\"},\"baxis\":{\"endlinecolor\":\"#2a3f5f\",\"gridcolor\":\"white\",\"linecolor\":\"white\",\"minorgridcolor\":\"white\",\"startlinecolor\":\"#2a3f5f\"},\"type\":\"carpet\"}],\"choropleth\":[{\"colorbar\":{\"outlinewidth\":0,\"ticks\":\"\"},\"type\":\"choropleth\"}],\"contourcarpet\":[{\"colorbar\":{\"outlinewidth\":0,\"ticks\":\"\"},\"type\":\"contourcarpet\"}],\"contour\":[{\"colorbar\":{\"outlinewidth\":0,\"ticks\":\"\"},\"colorscale\":[[0.0,\"#0d0887\"],[0.1111111111111111,\"#46039f\"],[0.2222222222222222,\"#7201a8\"],[0.3333333333333333,\"#9c179e\"],[0.4444444444444444,\"#bd3786\"],[0.5555555555555556,\"#d8576b\"],[0.6666666666666666,\"#ed7953\"],[0.7777777777777778,\"#fb9f3a\"],[0.8888888888888888,\"#fdca26\"],[1.0,\"#f0f921\"]],\"type\":\"contour\"}],\"heatmapgl\":[{\"colorbar\":{\"outlinewidth\":0,\"ticks\":\"\"},\"colorscale\":[[0.0,\"#0d0887\"],[0.1111111111111111,\"#46039f\"],[0.2222222222222222,\"#7201a8\"],[0.3333333333333333,\"#9c179e\"],[0.4444444444444444,\"#bd3786\"],[0.5555555555555556,\"#d8576b\"],[0.6666666666666666,\"#ed7953\"],[0.7777777777777778,\"#fb9f3a\"],[0.8888888888888888,\"#fdca26\"],[1.0,\"#f0f921\"]],\"type\":\"heatmapgl\"}],\"heatmap\":[{\"colorbar\":{\"outlinewidth\":0,\"ticks\":\"\"},\"colorscale\":[[0.0,\"#0d0887\"],[0.1111111111111111,\"#46039f\"],[0.2222222222222222,\"#7201a8\"],[0.3333333333333333,\"#9c179e\"],[0.4444444444444444,\"#bd3786\"],[0.5555555555555556,\"#d8576b\"],[0.6666666666666666,\"#ed7953\"],[0.7777777777777778,\"#fb9f3a\"],[0.8888888888888888,\"#fdca26\"],[1.0,\"#f0f921\"]],\"type\":\"heatmap\"}],\"histogram2dcontour\":[{\"colorbar\":{\"outlinewidth\":0,\"ticks\":\"\"},\"colorscale\":[[0.0,\"#0d0887\"],[0.1111111111111111,\"#46039f\"],[0.2222222222222222,\"#7201a8\"],[0.3333333333333333,\"#9c179e\"],[0.4444444444444444,\"#bd3786\"],[0.5555555555555556,\"#d8576b\"],[0.6666666666666666,\"#ed7953\"],[0.7777777777777778,\"#fb9f3a\"],[0.8888888888888888,\"#fdca26\"],[1.0,\"#f0f921\"]],\"type\":\"histogram2dcontour\"}],\"histogram2d\":[{\"colorbar\":{\"outlinewidth\":0,\"ticks\":\"\"},\"colorscale\":[[0.0,\"#0d0887\"],[0.1111111111111111,\"#46039f\"],[0.2222222222222222,\"#7201a8\"],[0.3333333333333333,\"#9c179e\"],[0.4444444444444444,\"#bd3786\"],[0.5555555555555556,\"#d8576b\"],[0.6666666666666666,\"#ed7953\"],[0.7777777777777778,\"#fb9f3a\"],[0.8888888888888888,\"#fdca26\"],[1.0,\"#f0f921\"]],\"type\":\"histogram2d\"}],\"histogram\":[{\"marker\":{\"pattern\":{\"fillmode\":\"overlay\",\"size\":10,\"solidity\":0.2}},\"type\":\"histogram\"}],\"mesh3d\":[{\"colorbar\":{\"outlinewidth\":0,\"ticks\":\"\"},\"type\":\"mesh3d\"}],\"parcoords\":[{\"line\":{\"colorbar\":{\"outlinewidth\":0,\"ticks\":\"\"}},\"type\":\"parcoords\"}],\"pie\":[{\"automargin\":true,\"type\":\"pie\"}],\"scatter3d\":[{\"line\":{\"colorbar\":{\"outlinewidth\":0,\"ticks\":\"\"}},\"marker\":{\"colorbar\":{\"outlinewidth\":0,\"ticks\":\"\"}},\"type\":\"scatter3d\"}],\"scattercarpet\":[{\"marker\":{\"colorbar\":{\"outlinewidth\":0,\"ticks\":\"\"}},\"type\":\"scattercarpet\"}],\"scattergeo\":[{\"marker\":{\"colorbar\":{\"outlinewidth\":0,\"ticks\":\"\"}},\"type\":\"scattergeo\"}],\"scattergl\":[{\"marker\":{\"colorbar\":{\"outlinewidth\":0,\"ticks\":\"\"}},\"type\":\"scattergl\"}],\"scattermapbox\":[{\"marker\":{\"colorbar\":{\"outlinewidth\":0,\"ticks\":\"\"}},\"type\":\"scattermapbox\"}],\"scatterpolargl\":[{\"marker\":{\"colorbar\":{\"outlinewidth\":0,\"ticks\":\"\"}},\"type\":\"scatterpolargl\"}],\"scatterpolar\":[{\"marker\":{\"colorbar\":{\"outlinewidth\":0,\"ticks\":\"\"}},\"type\":\"scatterpolar\"}],\"scatter\":[{\"marker\":{\"colorbar\":{\"outlinewidth\":0,\"ticks\":\"\"}},\"type\":\"scatter\"}],\"scatterternary\":[{\"marker\":{\"colorbar\":{\"outlinewidth\":0,\"ticks\":\"\"}},\"type\":\"scatterternary\"}],\"surface\":[{\"colorbar\":{\"outlinewidth\":0,\"ticks\":\"\"},\"colorscale\":[[0.0,\"#0d0887\"],[0.1111111111111111,\"#46039f\"],[0.2222222222222222,\"#7201a8\"],[0.3333333333333333,\"#9c179e\"],[0.4444444444444444,\"#bd3786\"],[0.5555555555555556,\"#d8576b\"],[0.6666666666666666,\"#ed7953\"],[0.7777777777777778,\"#fb9f3a\"],[0.8888888888888888,\"#fdca26\"],[1.0,\"#f0f921\"]],\"type\":\"surface\"}],\"table\":[{\"cells\":{\"fill\":{\"color\":\"#EBF0F8\"},\"line\":{\"color\":\"white\"}},\"header\":{\"fill\":{\"color\":\"#C8D4E3\"},\"line\":{\"color\":\"white\"}},\"type\":\"table\"}]},\"layout\":{\"annotationdefaults\":{\"arrowcolor\":\"#2a3f5f\",\"arrowhead\":0,\"arrowwidth\":1},\"autotypenumbers\":\"strict\",\"coloraxis\":{\"colorbar\":{\"outlinewidth\":0,\"ticks\":\"\"}},\"colorscale\":{\"diverging\":[[0,\"#8e0152\"],[0.1,\"#c51b7d\"],[0.2,\"#de77ae\"],[0.3,\"#f1b6da\"],[0.4,\"#fde0ef\"],[0.5,\"#f7f7f7\"],[0.6,\"#e6f5d0\"],[0.7,\"#b8e186\"],[0.8,\"#7fbc41\"],[0.9,\"#4d9221\"],[1,\"#276419\"]],\"sequential\":[[0.0,\"#0d0887\"],[0.1111111111111111,\"#46039f\"],[0.2222222222222222,\"#7201a8\"],[0.3333333333333333,\"#9c179e\"],[0.4444444444444444,\"#bd3786\"],[0.5555555555555556,\"#d8576b\"],[0.6666666666666666,\"#ed7953\"],[0.7777777777777778,\"#fb9f3a\"],[0.8888888888888888,\"#fdca26\"],[1.0,\"#f0f921\"]],\"sequentialminus\":[[0.0,\"#0d0887\"],[0.1111111111111111,\"#46039f\"],[0.2222222222222222,\"#7201a8\"],[0.3333333333333333,\"#9c179e\"],[0.4444444444444444,\"#bd3786\"],[0.5555555555555556,\"#d8576b\"],[0.6666666666666666,\"#ed7953\"],[0.7777777777777778,\"#fb9f3a\"],[0.8888888888888888,\"#fdca26\"],[1.0,\"#f0f921\"]]},\"colorway\":[\"#636efa\",\"#EF553B\",\"#00cc96\",\"#ab63fa\",\"#FFA15A\",\"#19d3f3\",\"#FF6692\",\"#B6E880\",\"#FF97FF\",\"#FECB52\"],\"font\":{\"color\":\"#2a3f5f\"},\"geo\":{\"bgcolor\":\"white\",\"lakecolor\":\"white\",\"landcolor\":\"#E5ECF6\",\"showlakes\":true,\"showland\":true,\"subunitcolor\":\"white\"},\"hoverlabel\":{\"align\":\"left\"},\"hovermode\":\"closest\",\"mapbox\":{\"style\":\"light\"},\"paper_bgcolor\":\"white\",\"plot_bgcolor\":\"#E5ECF6\",\"polar\":{\"angularaxis\":{\"gridcolor\":\"white\",\"linecolor\":\"white\",\"ticks\":\"\"},\"bgcolor\":\"#E5ECF6\",\"radialaxis\":{\"gridcolor\":\"white\",\"linecolor\":\"white\",\"ticks\":\"\"}},\"scene\":{\"xaxis\":{\"backgroundcolor\":\"#E5ECF6\",\"gridcolor\":\"white\",\"gridwidth\":2,\"linecolor\":\"white\",\"showbackground\":true,\"ticks\":\"\",\"zerolinecolor\":\"white\"},\"yaxis\":{\"backgroundcolor\":\"#E5ECF6\",\"gridcolor\":\"white\",\"gridwidth\":2,\"linecolor\":\"white\",\"showbackground\":true,\"ticks\":\"\",\"zerolinecolor\":\"white\"},\"zaxis\":{\"backgroundcolor\":\"#E5ECF6\",\"gridcolor\":\"white\",\"gridwidth\":2,\"linecolor\":\"white\",\"showbackground\":true,\"ticks\":\"\",\"zerolinecolor\":\"white\"}},\"shapedefaults\":{\"line\":{\"color\":\"#2a3f5f\"}},\"ternary\":{\"aaxis\":{\"gridcolor\":\"white\",\"linecolor\":\"white\",\"ticks\":\"\"},\"baxis\":{\"gridcolor\":\"white\",\"linecolor\":\"white\",\"ticks\":\"\"},\"bgcolor\":\"#E5ECF6\",\"caxis\":{\"gridcolor\":\"white\",\"linecolor\":\"white\",\"ticks\":\"\"}},\"title\":{\"x\":0.05},\"xaxis\":{\"automargin\":true,\"gridcolor\":\"white\",\"linecolor\":\"white\",\"ticks\":\"\",\"title\":{\"standoff\":15},\"zerolinecolor\":\"white\",\"zerolinewidth\":2},\"yaxis\":{\"automargin\":true,\"gridcolor\":\"white\",\"linecolor\":\"white\",\"ticks\":\"\",\"title\":{\"standoff\":15},\"zerolinecolor\":\"white\",\"zerolinewidth\":2}}},\"title\":{\"font\":{\"color\":\"#4D5663\"}},\"xaxis\":{\"gridcolor\":\"#E1E5ED\",\"showgrid\":true,\"tickfont\":{\"color\":\"#4D5663\"},\"title\":{\"font\":{\"color\":\"#4D5663\"},\"text\":\"\"},\"zerolinecolor\":\"#E1E5ED\"},\"yaxis\":{\"gridcolor\":\"#E1E5ED\",\"showgrid\":true,\"tickfont\":{\"color\":\"#4D5663\"},\"title\":{\"font\":{\"color\":\"#4D5663\"},\"text\":\"\"},\"zerolinecolor\":\"#E1E5ED\"}},                        {\"showLink\": true, \"linkText\": \"Export to plot.ly\", \"plotlyServerURL\": \"https://plot.ly\", \"responsive\": true}                    ).then(function(){\n",
       "                            \n",
       "var gd = document.getElementById('6c343c23-2f79-4b6b-a988-a997168258b8');\n",
       "var x = new MutationObserver(function (mutations, observer) {{\n",
       "        var display = window.getComputedStyle(gd).display;\n",
       "        if (!display || display === 'none') {{\n",
       "            console.log([gd, 'removed!']);\n",
       "            Plotly.purge(gd);\n",
       "            observer.disconnect();\n",
       "        }}\n",
       "}});\n",
       "\n",
       "// Listen for the removal of the full notebook cells\n",
       "var notebookContainer = gd.closest('#notebook-container');\n",
       "if (notebookContainer) {{\n",
       "    x.observe(notebookContainer, {childList: true});\n",
       "}}\n",
       "\n",
       "// Listen for the clearing of the current output cell\n",
       "var outputEl = gd.closest('.output');\n",
       "if (outputEl) {{\n",
       "    x.observe(outputEl, {childList: true});\n",
       "}}\n",
       "\n",
       "                        })                };                });            </script>        </div>"
      ]
     },
     "metadata": {},
     "output_type": "display_data"
    }
   ],
   "source": [
    "#this plot will be an interactive plot using iplot(), you can move your cursor over the plot to get the interactive data, also click on the lines in legend to switch the plot for that column on/off.\n",
    "df.iplot()"
   ]
  },
  {
   "cell_type": "code",
   "execution_count": 7,
   "metadata": {},
   "outputs": [
    {
     "data": {
      "application/vnd.plotly.v1+json": {
       "config": {
        "linkText": "Export to plot.ly",
        "plotlyServerURL": "https://plot.ly",
        "showLink": true
       },
       "data": [
        {
         "line": {
          "color": "rgba(255, 153, 51, 1.0)",
          "dash": "solid",
          "shape": "linear",
          "width": 1.3
         },
         "mode": "lines",
         "name": "B",
         "text": "",
         "type": "scatter",
         "x": [
          0.886481626762867,
          -0.3499620218114763,
          -1.585776582814845,
          0.6484898454257476,
          -1.9979968441142282,
          0.1201311235502911,
          -0.4148740926620486,
          0.48602098140719663,
          -0.4421915736894337,
          1.2418778460177193,
          0.10118778876868344,
          -0.3818017352390294,
          -1.0889405954178286,
          -1.0775398374986283,
          0.7176163433204604,
          0.33913004139571756,
          -0.4032606079303681,
          -0.3637756464595728,
          -1.4718184440680067,
          0.713886037258169,
          0.19269588171664376,
          0.23304829932510332,
          0.5709190035735119,
          -1.8433915506663612,
          0.8324219856241711,
          -1.0757550291979756,
          0.5077556723582699,
          -0.44413901106422243,
          -1.0086197778973143,
          -1.4028236947855495,
          0.7121967790439677,
          0.3204505587958397,
          0.4445431803849003,
          -0.7710464998332621,
          -0.32331670313769884,
          -0.37674258119090615,
          -0.4248675218977924,
          0.40764947955994546,
          -1.3078826247959392,
          1.0601288365287158,
          -0.07365209559188851,
          -0.15604718500861364,
          0.6942083782207596,
          1.6486670014904792,
          -0.7077253997726066,
          1.2800832468714303,
          -0.9465578355996911,
          -0.20620629379940864,
          -0.7963607240498749,
          -0.36078265872225806,
          1.2110561274705427,
          -0.1104525081824256,
          -0.6700042401655598,
          0.5569922218535346,
          0.3089864141526496,
          -0.2255228252683958,
          -0.2420062158747075,
          1.422815466914821,
          0.1503362119866953,
          -0.08743388513554257,
          -2.0349797681611563,
          0.8458105742183093,
          1.5407511255122293,
          0.029309506747405435,
          0.8584238640416992,
          0.9580984168929361,
          -0.9005130295018315,
          -0.013473286256282085,
          -0.8038220434152606,
          0.5661970188353798,
          -0.41924053958573,
          -0.29814007571196643,
          -0.03279477170129877,
          0.29650560309755564,
          -0.5463247852636246,
          -0.7671606914275885,
          1.0529157002903464,
          0.7838311671342689,
          1.9802407213895976,
          0.47847443413408924,
          1.0458971972595335,
          -1.2475785868909688,
          -0.8810956529233439,
          -1.6642079892521435,
          0.7756690712728784,
          -0.14000153305790228,
          -0.298192880456967,
          0.6070013657895164,
          0.9080645827077884,
          0.7257777964960853,
          -2.3168928477995996,
          -0.23743985166319456,
          -0.6036935396622959,
          -1.022352491479891,
          1.11444393383111,
          1.145304707468234,
          -3.250282066368351,
          1.5221237939575507,
          0.14200502104205395,
          0.38571662007639357
         ],
         "y": [
          -0.46449043768408943,
          0.3523981764252299,
          -2.3568287709836473,
          2.390595577632367,
          -0.9711494279100952,
          -0.598162370267831,
          -0.3968615131465438,
          -1.4678698356334754,
          -0.28684894742407796,
          0.9208405274368389,
          0.9624893523587785,
          -0.4726705970974675,
          -0.6879754336784105,
          -1.3738071612856435,
          0.15306973430517098,
          1.39271128590778,
          1.4306641888922735,
          -1.7229685803087822,
          0.876023771464418,
          -0.6803902408216923,
          -0.5941052879566986,
          0.12043446146704843,
          -0.28515613992993033,
          -0.32609061091749375,
          0.47425472148627396,
          -1.2522126657446717,
          -0.3243536009422392,
          0.5049793346016036,
          -0.04176998943973294,
          0.40192394612822196,
          -0.28054043055164984,
          0.14883547195933453,
          -0.12105123038966474,
          1.0343349745490065,
          0.5991071166463736,
          0.567778493863068,
          0.3037646239706531,
          -1.3719041517480557,
          -0.4436317499417215,
          0.38529293294782807,
          0.18887020024921888,
          -0.44131088434181726,
          -1.345417457240369,
          0.1950054187256295,
          0.008516791334651708,
          -0.030138945389232976,
          -0.052181696931563104,
          -0.28531533414502924,
          -0.3837973447267495,
          -0.07335949970633836,
          -0.5016619524152183,
          -0.07377196799595183,
          1.314600491631252,
          -0.5755533402380913,
          1.04234687914125,
          -1.9884263599852992,
          -0.4546812851638831,
          -0.9135355999965279,
          0.1202491772493144,
          0.2982883545760662,
          1.1759196674481656,
          0.1765180905394663,
          -0.1393540853360605,
          -1.6912307557741173,
          0.6517544039399077,
          -0.11723751480317693,
          0.225761143742028,
          2.575309512971,
          -0.38535401952248977,
          0.12673017985596988,
          -0.07216106803459287,
          1.5616852752254324,
          -1.0467543733046534,
          0.8101267949195068,
          -0.42749849903243314,
          -0.11251204442772755,
          -1.1106289672153369,
          0.3332379125685002,
          1.0663205215842115,
          -1.9046403985666256,
          1.8284597174145687,
          -0.6975813374405788,
          0.46500534847745456,
          0.2676519512599508,
          -0.9130053337789412,
          -0.1662797376110315,
          0.8053195931493092,
          -1.3026754192540417,
          0.15700431317050292,
          -1.207547463863445,
          0.3039178415683296,
          1.994212832448182,
          -0.14322280376679514,
          -1.0562473515513469,
          -1.2639667192364323,
          -0.8634228472340293,
          1.4018232890368303,
          -1.6562191518856821,
          -0.21648483960705828,
          -0.05978220684500359
         ]
        }
       ],
       "layout": {
        "legend": {
         "bgcolor": "#F5F6F9",
         "font": {
          "color": "#4D5663"
         }
        },
        "paper_bgcolor": "#F5F6F9",
        "plot_bgcolor": "#F5F6F9",
        "template": {
         "data": {
          "bar": [
           {
            "error_x": {
             "color": "#2a3f5f"
            },
            "error_y": {
             "color": "#2a3f5f"
            },
            "marker": {
             "line": {
              "color": "#E5ECF6",
              "width": 0.5
             },
             "pattern": {
              "fillmode": "overlay",
              "size": 10,
              "solidity": 0.2
             }
            },
            "type": "bar"
           }
          ],
          "barpolar": [
           {
            "marker": {
             "line": {
              "color": "#E5ECF6",
              "width": 0.5
             },
             "pattern": {
              "fillmode": "overlay",
              "size": 10,
              "solidity": 0.2
             }
            },
            "type": "barpolar"
           }
          ],
          "carpet": [
           {
            "aaxis": {
             "endlinecolor": "#2a3f5f",
             "gridcolor": "white",
             "linecolor": "white",
             "minorgridcolor": "white",
             "startlinecolor": "#2a3f5f"
            },
            "baxis": {
             "endlinecolor": "#2a3f5f",
             "gridcolor": "white",
             "linecolor": "white",
             "minorgridcolor": "white",
             "startlinecolor": "#2a3f5f"
            },
            "type": "carpet"
           }
          ],
          "choropleth": [
           {
            "colorbar": {
             "outlinewidth": 0,
             "ticks": ""
            },
            "type": "choropleth"
           }
          ],
          "contour": [
           {
            "colorbar": {
             "outlinewidth": 0,
             "ticks": ""
            },
            "colorscale": [
             [
              0,
              "#0d0887"
             ],
             [
              0.1111111111111111,
              "#46039f"
             ],
             [
              0.2222222222222222,
              "#7201a8"
             ],
             [
              0.3333333333333333,
              "#9c179e"
             ],
             [
              0.4444444444444444,
              "#bd3786"
             ],
             [
              0.5555555555555556,
              "#d8576b"
             ],
             [
              0.6666666666666666,
              "#ed7953"
             ],
             [
              0.7777777777777778,
              "#fb9f3a"
             ],
             [
              0.8888888888888888,
              "#fdca26"
             ],
             [
              1,
              "#f0f921"
             ]
            ],
            "type": "contour"
           }
          ],
          "contourcarpet": [
           {
            "colorbar": {
             "outlinewidth": 0,
             "ticks": ""
            },
            "type": "contourcarpet"
           }
          ],
          "heatmap": [
           {
            "colorbar": {
             "outlinewidth": 0,
             "ticks": ""
            },
            "colorscale": [
             [
              0,
              "#0d0887"
             ],
             [
              0.1111111111111111,
              "#46039f"
             ],
             [
              0.2222222222222222,
              "#7201a8"
             ],
             [
              0.3333333333333333,
              "#9c179e"
             ],
             [
              0.4444444444444444,
              "#bd3786"
             ],
             [
              0.5555555555555556,
              "#d8576b"
             ],
             [
              0.6666666666666666,
              "#ed7953"
             ],
             [
              0.7777777777777778,
              "#fb9f3a"
             ],
             [
              0.8888888888888888,
              "#fdca26"
             ],
             [
              1,
              "#f0f921"
             ]
            ],
            "type": "heatmap"
           }
          ],
          "heatmapgl": [
           {
            "colorbar": {
             "outlinewidth": 0,
             "ticks": ""
            },
            "colorscale": [
             [
              0,
              "#0d0887"
             ],
             [
              0.1111111111111111,
              "#46039f"
             ],
             [
              0.2222222222222222,
              "#7201a8"
             ],
             [
              0.3333333333333333,
              "#9c179e"
             ],
             [
              0.4444444444444444,
              "#bd3786"
             ],
             [
              0.5555555555555556,
              "#d8576b"
             ],
             [
              0.6666666666666666,
              "#ed7953"
             ],
             [
              0.7777777777777778,
              "#fb9f3a"
             ],
             [
              0.8888888888888888,
              "#fdca26"
             ],
             [
              1,
              "#f0f921"
             ]
            ],
            "type": "heatmapgl"
           }
          ],
          "histogram": [
           {
            "marker": {
             "pattern": {
              "fillmode": "overlay",
              "size": 10,
              "solidity": 0.2
             }
            },
            "type": "histogram"
           }
          ],
          "histogram2d": [
           {
            "colorbar": {
             "outlinewidth": 0,
             "ticks": ""
            },
            "colorscale": [
             [
              0,
              "#0d0887"
             ],
             [
              0.1111111111111111,
              "#46039f"
             ],
             [
              0.2222222222222222,
              "#7201a8"
             ],
             [
              0.3333333333333333,
              "#9c179e"
             ],
             [
              0.4444444444444444,
              "#bd3786"
             ],
             [
              0.5555555555555556,
              "#d8576b"
             ],
             [
              0.6666666666666666,
              "#ed7953"
             ],
             [
              0.7777777777777778,
              "#fb9f3a"
             ],
             [
              0.8888888888888888,
              "#fdca26"
             ],
             [
              1,
              "#f0f921"
             ]
            ],
            "type": "histogram2d"
           }
          ],
          "histogram2dcontour": [
           {
            "colorbar": {
             "outlinewidth": 0,
             "ticks": ""
            },
            "colorscale": [
             [
              0,
              "#0d0887"
             ],
             [
              0.1111111111111111,
              "#46039f"
             ],
             [
              0.2222222222222222,
              "#7201a8"
             ],
             [
              0.3333333333333333,
              "#9c179e"
             ],
             [
              0.4444444444444444,
              "#bd3786"
             ],
             [
              0.5555555555555556,
              "#d8576b"
             ],
             [
              0.6666666666666666,
              "#ed7953"
             ],
             [
              0.7777777777777778,
              "#fb9f3a"
             ],
             [
              0.8888888888888888,
              "#fdca26"
             ],
             [
              1,
              "#f0f921"
             ]
            ],
            "type": "histogram2dcontour"
           }
          ],
          "mesh3d": [
           {
            "colorbar": {
             "outlinewidth": 0,
             "ticks": ""
            },
            "type": "mesh3d"
           }
          ],
          "parcoords": [
           {
            "line": {
             "colorbar": {
              "outlinewidth": 0,
              "ticks": ""
             }
            },
            "type": "parcoords"
           }
          ],
          "pie": [
           {
            "automargin": true,
            "type": "pie"
           }
          ],
          "scatter": [
           {
            "marker": {
             "colorbar": {
              "outlinewidth": 0,
              "ticks": ""
             }
            },
            "type": "scatter"
           }
          ],
          "scatter3d": [
           {
            "line": {
             "colorbar": {
              "outlinewidth": 0,
              "ticks": ""
             }
            },
            "marker": {
             "colorbar": {
              "outlinewidth": 0,
              "ticks": ""
             }
            },
            "type": "scatter3d"
           }
          ],
          "scattercarpet": [
           {
            "marker": {
             "colorbar": {
              "outlinewidth": 0,
              "ticks": ""
             }
            },
            "type": "scattercarpet"
           }
          ],
          "scattergeo": [
           {
            "marker": {
             "colorbar": {
              "outlinewidth": 0,
              "ticks": ""
             }
            },
            "type": "scattergeo"
           }
          ],
          "scattergl": [
           {
            "marker": {
             "colorbar": {
              "outlinewidth": 0,
              "ticks": ""
             }
            },
            "type": "scattergl"
           }
          ],
          "scattermapbox": [
           {
            "marker": {
             "colorbar": {
              "outlinewidth": 0,
              "ticks": ""
             }
            },
            "type": "scattermapbox"
           }
          ],
          "scatterpolar": [
           {
            "marker": {
             "colorbar": {
              "outlinewidth": 0,
              "ticks": ""
             }
            },
            "type": "scatterpolar"
           }
          ],
          "scatterpolargl": [
           {
            "marker": {
             "colorbar": {
              "outlinewidth": 0,
              "ticks": ""
             }
            },
            "type": "scatterpolargl"
           }
          ],
          "scatterternary": [
           {
            "marker": {
             "colorbar": {
              "outlinewidth": 0,
              "ticks": ""
             }
            },
            "type": "scatterternary"
           }
          ],
          "surface": [
           {
            "colorbar": {
             "outlinewidth": 0,
             "ticks": ""
            },
            "colorscale": [
             [
              0,
              "#0d0887"
             ],
             [
              0.1111111111111111,
              "#46039f"
             ],
             [
              0.2222222222222222,
              "#7201a8"
             ],
             [
              0.3333333333333333,
              "#9c179e"
             ],
             [
              0.4444444444444444,
              "#bd3786"
             ],
             [
              0.5555555555555556,
              "#d8576b"
             ],
             [
              0.6666666666666666,
              "#ed7953"
             ],
             [
              0.7777777777777778,
              "#fb9f3a"
             ],
             [
              0.8888888888888888,
              "#fdca26"
             ],
             [
              1,
              "#f0f921"
             ]
            ],
            "type": "surface"
           }
          ],
          "table": [
           {
            "cells": {
             "fill": {
              "color": "#EBF0F8"
             },
             "line": {
              "color": "white"
             }
            },
            "header": {
             "fill": {
              "color": "#C8D4E3"
             },
             "line": {
              "color": "white"
             }
            },
            "type": "table"
           }
          ]
         },
         "layout": {
          "annotationdefaults": {
           "arrowcolor": "#2a3f5f",
           "arrowhead": 0,
           "arrowwidth": 1
          },
          "autotypenumbers": "strict",
          "coloraxis": {
           "colorbar": {
            "outlinewidth": 0,
            "ticks": ""
           }
          },
          "colorscale": {
           "diverging": [
            [
             0,
             "#8e0152"
            ],
            [
             0.1,
             "#c51b7d"
            ],
            [
             0.2,
             "#de77ae"
            ],
            [
             0.3,
             "#f1b6da"
            ],
            [
             0.4,
             "#fde0ef"
            ],
            [
             0.5,
             "#f7f7f7"
            ],
            [
             0.6,
             "#e6f5d0"
            ],
            [
             0.7,
             "#b8e186"
            ],
            [
             0.8,
             "#7fbc41"
            ],
            [
             0.9,
             "#4d9221"
            ],
            [
             1,
             "#276419"
            ]
           ],
           "sequential": [
            [
             0,
             "#0d0887"
            ],
            [
             0.1111111111111111,
             "#46039f"
            ],
            [
             0.2222222222222222,
             "#7201a8"
            ],
            [
             0.3333333333333333,
             "#9c179e"
            ],
            [
             0.4444444444444444,
             "#bd3786"
            ],
            [
             0.5555555555555556,
             "#d8576b"
            ],
            [
             0.6666666666666666,
             "#ed7953"
            ],
            [
             0.7777777777777778,
             "#fb9f3a"
            ],
            [
             0.8888888888888888,
             "#fdca26"
            ],
            [
             1,
             "#f0f921"
            ]
           ],
           "sequentialminus": [
            [
             0,
             "#0d0887"
            ],
            [
             0.1111111111111111,
             "#46039f"
            ],
            [
             0.2222222222222222,
             "#7201a8"
            ],
            [
             0.3333333333333333,
             "#9c179e"
            ],
            [
             0.4444444444444444,
             "#bd3786"
            ],
            [
             0.5555555555555556,
             "#d8576b"
            ],
            [
             0.6666666666666666,
             "#ed7953"
            ],
            [
             0.7777777777777778,
             "#fb9f3a"
            ],
            [
             0.8888888888888888,
             "#fdca26"
            ],
            [
             1,
             "#f0f921"
            ]
           ]
          },
          "colorway": [
           "#636efa",
           "#EF553B",
           "#00cc96",
           "#ab63fa",
           "#FFA15A",
           "#19d3f3",
           "#FF6692",
           "#B6E880",
           "#FF97FF",
           "#FECB52"
          ],
          "font": {
           "color": "#2a3f5f"
          },
          "geo": {
           "bgcolor": "white",
           "lakecolor": "white",
           "landcolor": "#E5ECF6",
           "showlakes": true,
           "showland": true,
           "subunitcolor": "white"
          },
          "hoverlabel": {
           "align": "left"
          },
          "hovermode": "closest",
          "mapbox": {
           "style": "light"
          },
          "paper_bgcolor": "white",
          "plot_bgcolor": "#E5ECF6",
          "polar": {
           "angularaxis": {
            "gridcolor": "white",
            "linecolor": "white",
            "ticks": ""
           },
           "bgcolor": "#E5ECF6",
           "radialaxis": {
            "gridcolor": "white",
            "linecolor": "white",
            "ticks": ""
           }
          },
          "scene": {
           "xaxis": {
            "backgroundcolor": "#E5ECF6",
            "gridcolor": "white",
            "gridwidth": 2,
            "linecolor": "white",
            "showbackground": true,
            "ticks": "",
            "zerolinecolor": "white"
           },
           "yaxis": {
            "backgroundcolor": "#E5ECF6",
            "gridcolor": "white",
            "gridwidth": 2,
            "linecolor": "white",
            "showbackground": true,
            "ticks": "",
            "zerolinecolor": "white"
           },
           "zaxis": {
            "backgroundcolor": "#E5ECF6",
            "gridcolor": "white",
            "gridwidth": 2,
            "linecolor": "white",
            "showbackground": true,
            "ticks": "",
            "zerolinecolor": "white"
           }
          },
          "shapedefaults": {
           "line": {
            "color": "#2a3f5f"
           }
          },
          "ternary": {
           "aaxis": {
            "gridcolor": "white",
            "linecolor": "white",
            "ticks": ""
           },
           "baxis": {
            "gridcolor": "white",
            "linecolor": "white",
            "ticks": ""
           },
           "bgcolor": "#E5ECF6",
           "caxis": {
            "gridcolor": "white",
            "linecolor": "white",
            "ticks": ""
           }
          },
          "title": {
           "x": 0.05
          },
          "xaxis": {
           "automargin": true,
           "gridcolor": "white",
           "linecolor": "white",
           "ticks": "",
           "title": {
            "standoff": 15
           },
           "zerolinecolor": "white",
           "zerolinewidth": 2
          },
          "yaxis": {
           "automargin": true,
           "gridcolor": "white",
           "linecolor": "white",
           "ticks": "",
           "title": {
            "standoff": 15
           },
           "zerolinecolor": "white",
           "zerolinewidth": 2
          }
         }
        },
        "title": {
         "font": {
          "color": "#4D5663"
         }
        },
        "xaxis": {
         "gridcolor": "#E1E5ED",
         "showgrid": true,
         "tickfont": {
          "color": "#4D5663"
         },
         "title": {
          "font": {
           "color": "#4D5663"
          },
          "text": ""
         },
         "zerolinecolor": "#E1E5ED"
        },
        "yaxis": {
         "gridcolor": "#E1E5ED",
         "showgrid": true,
         "tickfont": {
          "color": "#4D5663"
         },
         "title": {
          "font": {
           "color": "#4D5663"
          },
          "text": ""
         },
         "zerolinecolor": "#E1E5ED"
        }
       }
      },
      "text/html": [
       "<div>                            <div id=\"dd1f883a-1726-4743-9bbd-d1b0fa1fb651\" class=\"plotly-graph-div\" style=\"height:525px; width:100%;\"></div>            <script type=\"text/javascript\">                require([\"plotly\"], function(Plotly) {                    window.PLOTLYENV=window.PLOTLYENV || {};\n",
       "                    window.PLOTLYENV.BASE_URL='https://plot.ly';                                    if (document.getElementById(\"dd1f883a-1726-4743-9bbd-d1b0fa1fb651\")) {                    Plotly.newPlot(                        \"dd1f883a-1726-4743-9bbd-d1b0fa1fb651\",                        [{\"line\":{\"color\":\"rgba(255, 153, 51, 1.0)\",\"dash\":\"solid\",\"shape\":\"linear\",\"width\":1.3},\"mode\":\"lines\",\"name\":\"B\",\"text\":\"\",\"x\":[0.886481626762867,-0.3499620218114763,-1.585776582814845,0.6484898454257476,-1.9979968441142282,0.1201311235502911,-0.4148740926620486,0.48602098140719663,-0.4421915736894337,1.2418778460177193,0.10118778876868344,-0.3818017352390294,-1.0889405954178286,-1.0775398374986283,0.7176163433204604,0.33913004139571756,-0.4032606079303681,-0.3637756464595728,-1.4718184440680067,0.713886037258169,0.19269588171664376,0.23304829932510332,0.5709190035735119,-1.8433915506663612,0.8324219856241711,-1.0757550291979756,0.5077556723582699,-0.44413901106422243,-1.0086197778973143,-1.4028236947855495,0.7121967790439677,0.3204505587958397,0.4445431803849003,-0.7710464998332621,-0.32331670313769884,-0.37674258119090615,-0.4248675218977924,0.40764947955994546,-1.3078826247959392,1.0601288365287158,-0.07365209559188851,-0.15604718500861364,0.6942083782207596,1.6486670014904792,-0.7077253997726066,1.2800832468714303,-0.9465578355996911,-0.20620629379940864,-0.7963607240498749,-0.36078265872225806,1.2110561274705427,-0.1104525081824256,-0.6700042401655598,0.5569922218535346,0.3089864141526496,-0.2255228252683958,-0.2420062158747075,1.422815466914821,0.1503362119866953,-0.08743388513554257,-2.0349797681611563,0.8458105742183093,1.5407511255122293,0.029309506747405435,0.8584238640416992,0.9580984168929361,-0.9005130295018315,-0.013473286256282085,-0.8038220434152606,0.5661970188353798,-0.41924053958573,-0.29814007571196643,-0.03279477170129877,0.29650560309755564,-0.5463247852636246,-0.7671606914275885,1.0529157002903464,0.7838311671342689,1.9802407213895976,0.47847443413408924,1.0458971972595335,-1.2475785868909688,-0.8810956529233439,-1.6642079892521435,0.7756690712728784,-0.14000153305790228,-0.298192880456967,0.6070013657895164,0.9080645827077884,0.7257777964960853,-2.3168928477995996,-0.23743985166319456,-0.6036935396622959,-1.022352491479891,1.11444393383111,1.145304707468234,-3.250282066368351,1.5221237939575507,0.14200502104205395,0.38571662007639357],\"y\":[-0.46449043768408943,0.3523981764252299,-2.3568287709836473,2.390595577632367,-0.9711494279100952,-0.598162370267831,-0.3968615131465438,-1.4678698356334754,-0.28684894742407796,0.9208405274368389,0.9624893523587785,-0.4726705970974675,-0.6879754336784105,-1.3738071612856435,0.15306973430517098,1.39271128590778,1.4306641888922735,-1.7229685803087822,0.876023771464418,-0.6803902408216923,-0.5941052879566986,0.12043446146704843,-0.28515613992993033,-0.32609061091749375,0.47425472148627396,-1.2522126657446717,-0.3243536009422392,0.5049793346016036,-0.04176998943973294,0.40192394612822196,-0.28054043055164984,0.14883547195933453,-0.12105123038966474,1.0343349745490065,0.5991071166463736,0.567778493863068,0.3037646239706531,-1.3719041517480557,-0.4436317499417215,0.38529293294782807,0.18887020024921888,-0.44131088434181726,-1.345417457240369,0.1950054187256295,0.008516791334651708,-0.030138945389232976,-0.052181696931563104,-0.28531533414502924,-0.3837973447267495,-0.07335949970633836,-0.5016619524152183,-0.07377196799595183,1.314600491631252,-0.5755533402380913,1.04234687914125,-1.9884263599852992,-0.4546812851638831,-0.9135355999965279,0.1202491772493144,0.2982883545760662,1.1759196674481656,0.1765180905394663,-0.1393540853360605,-1.6912307557741173,0.6517544039399077,-0.11723751480317693,0.225761143742028,2.575309512971,-0.38535401952248977,0.12673017985596988,-0.07216106803459287,1.5616852752254324,-1.0467543733046534,0.8101267949195068,-0.42749849903243314,-0.11251204442772755,-1.1106289672153369,0.3332379125685002,1.0663205215842115,-1.9046403985666256,1.8284597174145687,-0.6975813374405788,0.46500534847745456,0.2676519512599508,-0.9130053337789412,-0.1662797376110315,0.8053195931493092,-1.3026754192540417,0.15700431317050292,-1.207547463863445,0.3039178415683296,1.994212832448182,-0.14322280376679514,-1.0562473515513469,-1.2639667192364323,-0.8634228472340293,1.4018232890368303,-1.6562191518856821,-0.21648483960705828,-0.05978220684500359],\"type\":\"scatter\"}],                        {\"legend\":{\"bgcolor\":\"#F5F6F9\",\"font\":{\"color\":\"#4D5663\"}},\"paper_bgcolor\":\"#F5F6F9\",\"plot_bgcolor\":\"#F5F6F9\",\"template\":{\"data\":{\"barpolar\":[{\"marker\":{\"line\":{\"color\":\"#E5ECF6\",\"width\":0.5},\"pattern\":{\"fillmode\":\"overlay\",\"size\":10,\"solidity\":0.2}},\"type\":\"barpolar\"}],\"bar\":[{\"error_x\":{\"color\":\"#2a3f5f\"},\"error_y\":{\"color\":\"#2a3f5f\"},\"marker\":{\"line\":{\"color\":\"#E5ECF6\",\"width\":0.5},\"pattern\":{\"fillmode\":\"overlay\",\"size\":10,\"solidity\":0.2}},\"type\":\"bar\"}],\"carpet\":[{\"aaxis\":{\"endlinecolor\":\"#2a3f5f\",\"gridcolor\":\"white\",\"linecolor\":\"white\",\"minorgridcolor\":\"white\",\"startlinecolor\":\"#2a3f5f\"},\"baxis\":{\"endlinecolor\":\"#2a3f5f\",\"gridcolor\":\"white\",\"linecolor\":\"white\",\"minorgridcolor\":\"white\",\"startlinecolor\":\"#2a3f5f\"},\"type\":\"carpet\"}],\"choropleth\":[{\"colorbar\":{\"outlinewidth\":0,\"ticks\":\"\"},\"type\":\"choropleth\"}],\"contourcarpet\":[{\"colorbar\":{\"outlinewidth\":0,\"ticks\":\"\"},\"type\":\"contourcarpet\"}],\"contour\":[{\"colorbar\":{\"outlinewidth\":0,\"ticks\":\"\"},\"colorscale\":[[0.0,\"#0d0887\"],[0.1111111111111111,\"#46039f\"],[0.2222222222222222,\"#7201a8\"],[0.3333333333333333,\"#9c179e\"],[0.4444444444444444,\"#bd3786\"],[0.5555555555555556,\"#d8576b\"],[0.6666666666666666,\"#ed7953\"],[0.7777777777777778,\"#fb9f3a\"],[0.8888888888888888,\"#fdca26\"],[1.0,\"#f0f921\"]],\"type\":\"contour\"}],\"heatmapgl\":[{\"colorbar\":{\"outlinewidth\":0,\"ticks\":\"\"},\"colorscale\":[[0.0,\"#0d0887\"],[0.1111111111111111,\"#46039f\"],[0.2222222222222222,\"#7201a8\"],[0.3333333333333333,\"#9c179e\"],[0.4444444444444444,\"#bd3786\"],[0.5555555555555556,\"#d8576b\"],[0.6666666666666666,\"#ed7953\"],[0.7777777777777778,\"#fb9f3a\"],[0.8888888888888888,\"#fdca26\"],[1.0,\"#f0f921\"]],\"type\":\"heatmapgl\"}],\"heatmap\":[{\"colorbar\":{\"outlinewidth\":0,\"ticks\":\"\"},\"colorscale\":[[0.0,\"#0d0887\"],[0.1111111111111111,\"#46039f\"],[0.2222222222222222,\"#7201a8\"],[0.3333333333333333,\"#9c179e\"],[0.4444444444444444,\"#bd3786\"],[0.5555555555555556,\"#d8576b\"],[0.6666666666666666,\"#ed7953\"],[0.7777777777777778,\"#fb9f3a\"],[0.8888888888888888,\"#fdca26\"],[1.0,\"#f0f921\"]],\"type\":\"heatmap\"}],\"histogram2dcontour\":[{\"colorbar\":{\"outlinewidth\":0,\"ticks\":\"\"},\"colorscale\":[[0.0,\"#0d0887\"],[0.1111111111111111,\"#46039f\"],[0.2222222222222222,\"#7201a8\"],[0.3333333333333333,\"#9c179e\"],[0.4444444444444444,\"#bd3786\"],[0.5555555555555556,\"#d8576b\"],[0.6666666666666666,\"#ed7953\"],[0.7777777777777778,\"#fb9f3a\"],[0.8888888888888888,\"#fdca26\"],[1.0,\"#f0f921\"]],\"type\":\"histogram2dcontour\"}],\"histogram2d\":[{\"colorbar\":{\"outlinewidth\":0,\"ticks\":\"\"},\"colorscale\":[[0.0,\"#0d0887\"],[0.1111111111111111,\"#46039f\"],[0.2222222222222222,\"#7201a8\"],[0.3333333333333333,\"#9c179e\"],[0.4444444444444444,\"#bd3786\"],[0.5555555555555556,\"#d8576b\"],[0.6666666666666666,\"#ed7953\"],[0.7777777777777778,\"#fb9f3a\"],[0.8888888888888888,\"#fdca26\"],[1.0,\"#f0f921\"]],\"type\":\"histogram2d\"}],\"histogram\":[{\"marker\":{\"pattern\":{\"fillmode\":\"overlay\",\"size\":10,\"solidity\":0.2}},\"type\":\"histogram\"}],\"mesh3d\":[{\"colorbar\":{\"outlinewidth\":0,\"ticks\":\"\"},\"type\":\"mesh3d\"}],\"parcoords\":[{\"line\":{\"colorbar\":{\"outlinewidth\":0,\"ticks\":\"\"}},\"type\":\"parcoords\"}],\"pie\":[{\"automargin\":true,\"type\":\"pie\"}],\"scatter3d\":[{\"line\":{\"colorbar\":{\"outlinewidth\":0,\"ticks\":\"\"}},\"marker\":{\"colorbar\":{\"outlinewidth\":0,\"ticks\":\"\"}},\"type\":\"scatter3d\"}],\"scattercarpet\":[{\"marker\":{\"colorbar\":{\"outlinewidth\":0,\"ticks\":\"\"}},\"type\":\"scattercarpet\"}],\"scattergeo\":[{\"marker\":{\"colorbar\":{\"outlinewidth\":0,\"ticks\":\"\"}},\"type\":\"scattergeo\"}],\"scattergl\":[{\"marker\":{\"colorbar\":{\"outlinewidth\":0,\"ticks\":\"\"}},\"type\":\"scattergl\"}],\"scattermapbox\":[{\"marker\":{\"colorbar\":{\"outlinewidth\":0,\"ticks\":\"\"}},\"type\":\"scattermapbox\"}],\"scatterpolargl\":[{\"marker\":{\"colorbar\":{\"outlinewidth\":0,\"ticks\":\"\"}},\"type\":\"scatterpolargl\"}],\"scatterpolar\":[{\"marker\":{\"colorbar\":{\"outlinewidth\":0,\"ticks\":\"\"}},\"type\":\"scatterpolar\"}],\"scatter\":[{\"marker\":{\"colorbar\":{\"outlinewidth\":0,\"ticks\":\"\"}},\"type\":\"scatter\"}],\"scatterternary\":[{\"marker\":{\"colorbar\":{\"outlinewidth\":0,\"ticks\":\"\"}},\"type\":\"scatterternary\"}],\"surface\":[{\"colorbar\":{\"outlinewidth\":0,\"ticks\":\"\"},\"colorscale\":[[0.0,\"#0d0887\"],[0.1111111111111111,\"#46039f\"],[0.2222222222222222,\"#7201a8\"],[0.3333333333333333,\"#9c179e\"],[0.4444444444444444,\"#bd3786\"],[0.5555555555555556,\"#d8576b\"],[0.6666666666666666,\"#ed7953\"],[0.7777777777777778,\"#fb9f3a\"],[0.8888888888888888,\"#fdca26\"],[1.0,\"#f0f921\"]],\"type\":\"surface\"}],\"table\":[{\"cells\":{\"fill\":{\"color\":\"#EBF0F8\"},\"line\":{\"color\":\"white\"}},\"header\":{\"fill\":{\"color\":\"#C8D4E3\"},\"line\":{\"color\":\"white\"}},\"type\":\"table\"}]},\"layout\":{\"annotationdefaults\":{\"arrowcolor\":\"#2a3f5f\",\"arrowhead\":0,\"arrowwidth\":1},\"autotypenumbers\":\"strict\",\"coloraxis\":{\"colorbar\":{\"outlinewidth\":0,\"ticks\":\"\"}},\"colorscale\":{\"diverging\":[[0,\"#8e0152\"],[0.1,\"#c51b7d\"],[0.2,\"#de77ae\"],[0.3,\"#f1b6da\"],[0.4,\"#fde0ef\"],[0.5,\"#f7f7f7\"],[0.6,\"#e6f5d0\"],[0.7,\"#b8e186\"],[0.8,\"#7fbc41\"],[0.9,\"#4d9221\"],[1,\"#276419\"]],\"sequential\":[[0.0,\"#0d0887\"],[0.1111111111111111,\"#46039f\"],[0.2222222222222222,\"#7201a8\"],[0.3333333333333333,\"#9c179e\"],[0.4444444444444444,\"#bd3786\"],[0.5555555555555556,\"#d8576b\"],[0.6666666666666666,\"#ed7953\"],[0.7777777777777778,\"#fb9f3a\"],[0.8888888888888888,\"#fdca26\"],[1.0,\"#f0f921\"]],\"sequentialminus\":[[0.0,\"#0d0887\"],[0.1111111111111111,\"#46039f\"],[0.2222222222222222,\"#7201a8\"],[0.3333333333333333,\"#9c179e\"],[0.4444444444444444,\"#bd3786\"],[0.5555555555555556,\"#d8576b\"],[0.6666666666666666,\"#ed7953\"],[0.7777777777777778,\"#fb9f3a\"],[0.8888888888888888,\"#fdca26\"],[1.0,\"#f0f921\"]]},\"colorway\":[\"#636efa\",\"#EF553B\",\"#00cc96\",\"#ab63fa\",\"#FFA15A\",\"#19d3f3\",\"#FF6692\",\"#B6E880\",\"#FF97FF\",\"#FECB52\"],\"font\":{\"color\":\"#2a3f5f\"},\"geo\":{\"bgcolor\":\"white\",\"lakecolor\":\"white\",\"landcolor\":\"#E5ECF6\",\"showlakes\":true,\"showland\":true,\"subunitcolor\":\"white\"},\"hoverlabel\":{\"align\":\"left\"},\"hovermode\":\"closest\",\"mapbox\":{\"style\":\"light\"},\"paper_bgcolor\":\"white\",\"plot_bgcolor\":\"#E5ECF6\",\"polar\":{\"angularaxis\":{\"gridcolor\":\"white\",\"linecolor\":\"white\",\"ticks\":\"\"},\"bgcolor\":\"#E5ECF6\",\"radialaxis\":{\"gridcolor\":\"white\",\"linecolor\":\"white\",\"ticks\":\"\"}},\"scene\":{\"xaxis\":{\"backgroundcolor\":\"#E5ECF6\",\"gridcolor\":\"white\",\"gridwidth\":2,\"linecolor\":\"white\",\"showbackground\":true,\"ticks\":\"\",\"zerolinecolor\":\"white\"},\"yaxis\":{\"backgroundcolor\":\"#E5ECF6\",\"gridcolor\":\"white\",\"gridwidth\":2,\"linecolor\":\"white\",\"showbackground\":true,\"ticks\":\"\",\"zerolinecolor\":\"white\"},\"zaxis\":{\"backgroundcolor\":\"#E5ECF6\",\"gridcolor\":\"white\",\"gridwidth\":2,\"linecolor\":\"white\",\"showbackground\":true,\"ticks\":\"\",\"zerolinecolor\":\"white\"}},\"shapedefaults\":{\"line\":{\"color\":\"#2a3f5f\"}},\"ternary\":{\"aaxis\":{\"gridcolor\":\"white\",\"linecolor\":\"white\",\"ticks\":\"\"},\"baxis\":{\"gridcolor\":\"white\",\"linecolor\":\"white\",\"ticks\":\"\"},\"bgcolor\":\"#E5ECF6\",\"caxis\":{\"gridcolor\":\"white\",\"linecolor\":\"white\",\"ticks\":\"\"}},\"title\":{\"x\":0.05},\"xaxis\":{\"automargin\":true,\"gridcolor\":\"white\",\"linecolor\":\"white\",\"ticks\":\"\",\"title\":{\"standoff\":15},\"zerolinecolor\":\"white\",\"zerolinewidth\":2},\"yaxis\":{\"automargin\":true,\"gridcolor\":\"white\",\"linecolor\":\"white\",\"ticks\":\"\",\"title\":{\"standoff\":15},\"zerolinecolor\":\"white\",\"zerolinewidth\":2}}},\"title\":{\"font\":{\"color\":\"#4D5663\"}},\"xaxis\":{\"gridcolor\":\"#E1E5ED\",\"showgrid\":true,\"tickfont\":{\"color\":\"#4D5663\"},\"title\":{\"font\":{\"color\":\"#4D5663\"},\"text\":\"\"},\"zerolinecolor\":\"#E1E5ED\"},\"yaxis\":{\"gridcolor\":\"#E1E5ED\",\"showgrid\":true,\"tickfont\":{\"color\":\"#4D5663\"},\"title\":{\"font\":{\"color\":\"#4D5663\"},\"text\":\"\"},\"zerolinecolor\":\"#E1E5ED\"}},                        {\"showLink\": true, \"linkText\": \"Export to plot.ly\", \"plotlyServerURL\": \"https://plot.ly\", \"responsive\": true}                    ).then(function(){\n",
       "                            \n",
       "var gd = document.getElementById('dd1f883a-1726-4743-9bbd-d1b0fa1fb651');\n",
       "var x = new MutationObserver(function (mutations, observer) {{\n",
       "        var display = window.getComputedStyle(gd).display;\n",
       "        if (!display || display === 'none') {{\n",
       "            console.log([gd, 'removed!']);\n",
       "            Plotly.purge(gd);\n",
       "            observer.disconnect();\n",
       "        }}\n",
       "}});\n",
       "\n",
       "// Listen for the removal of the full notebook cells\n",
       "var notebookContainer = gd.closest('#notebook-container');\n",
       "if (notebookContainer) {{\n",
       "    x.observe(notebookContainer, {childList: true});\n",
       "}}\n",
       "\n",
       "// Listen for the clearing of the current output cell\n",
       "var outputEl = gd.closest('.output');\n",
       "if (outputEl) {{\n",
       "    x.observe(outputEl, {childList: true});\n",
       "}}\n",
       "\n",
       "                        })                };                });            </script>        </div>"
      ]
     },
     "metadata": {},
     "output_type": "display_data"
    }
   ],
   "source": [
    "#to plot other kinds of plots use .iplot(kind='plot_you_want', args required for the plot, mode='mode_you_want') in which for mode you will have to use markers for a scatter plot, demonstrated below.\n",
    "df.iplot(kind='scatter', x='A', y='B')\n",
    "#as you can see it plots with lines not markers, so use markers as the mode of these kinda plots."
   ]
  },
  {
   "cell_type": "code",
   "execution_count": 9,
   "metadata": {},
   "outputs": [
    {
     "data": {
      "application/vnd.plotly.v1+json": {
       "config": {
        "linkText": "Export to plot.ly",
        "plotlyServerURL": "https://plot.ly",
        "showLink": true
       },
       "data": [
        {
         "line": {
          "color": "rgba(255, 153, 51, 1.0)",
          "dash": "solid",
          "shape": "linear",
          "width": 1.3
         },
         "marker": {
          "size": 8,
          "symbol": "circle"
         },
         "mode": "markers",
         "name": "B",
         "text": "",
         "type": "scatter",
         "x": [
          0.886481626762867,
          -0.3499620218114763,
          -1.585776582814845,
          0.6484898454257476,
          -1.9979968441142282,
          0.1201311235502911,
          -0.4148740926620486,
          0.48602098140719663,
          -0.4421915736894337,
          1.2418778460177193,
          0.10118778876868344,
          -0.3818017352390294,
          -1.0889405954178286,
          -1.0775398374986283,
          0.7176163433204604,
          0.33913004139571756,
          -0.4032606079303681,
          -0.3637756464595728,
          -1.4718184440680067,
          0.713886037258169,
          0.19269588171664376,
          0.23304829932510332,
          0.5709190035735119,
          -1.8433915506663612,
          0.8324219856241711,
          -1.0757550291979756,
          0.5077556723582699,
          -0.44413901106422243,
          -1.0086197778973143,
          -1.4028236947855495,
          0.7121967790439677,
          0.3204505587958397,
          0.4445431803849003,
          -0.7710464998332621,
          -0.32331670313769884,
          -0.37674258119090615,
          -0.4248675218977924,
          0.40764947955994546,
          -1.3078826247959392,
          1.0601288365287158,
          -0.07365209559188851,
          -0.15604718500861364,
          0.6942083782207596,
          1.6486670014904792,
          -0.7077253997726066,
          1.2800832468714303,
          -0.9465578355996911,
          -0.20620629379940864,
          -0.7963607240498749,
          -0.36078265872225806,
          1.2110561274705427,
          -0.1104525081824256,
          -0.6700042401655598,
          0.5569922218535346,
          0.3089864141526496,
          -0.2255228252683958,
          -0.2420062158747075,
          1.422815466914821,
          0.1503362119866953,
          -0.08743388513554257,
          -2.0349797681611563,
          0.8458105742183093,
          1.5407511255122293,
          0.029309506747405435,
          0.8584238640416992,
          0.9580984168929361,
          -0.9005130295018315,
          -0.013473286256282085,
          -0.8038220434152606,
          0.5661970188353798,
          -0.41924053958573,
          -0.29814007571196643,
          -0.03279477170129877,
          0.29650560309755564,
          -0.5463247852636246,
          -0.7671606914275885,
          1.0529157002903464,
          0.7838311671342689,
          1.9802407213895976,
          0.47847443413408924,
          1.0458971972595335,
          -1.2475785868909688,
          -0.8810956529233439,
          -1.6642079892521435,
          0.7756690712728784,
          -0.14000153305790228,
          -0.298192880456967,
          0.6070013657895164,
          0.9080645827077884,
          0.7257777964960853,
          -2.3168928477995996,
          -0.23743985166319456,
          -0.6036935396622959,
          -1.022352491479891,
          1.11444393383111,
          1.145304707468234,
          -3.250282066368351,
          1.5221237939575507,
          0.14200502104205395,
          0.38571662007639357
         ],
         "y": [
          -0.46449043768408943,
          0.3523981764252299,
          -2.3568287709836473,
          2.390595577632367,
          -0.9711494279100952,
          -0.598162370267831,
          -0.3968615131465438,
          -1.4678698356334754,
          -0.28684894742407796,
          0.9208405274368389,
          0.9624893523587785,
          -0.4726705970974675,
          -0.6879754336784105,
          -1.3738071612856435,
          0.15306973430517098,
          1.39271128590778,
          1.4306641888922735,
          -1.7229685803087822,
          0.876023771464418,
          -0.6803902408216923,
          -0.5941052879566986,
          0.12043446146704843,
          -0.28515613992993033,
          -0.32609061091749375,
          0.47425472148627396,
          -1.2522126657446717,
          -0.3243536009422392,
          0.5049793346016036,
          -0.04176998943973294,
          0.40192394612822196,
          -0.28054043055164984,
          0.14883547195933453,
          -0.12105123038966474,
          1.0343349745490065,
          0.5991071166463736,
          0.567778493863068,
          0.3037646239706531,
          -1.3719041517480557,
          -0.4436317499417215,
          0.38529293294782807,
          0.18887020024921888,
          -0.44131088434181726,
          -1.345417457240369,
          0.1950054187256295,
          0.008516791334651708,
          -0.030138945389232976,
          -0.052181696931563104,
          -0.28531533414502924,
          -0.3837973447267495,
          -0.07335949970633836,
          -0.5016619524152183,
          -0.07377196799595183,
          1.314600491631252,
          -0.5755533402380913,
          1.04234687914125,
          -1.9884263599852992,
          -0.4546812851638831,
          -0.9135355999965279,
          0.1202491772493144,
          0.2982883545760662,
          1.1759196674481656,
          0.1765180905394663,
          -0.1393540853360605,
          -1.6912307557741173,
          0.6517544039399077,
          -0.11723751480317693,
          0.225761143742028,
          2.575309512971,
          -0.38535401952248977,
          0.12673017985596988,
          -0.07216106803459287,
          1.5616852752254324,
          -1.0467543733046534,
          0.8101267949195068,
          -0.42749849903243314,
          -0.11251204442772755,
          -1.1106289672153369,
          0.3332379125685002,
          1.0663205215842115,
          -1.9046403985666256,
          1.8284597174145687,
          -0.6975813374405788,
          0.46500534847745456,
          0.2676519512599508,
          -0.9130053337789412,
          -0.1662797376110315,
          0.8053195931493092,
          -1.3026754192540417,
          0.15700431317050292,
          -1.207547463863445,
          0.3039178415683296,
          1.994212832448182,
          -0.14322280376679514,
          -1.0562473515513469,
          -1.2639667192364323,
          -0.8634228472340293,
          1.4018232890368303,
          -1.6562191518856821,
          -0.21648483960705828,
          -0.05978220684500359
         ]
        }
       ],
       "layout": {
        "legend": {
         "bgcolor": "#F5F6F9",
         "font": {
          "color": "#4D5663"
         }
        },
        "paper_bgcolor": "#F5F6F9",
        "plot_bgcolor": "#F5F6F9",
        "template": {
         "data": {
          "bar": [
           {
            "error_x": {
             "color": "#2a3f5f"
            },
            "error_y": {
             "color": "#2a3f5f"
            },
            "marker": {
             "line": {
              "color": "#E5ECF6",
              "width": 0.5
             },
             "pattern": {
              "fillmode": "overlay",
              "size": 10,
              "solidity": 0.2
             }
            },
            "type": "bar"
           }
          ],
          "barpolar": [
           {
            "marker": {
             "line": {
              "color": "#E5ECF6",
              "width": 0.5
             },
             "pattern": {
              "fillmode": "overlay",
              "size": 10,
              "solidity": 0.2
             }
            },
            "type": "barpolar"
           }
          ],
          "carpet": [
           {
            "aaxis": {
             "endlinecolor": "#2a3f5f",
             "gridcolor": "white",
             "linecolor": "white",
             "minorgridcolor": "white",
             "startlinecolor": "#2a3f5f"
            },
            "baxis": {
             "endlinecolor": "#2a3f5f",
             "gridcolor": "white",
             "linecolor": "white",
             "minorgridcolor": "white",
             "startlinecolor": "#2a3f5f"
            },
            "type": "carpet"
           }
          ],
          "choropleth": [
           {
            "colorbar": {
             "outlinewidth": 0,
             "ticks": ""
            },
            "type": "choropleth"
           }
          ],
          "contour": [
           {
            "colorbar": {
             "outlinewidth": 0,
             "ticks": ""
            },
            "colorscale": [
             [
              0,
              "#0d0887"
             ],
             [
              0.1111111111111111,
              "#46039f"
             ],
             [
              0.2222222222222222,
              "#7201a8"
             ],
             [
              0.3333333333333333,
              "#9c179e"
             ],
             [
              0.4444444444444444,
              "#bd3786"
             ],
             [
              0.5555555555555556,
              "#d8576b"
             ],
             [
              0.6666666666666666,
              "#ed7953"
             ],
             [
              0.7777777777777778,
              "#fb9f3a"
             ],
             [
              0.8888888888888888,
              "#fdca26"
             ],
             [
              1,
              "#f0f921"
             ]
            ],
            "type": "contour"
           }
          ],
          "contourcarpet": [
           {
            "colorbar": {
             "outlinewidth": 0,
             "ticks": ""
            },
            "type": "contourcarpet"
           }
          ],
          "heatmap": [
           {
            "colorbar": {
             "outlinewidth": 0,
             "ticks": ""
            },
            "colorscale": [
             [
              0,
              "#0d0887"
             ],
             [
              0.1111111111111111,
              "#46039f"
             ],
             [
              0.2222222222222222,
              "#7201a8"
             ],
             [
              0.3333333333333333,
              "#9c179e"
             ],
             [
              0.4444444444444444,
              "#bd3786"
             ],
             [
              0.5555555555555556,
              "#d8576b"
             ],
             [
              0.6666666666666666,
              "#ed7953"
             ],
             [
              0.7777777777777778,
              "#fb9f3a"
             ],
             [
              0.8888888888888888,
              "#fdca26"
             ],
             [
              1,
              "#f0f921"
             ]
            ],
            "type": "heatmap"
           }
          ],
          "heatmapgl": [
           {
            "colorbar": {
             "outlinewidth": 0,
             "ticks": ""
            },
            "colorscale": [
             [
              0,
              "#0d0887"
             ],
             [
              0.1111111111111111,
              "#46039f"
             ],
             [
              0.2222222222222222,
              "#7201a8"
             ],
             [
              0.3333333333333333,
              "#9c179e"
             ],
             [
              0.4444444444444444,
              "#bd3786"
             ],
             [
              0.5555555555555556,
              "#d8576b"
             ],
             [
              0.6666666666666666,
              "#ed7953"
             ],
             [
              0.7777777777777778,
              "#fb9f3a"
             ],
             [
              0.8888888888888888,
              "#fdca26"
             ],
             [
              1,
              "#f0f921"
             ]
            ],
            "type": "heatmapgl"
           }
          ],
          "histogram": [
           {
            "marker": {
             "pattern": {
              "fillmode": "overlay",
              "size": 10,
              "solidity": 0.2
             }
            },
            "type": "histogram"
           }
          ],
          "histogram2d": [
           {
            "colorbar": {
             "outlinewidth": 0,
             "ticks": ""
            },
            "colorscale": [
             [
              0,
              "#0d0887"
             ],
             [
              0.1111111111111111,
              "#46039f"
             ],
             [
              0.2222222222222222,
              "#7201a8"
             ],
             [
              0.3333333333333333,
              "#9c179e"
             ],
             [
              0.4444444444444444,
              "#bd3786"
             ],
             [
              0.5555555555555556,
              "#d8576b"
             ],
             [
              0.6666666666666666,
              "#ed7953"
             ],
             [
              0.7777777777777778,
              "#fb9f3a"
             ],
             [
              0.8888888888888888,
              "#fdca26"
             ],
             [
              1,
              "#f0f921"
             ]
            ],
            "type": "histogram2d"
           }
          ],
          "histogram2dcontour": [
           {
            "colorbar": {
             "outlinewidth": 0,
             "ticks": ""
            },
            "colorscale": [
             [
              0,
              "#0d0887"
             ],
             [
              0.1111111111111111,
              "#46039f"
             ],
             [
              0.2222222222222222,
              "#7201a8"
             ],
             [
              0.3333333333333333,
              "#9c179e"
             ],
             [
              0.4444444444444444,
              "#bd3786"
             ],
             [
              0.5555555555555556,
              "#d8576b"
             ],
             [
              0.6666666666666666,
              "#ed7953"
             ],
             [
              0.7777777777777778,
              "#fb9f3a"
             ],
             [
              0.8888888888888888,
              "#fdca26"
             ],
             [
              1,
              "#f0f921"
             ]
            ],
            "type": "histogram2dcontour"
           }
          ],
          "mesh3d": [
           {
            "colorbar": {
             "outlinewidth": 0,
             "ticks": ""
            },
            "type": "mesh3d"
           }
          ],
          "parcoords": [
           {
            "line": {
             "colorbar": {
              "outlinewidth": 0,
              "ticks": ""
             }
            },
            "type": "parcoords"
           }
          ],
          "pie": [
           {
            "automargin": true,
            "type": "pie"
           }
          ],
          "scatter": [
           {
            "marker": {
             "colorbar": {
              "outlinewidth": 0,
              "ticks": ""
             }
            },
            "type": "scatter"
           }
          ],
          "scatter3d": [
           {
            "line": {
             "colorbar": {
              "outlinewidth": 0,
              "ticks": ""
             }
            },
            "marker": {
             "colorbar": {
              "outlinewidth": 0,
              "ticks": ""
             }
            },
            "type": "scatter3d"
           }
          ],
          "scattercarpet": [
           {
            "marker": {
             "colorbar": {
              "outlinewidth": 0,
              "ticks": ""
             }
            },
            "type": "scattercarpet"
           }
          ],
          "scattergeo": [
           {
            "marker": {
             "colorbar": {
              "outlinewidth": 0,
              "ticks": ""
             }
            },
            "type": "scattergeo"
           }
          ],
          "scattergl": [
           {
            "marker": {
             "colorbar": {
              "outlinewidth": 0,
              "ticks": ""
             }
            },
            "type": "scattergl"
           }
          ],
          "scattermapbox": [
           {
            "marker": {
             "colorbar": {
              "outlinewidth": 0,
              "ticks": ""
             }
            },
            "type": "scattermapbox"
           }
          ],
          "scatterpolar": [
           {
            "marker": {
             "colorbar": {
              "outlinewidth": 0,
              "ticks": ""
             }
            },
            "type": "scatterpolar"
           }
          ],
          "scatterpolargl": [
           {
            "marker": {
             "colorbar": {
              "outlinewidth": 0,
              "ticks": ""
             }
            },
            "type": "scatterpolargl"
           }
          ],
          "scatterternary": [
           {
            "marker": {
             "colorbar": {
              "outlinewidth": 0,
              "ticks": ""
             }
            },
            "type": "scatterternary"
           }
          ],
          "surface": [
           {
            "colorbar": {
             "outlinewidth": 0,
             "ticks": ""
            },
            "colorscale": [
             [
              0,
              "#0d0887"
             ],
             [
              0.1111111111111111,
              "#46039f"
             ],
             [
              0.2222222222222222,
              "#7201a8"
             ],
             [
              0.3333333333333333,
              "#9c179e"
             ],
             [
              0.4444444444444444,
              "#bd3786"
             ],
             [
              0.5555555555555556,
              "#d8576b"
             ],
             [
              0.6666666666666666,
              "#ed7953"
             ],
             [
              0.7777777777777778,
              "#fb9f3a"
             ],
             [
              0.8888888888888888,
              "#fdca26"
             ],
             [
              1,
              "#f0f921"
             ]
            ],
            "type": "surface"
           }
          ],
          "table": [
           {
            "cells": {
             "fill": {
              "color": "#EBF0F8"
             },
             "line": {
              "color": "white"
             }
            },
            "header": {
             "fill": {
              "color": "#C8D4E3"
             },
             "line": {
              "color": "white"
             }
            },
            "type": "table"
           }
          ]
         },
         "layout": {
          "annotationdefaults": {
           "arrowcolor": "#2a3f5f",
           "arrowhead": 0,
           "arrowwidth": 1
          },
          "autotypenumbers": "strict",
          "coloraxis": {
           "colorbar": {
            "outlinewidth": 0,
            "ticks": ""
           }
          },
          "colorscale": {
           "diverging": [
            [
             0,
             "#8e0152"
            ],
            [
             0.1,
             "#c51b7d"
            ],
            [
             0.2,
             "#de77ae"
            ],
            [
             0.3,
             "#f1b6da"
            ],
            [
             0.4,
             "#fde0ef"
            ],
            [
             0.5,
             "#f7f7f7"
            ],
            [
             0.6,
             "#e6f5d0"
            ],
            [
             0.7,
             "#b8e186"
            ],
            [
             0.8,
             "#7fbc41"
            ],
            [
             0.9,
             "#4d9221"
            ],
            [
             1,
             "#276419"
            ]
           ],
           "sequential": [
            [
             0,
             "#0d0887"
            ],
            [
             0.1111111111111111,
             "#46039f"
            ],
            [
             0.2222222222222222,
             "#7201a8"
            ],
            [
             0.3333333333333333,
             "#9c179e"
            ],
            [
             0.4444444444444444,
             "#bd3786"
            ],
            [
             0.5555555555555556,
             "#d8576b"
            ],
            [
             0.6666666666666666,
             "#ed7953"
            ],
            [
             0.7777777777777778,
             "#fb9f3a"
            ],
            [
             0.8888888888888888,
             "#fdca26"
            ],
            [
             1,
             "#f0f921"
            ]
           ],
           "sequentialminus": [
            [
             0,
             "#0d0887"
            ],
            [
             0.1111111111111111,
             "#46039f"
            ],
            [
             0.2222222222222222,
             "#7201a8"
            ],
            [
             0.3333333333333333,
             "#9c179e"
            ],
            [
             0.4444444444444444,
             "#bd3786"
            ],
            [
             0.5555555555555556,
             "#d8576b"
            ],
            [
             0.6666666666666666,
             "#ed7953"
            ],
            [
             0.7777777777777778,
             "#fb9f3a"
            ],
            [
             0.8888888888888888,
             "#fdca26"
            ],
            [
             1,
             "#f0f921"
            ]
           ]
          },
          "colorway": [
           "#636efa",
           "#EF553B",
           "#00cc96",
           "#ab63fa",
           "#FFA15A",
           "#19d3f3",
           "#FF6692",
           "#B6E880",
           "#FF97FF",
           "#FECB52"
          ],
          "font": {
           "color": "#2a3f5f"
          },
          "geo": {
           "bgcolor": "white",
           "lakecolor": "white",
           "landcolor": "#E5ECF6",
           "showlakes": true,
           "showland": true,
           "subunitcolor": "white"
          },
          "hoverlabel": {
           "align": "left"
          },
          "hovermode": "closest",
          "mapbox": {
           "style": "light"
          },
          "paper_bgcolor": "white",
          "plot_bgcolor": "#E5ECF6",
          "polar": {
           "angularaxis": {
            "gridcolor": "white",
            "linecolor": "white",
            "ticks": ""
           },
           "bgcolor": "#E5ECF6",
           "radialaxis": {
            "gridcolor": "white",
            "linecolor": "white",
            "ticks": ""
           }
          },
          "scene": {
           "xaxis": {
            "backgroundcolor": "#E5ECF6",
            "gridcolor": "white",
            "gridwidth": 2,
            "linecolor": "white",
            "showbackground": true,
            "ticks": "",
            "zerolinecolor": "white"
           },
           "yaxis": {
            "backgroundcolor": "#E5ECF6",
            "gridcolor": "white",
            "gridwidth": 2,
            "linecolor": "white",
            "showbackground": true,
            "ticks": "",
            "zerolinecolor": "white"
           },
           "zaxis": {
            "backgroundcolor": "#E5ECF6",
            "gridcolor": "white",
            "gridwidth": 2,
            "linecolor": "white",
            "showbackground": true,
            "ticks": "",
            "zerolinecolor": "white"
           }
          },
          "shapedefaults": {
           "line": {
            "color": "#2a3f5f"
           }
          },
          "ternary": {
           "aaxis": {
            "gridcolor": "white",
            "linecolor": "white",
            "ticks": ""
           },
           "baxis": {
            "gridcolor": "white",
            "linecolor": "white",
            "ticks": ""
           },
           "bgcolor": "#E5ECF6",
           "caxis": {
            "gridcolor": "white",
            "linecolor": "white",
            "ticks": ""
           }
          },
          "title": {
           "x": 0.05
          },
          "xaxis": {
           "automargin": true,
           "gridcolor": "white",
           "linecolor": "white",
           "ticks": "",
           "title": {
            "standoff": 15
           },
           "zerolinecolor": "white",
           "zerolinewidth": 2
          },
          "yaxis": {
           "automargin": true,
           "gridcolor": "white",
           "linecolor": "white",
           "ticks": "",
           "title": {
            "standoff": 15
           },
           "zerolinecolor": "white",
           "zerolinewidth": 2
          }
         }
        },
        "title": {
         "font": {
          "color": "#4D5663"
         }
        },
        "xaxis": {
         "gridcolor": "#E1E5ED",
         "showgrid": true,
         "tickfont": {
          "color": "#4D5663"
         },
         "title": {
          "font": {
           "color": "#4D5663"
          },
          "text": ""
         },
         "zerolinecolor": "#E1E5ED"
        },
        "yaxis": {
         "gridcolor": "#E1E5ED",
         "showgrid": true,
         "tickfont": {
          "color": "#4D5663"
         },
         "title": {
          "font": {
           "color": "#4D5663"
          },
          "text": ""
         },
         "zerolinecolor": "#E1E5ED"
        }
       }
      },
      "text/html": [
       "<div>                            <div id=\"f7fff353-4ace-455a-af4d-3c7219e6852e\" class=\"plotly-graph-div\" style=\"height:525px; width:100%;\"></div>            <script type=\"text/javascript\">                require([\"plotly\"], function(Plotly) {                    window.PLOTLYENV=window.PLOTLYENV || {};\n",
       "                    window.PLOTLYENV.BASE_URL='https://plot.ly';                                    if (document.getElementById(\"f7fff353-4ace-455a-af4d-3c7219e6852e\")) {                    Plotly.newPlot(                        \"f7fff353-4ace-455a-af4d-3c7219e6852e\",                        [{\"line\":{\"color\":\"rgba(255, 153, 51, 1.0)\",\"dash\":\"solid\",\"shape\":\"linear\",\"width\":1.3},\"marker\":{\"size\":8,\"symbol\":\"circle\"},\"mode\":\"markers\",\"name\":\"B\",\"text\":\"\",\"x\":[0.886481626762867,-0.3499620218114763,-1.585776582814845,0.6484898454257476,-1.9979968441142282,0.1201311235502911,-0.4148740926620486,0.48602098140719663,-0.4421915736894337,1.2418778460177193,0.10118778876868344,-0.3818017352390294,-1.0889405954178286,-1.0775398374986283,0.7176163433204604,0.33913004139571756,-0.4032606079303681,-0.3637756464595728,-1.4718184440680067,0.713886037258169,0.19269588171664376,0.23304829932510332,0.5709190035735119,-1.8433915506663612,0.8324219856241711,-1.0757550291979756,0.5077556723582699,-0.44413901106422243,-1.0086197778973143,-1.4028236947855495,0.7121967790439677,0.3204505587958397,0.4445431803849003,-0.7710464998332621,-0.32331670313769884,-0.37674258119090615,-0.4248675218977924,0.40764947955994546,-1.3078826247959392,1.0601288365287158,-0.07365209559188851,-0.15604718500861364,0.6942083782207596,1.6486670014904792,-0.7077253997726066,1.2800832468714303,-0.9465578355996911,-0.20620629379940864,-0.7963607240498749,-0.36078265872225806,1.2110561274705427,-0.1104525081824256,-0.6700042401655598,0.5569922218535346,0.3089864141526496,-0.2255228252683958,-0.2420062158747075,1.422815466914821,0.1503362119866953,-0.08743388513554257,-2.0349797681611563,0.8458105742183093,1.5407511255122293,0.029309506747405435,0.8584238640416992,0.9580984168929361,-0.9005130295018315,-0.013473286256282085,-0.8038220434152606,0.5661970188353798,-0.41924053958573,-0.29814007571196643,-0.03279477170129877,0.29650560309755564,-0.5463247852636246,-0.7671606914275885,1.0529157002903464,0.7838311671342689,1.9802407213895976,0.47847443413408924,1.0458971972595335,-1.2475785868909688,-0.8810956529233439,-1.6642079892521435,0.7756690712728784,-0.14000153305790228,-0.298192880456967,0.6070013657895164,0.9080645827077884,0.7257777964960853,-2.3168928477995996,-0.23743985166319456,-0.6036935396622959,-1.022352491479891,1.11444393383111,1.145304707468234,-3.250282066368351,1.5221237939575507,0.14200502104205395,0.38571662007639357],\"y\":[-0.46449043768408943,0.3523981764252299,-2.3568287709836473,2.390595577632367,-0.9711494279100952,-0.598162370267831,-0.3968615131465438,-1.4678698356334754,-0.28684894742407796,0.9208405274368389,0.9624893523587785,-0.4726705970974675,-0.6879754336784105,-1.3738071612856435,0.15306973430517098,1.39271128590778,1.4306641888922735,-1.7229685803087822,0.876023771464418,-0.6803902408216923,-0.5941052879566986,0.12043446146704843,-0.28515613992993033,-0.32609061091749375,0.47425472148627396,-1.2522126657446717,-0.3243536009422392,0.5049793346016036,-0.04176998943973294,0.40192394612822196,-0.28054043055164984,0.14883547195933453,-0.12105123038966474,1.0343349745490065,0.5991071166463736,0.567778493863068,0.3037646239706531,-1.3719041517480557,-0.4436317499417215,0.38529293294782807,0.18887020024921888,-0.44131088434181726,-1.345417457240369,0.1950054187256295,0.008516791334651708,-0.030138945389232976,-0.052181696931563104,-0.28531533414502924,-0.3837973447267495,-0.07335949970633836,-0.5016619524152183,-0.07377196799595183,1.314600491631252,-0.5755533402380913,1.04234687914125,-1.9884263599852992,-0.4546812851638831,-0.9135355999965279,0.1202491772493144,0.2982883545760662,1.1759196674481656,0.1765180905394663,-0.1393540853360605,-1.6912307557741173,0.6517544039399077,-0.11723751480317693,0.225761143742028,2.575309512971,-0.38535401952248977,0.12673017985596988,-0.07216106803459287,1.5616852752254324,-1.0467543733046534,0.8101267949195068,-0.42749849903243314,-0.11251204442772755,-1.1106289672153369,0.3332379125685002,1.0663205215842115,-1.9046403985666256,1.8284597174145687,-0.6975813374405788,0.46500534847745456,0.2676519512599508,-0.9130053337789412,-0.1662797376110315,0.8053195931493092,-1.3026754192540417,0.15700431317050292,-1.207547463863445,0.3039178415683296,1.994212832448182,-0.14322280376679514,-1.0562473515513469,-1.2639667192364323,-0.8634228472340293,1.4018232890368303,-1.6562191518856821,-0.21648483960705828,-0.05978220684500359],\"type\":\"scatter\"}],                        {\"legend\":{\"bgcolor\":\"#F5F6F9\",\"font\":{\"color\":\"#4D5663\"}},\"paper_bgcolor\":\"#F5F6F9\",\"plot_bgcolor\":\"#F5F6F9\",\"template\":{\"data\":{\"barpolar\":[{\"marker\":{\"line\":{\"color\":\"#E5ECF6\",\"width\":0.5},\"pattern\":{\"fillmode\":\"overlay\",\"size\":10,\"solidity\":0.2}},\"type\":\"barpolar\"}],\"bar\":[{\"error_x\":{\"color\":\"#2a3f5f\"},\"error_y\":{\"color\":\"#2a3f5f\"},\"marker\":{\"line\":{\"color\":\"#E5ECF6\",\"width\":0.5},\"pattern\":{\"fillmode\":\"overlay\",\"size\":10,\"solidity\":0.2}},\"type\":\"bar\"}],\"carpet\":[{\"aaxis\":{\"endlinecolor\":\"#2a3f5f\",\"gridcolor\":\"white\",\"linecolor\":\"white\",\"minorgridcolor\":\"white\",\"startlinecolor\":\"#2a3f5f\"},\"baxis\":{\"endlinecolor\":\"#2a3f5f\",\"gridcolor\":\"white\",\"linecolor\":\"white\",\"minorgridcolor\":\"white\",\"startlinecolor\":\"#2a3f5f\"},\"type\":\"carpet\"}],\"choropleth\":[{\"colorbar\":{\"outlinewidth\":0,\"ticks\":\"\"},\"type\":\"choropleth\"}],\"contourcarpet\":[{\"colorbar\":{\"outlinewidth\":0,\"ticks\":\"\"},\"type\":\"contourcarpet\"}],\"contour\":[{\"colorbar\":{\"outlinewidth\":0,\"ticks\":\"\"},\"colorscale\":[[0.0,\"#0d0887\"],[0.1111111111111111,\"#46039f\"],[0.2222222222222222,\"#7201a8\"],[0.3333333333333333,\"#9c179e\"],[0.4444444444444444,\"#bd3786\"],[0.5555555555555556,\"#d8576b\"],[0.6666666666666666,\"#ed7953\"],[0.7777777777777778,\"#fb9f3a\"],[0.8888888888888888,\"#fdca26\"],[1.0,\"#f0f921\"]],\"type\":\"contour\"}],\"heatmapgl\":[{\"colorbar\":{\"outlinewidth\":0,\"ticks\":\"\"},\"colorscale\":[[0.0,\"#0d0887\"],[0.1111111111111111,\"#46039f\"],[0.2222222222222222,\"#7201a8\"],[0.3333333333333333,\"#9c179e\"],[0.4444444444444444,\"#bd3786\"],[0.5555555555555556,\"#d8576b\"],[0.6666666666666666,\"#ed7953\"],[0.7777777777777778,\"#fb9f3a\"],[0.8888888888888888,\"#fdca26\"],[1.0,\"#f0f921\"]],\"type\":\"heatmapgl\"}],\"heatmap\":[{\"colorbar\":{\"outlinewidth\":0,\"ticks\":\"\"},\"colorscale\":[[0.0,\"#0d0887\"],[0.1111111111111111,\"#46039f\"],[0.2222222222222222,\"#7201a8\"],[0.3333333333333333,\"#9c179e\"],[0.4444444444444444,\"#bd3786\"],[0.5555555555555556,\"#d8576b\"],[0.6666666666666666,\"#ed7953\"],[0.7777777777777778,\"#fb9f3a\"],[0.8888888888888888,\"#fdca26\"],[1.0,\"#f0f921\"]],\"type\":\"heatmap\"}],\"histogram2dcontour\":[{\"colorbar\":{\"outlinewidth\":0,\"ticks\":\"\"},\"colorscale\":[[0.0,\"#0d0887\"],[0.1111111111111111,\"#46039f\"],[0.2222222222222222,\"#7201a8\"],[0.3333333333333333,\"#9c179e\"],[0.4444444444444444,\"#bd3786\"],[0.5555555555555556,\"#d8576b\"],[0.6666666666666666,\"#ed7953\"],[0.7777777777777778,\"#fb9f3a\"],[0.8888888888888888,\"#fdca26\"],[1.0,\"#f0f921\"]],\"type\":\"histogram2dcontour\"}],\"histogram2d\":[{\"colorbar\":{\"outlinewidth\":0,\"ticks\":\"\"},\"colorscale\":[[0.0,\"#0d0887\"],[0.1111111111111111,\"#46039f\"],[0.2222222222222222,\"#7201a8\"],[0.3333333333333333,\"#9c179e\"],[0.4444444444444444,\"#bd3786\"],[0.5555555555555556,\"#d8576b\"],[0.6666666666666666,\"#ed7953\"],[0.7777777777777778,\"#fb9f3a\"],[0.8888888888888888,\"#fdca26\"],[1.0,\"#f0f921\"]],\"type\":\"histogram2d\"}],\"histogram\":[{\"marker\":{\"pattern\":{\"fillmode\":\"overlay\",\"size\":10,\"solidity\":0.2}},\"type\":\"histogram\"}],\"mesh3d\":[{\"colorbar\":{\"outlinewidth\":0,\"ticks\":\"\"},\"type\":\"mesh3d\"}],\"parcoords\":[{\"line\":{\"colorbar\":{\"outlinewidth\":0,\"ticks\":\"\"}},\"type\":\"parcoords\"}],\"pie\":[{\"automargin\":true,\"type\":\"pie\"}],\"scatter3d\":[{\"line\":{\"colorbar\":{\"outlinewidth\":0,\"ticks\":\"\"}},\"marker\":{\"colorbar\":{\"outlinewidth\":0,\"ticks\":\"\"}},\"type\":\"scatter3d\"}],\"scattercarpet\":[{\"marker\":{\"colorbar\":{\"outlinewidth\":0,\"ticks\":\"\"}},\"type\":\"scattercarpet\"}],\"scattergeo\":[{\"marker\":{\"colorbar\":{\"outlinewidth\":0,\"ticks\":\"\"}},\"type\":\"scattergeo\"}],\"scattergl\":[{\"marker\":{\"colorbar\":{\"outlinewidth\":0,\"ticks\":\"\"}},\"type\":\"scattergl\"}],\"scattermapbox\":[{\"marker\":{\"colorbar\":{\"outlinewidth\":0,\"ticks\":\"\"}},\"type\":\"scattermapbox\"}],\"scatterpolargl\":[{\"marker\":{\"colorbar\":{\"outlinewidth\":0,\"ticks\":\"\"}},\"type\":\"scatterpolargl\"}],\"scatterpolar\":[{\"marker\":{\"colorbar\":{\"outlinewidth\":0,\"ticks\":\"\"}},\"type\":\"scatterpolar\"}],\"scatter\":[{\"marker\":{\"colorbar\":{\"outlinewidth\":0,\"ticks\":\"\"}},\"type\":\"scatter\"}],\"scatterternary\":[{\"marker\":{\"colorbar\":{\"outlinewidth\":0,\"ticks\":\"\"}},\"type\":\"scatterternary\"}],\"surface\":[{\"colorbar\":{\"outlinewidth\":0,\"ticks\":\"\"},\"colorscale\":[[0.0,\"#0d0887\"],[0.1111111111111111,\"#46039f\"],[0.2222222222222222,\"#7201a8\"],[0.3333333333333333,\"#9c179e\"],[0.4444444444444444,\"#bd3786\"],[0.5555555555555556,\"#d8576b\"],[0.6666666666666666,\"#ed7953\"],[0.7777777777777778,\"#fb9f3a\"],[0.8888888888888888,\"#fdca26\"],[1.0,\"#f0f921\"]],\"type\":\"surface\"}],\"table\":[{\"cells\":{\"fill\":{\"color\":\"#EBF0F8\"},\"line\":{\"color\":\"white\"}},\"header\":{\"fill\":{\"color\":\"#C8D4E3\"},\"line\":{\"color\":\"white\"}},\"type\":\"table\"}]},\"layout\":{\"annotationdefaults\":{\"arrowcolor\":\"#2a3f5f\",\"arrowhead\":0,\"arrowwidth\":1},\"autotypenumbers\":\"strict\",\"coloraxis\":{\"colorbar\":{\"outlinewidth\":0,\"ticks\":\"\"}},\"colorscale\":{\"diverging\":[[0,\"#8e0152\"],[0.1,\"#c51b7d\"],[0.2,\"#de77ae\"],[0.3,\"#f1b6da\"],[0.4,\"#fde0ef\"],[0.5,\"#f7f7f7\"],[0.6,\"#e6f5d0\"],[0.7,\"#b8e186\"],[0.8,\"#7fbc41\"],[0.9,\"#4d9221\"],[1,\"#276419\"]],\"sequential\":[[0.0,\"#0d0887\"],[0.1111111111111111,\"#46039f\"],[0.2222222222222222,\"#7201a8\"],[0.3333333333333333,\"#9c179e\"],[0.4444444444444444,\"#bd3786\"],[0.5555555555555556,\"#d8576b\"],[0.6666666666666666,\"#ed7953\"],[0.7777777777777778,\"#fb9f3a\"],[0.8888888888888888,\"#fdca26\"],[1.0,\"#f0f921\"]],\"sequentialminus\":[[0.0,\"#0d0887\"],[0.1111111111111111,\"#46039f\"],[0.2222222222222222,\"#7201a8\"],[0.3333333333333333,\"#9c179e\"],[0.4444444444444444,\"#bd3786\"],[0.5555555555555556,\"#d8576b\"],[0.6666666666666666,\"#ed7953\"],[0.7777777777777778,\"#fb9f3a\"],[0.8888888888888888,\"#fdca26\"],[1.0,\"#f0f921\"]]},\"colorway\":[\"#636efa\",\"#EF553B\",\"#00cc96\",\"#ab63fa\",\"#FFA15A\",\"#19d3f3\",\"#FF6692\",\"#B6E880\",\"#FF97FF\",\"#FECB52\"],\"font\":{\"color\":\"#2a3f5f\"},\"geo\":{\"bgcolor\":\"white\",\"lakecolor\":\"white\",\"landcolor\":\"#E5ECF6\",\"showlakes\":true,\"showland\":true,\"subunitcolor\":\"white\"},\"hoverlabel\":{\"align\":\"left\"},\"hovermode\":\"closest\",\"mapbox\":{\"style\":\"light\"},\"paper_bgcolor\":\"white\",\"plot_bgcolor\":\"#E5ECF6\",\"polar\":{\"angularaxis\":{\"gridcolor\":\"white\",\"linecolor\":\"white\",\"ticks\":\"\"},\"bgcolor\":\"#E5ECF6\",\"radialaxis\":{\"gridcolor\":\"white\",\"linecolor\":\"white\",\"ticks\":\"\"}},\"scene\":{\"xaxis\":{\"backgroundcolor\":\"#E5ECF6\",\"gridcolor\":\"white\",\"gridwidth\":2,\"linecolor\":\"white\",\"showbackground\":true,\"ticks\":\"\",\"zerolinecolor\":\"white\"},\"yaxis\":{\"backgroundcolor\":\"#E5ECF6\",\"gridcolor\":\"white\",\"gridwidth\":2,\"linecolor\":\"white\",\"showbackground\":true,\"ticks\":\"\",\"zerolinecolor\":\"white\"},\"zaxis\":{\"backgroundcolor\":\"#E5ECF6\",\"gridcolor\":\"white\",\"gridwidth\":2,\"linecolor\":\"white\",\"showbackground\":true,\"ticks\":\"\",\"zerolinecolor\":\"white\"}},\"shapedefaults\":{\"line\":{\"color\":\"#2a3f5f\"}},\"ternary\":{\"aaxis\":{\"gridcolor\":\"white\",\"linecolor\":\"white\",\"ticks\":\"\"},\"baxis\":{\"gridcolor\":\"white\",\"linecolor\":\"white\",\"ticks\":\"\"},\"bgcolor\":\"#E5ECF6\",\"caxis\":{\"gridcolor\":\"white\",\"linecolor\":\"white\",\"ticks\":\"\"}},\"title\":{\"x\":0.05},\"xaxis\":{\"automargin\":true,\"gridcolor\":\"white\",\"linecolor\":\"white\",\"ticks\":\"\",\"title\":{\"standoff\":15},\"zerolinecolor\":\"white\",\"zerolinewidth\":2},\"yaxis\":{\"automargin\":true,\"gridcolor\":\"white\",\"linecolor\":\"white\",\"ticks\":\"\",\"title\":{\"standoff\":15},\"zerolinecolor\":\"white\",\"zerolinewidth\":2}}},\"title\":{\"font\":{\"color\":\"#4D5663\"}},\"xaxis\":{\"gridcolor\":\"#E1E5ED\",\"showgrid\":true,\"tickfont\":{\"color\":\"#4D5663\"},\"title\":{\"font\":{\"color\":\"#4D5663\"},\"text\":\"\"},\"zerolinecolor\":\"#E1E5ED\"},\"yaxis\":{\"gridcolor\":\"#E1E5ED\",\"showgrid\":true,\"tickfont\":{\"color\":\"#4D5663\"},\"title\":{\"font\":{\"color\":\"#4D5663\"},\"text\":\"\"},\"zerolinecolor\":\"#E1E5ED\"}},                        {\"showLink\": true, \"linkText\": \"Export to plot.ly\", \"plotlyServerURL\": \"https://plot.ly\", \"responsive\": true}                    ).then(function(){\n",
       "                            \n",
       "var gd = document.getElementById('f7fff353-4ace-455a-af4d-3c7219e6852e');\n",
       "var x = new MutationObserver(function (mutations, observer) {{\n",
       "        var display = window.getComputedStyle(gd).display;\n",
       "        if (!display || display === 'none') {{\n",
       "            console.log([gd, 'removed!']);\n",
       "            Plotly.purge(gd);\n",
       "            observer.disconnect();\n",
       "        }}\n",
       "}});\n",
       "\n",
       "// Listen for the removal of the full notebook cells\n",
       "var notebookContainer = gd.closest('#notebook-container');\n",
       "if (notebookContainer) {{\n",
       "    x.observe(notebookContainer, {childList: true});\n",
       "}}\n",
       "\n",
       "// Listen for the clearing of the current output cell\n",
       "var outputEl = gd.closest('.output');\n",
       "if (outputEl) {{\n",
       "    x.observe(outputEl, {childList: true});\n",
       "}}\n",
       "\n",
       "                        })                };                });            </script>        </div>"
      ]
     },
     "metadata": {},
     "output_type": "display_data"
    }
   ],
   "source": [
    "#to set a custom size for the markers, use the argument size, it's an optional argument.\n",
    "df.iplot(kind='scatter', x='A', y='B', mode='markers', size=8)"
   ]
  },
  {
   "cell_type": "code",
   "execution_count": 10,
   "metadata": {},
   "outputs": [
    {
     "data": {
      "application/vnd.plotly.v1+json": {
       "config": {
        "linkText": "Export to plot.ly",
        "plotlyServerURL": "https://plot.ly",
        "showLink": true
       },
       "data": [
        {
         "marker": {
          "color": "rgba(255, 153, 51, 0.6)",
          "line": {
           "color": "rgba(255, 153, 51, 1.0)",
           "width": 1
          }
         },
         "name": "Values",
         "orientation": "v",
         "text": "",
         "type": "bar",
         "x": [
          "A",
          "B",
          "C"
         ],
         "y": [
          32,
          43,
          50
         ]
        }
       ],
       "layout": {
        "legend": {
         "bgcolor": "#F5F6F9",
         "font": {
          "color": "#4D5663"
         }
        },
        "paper_bgcolor": "#F5F6F9",
        "plot_bgcolor": "#F5F6F9",
        "template": {
         "data": {
          "bar": [
           {
            "error_x": {
             "color": "#2a3f5f"
            },
            "error_y": {
             "color": "#2a3f5f"
            },
            "marker": {
             "line": {
              "color": "#E5ECF6",
              "width": 0.5
             },
             "pattern": {
              "fillmode": "overlay",
              "size": 10,
              "solidity": 0.2
             }
            },
            "type": "bar"
           }
          ],
          "barpolar": [
           {
            "marker": {
             "line": {
              "color": "#E5ECF6",
              "width": 0.5
             },
             "pattern": {
              "fillmode": "overlay",
              "size": 10,
              "solidity": 0.2
             }
            },
            "type": "barpolar"
           }
          ],
          "carpet": [
           {
            "aaxis": {
             "endlinecolor": "#2a3f5f",
             "gridcolor": "white",
             "linecolor": "white",
             "minorgridcolor": "white",
             "startlinecolor": "#2a3f5f"
            },
            "baxis": {
             "endlinecolor": "#2a3f5f",
             "gridcolor": "white",
             "linecolor": "white",
             "minorgridcolor": "white",
             "startlinecolor": "#2a3f5f"
            },
            "type": "carpet"
           }
          ],
          "choropleth": [
           {
            "colorbar": {
             "outlinewidth": 0,
             "ticks": ""
            },
            "type": "choropleth"
           }
          ],
          "contour": [
           {
            "colorbar": {
             "outlinewidth": 0,
             "ticks": ""
            },
            "colorscale": [
             [
              0,
              "#0d0887"
             ],
             [
              0.1111111111111111,
              "#46039f"
             ],
             [
              0.2222222222222222,
              "#7201a8"
             ],
             [
              0.3333333333333333,
              "#9c179e"
             ],
             [
              0.4444444444444444,
              "#bd3786"
             ],
             [
              0.5555555555555556,
              "#d8576b"
             ],
             [
              0.6666666666666666,
              "#ed7953"
             ],
             [
              0.7777777777777778,
              "#fb9f3a"
             ],
             [
              0.8888888888888888,
              "#fdca26"
             ],
             [
              1,
              "#f0f921"
             ]
            ],
            "type": "contour"
           }
          ],
          "contourcarpet": [
           {
            "colorbar": {
             "outlinewidth": 0,
             "ticks": ""
            },
            "type": "contourcarpet"
           }
          ],
          "heatmap": [
           {
            "colorbar": {
             "outlinewidth": 0,
             "ticks": ""
            },
            "colorscale": [
             [
              0,
              "#0d0887"
             ],
             [
              0.1111111111111111,
              "#46039f"
             ],
             [
              0.2222222222222222,
              "#7201a8"
             ],
             [
              0.3333333333333333,
              "#9c179e"
             ],
             [
              0.4444444444444444,
              "#bd3786"
             ],
             [
              0.5555555555555556,
              "#d8576b"
             ],
             [
              0.6666666666666666,
              "#ed7953"
             ],
             [
              0.7777777777777778,
              "#fb9f3a"
             ],
             [
              0.8888888888888888,
              "#fdca26"
             ],
             [
              1,
              "#f0f921"
             ]
            ],
            "type": "heatmap"
           }
          ],
          "heatmapgl": [
           {
            "colorbar": {
             "outlinewidth": 0,
             "ticks": ""
            },
            "colorscale": [
             [
              0,
              "#0d0887"
             ],
             [
              0.1111111111111111,
              "#46039f"
             ],
             [
              0.2222222222222222,
              "#7201a8"
             ],
             [
              0.3333333333333333,
              "#9c179e"
             ],
             [
              0.4444444444444444,
              "#bd3786"
             ],
             [
              0.5555555555555556,
              "#d8576b"
             ],
             [
              0.6666666666666666,
              "#ed7953"
             ],
             [
              0.7777777777777778,
              "#fb9f3a"
             ],
             [
              0.8888888888888888,
              "#fdca26"
             ],
             [
              1,
              "#f0f921"
             ]
            ],
            "type": "heatmapgl"
           }
          ],
          "histogram": [
           {
            "marker": {
             "pattern": {
              "fillmode": "overlay",
              "size": 10,
              "solidity": 0.2
             }
            },
            "type": "histogram"
           }
          ],
          "histogram2d": [
           {
            "colorbar": {
             "outlinewidth": 0,
             "ticks": ""
            },
            "colorscale": [
             [
              0,
              "#0d0887"
             ],
             [
              0.1111111111111111,
              "#46039f"
             ],
             [
              0.2222222222222222,
              "#7201a8"
             ],
             [
              0.3333333333333333,
              "#9c179e"
             ],
             [
              0.4444444444444444,
              "#bd3786"
             ],
             [
              0.5555555555555556,
              "#d8576b"
             ],
             [
              0.6666666666666666,
              "#ed7953"
             ],
             [
              0.7777777777777778,
              "#fb9f3a"
             ],
             [
              0.8888888888888888,
              "#fdca26"
             ],
             [
              1,
              "#f0f921"
             ]
            ],
            "type": "histogram2d"
           }
          ],
          "histogram2dcontour": [
           {
            "colorbar": {
             "outlinewidth": 0,
             "ticks": ""
            },
            "colorscale": [
             [
              0,
              "#0d0887"
             ],
             [
              0.1111111111111111,
              "#46039f"
             ],
             [
              0.2222222222222222,
              "#7201a8"
             ],
             [
              0.3333333333333333,
              "#9c179e"
             ],
             [
              0.4444444444444444,
              "#bd3786"
             ],
             [
              0.5555555555555556,
              "#d8576b"
             ],
             [
              0.6666666666666666,
              "#ed7953"
             ],
             [
              0.7777777777777778,
              "#fb9f3a"
             ],
             [
              0.8888888888888888,
              "#fdca26"
             ],
             [
              1,
              "#f0f921"
             ]
            ],
            "type": "histogram2dcontour"
           }
          ],
          "mesh3d": [
           {
            "colorbar": {
             "outlinewidth": 0,
             "ticks": ""
            },
            "type": "mesh3d"
           }
          ],
          "parcoords": [
           {
            "line": {
             "colorbar": {
              "outlinewidth": 0,
              "ticks": ""
             }
            },
            "type": "parcoords"
           }
          ],
          "pie": [
           {
            "automargin": true,
            "type": "pie"
           }
          ],
          "scatter": [
           {
            "marker": {
             "colorbar": {
              "outlinewidth": 0,
              "ticks": ""
             }
            },
            "type": "scatter"
           }
          ],
          "scatter3d": [
           {
            "line": {
             "colorbar": {
              "outlinewidth": 0,
              "ticks": ""
             }
            },
            "marker": {
             "colorbar": {
              "outlinewidth": 0,
              "ticks": ""
             }
            },
            "type": "scatter3d"
           }
          ],
          "scattercarpet": [
           {
            "marker": {
             "colorbar": {
              "outlinewidth": 0,
              "ticks": ""
             }
            },
            "type": "scattercarpet"
           }
          ],
          "scattergeo": [
           {
            "marker": {
             "colorbar": {
              "outlinewidth": 0,
              "ticks": ""
             }
            },
            "type": "scattergeo"
           }
          ],
          "scattergl": [
           {
            "marker": {
             "colorbar": {
              "outlinewidth": 0,
              "ticks": ""
             }
            },
            "type": "scattergl"
           }
          ],
          "scattermapbox": [
           {
            "marker": {
             "colorbar": {
              "outlinewidth": 0,
              "ticks": ""
             }
            },
            "type": "scattermapbox"
           }
          ],
          "scatterpolar": [
           {
            "marker": {
             "colorbar": {
              "outlinewidth": 0,
              "ticks": ""
             }
            },
            "type": "scatterpolar"
           }
          ],
          "scatterpolargl": [
           {
            "marker": {
             "colorbar": {
              "outlinewidth": 0,
              "ticks": ""
             }
            },
            "type": "scatterpolargl"
           }
          ],
          "scatterternary": [
           {
            "marker": {
             "colorbar": {
              "outlinewidth": 0,
              "ticks": ""
             }
            },
            "type": "scatterternary"
           }
          ],
          "surface": [
           {
            "colorbar": {
             "outlinewidth": 0,
             "ticks": ""
            },
            "colorscale": [
             [
              0,
              "#0d0887"
             ],
             [
              0.1111111111111111,
              "#46039f"
             ],
             [
              0.2222222222222222,
              "#7201a8"
             ],
             [
              0.3333333333333333,
              "#9c179e"
             ],
             [
              0.4444444444444444,
              "#bd3786"
             ],
             [
              0.5555555555555556,
              "#d8576b"
             ],
             [
              0.6666666666666666,
              "#ed7953"
             ],
             [
              0.7777777777777778,
              "#fb9f3a"
             ],
             [
              0.8888888888888888,
              "#fdca26"
             ],
             [
              1,
              "#f0f921"
             ]
            ],
            "type": "surface"
           }
          ],
          "table": [
           {
            "cells": {
             "fill": {
              "color": "#EBF0F8"
             },
             "line": {
              "color": "white"
             }
            },
            "header": {
             "fill": {
              "color": "#C8D4E3"
             },
             "line": {
              "color": "white"
             }
            },
            "type": "table"
           }
          ]
         },
         "layout": {
          "annotationdefaults": {
           "arrowcolor": "#2a3f5f",
           "arrowhead": 0,
           "arrowwidth": 1
          },
          "autotypenumbers": "strict",
          "coloraxis": {
           "colorbar": {
            "outlinewidth": 0,
            "ticks": ""
           }
          },
          "colorscale": {
           "diverging": [
            [
             0,
             "#8e0152"
            ],
            [
             0.1,
             "#c51b7d"
            ],
            [
             0.2,
             "#de77ae"
            ],
            [
             0.3,
             "#f1b6da"
            ],
            [
             0.4,
             "#fde0ef"
            ],
            [
             0.5,
             "#f7f7f7"
            ],
            [
             0.6,
             "#e6f5d0"
            ],
            [
             0.7,
             "#b8e186"
            ],
            [
             0.8,
             "#7fbc41"
            ],
            [
             0.9,
             "#4d9221"
            ],
            [
             1,
             "#276419"
            ]
           ],
           "sequential": [
            [
             0,
             "#0d0887"
            ],
            [
             0.1111111111111111,
             "#46039f"
            ],
            [
             0.2222222222222222,
             "#7201a8"
            ],
            [
             0.3333333333333333,
             "#9c179e"
            ],
            [
             0.4444444444444444,
             "#bd3786"
            ],
            [
             0.5555555555555556,
             "#d8576b"
            ],
            [
             0.6666666666666666,
             "#ed7953"
            ],
            [
             0.7777777777777778,
             "#fb9f3a"
            ],
            [
             0.8888888888888888,
             "#fdca26"
            ],
            [
             1,
             "#f0f921"
            ]
           ],
           "sequentialminus": [
            [
             0,
             "#0d0887"
            ],
            [
             0.1111111111111111,
             "#46039f"
            ],
            [
             0.2222222222222222,
             "#7201a8"
            ],
            [
             0.3333333333333333,
             "#9c179e"
            ],
            [
             0.4444444444444444,
             "#bd3786"
            ],
            [
             0.5555555555555556,
             "#d8576b"
            ],
            [
             0.6666666666666666,
             "#ed7953"
            ],
            [
             0.7777777777777778,
             "#fb9f3a"
            ],
            [
             0.8888888888888888,
             "#fdca26"
            ],
            [
             1,
             "#f0f921"
            ]
           ]
          },
          "colorway": [
           "#636efa",
           "#EF553B",
           "#00cc96",
           "#ab63fa",
           "#FFA15A",
           "#19d3f3",
           "#FF6692",
           "#B6E880",
           "#FF97FF",
           "#FECB52"
          ],
          "font": {
           "color": "#2a3f5f"
          },
          "geo": {
           "bgcolor": "white",
           "lakecolor": "white",
           "landcolor": "#E5ECF6",
           "showlakes": true,
           "showland": true,
           "subunitcolor": "white"
          },
          "hoverlabel": {
           "align": "left"
          },
          "hovermode": "closest",
          "mapbox": {
           "style": "light"
          },
          "paper_bgcolor": "white",
          "plot_bgcolor": "#E5ECF6",
          "polar": {
           "angularaxis": {
            "gridcolor": "white",
            "linecolor": "white",
            "ticks": ""
           },
           "bgcolor": "#E5ECF6",
           "radialaxis": {
            "gridcolor": "white",
            "linecolor": "white",
            "ticks": ""
           }
          },
          "scene": {
           "xaxis": {
            "backgroundcolor": "#E5ECF6",
            "gridcolor": "white",
            "gridwidth": 2,
            "linecolor": "white",
            "showbackground": true,
            "ticks": "",
            "zerolinecolor": "white"
           },
           "yaxis": {
            "backgroundcolor": "#E5ECF6",
            "gridcolor": "white",
            "gridwidth": 2,
            "linecolor": "white",
            "showbackground": true,
            "ticks": "",
            "zerolinecolor": "white"
           },
           "zaxis": {
            "backgroundcolor": "#E5ECF6",
            "gridcolor": "white",
            "gridwidth": 2,
            "linecolor": "white",
            "showbackground": true,
            "ticks": "",
            "zerolinecolor": "white"
           }
          },
          "shapedefaults": {
           "line": {
            "color": "#2a3f5f"
           }
          },
          "ternary": {
           "aaxis": {
            "gridcolor": "white",
            "linecolor": "white",
            "ticks": ""
           },
           "baxis": {
            "gridcolor": "white",
            "linecolor": "white",
            "ticks": ""
           },
           "bgcolor": "#E5ECF6",
           "caxis": {
            "gridcolor": "white",
            "linecolor": "white",
            "ticks": ""
           }
          },
          "title": {
           "x": 0.05
          },
          "xaxis": {
           "automargin": true,
           "gridcolor": "white",
           "linecolor": "white",
           "ticks": "",
           "title": {
            "standoff": 15
           },
           "zerolinecolor": "white",
           "zerolinewidth": 2
          },
          "yaxis": {
           "automargin": true,
           "gridcolor": "white",
           "linecolor": "white",
           "ticks": "",
           "title": {
            "standoff": 15
           },
           "zerolinecolor": "white",
           "zerolinewidth": 2
          }
         }
        },
        "title": {
         "font": {
          "color": "#4D5663"
         }
        },
        "xaxis": {
         "gridcolor": "#E1E5ED",
         "showgrid": true,
         "tickfont": {
          "color": "#4D5663"
         },
         "title": {
          "font": {
           "color": "#4D5663"
          },
          "text": ""
         },
         "zerolinecolor": "#E1E5ED"
        },
        "yaxis": {
         "gridcolor": "#E1E5ED",
         "showgrid": true,
         "tickfont": {
          "color": "#4D5663"
         },
         "title": {
          "font": {
           "color": "#4D5663"
          },
          "text": ""
         },
         "zerolinecolor": "#E1E5ED"
        }
       }
      },
      "text/html": [
       "<div>                            <div id=\"f1d1b0fb-dfc2-4ea8-9300-7651f8a46a11\" class=\"plotly-graph-div\" style=\"height:525px; width:100%;\"></div>            <script type=\"text/javascript\">                require([\"plotly\"], function(Plotly) {                    window.PLOTLYENV=window.PLOTLYENV || {};\n",
       "                    window.PLOTLYENV.BASE_URL='https://plot.ly';                                    if (document.getElementById(\"f1d1b0fb-dfc2-4ea8-9300-7651f8a46a11\")) {                    Plotly.newPlot(                        \"f1d1b0fb-dfc2-4ea8-9300-7651f8a46a11\",                        [{\"marker\":{\"color\":\"rgba(255, 153, 51, 0.6)\",\"line\":{\"color\":\"rgba(255, 153, 51, 1.0)\",\"width\":1}},\"name\":\"Values\",\"orientation\":\"v\",\"text\":\"\",\"x\":[\"A\",\"B\",\"C\"],\"y\":[32,43,50],\"type\":\"bar\"}],                        {\"legend\":{\"bgcolor\":\"#F5F6F9\",\"font\":{\"color\":\"#4D5663\"}},\"paper_bgcolor\":\"#F5F6F9\",\"plot_bgcolor\":\"#F5F6F9\",\"template\":{\"data\":{\"barpolar\":[{\"marker\":{\"line\":{\"color\":\"#E5ECF6\",\"width\":0.5},\"pattern\":{\"fillmode\":\"overlay\",\"size\":10,\"solidity\":0.2}},\"type\":\"barpolar\"}],\"bar\":[{\"error_x\":{\"color\":\"#2a3f5f\"},\"error_y\":{\"color\":\"#2a3f5f\"},\"marker\":{\"line\":{\"color\":\"#E5ECF6\",\"width\":0.5},\"pattern\":{\"fillmode\":\"overlay\",\"size\":10,\"solidity\":0.2}},\"type\":\"bar\"}],\"carpet\":[{\"aaxis\":{\"endlinecolor\":\"#2a3f5f\",\"gridcolor\":\"white\",\"linecolor\":\"white\",\"minorgridcolor\":\"white\",\"startlinecolor\":\"#2a3f5f\"},\"baxis\":{\"endlinecolor\":\"#2a3f5f\",\"gridcolor\":\"white\",\"linecolor\":\"white\",\"minorgridcolor\":\"white\",\"startlinecolor\":\"#2a3f5f\"},\"type\":\"carpet\"}],\"choropleth\":[{\"colorbar\":{\"outlinewidth\":0,\"ticks\":\"\"},\"type\":\"choropleth\"}],\"contourcarpet\":[{\"colorbar\":{\"outlinewidth\":0,\"ticks\":\"\"},\"type\":\"contourcarpet\"}],\"contour\":[{\"colorbar\":{\"outlinewidth\":0,\"ticks\":\"\"},\"colorscale\":[[0.0,\"#0d0887\"],[0.1111111111111111,\"#46039f\"],[0.2222222222222222,\"#7201a8\"],[0.3333333333333333,\"#9c179e\"],[0.4444444444444444,\"#bd3786\"],[0.5555555555555556,\"#d8576b\"],[0.6666666666666666,\"#ed7953\"],[0.7777777777777778,\"#fb9f3a\"],[0.8888888888888888,\"#fdca26\"],[1.0,\"#f0f921\"]],\"type\":\"contour\"}],\"heatmapgl\":[{\"colorbar\":{\"outlinewidth\":0,\"ticks\":\"\"},\"colorscale\":[[0.0,\"#0d0887\"],[0.1111111111111111,\"#46039f\"],[0.2222222222222222,\"#7201a8\"],[0.3333333333333333,\"#9c179e\"],[0.4444444444444444,\"#bd3786\"],[0.5555555555555556,\"#d8576b\"],[0.6666666666666666,\"#ed7953\"],[0.7777777777777778,\"#fb9f3a\"],[0.8888888888888888,\"#fdca26\"],[1.0,\"#f0f921\"]],\"type\":\"heatmapgl\"}],\"heatmap\":[{\"colorbar\":{\"outlinewidth\":0,\"ticks\":\"\"},\"colorscale\":[[0.0,\"#0d0887\"],[0.1111111111111111,\"#46039f\"],[0.2222222222222222,\"#7201a8\"],[0.3333333333333333,\"#9c179e\"],[0.4444444444444444,\"#bd3786\"],[0.5555555555555556,\"#d8576b\"],[0.6666666666666666,\"#ed7953\"],[0.7777777777777778,\"#fb9f3a\"],[0.8888888888888888,\"#fdca26\"],[1.0,\"#f0f921\"]],\"type\":\"heatmap\"}],\"histogram2dcontour\":[{\"colorbar\":{\"outlinewidth\":0,\"ticks\":\"\"},\"colorscale\":[[0.0,\"#0d0887\"],[0.1111111111111111,\"#46039f\"],[0.2222222222222222,\"#7201a8\"],[0.3333333333333333,\"#9c179e\"],[0.4444444444444444,\"#bd3786\"],[0.5555555555555556,\"#d8576b\"],[0.6666666666666666,\"#ed7953\"],[0.7777777777777778,\"#fb9f3a\"],[0.8888888888888888,\"#fdca26\"],[1.0,\"#f0f921\"]],\"type\":\"histogram2dcontour\"}],\"histogram2d\":[{\"colorbar\":{\"outlinewidth\":0,\"ticks\":\"\"},\"colorscale\":[[0.0,\"#0d0887\"],[0.1111111111111111,\"#46039f\"],[0.2222222222222222,\"#7201a8\"],[0.3333333333333333,\"#9c179e\"],[0.4444444444444444,\"#bd3786\"],[0.5555555555555556,\"#d8576b\"],[0.6666666666666666,\"#ed7953\"],[0.7777777777777778,\"#fb9f3a\"],[0.8888888888888888,\"#fdca26\"],[1.0,\"#f0f921\"]],\"type\":\"histogram2d\"}],\"histogram\":[{\"marker\":{\"pattern\":{\"fillmode\":\"overlay\",\"size\":10,\"solidity\":0.2}},\"type\":\"histogram\"}],\"mesh3d\":[{\"colorbar\":{\"outlinewidth\":0,\"ticks\":\"\"},\"type\":\"mesh3d\"}],\"parcoords\":[{\"line\":{\"colorbar\":{\"outlinewidth\":0,\"ticks\":\"\"}},\"type\":\"parcoords\"}],\"pie\":[{\"automargin\":true,\"type\":\"pie\"}],\"scatter3d\":[{\"line\":{\"colorbar\":{\"outlinewidth\":0,\"ticks\":\"\"}},\"marker\":{\"colorbar\":{\"outlinewidth\":0,\"ticks\":\"\"}},\"type\":\"scatter3d\"}],\"scattercarpet\":[{\"marker\":{\"colorbar\":{\"outlinewidth\":0,\"ticks\":\"\"}},\"type\":\"scattercarpet\"}],\"scattergeo\":[{\"marker\":{\"colorbar\":{\"outlinewidth\":0,\"ticks\":\"\"}},\"type\":\"scattergeo\"}],\"scattergl\":[{\"marker\":{\"colorbar\":{\"outlinewidth\":0,\"ticks\":\"\"}},\"type\":\"scattergl\"}],\"scattermapbox\":[{\"marker\":{\"colorbar\":{\"outlinewidth\":0,\"ticks\":\"\"}},\"type\":\"scattermapbox\"}],\"scatterpolargl\":[{\"marker\":{\"colorbar\":{\"outlinewidth\":0,\"ticks\":\"\"}},\"type\":\"scatterpolargl\"}],\"scatterpolar\":[{\"marker\":{\"colorbar\":{\"outlinewidth\":0,\"ticks\":\"\"}},\"type\":\"scatterpolar\"}],\"scatter\":[{\"marker\":{\"colorbar\":{\"outlinewidth\":0,\"ticks\":\"\"}},\"type\":\"scatter\"}],\"scatterternary\":[{\"marker\":{\"colorbar\":{\"outlinewidth\":0,\"ticks\":\"\"}},\"type\":\"scatterternary\"}],\"surface\":[{\"colorbar\":{\"outlinewidth\":0,\"ticks\":\"\"},\"colorscale\":[[0.0,\"#0d0887\"],[0.1111111111111111,\"#46039f\"],[0.2222222222222222,\"#7201a8\"],[0.3333333333333333,\"#9c179e\"],[0.4444444444444444,\"#bd3786\"],[0.5555555555555556,\"#d8576b\"],[0.6666666666666666,\"#ed7953\"],[0.7777777777777778,\"#fb9f3a\"],[0.8888888888888888,\"#fdca26\"],[1.0,\"#f0f921\"]],\"type\":\"surface\"}],\"table\":[{\"cells\":{\"fill\":{\"color\":\"#EBF0F8\"},\"line\":{\"color\":\"white\"}},\"header\":{\"fill\":{\"color\":\"#C8D4E3\"},\"line\":{\"color\":\"white\"}},\"type\":\"table\"}]},\"layout\":{\"annotationdefaults\":{\"arrowcolor\":\"#2a3f5f\",\"arrowhead\":0,\"arrowwidth\":1},\"autotypenumbers\":\"strict\",\"coloraxis\":{\"colorbar\":{\"outlinewidth\":0,\"ticks\":\"\"}},\"colorscale\":{\"diverging\":[[0,\"#8e0152\"],[0.1,\"#c51b7d\"],[0.2,\"#de77ae\"],[0.3,\"#f1b6da\"],[0.4,\"#fde0ef\"],[0.5,\"#f7f7f7\"],[0.6,\"#e6f5d0\"],[0.7,\"#b8e186\"],[0.8,\"#7fbc41\"],[0.9,\"#4d9221\"],[1,\"#276419\"]],\"sequential\":[[0.0,\"#0d0887\"],[0.1111111111111111,\"#46039f\"],[0.2222222222222222,\"#7201a8\"],[0.3333333333333333,\"#9c179e\"],[0.4444444444444444,\"#bd3786\"],[0.5555555555555556,\"#d8576b\"],[0.6666666666666666,\"#ed7953\"],[0.7777777777777778,\"#fb9f3a\"],[0.8888888888888888,\"#fdca26\"],[1.0,\"#f0f921\"]],\"sequentialminus\":[[0.0,\"#0d0887\"],[0.1111111111111111,\"#46039f\"],[0.2222222222222222,\"#7201a8\"],[0.3333333333333333,\"#9c179e\"],[0.4444444444444444,\"#bd3786\"],[0.5555555555555556,\"#d8576b\"],[0.6666666666666666,\"#ed7953\"],[0.7777777777777778,\"#fb9f3a\"],[0.8888888888888888,\"#fdca26\"],[1.0,\"#f0f921\"]]},\"colorway\":[\"#636efa\",\"#EF553B\",\"#00cc96\",\"#ab63fa\",\"#FFA15A\",\"#19d3f3\",\"#FF6692\",\"#B6E880\",\"#FF97FF\",\"#FECB52\"],\"font\":{\"color\":\"#2a3f5f\"},\"geo\":{\"bgcolor\":\"white\",\"lakecolor\":\"white\",\"landcolor\":\"#E5ECF6\",\"showlakes\":true,\"showland\":true,\"subunitcolor\":\"white\"},\"hoverlabel\":{\"align\":\"left\"},\"hovermode\":\"closest\",\"mapbox\":{\"style\":\"light\"},\"paper_bgcolor\":\"white\",\"plot_bgcolor\":\"#E5ECF6\",\"polar\":{\"angularaxis\":{\"gridcolor\":\"white\",\"linecolor\":\"white\",\"ticks\":\"\"},\"bgcolor\":\"#E5ECF6\",\"radialaxis\":{\"gridcolor\":\"white\",\"linecolor\":\"white\",\"ticks\":\"\"}},\"scene\":{\"xaxis\":{\"backgroundcolor\":\"#E5ECF6\",\"gridcolor\":\"white\",\"gridwidth\":2,\"linecolor\":\"white\",\"showbackground\":true,\"ticks\":\"\",\"zerolinecolor\":\"white\"},\"yaxis\":{\"backgroundcolor\":\"#E5ECF6\",\"gridcolor\":\"white\",\"gridwidth\":2,\"linecolor\":\"white\",\"showbackground\":true,\"ticks\":\"\",\"zerolinecolor\":\"white\"},\"zaxis\":{\"backgroundcolor\":\"#E5ECF6\",\"gridcolor\":\"white\",\"gridwidth\":2,\"linecolor\":\"white\",\"showbackground\":true,\"ticks\":\"\",\"zerolinecolor\":\"white\"}},\"shapedefaults\":{\"line\":{\"color\":\"#2a3f5f\"}},\"ternary\":{\"aaxis\":{\"gridcolor\":\"white\",\"linecolor\":\"white\",\"ticks\":\"\"},\"baxis\":{\"gridcolor\":\"white\",\"linecolor\":\"white\",\"ticks\":\"\"},\"bgcolor\":\"#E5ECF6\",\"caxis\":{\"gridcolor\":\"white\",\"linecolor\":\"white\",\"ticks\":\"\"}},\"title\":{\"x\":0.05},\"xaxis\":{\"automargin\":true,\"gridcolor\":\"white\",\"linecolor\":\"white\",\"ticks\":\"\",\"title\":{\"standoff\":15},\"zerolinecolor\":\"white\",\"zerolinewidth\":2},\"yaxis\":{\"automargin\":true,\"gridcolor\":\"white\",\"linecolor\":\"white\",\"ticks\":\"\",\"title\":{\"standoff\":15},\"zerolinecolor\":\"white\",\"zerolinewidth\":2}}},\"title\":{\"font\":{\"color\":\"#4D5663\"}},\"xaxis\":{\"gridcolor\":\"#E1E5ED\",\"showgrid\":true,\"tickfont\":{\"color\":\"#4D5663\"},\"title\":{\"font\":{\"color\":\"#4D5663\"},\"text\":\"\"},\"zerolinecolor\":\"#E1E5ED\"},\"yaxis\":{\"gridcolor\":\"#E1E5ED\",\"showgrid\":true,\"tickfont\":{\"color\":\"#4D5663\"},\"title\":{\"font\":{\"color\":\"#4D5663\"},\"text\":\"\"},\"zerolinecolor\":\"#E1E5ED\"}},                        {\"showLink\": true, \"linkText\": \"Export to plot.ly\", \"plotlyServerURL\": \"https://plot.ly\", \"responsive\": true}                    ).then(function(){\n",
       "                            \n",
       "var gd = document.getElementById('f1d1b0fb-dfc2-4ea8-9300-7651f8a46a11');\n",
       "var x = new MutationObserver(function (mutations, observer) {{\n",
       "        var display = window.getComputedStyle(gd).display;\n",
       "        if (!display || display === 'none') {{\n",
       "            console.log([gd, 'removed!']);\n",
       "            Plotly.purge(gd);\n",
       "            observer.disconnect();\n",
       "        }}\n",
       "}});\n",
       "\n",
       "// Listen for the removal of the full notebook cells\n",
       "var notebookContainer = gd.closest('#notebook-container');\n",
       "if (notebookContainer) {{\n",
       "    x.observe(notebookContainer, {childList: true});\n",
       "}}\n",
       "\n",
       "// Listen for the clearing of the current output cell\n",
       "var outputEl = gd.closest('.output');\n",
       "if (outputEl) {{\n",
       "    x.observe(outputEl, {childList: true});\n",
       "}}\n",
       "\n",
       "                        })                };                });            </script>        </div>"
      ]
     },
     "metadata": {},
     "output_type": "display_data"
    }
   ],
   "source": [
    "df2.iplot(kind='bar', x='Category', y='Values')"
   ]
  },
  {
   "cell_type": "code",
   "execution_count": 11,
   "metadata": {},
   "outputs": [
    {
     "data": {
      "application/vnd.plotly.v1+json": {
       "config": {
        "linkText": "Export to plot.ly",
        "plotlyServerURL": "https://plot.ly",
        "showLink": true
       },
       "data": [
        {
         "marker": {
          "color": "rgba(255, 153, 51, 0.6)",
          "line": {
           "color": "rgba(255, 153, 51, 1.0)",
           "width": 1
          }
         },
         "name": "None",
         "orientation": "v",
         "text": "",
         "type": "bar",
         "x": [
          "A",
          "B",
          "C",
          "D"
         ],
         "y": [
          -5.0451226719490645,
          -8.079663385902322,
          -16.503029875394564,
          -28.783545121222744
         ]
        }
       ],
       "layout": {
        "legend": {
         "bgcolor": "#F5F6F9",
         "font": {
          "color": "#4D5663"
         }
        },
        "paper_bgcolor": "#F5F6F9",
        "plot_bgcolor": "#F5F6F9",
        "template": {
         "data": {
          "bar": [
           {
            "error_x": {
             "color": "#2a3f5f"
            },
            "error_y": {
             "color": "#2a3f5f"
            },
            "marker": {
             "line": {
              "color": "#E5ECF6",
              "width": 0.5
             },
             "pattern": {
              "fillmode": "overlay",
              "size": 10,
              "solidity": 0.2
             }
            },
            "type": "bar"
           }
          ],
          "barpolar": [
           {
            "marker": {
             "line": {
              "color": "#E5ECF6",
              "width": 0.5
             },
             "pattern": {
              "fillmode": "overlay",
              "size": 10,
              "solidity": 0.2
             }
            },
            "type": "barpolar"
           }
          ],
          "carpet": [
           {
            "aaxis": {
             "endlinecolor": "#2a3f5f",
             "gridcolor": "white",
             "linecolor": "white",
             "minorgridcolor": "white",
             "startlinecolor": "#2a3f5f"
            },
            "baxis": {
             "endlinecolor": "#2a3f5f",
             "gridcolor": "white",
             "linecolor": "white",
             "minorgridcolor": "white",
             "startlinecolor": "#2a3f5f"
            },
            "type": "carpet"
           }
          ],
          "choropleth": [
           {
            "colorbar": {
             "outlinewidth": 0,
             "ticks": ""
            },
            "type": "choropleth"
           }
          ],
          "contour": [
           {
            "colorbar": {
             "outlinewidth": 0,
             "ticks": ""
            },
            "colorscale": [
             [
              0,
              "#0d0887"
             ],
             [
              0.1111111111111111,
              "#46039f"
             ],
             [
              0.2222222222222222,
              "#7201a8"
             ],
             [
              0.3333333333333333,
              "#9c179e"
             ],
             [
              0.4444444444444444,
              "#bd3786"
             ],
             [
              0.5555555555555556,
              "#d8576b"
             ],
             [
              0.6666666666666666,
              "#ed7953"
             ],
             [
              0.7777777777777778,
              "#fb9f3a"
             ],
             [
              0.8888888888888888,
              "#fdca26"
             ],
             [
              1,
              "#f0f921"
             ]
            ],
            "type": "contour"
           }
          ],
          "contourcarpet": [
           {
            "colorbar": {
             "outlinewidth": 0,
             "ticks": ""
            },
            "type": "contourcarpet"
           }
          ],
          "heatmap": [
           {
            "colorbar": {
             "outlinewidth": 0,
             "ticks": ""
            },
            "colorscale": [
             [
              0,
              "#0d0887"
             ],
             [
              0.1111111111111111,
              "#46039f"
             ],
             [
              0.2222222222222222,
              "#7201a8"
             ],
             [
              0.3333333333333333,
              "#9c179e"
             ],
             [
              0.4444444444444444,
              "#bd3786"
             ],
             [
              0.5555555555555556,
              "#d8576b"
             ],
             [
              0.6666666666666666,
              "#ed7953"
             ],
             [
              0.7777777777777778,
              "#fb9f3a"
             ],
             [
              0.8888888888888888,
              "#fdca26"
             ],
             [
              1,
              "#f0f921"
             ]
            ],
            "type": "heatmap"
           }
          ],
          "heatmapgl": [
           {
            "colorbar": {
             "outlinewidth": 0,
             "ticks": ""
            },
            "colorscale": [
             [
              0,
              "#0d0887"
             ],
             [
              0.1111111111111111,
              "#46039f"
             ],
             [
              0.2222222222222222,
              "#7201a8"
             ],
             [
              0.3333333333333333,
              "#9c179e"
             ],
             [
              0.4444444444444444,
              "#bd3786"
             ],
             [
              0.5555555555555556,
              "#d8576b"
             ],
             [
              0.6666666666666666,
              "#ed7953"
             ],
             [
              0.7777777777777778,
              "#fb9f3a"
             ],
             [
              0.8888888888888888,
              "#fdca26"
             ],
             [
              1,
              "#f0f921"
             ]
            ],
            "type": "heatmapgl"
           }
          ],
          "histogram": [
           {
            "marker": {
             "pattern": {
              "fillmode": "overlay",
              "size": 10,
              "solidity": 0.2
             }
            },
            "type": "histogram"
           }
          ],
          "histogram2d": [
           {
            "colorbar": {
             "outlinewidth": 0,
             "ticks": ""
            },
            "colorscale": [
             [
              0,
              "#0d0887"
             ],
             [
              0.1111111111111111,
              "#46039f"
             ],
             [
              0.2222222222222222,
              "#7201a8"
             ],
             [
              0.3333333333333333,
              "#9c179e"
             ],
             [
              0.4444444444444444,
              "#bd3786"
             ],
             [
              0.5555555555555556,
              "#d8576b"
             ],
             [
              0.6666666666666666,
              "#ed7953"
             ],
             [
              0.7777777777777778,
              "#fb9f3a"
             ],
             [
              0.8888888888888888,
              "#fdca26"
             ],
             [
              1,
              "#f0f921"
             ]
            ],
            "type": "histogram2d"
           }
          ],
          "histogram2dcontour": [
           {
            "colorbar": {
             "outlinewidth": 0,
             "ticks": ""
            },
            "colorscale": [
             [
              0,
              "#0d0887"
             ],
             [
              0.1111111111111111,
              "#46039f"
             ],
             [
              0.2222222222222222,
              "#7201a8"
             ],
             [
              0.3333333333333333,
              "#9c179e"
             ],
             [
              0.4444444444444444,
              "#bd3786"
             ],
             [
              0.5555555555555556,
              "#d8576b"
             ],
             [
              0.6666666666666666,
              "#ed7953"
             ],
             [
              0.7777777777777778,
              "#fb9f3a"
             ],
             [
              0.8888888888888888,
              "#fdca26"
             ],
             [
              1,
              "#f0f921"
             ]
            ],
            "type": "histogram2dcontour"
           }
          ],
          "mesh3d": [
           {
            "colorbar": {
             "outlinewidth": 0,
             "ticks": ""
            },
            "type": "mesh3d"
           }
          ],
          "parcoords": [
           {
            "line": {
             "colorbar": {
              "outlinewidth": 0,
              "ticks": ""
             }
            },
            "type": "parcoords"
           }
          ],
          "pie": [
           {
            "automargin": true,
            "type": "pie"
           }
          ],
          "scatter": [
           {
            "marker": {
             "colorbar": {
              "outlinewidth": 0,
              "ticks": ""
             }
            },
            "type": "scatter"
           }
          ],
          "scatter3d": [
           {
            "line": {
             "colorbar": {
              "outlinewidth": 0,
              "ticks": ""
             }
            },
            "marker": {
             "colorbar": {
              "outlinewidth": 0,
              "ticks": ""
             }
            },
            "type": "scatter3d"
           }
          ],
          "scattercarpet": [
           {
            "marker": {
             "colorbar": {
              "outlinewidth": 0,
              "ticks": ""
             }
            },
            "type": "scattercarpet"
           }
          ],
          "scattergeo": [
           {
            "marker": {
             "colorbar": {
              "outlinewidth": 0,
              "ticks": ""
             }
            },
            "type": "scattergeo"
           }
          ],
          "scattergl": [
           {
            "marker": {
             "colorbar": {
              "outlinewidth": 0,
              "ticks": ""
             }
            },
            "type": "scattergl"
           }
          ],
          "scattermapbox": [
           {
            "marker": {
             "colorbar": {
              "outlinewidth": 0,
              "ticks": ""
             }
            },
            "type": "scattermapbox"
           }
          ],
          "scatterpolar": [
           {
            "marker": {
             "colorbar": {
              "outlinewidth": 0,
              "ticks": ""
             }
            },
            "type": "scatterpolar"
           }
          ],
          "scatterpolargl": [
           {
            "marker": {
             "colorbar": {
              "outlinewidth": 0,
              "ticks": ""
             }
            },
            "type": "scatterpolargl"
           }
          ],
          "scatterternary": [
           {
            "marker": {
             "colorbar": {
              "outlinewidth": 0,
              "ticks": ""
             }
            },
            "type": "scatterternary"
           }
          ],
          "surface": [
           {
            "colorbar": {
             "outlinewidth": 0,
             "ticks": ""
            },
            "colorscale": [
             [
              0,
              "#0d0887"
             ],
             [
              0.1111111111111111,
              "#46039f"
             ],
             [
              0.2222222222222222,
              "#7201a8"
             ],
             [
              0.3333333333333333,
              "#9c179e"
             ],
             [
              0.4444444444444444,
              "#bd3786"
             ],
             [
              0.5555555555555556,
              "#d8576b"
             ],
             [
              0.6666666666666666,
              "#ed7953"
             ],
             [
              0.7777777777777778,
              "#fb9f3a"
             ],
             [
              0.8888888888888888,
              "#fdca26"
             ],
             [
              1,
              "#f0f921"
             ]
            ],
            "type": "surface"
           }
          ],
          "table": [
           {
            "cells": {
             "fill": {
              "color": "#EBF0F8"
             },
             "line": {
              "color": "white"
             }
            },
            "header": {
             "fill": {
              "color": "#C8D4E3"
             },
             "line": {
              "color": "white"
             }
            },
            "type": "table"
           }
          ]
         },
         "layout": {
          "annotationdefaults": {
           "arrowcolor": "#2a3f5f",
           "arrowhead": 0,
           "arrowwidth": 1
          },
          "autotypenumbers": "strict",
          "coloraxis": {
           "colorbar": {
            "outlinewidth": 0,
            "ticks": ""
           }
          },
          "colorscale": {
           "diverging": [
            [
             0,
             "#8e0152"
            ],
            [
             0.1,
             "#c51b7d"
            ],
            [
             0.2,
             "#de77ae"
            ],
            [
             0.3,
             "#f1b6da"
            ],
            [
             0.4,
             "#fde0ef"
            ],
            [
             0.5,
             "#f7f7f7"
            ],
            [
             0.6,
             "#e6f5d0"
            ],
            [
             0.7,
             "#b8e186"
            ],
            [
             0.8,
             "#7fbc41"
            ],
            [
             0.9,
             "#4d9221"
            ],
            [
             1,
             "#276419"
            ]
           ],
           "sequential": [
            [
             0,
             "#0d0887"
            ],
            [
             0.1111111111111111,
             "#46039f"
            ],
            [
             0.2222222222222222,
             "#7201a8"
            ],
            [
             0.3333333333333333,
             "#9c179e"
            ],
            [
             0.4444444444444444,
             "#bd3786"
            ],
            [
             0.5555555555555556,
             "#d8576b"
            ],
            [
             0.6666666666666666,
             "#ed7953"
            ],
            [
             0.7777777777777778,
             "#fb9f3a"
            ],
            [
             0.8888888888888888,
             "#fdca26"
            ],
            [
             1,
             "#f0f921"
            ]
           ],
           "sequentialminus": [
            [
             0,
             "#0d0887"
            ],
            [
             0.1111111111111111,
             "#46039f"
            ],
            [
             0.2222222222222222,
             "#7201a8"
            ],
            [
             0.3333333333333333,
             "#9c179e"
            ],
            [
             0.4444444444444444,
             "#bd3786"
            ],
            [
             0.5555555555555556,
             "#d8576b"
            ],
            [
             0.6666666666666666,
             "#ed7953"
            ],
            [
             0.7777777777777778,
             "#fb9f3a"
            ],
            [
             0.8888888888888888,
             "#fdca26"
            ],
            [
             1,
             "#f0f921"
            ]
           ]
          },
          "colorway": [
           "#636efa",
           "#EF553B",
           "#00cc96",
           "#ab63fa",
           "#FFA15A",
           "#19d3f3",
           "#FF6692",
           "#B6E880",
           "#FF97FF",
           "#FECB52"
          ],
          "font": {
           "color": "#2a3f5f"
          },
          "geo": {
           "bgcolor": "white",
           "lakecolor": "white",
           "landcolor": "#E5ECF6",
           "showlakes": true,
           "showland": true,
           "subunitcolor": "white"
          },
          "hoverlabel": {
           "align": "left"
          },
          "hovermode": "closest",
          "mapbox": {
           "style": "light"
          },
          "paper_bgcolor": "white",
          "plot_bgcolor": "#E5ECF6",
          "polar": {
           "angularaxis": {
            "gridcolor": "white",
            "linecolor": "white",
            "ticks": ""
           },
           "bgcolor": "#E5ECF6",
           "radialaxis": {
            "gridcolor": "white",
            "linecolor": "white",
            "ticks": ""
           }
          },
          "scene": {
           "xaxis": {
            "backgroundcolor": "#E5ECF6",
            "gridcolor": "white",
            "gridwidth": 2,
            "linecolor": "white",
            "showbackground": true,
            "ticks": "",
            "zerolinecolor": "white"
           },
           "yaxis": {
            "backgroundcolor": "#E5ECF6",
            "gridcolor": "white",
            "gridwidth": 2,
            "linecolor": "white",
            "showbackground": true,
            "ticks": "",
            "zerolinecolor": "white"
           },
           "zaxis": {
            "backgroundcolor": "#E5ECF6",
            "gridcolor": "white",
            "gridwidth": 2,
            "linecolor": "white",
            "showbackground": true,
            "ticks": "",
            "zerolinecolor": "white"
           }
          },
          "shapedefaults": {
           "line": {
            "color": "#2a3f5f"
           }
          },
          "ternary": {
           "aaxis": {
            "gridcolor": "white",
            "linecolor": "white",
            "ticks": ""
           },
           "baxis": {
            "gridcolor": "white",
            "linecolor": "white",
            "ticks": ""
           },
           "bgcolor": "#E5ECF6",
           "caxis": {
            "gridcolor": "white",
            "linecolor": "white",
            "ticks": ""
           }
          },
          "title": {
           "x": 0.05
          },
          "xaxis": {
           "automargin": true,
           "gridcolor": "white",
           "linecolor": "white",
           "ticks": "",
           "title": {
            "standoff": 15
           },
           "zerolinecolor": "white",
           "zerolinewidth": 2
          },
          "yaxis": {
           "automargin": true,
           "gridcolor": "white",
           "linecolor": "white",
           "ticks": "",
           "title": {
            "standoff": 15
           },
           "zerolinecolor": "white",
           "zerolinewidth": 2
          }
         }
        },
        "title": {
         "font": {
          "color": "#4D5663"
         }
        },
        "xaxis": {
         "gridcolor": "#E1E5ED",
         "showgrid": true,
         "tickfont": {
          "color": "#4D5663"
         },
         "title": {
          "font": {
           "color": "#4D5663"
          },
          "text": ""
         },
         "zerolinecolor": "#E1E5ED"
        },
        "yaxis": {
         "gridcolor": "#E1E5ED",
         "showgrid": true,
         "tickfont": {
          "color": "#4D5663"
         },
         "title": {
          "font": {
           "color": "#4D5663"
          },
          "text": ""
         },
         "zerolinecolor": "#E1E5ED"
        }
       }
      },
      "text/html": [
       "<div>                            <div id=\"8a25d1ad-6783-4dc0-9418-db495532704a\" class=\"plotly-graph-div\" style=\"height:525px; width:100%;\"></div>            <script type=\"text/javascript\">                require([\"plotly\"], function(Plotly) {                    window.PLOTLYENV=window.PLOTLYENV || {};\n",
       "                    window.PLOTLYENV.BASE_URL='https://plot.ly';                                    if (document.getElementById(\"8a25d1ad-6783-4dc0-9418-db495532704a\")) {                    Plotly.newPlot(                        \"8a25d1ad-6783-4dc0-9418-db495532704a\",                        [{\"marker\":{\"color\":\"rgba(255, 153, 51, 0.6)\",\"line\":{\"color\":\"rgba(255, 153, 51, 1.0)\",\"width\":1}},\"name\":\"None\",\"orientation\":\"v\",\"text\":\"\",\"x\":[\"A\",\"B\",\"C\",\"D\"],\"y\":[-5.0451226719490645,-8.079663385902322,-16.503029875394564,-28.783545121222744],\"type\":\"bar\"}],                        {\"legend\":{\"bgcolor\":\"#F5F6F9\",\"font\":{\"color\":\"#4D5663\"}},\"paper_bgcolor\":\"#F5F6F9\",\"plot_bgcolor\":\"#F5F6F9\",\"template\":{\"data\":{\"barpolar\":[{\"marker\":{\"line\":{\"color\":\"#E5ECF6\",\"width\":0.5},\"pattern\":{\"fillmode\":\"overlay\",\"size\":10,\"solidity\":0.2}},\"type\":\"barpolar\"}],\"bar\":[{\"error_x\":{\"color\":\"#2a3f5f\"},\"error_y\":{\"color\":\"#2a3f5f\"},\"marker\":{\"line\":{\"color\":\"#E5ECF6\",\"width\":0.5},\"pattern\":{\"fillmode\":\"overlay\",\"size\":10,\"solidity\":0.2}},\"type\":\"bar\"}],\"carpet\":[{\"aaxis\":{\"endlinecolor\":\"#2a3f5f\",\"gridcolor\":\"white\",\"linecolor\":\"white\",\"minorgridcolor\":\"white\",\"startlinecolor\":\"#2a3f5f\"},\"baxis\":{\"endlinecolor\":\"#2a3f5f\",\"gridcolor\":\"white\",\"linecolor\":\"white\",\"minorgridcolor\":\"white\",\"startlinecolor\":\"#2a3f5f\"},\"type\":\"carpet\"}],\"choropleth\":[{\"colorbar\":{\"outlinewidth\":0,\"ticks\":\"\"},\"type\":\"choropleth\"}],\"contourcarpet\":[{\"colorbar\":{\"outlinewidth\":0,\"ticks\":\"\"},\"type\":\"contourcarpet\"}],\"contour\":[{\"colorbar\":{\"outlinewidth\":0,\"ticks\":\"\"},\"colorscale\":[[0.0,\"#0d0887\"],[0.1111111111111111,\"#46039f\"],[0.2222222222222222,\"#7201a8\"],[0.3333333333333333,\"#9c179e\"],[0.4444444444444444,\"#bd3786\"],[0.5555555555555556,\"#d8576b\"],[0.6666666666666666,\"#ed7953\"],[0.7777777777777778,\"#fb9f3a\"],[0.8888888888888888,\"#fdca26\"],[1.0,\"#f0f921\"]],\"type\":\"contour\"}],\"heatmapgl\":[{\"colorbar\":{\"outlinewidth\":0,\"ticks\":\"\"},\"colorscale\":[[0.0,\"#0d0887\"],[0.1111111111111111,\"#46039f\"],[0.2222222222222222,\"#7201a8\"],[0.3333333333333333,\"#9c179e\"],[0.4444444444444444,\"#bd3786\"],[0.5555555555555556,\"#d8576b\"],[0.6666666666666666,\"#ed7953\"],[0.7777777777777778,\"#fb9f3a\"],[0.8888888888888888,\"#fdca26\"],[1.0,\"#f0f921\"]],\"type\":\"heatmapgl\"}],\"heatmap\":[{\"colorbar\":{\"outlinewidth\":0,\"ticks\":\"\"},\"colorscale\":[[0.0,\"#0d0887\"],[0.1111111111111111,\"#46039f\"],[0.2222222222222222,\"#7201a8\"],[0.3333333333333333,\"#9c179e\"],[0.4444444444444444,\"#bd3786\"],[0.5555555555555556,\"#d8576b\"],[0.6666666666666666,\"#ed7953\"],[0.7777777777777778,\"#fb9f3a\"],[0.8888888888888888,\"#fdca26\"],[1.0,\"#f0f921\"]],\"type\":\"heatmap\"}],\"histogram2dcontour\":[{\"colorbar\":{\"outlinewidth\":0,\"ticks\":\"\"},\"colorscale\":[[0.0,\"#0d0887\"],[0.1111111111111111,\"#46039f\"],[0.2222222222222222,\"#7201a8\"],[0.3333333333333333,\"#9c179e\"],[0.4444444444444444,\"#bd3786\"],[0.5555555555555556,\"#d8576b\"],[0.6666666666666666,\"#ed7953\"],[0.7777777777777778,\"#fb9f3a\"],[0.8888888888888888,\"#fdca26\"],[1.0,\"#f0f921\"]],\"type\":\"histogram2dcontour\"}],\"histogram2d\":[{\"colorbar\":{\"outlinewidth\":0,\"ticks\":\"\"},\"colorscale\":[[0.0,\"#0d0887\"],[0.1111111111111111,\"#46039f\"],[0.2222222222222222,\"#7201a8\"],[0.3333333333333333,\"#9c179e\"],[0.4444444444444444,\"#bd3786\"],[0.5555555555555556,\"#d8576b\"],[0.6666666666666666,\"#ed7953\"],[0.7777777777777778,\"#fb9f3a\"],[0.8888888888888888,\"#fdca26\"],[1.0,\"#f0f921\"]],\"type\":\"histogram2d\"}],\"histogram\":[{\"marker\":{\"pattern\":{\"fillmode\":\"overlay\",\"size\":10,\"solidity\":0.2}},\"type\":\"histogram\"}],\"mesh3d\":[{\"colorbar\":{\"outlinewidth\":0,\"ticks\":\"\"},\"type\":\"mesh3d\"}],\"parcoords\":[{\"line\":{\"colorbar\":{\"outlinewidth\":0,\"ticks\":\"\"}},\"type\":\"parcoords\"}],\"pie\":[{\"automargin\":true,\"type\":\"pie\"}],\"scatter3d\":[{\"line\":{\"colorbar\":{\"outlinewidth\":0,\"ticks\":\"\"}},\"marker\":{\"colorbar\":{\"outlinewidth\":0,\"ticks\":\"\"}},\"type\":\"scatter3d\"}],\"scattercarpet\":[{\"marker\":{\"colorbar\":{\"outlinewidth\":0,\"ticks\":\"\"}},\"type\":\"scattercarpet\"}],\"scattergeo\":[{\"marker\":{\"colorbar\":{\"outlinewidth\":0,\"ticks\":\"\"}},\"type\":\"scattergeo\"}],\"scattergl\":[{\"marker\":{\"colorbar\":{\"outlinewidth\":0,\"ticks\":\"\"}},\"type\":\"scattergl\"}],\"scattermapbox\":[{\"marker\":{\"colorbar\":{\"outlinewidth\":0,\"ticks\":\"\"}},\"type\":\"scattermapbox\"}],\"scatterpolargl\":[{\"marker\":{\"colorbar\":{\"outlinewidth\":0,\"ticks\":\"\"}},\"type\":\"scatterpolargl\"}],\"scatterpolar\":[{\"marker\":{\"colorbar\":{\"outlinewidth\":0,\"ticks\":\"\"}},\"type\":\"scatterpolar\"}],\"scatter\":[{\"marker\":{\"colorbar\":{\"outlinewidth\":0,\"ticks\":\"\"}},\"type\":\"scatter\"}],\"scatterternary\":[{\"marker\":{\"colorbar\":{\"outlinewidth\":0,\"ticks\":\"\"}},\"type\":\"scatterternary\"}],\"surface\":[{\"colorbar\":{\"outlinewidth\":0,\"ticks\":\"\"},\"colorscale\":[[0.0,\"#0d0887\"],[0.1111111111111111,\"#46039f\"],[0.2222222222222222,\"#7201a8\"],[0.3333333333333333,\"#9c179e\"],[0.4444444444444444,\"#bd3786\"],[0.5555555555555556,\"#d8576b\"],[0.6666666666666666,\"#ed7953\"],[0.7777777777777778,\"#fb9f3a\"],[0.8888888888888888,\"#fdca26\"],[1.0,\"#f0f921\"]],\"type\":\"surface\"}],\"table\":[{\"cells\":{\"fill\":{\"color\":\"#EBF0F8\"},\"line\":{\"color\":\"white\"}},\"header\":{\"fill\":{\"color\":\"#C8D4E3\"},\"line\":{\"color\":\"white\"}},\"type\":\"table\"}]},\"layout\":{\"annotationdefaults\":{\"arrowcolor\":\"#2a3f5f\",\"arrowhead\":0,\"arrowwidth\":1},\"autotypenumbers\":\"strict\",\"coloraxis\":{\"colorbar\":{\"outlinewidth\":0,\"ticks\":\"\"}},\"colorscale\":{\"diverging\":[[0,\"#8e0152\"],[0.1,\"#c51b7d\"],[0.2,\"#de77ae\"],[0.3,\"#f1b6da\"],[0.4,\"#fde0ef\"],[0.5,\"#f7f7f7\"],[0.6,\"#e6f5d0\"],[0.7,\"#b8e186\"],[0.8,\"#7fbc41\"],[0.9,\"#4d9221\"],[1,\"#276419\"]],\"sequential\":[[0.0,\"#0d0887\"],[0.1111111111111111,\"#46039f\"],[0.2222222222222222,\"#7201a8\"],[0.3333333333333333,\"#9c179e\"],[0.4444444444444444,\"#bd3786\"],[0.5555555555555556,\"#d8576b\"],[0.6666666666666666,\"#ed7953\"],[0.7777777777777778,\"#fb9f3a\"],[0.8888888888888888,\"#fdca26\"],[1.0,\"#f0f921\"]],\"sequentialminus\":[[0.0,\"#0d0887\"],[0.1111111111111111,\"#46039f\"],[0.2222222222222222,\"#7201a8\"],[0.3333333333333333,\"#9c179e\"],[0.4444444444444444,\"#bd3786\"],[0.5555555555555556,\"#d8576b\"],[0.6666666666666666,\"#ed7953\"],[0.7777777777777778,\"#fb9f3a\"],[0.8888888888888888,\"#fdca26\"],[1.0,\"#f0f921\"]]},\"colorway\":[\"#636efa\",\"#EF553B\",\"#00cc96\",\"#ab63fa\",\"#FFA15A\",\"#19d3f3\",\"#FF6692\",\"#B6E880\",\"#FF97FF\",\"#FECB52\"],\"font\":{\"color\":\"#2a3f5f\"},\"geo\":{\"bgcolor\":\"white\",\"lakecolor\":\"white\",\"landcolor\":\"#E5ECF6\",\"showlakes\":true,\"showland\":true,\"subunitcolor\":\"white\"},\"hoverlabel\":{\"align\":\"left\"},\"hovermode\":\"closest\",\"mapbox\":{\"style\":\"light\"},\"paper_bgcolor\":\"white\",\"plot_bgcolor\":\"#E5ECF6\",\"polar\":{\"angularaxis\":{\"gridcolor\":\"white\",\"linecolor\":\"white\",\"ticks\":\"\"},\"bgcolor\":\"#E5ECF6\",\"radialaxis\":{\"gridcolor\":\"white\",\"linecolor\":\"white\",\"ticks\":\"\"}},\"scene\":{\"xaxis\":{\"backgroundcolor\":\"#E5ECF6\",\"gridcolor\":\"white\",\"gridwidth\":2,\"linecolor\":\"white\",\"showbackground\":true,\"ticks\":\"\",\"zerolinecolor\":\"white\"},\"yaxis\":{\"backgroundcolor\":\"#E5ECF6\",\"gridcolor\":\"white\",\"gridwidth\":2,\"linecolor\":\"white\",\"showbackground\":true,\"ticks\":\"\",\"zerolinecolor\":\"white\"},\"zaxis\":{\"backgroundcolor\":\"#E5ECF6\",\"gridcolor\":\"white\",\"gridwidth\":2,\"linecolor\":\"white\",\"showbackground\":true,\"ticks\":\"\",\"zerolinecolor\":\"white\"}},\"shapedefaults\":{\"line\":{\"color\":\"#2a3f5f\"}},\"ternary\":{\"aaxis\":{\"gridcolor\":\"white\",\"linecolor\":\"white\",\"ticks\":\"\"},\"baxis\":{\"gridcolor\":\"white\",\"linecolor\":\"white\",\"ticks\":\"\"},\"bgcolor\":\"#E5ECF6\",\"caxis\":{\"gridcolor\":\"white\",\"linecolor\":\"white\",\"ticks\":\"\"}},\"title\":{\"x\":0.05},\"xaxis\":{\"automargin\":true,\"gridcolor\":\"white\",\"linecolor\":\"white\",\"ticks\":\"\",\"title\":{\"standoff\":15},\"zerolinecolor\":\"white\",\"zerolinewidth\":2},\"yaxis\":{\"automargin\":true,\"gridcolor\":\"white\",\"linecolor\":\"white\",\"ticks\":\"\",\"title\":{\"standoff\":15},\"zerolinecolor\":\"white\",\"zerolinewidth\":2}}},\"title\":{\"font\":{\"color\":\"#4D5663\"}},\"xaxis\":{\"gridcolor\":\"#E1E5ED\",\"showgrid\":true,\"tickfont\":{\"color\":\"#4D5663\"},\"title\":{\"font\":{\"color\":\"#4D5663\"},\"text\":\"\"},\"zerolinecolor\":\"#E1E5ED\"},\"yaxis\":{\"gridcolor\":\"#E1E5ED\",\"showgrid\":true,\"tickfont\":{\"color\":\"#4D5663\"},\"title\":{\"font\":{\"color\":\"#4D5663\"},\"text\":\"\"},\"zerolinecolor\":\"#E1E5ED\"}},                        {\"showLink\": true, \"linkText\": \"Export to plot.ly\", \"plotlyServerURL\": \"https://plot.ly\", \"responsive\": true}                    ).then(function(){\n",
       "                            \n",
       "var gd = document.getElementById('8a25d1ad-6783-4dc0-9418-db495532704a');\n",
       "var x = new MutationObserver(function (mutations, observer) {{\n",
       "        var display = window.getComputedStyle(gd).display;\n",
       "        if (!display || display === 'none') {{\n",
       "            console.log([gd, 'removed!']);\n",
       "            Plotly.purge(gd);\n",
       "            observer.disconnect();\n",
       "        }}\n",
       "}});\n",
       "\n",
       "// Listen for the removal of the full notebook cells\n",
       "var notebookContainer = gd.closest('#notebook-container');\n",
       "if (notebookContainer) {{\n",
       "    x.observe(notebookContainer, {childList: true});\n",
       "}}\n",
       "\n",
       "// Listen for the clearing of the current output cell\n",
       "var outputEl = gd.closest('.output');\n",
       "if (outputEl) {{\n",
       "    x.observe(outputEl, {childList: true});\n",
       "}}\n",
       "\n",
       "                        })                };                });            </script>        </div>"
      ]
     },
     "metadata": {},
     "output_type": "display_data"
    }
   ],
   "source": [
    "#to call a aggregate or a group by function on a dataset, use df.func().iplot()\n",
    "df.sum().iplot(kind='bar')"
   ]
  },
  {
   "cell_type": "code",
   "execution_count": 18,
   "metadata": {},
   "outputs": [
    {
     "data": {
      "application/vnd.plotly.v1+json": {
       "config": {
        "linkText": "Export to plot.ly",
        "plotlyServerURL": "https://plot.ly",
        "showLink": true
       },
       "data": [
        {
         "boxpoints": false,
         "line": {
          "width": 1.3
         },
         "marker": {
          "color": "rgba(255, 153, 51, 1.0)"
         },
         "name": "A",
         "orientation": "v",
         "type": "box",
         "y": [
          0.886481626762867,
          -0.3499620218114763,
          -1.585776582814845,
          0.6484898454257476,
          -1.9979968441142282,
          0.1201311235502911,
          -0.4148740926620486,
          0.48602098140719663,
          -0.4421915736894337,
          1.2418778460177193,
          0.10118778876868344,
          -0.3818017352390294,
          -1.0889405954178286,
          -1.0775398374986283,
          0.7176163433204604,
          0.33913004139571756,
          -0.4032606079303681,
          -0.3637756464595728,
          -1.4718184440680067,
          0.713886037258169,
          0.19269588171664376,
          0.23304829932510332,
          0.5709190035735119,
          -1.8433915506663612,
          0.8324219856241711,
          -1.0757550291979756,
          0.5077556723582699,
          -0.44413901106422243,
          -1.0086197778973143,
          -1.4028236947855495,
          0.7121967790439677,
          0.3204505587958397,
          0.4445431803849003,
          -0.7710464998332621,
          -0.32331670313769884,
          -0.37674258119090615,
          -0.4248675218977924,
          0.40764947955994546,
          -1.3078826247959392,
          1.0601288365287158,
          -0.07365209559188851,
          -0.15604718500861364,
          0.6942083782207596,
          1.6486670014904792,
          -0.7077253997726066,
          1.2800832468714303,
          -0.9465578355996911,
          -0.20620629379940864,
          -0.7963607240498749,
          -0.36078265872225806,
          1.2110561274705427,
          -0.1104525081824256,
          -0.6700042401655598,
          0.5569922218535346,
          0.3089864141526496,
          -0.2255228252683958,
          -0.2420062158747075,
          1.422815466914821,
          0.1503362119866953,
          -0.08743388513554257,
          -2.0349797681611563,
          0.8458105742183093,
          1.5407511255122293,
          0.029309506747405435,
          0.8584238640416992,
          0.9580984168929361,
          -0.9005130295018315,
          -0.013473286256282085,
          -0.8038220434152606,
          0.5661970188353798,
          -0.41924053958573,
          -0.29814007571196643,
          -0.03279477170129877,
          0.29650560309755564,
          -0.5463247852636246,
          -0.7671606914275885,
          1.0529157002903464,
          0.7838311671342689,
          1.9802407213895976,
          0.47847443413408924,
          1.0458971972595335,
          -1.2475785868909688,
          -0.8810956529233439,
          -1.6642079892521435,
          0.7756690712728784,
          -0.14000153305790228,
          -0.298192880456967,
          0.6070013657895164,
          0.9080645827077884,
          0.7257777964960853,
          -2.3168928477995996,
          -0.23743985166319456,
          -0.6036935396622959,
          -1.022352491479891,
          1.11444393383111,
          1.145304707468234,
          -3.250282066368351,
          1.5221237939575507,
          0.14200502104205395,
          0.38571662007639357
         ]
        },
        {
         "boxpoints": false,
         "line": {
          "width": 1.3
         },
         "marker": {
          "color": "rgba(55, 128, 191, 1.0)"
         },
         "name": "B",
         "orientation": "v",
         "type": "box",
         "y": [
          -0.46449043768408943,
          0.3523981764252299,
          -2.3568287709836473,
          2.390595577632367,
          -0.9711494279100952,
          -0.598162370267831,
          -0.3968615131465438,
          -1.4678698356334754,
          -0.28684894742407796,
          0.9208405274368389,
          0.9624893523587785,
          -0.4726705970974675,
          -0.6879754336784105,
          -1.3738071612856435,
          0.15306973430517098,
          1.39271128590778,
          1.4306641888922735,
          -1.7229685803087822,
          0.876023771464418,
          -0.6803902408216923,
          -0.5941052879566986,
          0.12043446146704843,
          -0.28515613992993033,
          -0.32609061091749375,
          0.47425472148627396,
          -1.2522126657446717,
          -0.3243536009422392,
          0.5049793346016036,
          -0.04176998943973294,
          0.40192394612822196,
          -0.28054043055164984,
          0.14883547195933453,
          -0.12105123038966474,
          1.0343349745490065,
          0.5991071166463736,
          0.567778493863068,
          0.3037646239706531,
          -1.3719041517480557,
          -0.4436317499417215,
          0.38529293294782807,
          0.18887020024921888,
          -0.44131088434181726,
          -1.345417457240369,
          0.1950054187256295,
          0.008516791334651708,
          -0.030138945389232976,
          -0.052181696931563104,
          -0.28531533414502924,
          -0.3837973447267495,
          -0.07335949970633836,
          -0.5016619524152183,
          -0.07377196799595183,
          1.314600491631252,
          -0.5755533402380913,
          1.04234687914125,
          -1.9884263599852992,
          -0.4546812851638831,
          -0.9135355999965279,
          0.1202491772493144,
          0.2982883545760662,
          1.1759196674481656,
          0.1765180905394663,
          -0.1393540853360605,
          -1.6912307557741173,
          0.6517544039399077,
          -0.11723751480317693,
          0.225761143742028,
          2.575309512971,
          -0.38535401952248977,
          0.12673017985596988,
          -0.07216106803459287,
          1.5616852752254324,
          -1.0467543733046534,
          0.8101267949195068,
          -0.42749849903243314,
          -0.11251204442772755,
          -1.1106289672153369,
          0.3332379125685002,
          1.0663205215842115,
          -1.9046403985666256,
          1.8284597174145687,
          -0.6975813374405788,
          0.46500534847745456,
          0.2676519512599508,
          -0.9130053337789412,
          -0.1662797376110315,
          0.8053195931493092,
          -1.3026754192540417,
          0.15700431317050292,
          -1.207547463863445,
          0.3039178415683296,
          1.994212832448182,
          -0.14322280376679514,
          -1.0562473515513469,
          -1.2639667192364323,
          -0.8634228472340293,
          1.4018232890368303,
          -1.6562191518856821,
          -0.21648483960705828,
          -0.05978220684500359
         ]
        },
        {
         "boxpoints": false,
         "line": {
          "width": 1.3
         },
         "marker": {
          "color": "rgba(50, 171, 96, 1.0)"
         },
         "name": "C",
         "orientation": "v",
         "type": "box",
         "y": [
          0.5201109778797136,
          0.07261771142678988,
          0.4845486456551353,
          0.04175729206404078,
          0.07214813886953271,
          2.5606694217959833,
          0.07923671155527522,
          -0.2554548938241622,
          -0.48350893289418834,
          -0.3601080724389737,
          0.1791297395186548,
          -0.3718455967328699,
          -0.10285950790430816,
          0.1352652300933272,
          -0.403587208589028,
          -0.9703320757531556,
          -1.0309098376147865,
          -0.7839258323598245,
          0.42945907942978373,
          -0.16623496285325534,
          -1.4169503388885316,
          0.2539949991347254,
          -0.020580254158317893,
          -1.0488541639354112,
          -2.900279322232684,
          0.014575478409169191,
          -0.326673408691736,
          -0.18735692164121553,
          0.5945073068751859,
          -1.1483605677505577,
          -0.06420435125397268,
          0.18831486406559445,
          -2.0494593872241715,
          -0.293484960876104,
          -0.9929240294800716,
          -0.4339844599054614,
          -0.8077561213226911,
          0.16124317270479846,
          -0.9424420244798318,
          -3.0363692113542298,
          -1.0081465330942094,
          -0.2576960247641065,
          -0.629302913191415,
          -0.7512827541389725,
          1.3097259912622083,
          0.3891212137644769,
          0.25792350431937977,
          -1.4255660416617586,
          0.6313337215541744,
          -0.8086724659291554,
          -0.31398184848967853,
          0.8968079243347657,
          -0.41047214370925006,
          0.3085293139653205,
          2.440954175592653,
          1.172510577125236,
          -0.21452964732278043,
          1.2500901451930229,
          0.43545890987911706,
          -0.15450392741326677,
          0.34389616421093383,
          0.7022310466650089,
          0.26950241011431497,
          -0.4087380376584617,
          -0.05854610989108658,
          -1.2253792268194523,
          0.36920968290947853,
          0.9510900473471998,
          -0.58479957902115,
          0.2012651723901271,
          -2.2157890554992186,
          0.2572549110191389,
          0.6026994347030282,
          -0.5190278348745757,
          -0.659545259399039,
          0.1013534807846591,
          -1.3857377750410784,
          0.6780432092694408,
          -2.7686858883402987,
          -1.151356806602218,
          -0.38093518884231675,
          1.7752163898008257,
          1.638870823306406,
          0.42769795627912727,
          -1.724320012317729,
          -0.313077254850423,
          -1.6924590866164944,
          0.24414122730241494,
          0.004458488897950751,
          1.232211012758207,
          -0.5640207859786823,
          1.4659627874886405,
          -1.4612430503540268,
          0.5515163223382007,
          -1.1760157382514314,
          -0.5280048160291578,
          0.6642118534920832,
          -0.41497442121476247,
          0.4840723227255899,
          1.4572878058103327
         ]
        },
        {
         "boxpoints": false,
         "line": {
          "width": 1.3
         },
         "marker": {
          "color": "rgba(128, 0, 128, 1.0)"
         },
         "name": "D",
         "orientation": "v",
         "type": "box",
         "y": [
          -0.8988369730855046,
          -0.5973989117894579,
          -2.4769542611372675,
          0.18580822703921393,
          -1.4477266106016817,
          0.7475126441147879,
          -0.40662767732843136,
          0.21562464027425288,
          -0.8437175533042076,
          -0.9206671582879606,
          -0.5128985721362068,
          0.4125456490439085,
          -0.8139361694983875,
          -0.24474602739648574,
          1.399660958090668,
          -0.5690667592803338,
          0.10284268754132027,
          -1.0493291743851698,
          0.8627545558195271,
          -0.9045099347478545,
          -1.026386794162491,
          0.060680317538162075,
          -0.3415314804401644,
          -2.3994321359360637,
          -1.8292002486713017,
          -0.2954406411178994,
          0.4308804806320366,
          -0.10689556363777028,
          1.4089556192348474,
          0.5716511233697971,
          0.18342394810870205,
          0.36969571924469097,
          -0.6231566510192728,
          -1.3706148974987369,
          -0.28615276432148967,
          0.22151874757782652,
          0.8618996252866993,
          -2.104564936295545,
          0.050772616377669236,
          -1.5751320938408422,
          0.529309231319148,
          1.2505362277466154,
          0.5802563261424589,
          1.7510243835154893,
          -0.1627631243159947,
          -0.07003449753416875,
          -0.7440752774362521,
          0.31874611082693405,
          0.1704263449760727,
          -0.11002542802261428,
          -0.24391672792443203,
          0.12914644876715653,
          -0.11217720875904467,
          -1.1825183945583666,
          -0.6923098843607846,
          -0.7681572995718657,
          1.1967731690030423,
          -1.0847602441923174,
          -0.2468238604708724,
          -1.275210084786202,
          -0.2937753192692088,
          -0.009646863994237882,
          -0.09900121737954734,
          -2.273401838062692,
          0.6410847024367559,
          -1.0315530517482356,
          -0.23298010070511913,
          0.21011149847632665,
          -1.6448213858583116,
          0.9457050033179516,
          -0.558715442009201,
          -0.4626338089775159,
          -0.4970146323240726,
          0.5580016935266144,
          1.4573952335048144,
          0.013241314320308596,
          -0.5396902491902932,
          2.0752884236753153,
          0.32674800644109625,
          -0.9622506422535216,
          0.018215536423492086,
          0.8843134448695068,
          -0.018465958943413796,
          -1.1360868737298324,
          -1.7102980416719817,
          -1.6399112314218767,
          -1.9949333484692264,
          0.4223668366027454,
          -1.205824691590463,
          -1.0046967973566239,
          1.0545659444662052,
          -0.16281636113476167,
          -2.195290457025516,
          -0.40360203397521616,
          -0.5068641103072004,
          -1.010766369579888,
          1.035543712197159,
          0.11165562042085199,
          -0.6837883644397107,
          0.06629731977819796
         ]
        }
       ],
       "layout": {
        "legend": {
         "bgcolor": "#F5F6F9",
         "font": {
          "color": "#4D5663"
         }
        },
        "paper_bgcolor": "#F5F6F9",
        "plot_bgcolor": "#F5F6F9",
        "template": {
         "data": {
          "bar": [
           {
            "error_x": {
             "color": "#2a3f5f"
            },
            "error_y": {
             "color": "#2a3f5f"
            },
            "marker": {
             "line": {
              "color": "#E5ECF6",
              "width": 0.5
             },
             "pattern": {
              "fillmode": "overlay",
              "size": 10,
              "solidity": 0.2
             }
            },
            "type": "bar"
           }
          ],
          "barpolar": [
           {
            "marker": {
             "line": {
              "color": "#E5ECF6",
              "width": 0.5
             },
             "pattern": {
              "fillmode": "overlay",
              "size": 10,
              "solidity": 0.2
             }
            },
            "type": "barpolar"
           }
          ],
          "carpet": [
           {
            "aaxis": {
             "endlinecolor": "#2a3f5f",
             "gridcolor": "white",
             "linecolor": "white",
             "minorgridcolor": "white",
             "startlinecolor": "#2a3f5f"
            },
            "baxis": {
             "endlinecolor": "#2a3f5f",
             "gridcolor": "white",
             "linecolor": "white",
             "minorgridcolor": "white",
             "startlinecolor": "#2a3f5f"
            },
            "type": "carpet"
           }
          ],
          "choropleth": [
           {
            "colorbar": {
             "outlinewidth": 0,
             "ticks": ""
            },
            "type": "choropleth"
           }
          ],
          "contour": [
           {
            "colorbar": {
             "outlinewidth": 0,
             "ticks": ""
            },
            "colorscale": [
             [
              0,
              "#0d0887"
             ],
             [
              0.1111111111111111,
              "#46039f"
             ],
             [
              0.2222222222222222,
              "#7201a8"
             ],
             [
              0.3333333333333333,
              "#9c179e"
             ],
             [
              0.4444444444444444,
              "#bd3786"
             ],
             [
              0.5555555555555556,
              "#d8576b"
             ],
             [
              0.6666666666666666,
              "#ed7953"
             ],
             [
              0.7777777777777778,
              "#fb9f3a"
             ],
             [
              0.8888888888888888,
              "#fdca26"
             ],
             [
              1,
              "#f0f921"
             ]
            ],
            "type": "contour"
           }
          ],
          "contourcarpet": [
           {
            "colorbar": {
             "outlinewidth": 0,
             "ticks": ""
            },
            "type": "contourcarpet"
           }
          ],
          "heatmap": [
           {
            "colorbar": {
             "outlinewidth": 0,
             "ticks": ""
            },
            "colorscale": [
             [
              0,
              "#0d0887"
             ],
             [
              0.1111111111111111,
              "#46039f"
             ],
             [
              0.2222222222222222,
              "#7201a8"
             ],
             [
              0.3333333333333333,
              "#9c179e"
             ],
             [
              0.4444444444444444,
              "#bd3786"
             ],
             [
              0.5555555555555556,
              "#d8576b"
             ],
             [
              0.6666666666666666,
              "#ed7953"
             ],
             [
              0.7777777777777778,
              "#fb9f3a"
             ],
             [
              0.8888888888888888,
              "#fdca26"
             ],
             [
              1,
              "#f0f921"
             ]
            ],
            "type": "heatmap"
           }
          ],
          "heatmapgl": [
           {
            "colorbar": {
             "outlinewidth": 0,
             "ticks": ""
            },
            "colorscale": [
             [
              0,
              "#0d0887"
             ],
             [
              0.1111111111111111,
              "#46039f"
             ],
             [
              0.2222222222222222,
              "#7201a8"
             ],
             [
              0.3333333333333333,
              "#9c179e"
             ],
             [
              0.4444444444444444,
              "#bd3786"
             ],
             [
              0.5555555555555556,
              "#d8576b"
             ],
             [
              0.6666666666666666,
              "#ed7953"
             ],
             [
              0.7777777777777778,
              "#fb9f3a"
             ],
             [
              0.8888888888888888,
              "#fdca26"
             ],
             [
              1,
              "#f0f921"
             ]
            ],
            "type": "heatmapgl"
           }
          ],
          "histogram": [
           {
            "marker": {
             "pattern": {
              "fillmode": "overlay",
              "size": 10,
              "solidity": 0.2
             }
            },
            "type": "histogram"
           }
          ],
          "histogram2d": [
           {
            "colorbar": {
             "outlinewidth": 0,
             "ticks": ""
            },
            "colorscale": [
             [
              0,
              "#0d0887"
             ],
             [
              0.1111111111111111,
              "#46039f"
             ],
             [
              0.2222222222222222,
              "#7201a8"
             ],
             [
              0.3333333333333333,
              "#9c179e"
             ],
             [
              0.4444444444444444,
              "#bd3786"
             ],
             [
              0.5555555555555556,
              "#d8576b"
             ],
             [
              0.6666666666666666,
              "#ed7953"
             ],
             [
              0.7777777777777778,
              "#fb9f3a"
             ],
             [
              0.8888888888888888,
              "#fdca26"
             ],
             [
              1,
              "#f0f921"
             ]
            ],
            "type": "histogram2d"
           }
          ],
          "histogram2dcontour": [
           {
            "colorbar": {
             "outlinewidth": 0,
             "ticks": ""
            },
            "colorscale": [
             [
              0,
              "#0d0887"
             ],
             [
              0.1111111111111111,
              "#46039f"
             ],
             [
              0.2222222222222222,
              "#7201a8"
             ],
             [
              0.3333333333333333,
              "#9c179e"
             ],
             [
              0.4444444444444444,
              "#bd3786"
             ],
             [
              0.5555555555555556,
              "#d8576b"
             ],
             [
              0.6666666666666666,
              "#ed7953"
             ],
             [
              0.7777777777777778,
              "#fb9f3a"
             ],
             [
              0.8888888888888888,
              "#fdca26"
             ],
             [
              1,
              "#f0f921"
             ]
            ],
            "type": "histogram2dcontour"
           }
          ],
          "mesh3d": [
           {
            "colorbar": {
             "outlinewidth": 0,
             "ticks": ""
            },
            "type": "mesh3d"
           }
          ],
          "parcoords": [
           {
            "line": {
             "colorbar": {
              "outlinewidth": 0,
              "ticks": ""
             }
            },
            "type": "parcoords"
           }
          ],
          "pie": [
           {
            "automargin": true,
            "type": "pie"
           }
          ],
          "scatter": [
           {
            "marker": {
             "colorbar": {
              "outlinewidth": 0,
              "ticks": ""
             }
            },
            "type": "scatter"
           }
          ],
          "scatter3d": [
           {
            "line": {
             "colorbar": {
              "outlinewidth": 0,
              "ticks": ""
             }
            },
            "marker": {
             "colorbar": {
              "outlinewidth": 0,
              "ticks": ""
             }
            },
            "type": "scatter3d"
           }
          ],
          "scattercarpet": [
           {
            "marker": {
             "colorbar": {
              "outlinewidth": 0,
              "ticks": ""
             }
            },
            "type": "scattercarpet"
           }
          ],
          "scattergeo": [
           {
            "marker": {
             "colorbar": {
              "outlinewidth": 0,
              "ticks": ""
             }
            },
            "type": "scattergeo"
           }
          ],
          "scattergl": [
           {
            "marker": {
             "colorbar": {
              "outlinewidth": 0,
              "ticks": ""
             }
            },
            "type": "scattergl"
           }
          ],
          "scattermapbox": [
           {
            "marker": {
             "colorbar": {
              "outlinewidth": 0,
              "ticks": ""
             }
            },
            "type": "scattermapbox"
           }
          ],
          "scatterpolar": [
           {
            "marker": {
             "colorbar": {
              "outlinewidth": 0,
              "ticks": ""
             }
            },
            "type": "scatterpolar"
           }
          ],
          "scatterpolargl": [
           {
            "marker": {
             "colorbar": {
              "outlinewidth": 0,
              "ticks": ""
             }
            },
            "type": "scatterpolargl"
           }
          ],
          "scatterternary": [
           {
            "marker": {
             "colorbar": {
              "outlinewidth": 0,
              "ticks": ""
             }
            },
            "type": "scatterternary"
           }
          ],
          "surface": [
           {
            "colorbar": {
             "outlinewidth": 0,
             "ticks": ""
            },
            "colorscale": [
             [
              0,
              "#0d0887"
             ],
             [
              0.1111111111111111,
              "#46039f"
             ],
             [
              0.2222222222222222,
              "#7201a8"
             ],
             [
              0.3333333333333333,
              "#9c179e"
             ],
             [
              0.4444444444444444,
              "#bd3786"
             ],
             [
              0.5555555555555556,
              "#d8576b"
             ],
             [
              0.6666666666666666,
              "#ed7953"
             ],
             [
              0.7777777777777778,
              "#fb9f3a"
             ],
             [
              0.8888888888888888,
              "#fdca26"
             ],
             [
              1,
              "#f0f921"
             ]
            ],
            "type": "surface"
           }
          ],
          "table": [
           {
            "cells": {
             "fill": {
              "color": "#EBF0F8"
             },
             "line": {
              "color": "white"
             }
            },
            "header": {
             "fill": {
              "color": "#C8D4E3"
             },
             "line": {
              "color": "white"
             }
            },
            "type": "table"
           }
          ]
         },
         "layout": {
          "annotationdefaults": {
           "arrowcolor": "#2a3f5f",
           "arrowhead": 0,
           "arrowwidth": 1
          },
          "autotypenumbers": "strict",
          "coloraxis": {
           "colorbar": {
            "outlinewidth": 0,
            "ticks": ""
           }
          },
          "colorscale": {
           "diverging": [
            [
             0,
             "#8e0152"
            ],
            [
             0.1,
             "#c51b7d"
            ],
            [
             0.2,
             "#de77ae"
            ],
            [
             0.3,
             "#f1b6da"
            ],
            [
             0.4,
             "#fde0ef"
            ],
            [
             0.5,
             "#f7f7f7"
            ],
            [
             0.6,
             "#e6f5d0"
            ],
            [
             0.7,
             "#b8e186"
            ],
            [
             0.8,
             "#7fbc41"
            ],
            [
             0.9,
             "#4d9221"
            ],
            [
             1,
             "#276419"
            ]
           ],
           "sequential": [
            [
             0,
             "#0d0887"
            ],
            [
             0.1111111111111111,
             "#46039f"
            ],
            [
             0.2222222222222222,
             "#7201a8"
            ],
            [
             0.3333333333333333,
             "#9c179e"
            ],
            [
             0.4444444444444444,
             "#bd3786"
            ],
            [
             0.5555555555555556,
             "#d8576b"
            ],
            [
             0.6666666666666666,
             "#ed7953"
            ],
            [
             0.7777777777777778,
             "#fb9f3a"
            ],
            [
             0.8888888888888888,
             "#fdca26"
            ],
            [
             1,
             "#f0f921"
            ]
           ],
           "sequentialminus": [
            [
             0,
             "#0d0887"
            ],
            [
             0.1111111111111111,
             "#46039f"
            ],
            [
             0.2222222222222222,
             "#7201a8"
            ],
            [
             0.3333333333333333,
             "#9c179e"
            ],
            [
             0.4444444444444444,
             "#bd3786"
            ],
            [
             0.5555555555555556,
             "#d8576b"
            ],
            [
             0.6666666666666666,
             "#ed7953"
            ],
            [
             0.7777777777777778,
             "#fb9f3a"
            ],
            [
             0.8888888888888888,
             "#fdca26"
            ],
            [
             1,
             "#f0f921"
            ]
           ]
          },
          "colorway": [
           "#636efa",
           "#EF553B",
           "#00cc96",
           "#ab63fa",
           "#FFA15A",
           "#19d3f3",
           "#FF6692",
           "#B6E880",
           "#FF97FF",
           "#FECB52"
          ],
          "font": {
           "color": "#2a3f5f"
          },
          "geo": {
           "bgcolor": "white",
           "lakecolor": "white",
           "landcolor": "#E5ECF6",
           "showlakes": true,
           "showland": true,
           "subunitcolor": "white"
          },
          "hoverlabel": {
           "align": "left"
          },
          "hovermode": "closest",
          "mapbox": {
           "style": "light"
          },
          "paper_bgcolor": "white",
          "plot_bgcolor": "#E5ECF6",
          "polar": {
           "angularaxis": {
            "gridcolor": "white",
            "linecolor": "white",
            "ticks": ""
           },
           "bgcolor": "#E5ECF6",
           "radialaxis": {
            "gridcolor": "white",
            "linecolor": "white",
            "ticks": ""
           }
          },
          "scene": {
           "xaxis": {
            "backgroundcolor": "#E5ECF6",
            "gridcolor": "white",
            "gridwidth": 2,
            "linecolor": "white",
            "showbackground": true,
            "ticks": "",
            "zerolinecolor": "white"
           },
           "yaxis": {
            "backgroundcolor": "#E5ECF6",
            "gridcolor": "white",
            "gridwidth": 2,
            "linecolor": "white",
            "showbackground": true,
            "ticks": "",
            "zerolinecolor": "white"
           },
           "zaxis": {
            "backgroundcolor": "#E5ECF6",
            "gridcolor": "white",
            "gridwidth": 2,
            "linecolor": "white",
            "showbackground": true,
            "ticks": "",
            "zerolinecolor": "white"
           }
          },
          "shapedefaults": {
           "line": {
            "color": "#2a3f5f"
           }
          },
          "ternary": {
           "aaxis": {
            "gridcolor": "white",
            "linecolor": "white",
            "ticks": ""
           },
           "baxis": {
            "gridcolor": "white",
            "linecolor": "white",
            "ticks": ""
           },
           "bgcolor": "#E5ECF6",
           "caxis": {
            "gridcolor": "white",
            "linecolor": "white",
            "ticks": ""
           }
          },
          "title": {
           "x": 0.05
          },
          "xaxis": {
           "automargin": true,
           "gridcolor": "white",
           "linecolor": "white",
           "ticks": "",
           "title": {
            "standoff": 15
           },
           "zerolinecolor": "white",
           "zerolinewidth": 2
          },
          "yaxis": {
           "automargin": true,
           "gridcolor": "white",
           "linecolor": "white",
           "ticks": "",
           "title": {
            "standoff": 15
           },
           "zerolinecolor": "white",
           "zerolinewidth": 2
          }
         }
        },
        "title": {
         "font": {
          "color": "#4D5663"
         }
        },
        "xaxis": {
         "gridcolor": "#E1E5ED",
         "showgrid": true,
         "tickfont": {
          "color": "#4D5663"
         },
         "title": {
          "font": {
           "color": "#4D5663"
          },
          "text": ""
         },
         "zerolinecolor": "#E1E5ED"
        },
        "yaxis": {
         "gridcolor": "#E1E5ED",
         "showgrid": true,
         "tickfont": {
          "color": "#4D5663"
         },
         "title": {
          "font": {
           "color": "#4D5663"
          },
          "text": ""
         },
         "zerolinecolor": "#E1E5ED"
        }
       }
      },
      "text/html": [
       "<div>                            <div id=\"a412ce81-df3f-42e8-939f-685bb72d54ae\" class=\"plotly-graph-div\" style=\"height:525px; width:100%;\"></div>            <script type=\"text/javascript\">                require([\"plotly\"], function(Plotly) {                    window.PLOTLYENV=window.PLOTLYENV || {};\n",
       "                    window.PLOTLYENV.BASE_URL='https://plot.ly';                                    if (document.getElementById(\"a412ce81-df3f-42e8-939f-685bb72d54ae\")) {                    Plotly.newPlot(                        \"a412ce81-df3f-42e8-939f-685bb72d54ae\",                        [{\"boxpoints\":false,\"line\":{\"width\":1.3},\"marker\":{\"color\":\"rgba(255, 153, 51, 1.0)\"},\"name\":\"A\",\"orientation\":\"v\",\"y\":[0.886481626762867,-0.3499620218114763,-1.585776582814845,0.6484898454257476,-1.9979968441142282,0.1201311235502911,-0.4148740926620486,0.48602098140719663,-0.4421915736894337,1.2418778460177193,0.10118778876868344,-0.3818017352390294,-1.0889405954178286,-1.0775398374986283,0.7176163433204604,0.33913004139571756,-0.4032606079303681,-0.3637756464595728,-1.4718184440680067,0.713886037258169,0.19269588171664376,0.23304829932510332,0.5709190035735119,-1.8433915506663612,0.8324219856241711,-1.0757550291979756,0.5077556723582699,-0.44413901106422243,-1.0086197778973143,-1.4028236947855495,0.7121967790439677,0.3204505587958397,0.4445431803849003,-0.7710464998332621,-0.32331670313769884,-0.37674258119090615,-0.4248675218977924,0.40764947955994546,-1.3078826247959392,1.0601288365287158,-0.07365209559188851,-0.15604718500861364,0.6942083782207596,1.6486670014904792,-0.7077253997726066,1.2800832468714303,-0.9465578355996911,-0.20620629379940864,-0.7963607240498749,-0.36078265872225806,1.2110561274705427,-0.1104525081824256,-0.6700042401655598,0.5569922218535346,0.3089864141526496,-0.2255228252683958,-0.2420062158747075,1.422815466914821,0.1503362119866953,-0.08743388513554257,-2.0349797681611563,0.8458105742183093,1.5407511255122293,0.029309506747405435,0.8584238640416992,0.9580984168929361,-0.9005130295018315,-0.013473286256282085,-0.8038220434152606,0.5661970188353798,-0.41924053958573,-0.29814007571196643,-0.03279477170129877,0.29650560309755564,-0.5463247852636246,-0.7671606914275885,1.0529157002903464,0.7838311671342689,1.9802407213895976,0.47847443413408924,1.0458971972595335,-1.2475785868909688,-0.8810956529233439,-1.6642079892521435,0.7756690712728784,-0.14000153305790228,-0.298192880456967,0.6070013657895164,0.9080645827077884,0.7257777964960853,-2.3168928477995996,-0.23743985166319456,-0.6036935396622959,-1.022352491479891,1.11444393383111,1.145304707468234,-3.250282066368351,1.5221237939575507,0.14200502104205395,0.38571662007639357],\"type\":\"box\"},{\"boxpoints\":false,\"line\":{\"width\":1.3},\"marker\":{\"color\":\"rgba(55, 128, 191, 1.0)\"},\"name\":\"B\",\"orientation\":\"v\",\"y\":[-0.46449043768408943,0.3523981764252299,-2.3568287709836473,2.390595577632367,-0.9711494279100952,-0.598162370267831,-0.3968615131465438,-1.4678698356334754,-0.28684894742407796,0.9208405274368389,0.9624893523587785,-0.4726705970974675,-0.6879754336784105,-1.3738071612856435,0.15306973430517098,1.39271128590778,1.4306641888922735,-1.7229685803087822,0.876023771464418,-0.6803902408216923,-0.5941052879566986,0.12043446146704843,-0.28515613992993033,-0.32609061091749375,0.47425472148627396,-1.2522126657446717,-0.3243536009422392,0.5049793346016036,-0.04176998943973294,0.40192394612822196,-0.28054043055164984,0.14883547195933453,-0.12105123038966474,1.0343349745490065,0.5991071166463736,0.567778493863068,0.3037646239706531,-1.3719041517480557,-0.4436317499417215,0.38529293294782807,0.18887020024921888,-0.44131088434181726,-1.345417457240369,0.1950054187256295,0.008516791334651708,-0.030138945389232976,-0.052181696931563104,-0.28531533414502924,-0.3837973447267495,-0.07335949970633836,-0.5016619524152183,-0.07377196799595183,1.314600491631252,-0.5755533402380913,1.04234687914125,-1.9884263599852992,-0.4546812851638831,-0.9135355999965279,0.1202491772493144,0.2982883545760662,1.1759196674481656,0.1765180905394663,-0.1393540853360605,-1.6912307557741173,0.6517544039399077,-0.11723751480317693,0.225761143742028,2.575309512971,-0.38535401952248977,0.12673017985596988,-0.07216106803459287,1.5616852752254324,-1.0467543733046534,0.8101267949195068,-0.42749849903243314,-0.11251204442772755,-1.1106289672153369,0.3332379125685002,1.0663205215842115,-1.9046403985666256,1.8284597174145687,-0.6975813374405788,0.46500534847745456,0.2676519512599508,-0.9130053337789412,-0.1662797376110315,0.8053195931493092,-1.3026754192540417,0.15700431317050292,-1.207547463863445,0.3039178415683296,1.994212832448182,-0.14322280376679514,-1.0562473515513469,-1.2639667192364323,-0.8634228472340293,1.4018232890368303,-1.6562191518856821,-0.21648483960705828,-0.05978220684500359],\"type\":\"box\"},{\"boxpoints\":false,\"line\":{\"width\":1.3},\"marker\":{\"color\":\"rgba(50, 171, 96, 1.0)\"},\"name\":\"C\",\"orientation\":\"v\",\"y\":[0.5201109778797136,0.07261771142678988,0.4845486456551353,0.04175729206404078,0.07214813886953271,2.5606694217959833,0.07923671155527522,-0.2554548938241622,-0.48350893289418834,-0.3601080724389737,0.1791297395186548,-0.3718455967328699,-0.10285950790430816,0.1352652300933272,-0.403587208589028,-0.9703320757531556,-1.0309098376147865,-0.7839258323598245,0.42945907942978373,-0.16623496285325534,-1.4169503388885316,0.2539949991347254,-0.020580254158317893,-1.0488541639354112,-2.900279322232684,0.014575478409169191,-0.326673408691736,-0.18735692164121553,0.5945073068751859,-1.1483605677505577,-0.06420435125397268,0.18831486406559445,-2.0494593872241715,-0.293484960876104,-0.9929240294800716,-0.4339844599054614,-0.8077561213226911,0.16124317270479846,-0.9424420244798318,-3.0363692113542298,-1.0081465330942094,-0.2576960247641065,-0.629302913191415,-0.7512827541389725,1.3097259912622083,0.3891212137644769,0.25792350431937977,-1.4255660416617586,0.6313337215541744,-0.8086724659291554,-0.31398184848967853,0.8968079243347657,-0.41047214370925006,0.3085293139653205,2.440954175592653,1.172510577125236,-0.21452964732278043,1.2500901451930229,0.43545890987911706,-0.15450392741326677,0.34389616421093383,0.7022310466650089,0.26950241011431497,-0.4087380376584617,-0.05854610989108658,-1.2253792268194523,0.36920968290947853,0.9510900473471998,-0.58479957902115,0.2012651723901271,-2.2157890554992186,0.2572549110191389,0.6026994347030282,-0.5190278348745757,-0.659545259399039,0.1013534807846591,-1.3857377750410784,0.6780432092694408,-2.7686858883402987,-1.151356806602218,-0.38093518884231675,1.7752163898008257,1.638870823306406,0.42769795627912727,-1.724320012317729,-0.313077254850423,-1.6924590866164944,0.24414122730241494,0.004458488897950751,1.232211012758207,-0.5640207859786823,1.4659627874886405,-1.4612430503540268,0.5515163223382007,-1.1760157382514314,-0.5280048160291578,0.6642118534920832,-0.41497442121476247,0.4840723227255899,1.4572878058103327],\"type\":\"box\"},{\"boxpoints\":false,\"line\":{\"width\":1.3},\"marker\":{\"color\":\"rgba(128, 0, 128, 1.0)\"},\"name\":\"D\",\"orientation\":\"v\",\"y\":[-0.8988369730855046,-0.5973989117894579,-2.4769542611372675,0.18580822703921393,-1.4477266106016817,0.7475126441147879,-0.40662767732843136,0.21562464027425288,-0.8437175533042076,-0.9206671582879606,-0.5128985721362068,0.4125456490439085,-0.8139361694983875,-0.24474602739648574,1.399660958090668,-0.5690667592803338,0.10284268754132027,-1.0493291743851698,0.8627545558195271,-0.9045099347478545,-1.026386794162491,0.060680317538162075,-0.3415314804401644,-2.3994321359360637,-1.8292002486713017,-0.2954406411178994,0.4308804806320366,-0.10689556363777028,1.4089556192348474,0.5716511233697971,0.18342394810870205,0.36969571924469097,-0.6231566510192728,-1.3706148974987369,-0.28615276432148967,0.22151874757782652,0.8618996252866993,-2.104564936295545,0.050772616377669236,-1.5751320938408422,0.529309231319148,1.2505362277466154,0.5802563261424589,1.7510243835154893,-0.1627631243159947,-0.07003449753416875,-0.7440752774362521,0.31874611082693405,0.1704263449760727,-0.11002542802261428,-0.24391672792443203,0.12914644876715653,-0.11217720875904467,-1.1825183945583666,-0.6923098843607846,-0.7681572995718657,1.1967731690030423,-1.0847602441923174,-0.2468238604708724,-1.275210084786202,-0.2937753192692088,-0.009646863994237882,-0.09900121737954734,-2.273401838062692,0.6410847024367559,-1.0315530517482356,-0.23298010070511913,0.21011149847632665,-1.6448213858583116,0.9457050033179516,-0.558715442009201,-0.4626338089775159,-0.4970146323240726,0.5580016935266144,1.4573952335048144,0.013241314320308596,-0.5396902491902932,2.0752884236753153,0.32674800644109625,-0.9622506422535216,0.018215536423492086,0.8843134448695068,-0.018465958943413796,-1.1360868737298324,-1.7102980416719817,-1.6399112314218767,-1.9949333484692264,0.4223668366027454,-1.205824691590463,-1.0046967973566239,1.0545659444662052,-0.16281636113476167,-2.195290457025516,-0.40360203397521616,-0.5068641103072004,-1.010766369579888,1.035543712197159,0.11165562042085199,-0.6837883644397107,0.06629731977819796],\"type\":\"box\"}],                        {\"legend\":{\"bgcolor\":\"#F5F6F9\",\"font\":{\"color\":\"#4D5663\"}},\"paper_bgcolor\":\"#F5F6F9\",\"plot_bgcolor\":\"#F5F6F9\",\"template\":{\"data\":{\"barpolar\":[{\"marker\":{\"line\":{\"color\":\"#E5ECF6\",\"width\":0.5},\"pattern\":{\"fillmode\":\"overlay\",\"size\":10,\"solidity\":0.2}},\"type\":\"barpolar\"}],\"bar\":[{\"error_x\":{\"color\":\"#2a3f5f\"},\"error_y\":{\"color\":\"#2a3f5f\"},\"marker\":{\"line\":{\"color\":\"#E5ECF6\",\"width\":0.5},\"pattern\":{\"fillmode\":\"overlay\",\"size\":10,\"solidity\":0.2}},\"type\":\"bar\"}],\"carpet\":[{\"aaxis\":{\"endlinecolor\":\"#2a3f5f\",\"gridcolor\":\"white\",\"linecolor\":\"white\",\"minorgridcolor\":\"white\",\"startlinecolor\":\"#2a3f5f\"},\"baxis\":{\"endlinecolor\":\"#2a3f5f\",\"gridcolor\":\"white\",\"linecolor\":\"white\",\"minorgridcolor\":\"white\",\"startlinecolor\":\"#2a3f5f\"},\"type\":\"carpet\"}],\"choropleth\":[{\"colorbar\":{\"outlinewidth\":0,\"ticks\":\"\"},\"type\":\"choropleth\"}],\"contourcarpet\":[{\"colorbar\":{\"outlinewidth\":0,\"ticks\":\"\"},\"type\":\"contourcarpet\"}],\"contour\":[{\"colorbar\":{\"outlinewidth\":0,\"ticks\":\"\"},\"colorscale\":[[0.0,\"#0d0887\"],[0.1111111111111111,\"#46039f\"],[0.2222222222222222,\"#7201a8\"],[0.3333333333333333,\"#9c179e\"],[0.4444444444444444,\"#bd3786\"],[0.5555555555555556,\"#d8576b\"],[0.6666666666666666,\"#ed7953\"],[0.7777777777777778,\"#fb9f3a\"],[0.8888888888888888,\"#fdca26\"],[1.0,\"#f0f921\"]],\"type\":\"contour\"}],\"heatmapgl\":[{\"colorbar\":{\"outlinewidth\":0,\"ticks\":\"\"},\"colorscale\":[[0.0,\"#0d0887\"],[0.1111111111111111,\"#46039f\"],[0.2222222222222222,\"#7201a8\"],[0.3333333333333333,\"#9c179e\"],[0.4444444444444444,\"#bd3786\"],[0.5555555555555556,\"#d8576b\"],[0.6666666666666666,\"#ed7953\"],[0.7777777777777778,\"#fb9f3a\"],[0.8888888888888888,\"#fdca26\"],[1.0,\"#f0f921\"]],\"type\":\"heatmapgl\"}],\"heatmap\":[{\"colorbar\":{\"outlinewidth\":0,\"ticks\":\"\"},\"colorscale\":[[0.0,\"#0d0887\"],[0.1111111111111111,\"#46039f\"],[0.2222222222222222,\"#7201a8\"],[0.3333333333333333,\"#9c179e\"],[0.4444444444444444,\"#bd3786\"],[0.5555555555555556,\"#d8576b\"],[0.6666666666666666,\"#ed7953\"],[0.7777777777777778,\"#fb9f3a\"],[0.8888888888888888,\"#fdca26\"],[1.0,\"#f0f921\"]],\"type\":\"heatmap\"}],\"histogram2dcontour\":[{\"colorbar\":{\"outlinewidth\":0,\"ticks\":\"\"},\"colorscale\":[[0.0,\"#0d0887\"],[0.1111111111111111,\"#46039f\"],[0.2222222222222222,\"#7201a8\"],[0.3333333333333333,\"#9c179e\"],[0.4444444444444444,\"#bd3786\"],[0.5555555555555556,\"#d8576b\"],[0.6666666666666666,\"#ed7953\"],[0.7777777777777778,\"#fb9f3a\"],[0.8888888888888888,\"#fdca26\"],[1.0,\"#f0f921\"]],\"type\":\"histogram2dcontour\"}],\"histogram2d\":[{\"colorbar\":{\"outlinewidth\":0,\"ticks\":\"\"},\"colorscale\":[[0.0,\"#0d0887\"],[0.1111111111111111,\"#46039f\"],[0.2222222222222222,\"#7201a8\"],[0.3333333333333333,\"#9c179e\"],[0.4444444444444444,\"#bd3786\"],[0.5555555555555556,\"#d8576b\"],[0.6666666666666666,\"#ed7953\"],[0.7777777777777778,\"#fb9f3a\"],[0.8888888888888888,\"#fdca26\"],[1.0,\"#f0f921\"]],\"type\":\"histogram2d\"}],\"histogram\":[{\"marker\":{\"pattern\":{\"fillmode\":\"overlay\",\"size\":10,\"solidity\":0.2}},\"type\":\"histogram\"}],\"mesh3d\":[{\"colorbar\":{\"outlinewidth\":0,\"ticks\":\"\"},\"type\":\"mesh3d\"}],\"parcoords\":[{\"line\":{\"colorbar\":{\"outlinewidth\":0,\"ticks\":\"\"}},\"type\":\"parcoords\"}],\"pie\":[{\"automargin\":true,\"type\":\"pie\"}],\"scatter3d\":[{\"line\":{\"colorbar\":{\"outlinewidth\":0,\"ticks\":\"\"}},\"marker\":{\"colorbar\":{\"outlinewidth\":0,\"ticks\":\"\"}},\"type\":\"scatter3d\"}],\"scattercarpet\":[{\"marker\":{\"colorbar\":{\"outlinewidth\":0,\"ticks\":\"\"}},\"type\":\"scattercarpet\"}],\"scattergeo\":[{\"marker\":{\"colorbar\":{\"outlinewidth\":0,\"ticks\":\"\"}},\"type\":\"scattergeo\"}],\"scattergl\":[{\"marker\":{\"colorbar\":{\"outlinewidth\":0,\"ticks\":\"\"}},\"type\":\"scattergl\"}],\"scattermapbox\":[{\"marker\":{\"colorbar\":{\"outlinewidth\":0,\"ticks\":\"\"}},\"type\":\"scattermapbox\"}],\"scatterpolargl\":[{\"marker\":{\"colorbar\":{\"outlinewidth\":0,\"ticks\":\"\"}},\"type\":\"scatterpolargl\"}],\"scatterpolar\":[{\"marker\":{\"colorbar\":{\"outlinewidth\":0,\"ticks\":\"\"}},\"type\":\"scatterpolar\"}],\"scatter\":[{\"marker\":{\"colorbar\":{\"outlinewidth\":0,\"ticks\":\"\"}},\"type\":\"scatter\"}],\"scatterternary\":[{\"marker\":{\"colorbar\":{\"outlinewidth\":0,\"ticks\":\"\"}},\"type\":\"scatterternary\"}],\"surface\":[{\"colorbar\":{\"outlinewidth\":0,\"ticks\":\"\"},\"colorscale\":[[0.0,\"#0d0887\"],[0.1111111111111111,\"#46039f\"],[0.2222222222222222,\"#7201a8\"],[0.3333333333333333,\"#9c179e\"],[0.4444444444444444,\"#bd3786\"],[0.5555555555555556,\"#d8576b\"],[0.6666666666666666,\"#ed7953\"],[0.7777777777777778,\"#fb9f3a\"],[0.8888888888888888,\"#fdca26\"],[1.0,\"#f0f921\"]],\"type\":\"surface\"}],\"table\":[{\"cells\":{\"fill\":{\"color\":\"#EBF0F8\"},\"line\":{\"color\":\"white\"}},\"header\":{\"fill\":{\"color\":\"#C8D4E3\"},\"line\":{\"color\":\"white\"}},\"type\":\"table\"}]},\"layout\":{\"annotationdefaults\":{\"arrowcolor\":\"#2a3f5f\",\"arrowhead\":0,\"arrowwidth\":1},\"autotypenumbers\":\"strict\",\"coloraxis\":{\"colorbar\":{\"outlinewidth\":0,\"ticks\":\"\"}},\"colorscale\":{\"diverging\":[[0,\"#8e0152\"],[0.1,\"#c51b7d\"],[0.2,\"#de77ae\"],[0.3,\"#f1b6da\"],[0.4,\"#fde0ef\"],[0.5,\"#f7f7f7\"],[0.6,\"#e6f5d0\"],[0.7,\"#b8e186\"],[0.8,\"#7fbc41\"],[0.9,\"#4d9221\"],[1,\"#276419\"]],\"sequential\":[[0.0,\"#0d0887\"],[0.1111111111111111,\"#46039f\"],[0.2222222222222222,\"#7201a8\"],[0.3333333333333333,\"#9c179e\"],[0.4444444444444444,\"#bd3786\"],[0.5555555555555556,\"#d8576b\"],[0.6666666666666666,\"#ed7953\"],[0.7777777777777778,\"#fb9f3a\"],[0.8888888888888888,\"#fdca26\"],[1.0,\"#f0f921\"]],\"sequentialminus\":[[0.0,\"#0d0887\"],[0.1111111111111111,\"#46039f\"],[0.2222222222222222,\"#7201a8\"],[0.3333333333333333,\"#9c179e\"],[0.4444444444444444,\"#bd3786\"],[0.5555555555555556,\"#d8576b\"],[0.6666666666666666,\"#ed7953\"],[0.7777777777777778,\"#fb9f3a\"],[0.8888888888888888,\"#fdca26\"],[1.0,\"#f0f921\"]]},\"colorway\":[\"#636efa\",\"#EF553B\",\"#00cc96\",\"#ab63fa\",\"#FFA15A\",\"#19d3f3\",\"#FF6692\",\"#B6E880\",\"#FF97FF\",\"#FECB52\"],\"font\":{\"color\":\"#2a3f5f\"},\"geo\":{\"bgcolor\":\"white\",\"lakecolor\":\"white\",\"landcolor\":\"#E5ECF6\",\"showlakes\":true,\"showland\":true,\"subunitcolor\":\"white\"},\"hoverlabel\":{\"align\":\"left\"},\"hovermode\":\"closest\",\"mapbox\":{\"style\":\"light\"},\"paper_bgcolor\":\"white\",\"plot_bgcolor\":\"#E5ECF6\",\"polar\":{\"angularaxis\":{\"gridcolor\":\"white\",\"linecolor\":\"white\",\"ticks\":\"\"},\"bgcolor\":\"#E5ECF6\",\"radialaxis\":{\"gridcolor\":\"white\",\"linecolor\":\"white\",\"ticks\":\"\"}},\"scene\":{\"xaxis\":{\"backgroundcolor\":\"#E5ECF6\",\"gridcolor\":\"white\",\"gridwidth\":2,\"linecolor\":\"white\",\"showbackground\":true,\"ticks\":\"\",\"zerolinecolor\":\"white\"},\"yaxis\":{\"backgroundcolor\":\"#E5ECF6\",\"gridcolor\":\"white\",\"gridwidth\":2,\"linecolor\":\"white\",\"showbackground\":true,\"ticks\":\"\",\"zerolinecolor\":\"white\"},\"zaxis\":{\"backgroundcolor\":\"#E5ECF6\",\"gridcolor\":\"white\",\"gridwidth\":2,\"linecolor\":\"white\",\"showbackground\":true,\"ticks\":\"\",\"zerolinecolor\":\"white\"}},\"shapedefaults\":{\"line\":{\"color\":\"#2a3f5f\"}},\"ternary\":{\"aaxis\":{\"gridcolor\":\"white\",\"linecolor\":\"white\",\"ticks\":\"\"},\"baxis\":{\"gridcolor\":\"white\",\"linecolor\":\"white\",\"ticks\":\"\"},\"bgcolor\":\"#E5ECF6\",\"caxis\":{\"gridcolor\":\"white\",\"linecolor\":\"white\",\"ticks\":\"\"}},\"title\":{\"x\":0.05},\"xaxis\":{\"automargin\":true,\"gridcolor\":\"white\",\"linecolor\":\"white\",\"ticks\":\"\",\"title\":{\"standoff\":15},\"zerolinecolor\":\"white\",\"zerolinewidth\":2},\"yaxis\":{\"automargin\":true,\"gridcolor\":\"white\",\"linecolor\":\"white\",\"ticks\":\"\",\"title\":{\"standoff\":15},\"zerolinecolor\":\"white\",\"zerolinewidth\":2}}},\"title\":{\"font\":{\"color\":\"#4D5663\"}},\"xaxis\":{\"gridcolor\":\"#E1E5ED\",\"showgrid\":true,\"tickfont\":{\"color\":\"#4D5663\"},\"title\":{\"font\":{\"color\":\"#4D5663\"},\"text\":\"\"},\"zerolinecolor\":\"#E1E5ED\"},\"yaxis\":{\"gridcolor\":\"#E1E5ED\",\"showgrid\":true,\"tickfont\":{\"color\":\"#4D5663\"},\"title\":{\"font\":{\"color\":\"#4D5663\"},\"text\":\"\"},\"zerolinecolor\":\"#E1E5ED\"}},                        {\"showLink\": true, \"linkText\": \"Export to plot.ly\", \"plotlyServerURL\": \"https://plot.ly\", \"responsive\": true}                    ).then(function(){\n",
       "                            \n",
       "var gd = document.getElementById('a412ce81-df3f-42e8-939f-685bb72d54ae');\n",
       "var x = new MutationObserver(function (mutations, observer) {{\n",
       "        var display = window.getComputedStyle(gd).display;\n",
       "        if (!display || display === 'none') {{\n",
       "            console.log([gd, 'removed!']);\n",
       "            Plotly.purge(gd);\n",
       "            observer.disconnect();\n",
       "        }}\n",
       "}});\n",
       "\n",
       "// Listen for the removal of the full notebook cells\n",
       "var notebookContainer = gd.closest('#notebook-container');\n",
       "if (notebookContainer) {{\n",
       "    x.observe(notebookContainer, {childList: true});\n",
       "}}\n",
       "\n",
       "// Listen for the clearing of the current output cell\n",
       "var outputEl = gd.closest('.output');\n",
       "if (outputEl) {{\n",
       "    x.observe(outputEl, {childList: true});\n",
       "}}\n",
       "\n",
       "                        })                };                });            </script>        </div>"
      ]
     },
     "metadata": {},
     "output_type": "display_data"
    }
   ],
   "source": [
    "df.iplot(kind='box')"
   ]
  },
  {
   "cell_type": "code",
   "execution_count": 23,
   "metadata": {},
   "outputs": [
    {
     "data": {
      "application/vnd.plotly.v1+json": {
       "config": {
        "linkText": "Export to plot.ly",
        "plotlyServerURL": "https://plot.ly",
        "showLink": true
       },
       "data": [
        {
         "colorscale": [
          [
           0,
           "rgb(255, 153, 51)"
          ],
          [
           0.1111111111111111,
           "rgb(55, 128, 191)"
          ],
          [
           0.2222222222222222,
           "rgb(50, 171, 96)"
          ],
          [
           0.3333333333333333,
           "rgb(128, 0, 128)"
          ],
          [
           0.4444444444444444,
           "rgb(219, 64, 82)"
          ],
          [
           0.5555555555555556,
           "rgb(0, 128, 128)"
          ],
          [
           0.6666666666666666,
           "rgb(255, 255, 51)"
          ],
          [
           0.7777777777777778,
           "rgb(128, 128, 0)"
          ],
          [
           0.8888888888888888,
           "rgb(251, 128, 114)"
          ],
          [
           1,
           "rgb(128, 177, 211)"
          ]
         ],
         "type": "surface",
         "x": [
          0,
          1,
          2,
          3,
          4
         ],
         "y": [
          "x",
          "y",
          "z"
         ],
         "z": [
          [
           1,
           2,
           3,
           4,
           5
          ],
          [
           10,
           20,
           30,
           20,
           10
          ],
          [
           5,
           4,
           3,
           2,
           1
          ]
         ]
        }
       ],
       "layout": {
        "legend": {
         "bgcolor": "#F5F6F9",
         "font": {
          "color": "#4D5663"
         }
        },
        "paper_bgcolor": "#F5F6F9",
        "plot_bgcolor": "#F5F6F9",
        "template": {
         "data": {
          "bar": [
           {
            "error_x": {
             "color": "#2a3f5f"
            },
            "error_y": {
             "color": "#2a3f5f"
            },
            "marker": {
             "line": {
              "color": "#E5ECF6",
              "width": 0.5
             },
             "pattern": {
              "fillmode": "overlay",
              "size": 10,
              "solidity": 0.2
             }
            },
            "type": "bar"
           }
          ],
          "barpolar": [
           {
            "marker": {
             "line": {
              "color": "#E5ECF6",
              "width": 0.5
             },
             "pattern": {
              "fillmode": "overlay",
              "size": 10,
              "solidity": 0.2
             }
            },
            "type": "barpolar"
           }
          ],
          "carpet": [
           {
            "aaxis": {
             "endlinecolor": "#2a3f5f",
             "gridcolor": "white",
             "linecolor": "white",
             "minorgridcolor": "white",
             "startlinecolor": "#2a3f5f"
            },
            "baxis": {
             "endlinecolor": "#2a3f5f",
             "gridcolor": "white",
             "linecolor": "white",
             "minorgridcolor": "white",
             "startlinecolor": "#2a3f5f"
            },
            "type": "carpet"
           }
          ],
          "choropleth": [
           {
            "colorbar": {
             "outlinewidth": 0,
             "ticks": ""
            },
            "type": "choropleth"
           }
          ],
          "contour": [
           {
            "colorbar": {
             "outlinewidth": 0,
             "ticks": ""
            },
            "colorscale": [
             [
              0,
              "#0d0887"
             ],
             [
              0.1111111111111111,
              "#46039f"
             ],
             [
              0.2222222222222222,
              "#7201a8"
             ],
             [
              0.3333333333333333,
              "#9c179e"
             ],
             [
              0.4444444444444444,
              "#bd3786"
             ],
             [
              0.5555555555555556,
              "#d8576b"
             ],
             [
              0.6666666666666666,
              "#ed7953"
             ],
             [
              0.7777777777777778,
              "#fb9f3a"
             ],
             [
              0.8888888888888888,
              "#fdca26"
             ],
             [
              1,
              "#f0f921"
             ]
            ],
            "type": "contour"
           }
          ],
          "contourcarpet": [
           {
            "colorbar": {
             "outlinewidth": 0,
             "ticks": ""
            },
            "type": "contourcarpet"
           }
          ],
          "heatmap": [
           {
            "colorbar": {
             "outlinewidth": 0,
             "ticks": ""
            },
            "colorscale": [
             [
              0,
              "#0d0887"
             ],
             [
              0.1111111111111111,
              "#46039f"
             ],
             [
              0.2222222222222222,
              "#7201a8"
             ],
             [
              0.3333333333333333,
              "#9c179e"
             ],
             [
              0.4444444444444444,
              "#bd3786"
             ],
             [
              0.5555555555555556,
              "#d8576b"
             ],
             [
              0.6666666666666666,
              "#ed7953"
             ],
             [
              0.7777777777777778,
              "#fb9f3a"
             ],
             [
              0.8888888888888888,
              "#fdca26"
             ],
             [
              1,
              "#f0f921"
             ]
            ],
            "type": "heatmap"
           }
          ],
          "heatmapgl": [
           {
            "colorbar": {
             "outlinewidth": 0,
             "ticks": ""
            },
            "colorscale": [
             [
              0,
              "#0d0887"
             ],
             [
              0.1111111111111111,
              "#46039f"
             ],
             [
              0.2222222222222222,
              "#7201a8"
             ],
             [
              0.3333333333333333,
              "#9c179e"
             ],
             [
              0.4444444444444444,
              "#bd3786"
             ],
             [
              0.5555555555555556,
              "#d8576b"
             ],
             [
              0.6666666666666666,
              "#ed7953"
             ],
             [
              0.7777777777777778,
              "#fb9f3a"
             ],
             [
              0.8888888888888888,
              "#fdca26"
             ],
             [
              1,
              "#f0f921"
             ]
            ],
            "type": "heatmapgl"
           }
          ],
          "histogram": [
           {
            "marker": {
             "pattern": {
              "fillmode": "overlay",
              "size": 10,
              "solidity": 0.2
             }
            },
            "type": "histogram"
           }
          ],
          "histogram2d": [
           {
            "colorbar": {
             "outlinewidth": 0,
             "ticks": ""
            },
            "colorscale": [
             [
              0,
              "#0d0887"
             ],
             [
              0.1111111111111111,
              "#46039f"
             ],
             [
              0.2222222222222222,
              "#7201a8"
             ],
             [
              0.3333333333333333,
              "#9c179e"
             ],
             [
              0.4444444444444444,
              "#bd3786"
             ],
             [
              0.5555555555555556,
              "#d8576b"
             ],
             [
              0.6666666666666666,
              "#ed7953"
             ],
             [
              0.7777777777777778,
              "#fb9f3a"
             ],
             [
              0.8888888888888888,
              "#fdca26"
             ],
             [
              1,
              "#f0f921"
             ]
            ],
            "type": "histogram2d"
           }
          ],
          "histogram2dcontour": [
           {
            "colorbar": {
             "outlinewidth": 0,
             "ticks": ""
            },
            "colorscale": [
             [
              0,
              "#0d0887"
             ],
             [
              0.1111111111111111,
              "#46039f"
             ],
             [
              0.2222222222222222,
              "#7201a8"
             ],
             [
              0.3333333333333333,
              "#9c179e"
             ],
             [
              0.4444444444444444,
              "#bd3786"
             ],
             [
              0.5555555555555556,
              "#d8576b"
             ],
             [
              0.6666666666666666,
              "#ed7953"
             ],
             [
              0.7777777777777778,
              "#fb9f3a"
             ],
             [
              0.8888888888888888,
              "#fdca26"
             ],
             [
              1,
              "#f0f921"
             ]
            ],
            "type": "histogram2dcontour"
           }
          ],
          "mesh3d": [
           {
            "colorbar": {
             "outlinewidth": 0,
             "ticks": ""
            },
            "type": "mesh3d"
           }
          ],
          "parcoords": [
           {
            "line": {
             "colorbar": {
              "outlinewidth": 0,
              "ticks": ""
             }
            },
            "type": "parcoords"
           }
          ],
          "pie": [
           {
            "automargin": true,
            "type": "pie"
           }
          ],
          "scatter": [
           {
            "marker": {
             "colorbar": {
              "outlinewidth": 0,
              "ticks": ""
             }
            },
            "type": "scatter"
           }
          ],
          "scatter3d": [
           {
            "line": {
             "colorbar": {
              "outlinewidth": 0,
              "ticks": ""
             }
            },
            "marker": {
             "colorbar": {
              "outlinewidth": 0,
              "ticks": ""
             }
            },
            "type": "scatter3d"
           }
          ],
          "scattercarpet": [
           {
            "marker": {
             "colorbar": {
              "outlinewidth": 0,
              "ticks": ""
             }
            },
            "type": "scattercarpet"
           }
          ],
          "scattergeo": [
           {
            "marker": {
             "colorbar": {
              "outlinewidth": 0,
              "ticks": ""
             }
            },
            "type": "scattergeo"
           }
          ],
          "scattergl": [
           {
            "marker": {
             "colorbar": {
              "outlinewidth": 0,
              "ticks": ""
             }
            },
            "type": "scattergl"
           }
          ],
          "scattermapbox": [
           {
            "marker": {
             "colorbar": {
              "outlinewidth": 0,
              "ticks": ""
             }
            },
            "type": "scattermapbox"
           }
          ],
          "scatterpolar": [
           {
            "marker": {
             "colorbar": {
              "outlinewidth": 0,
              "ticks": ""
             }
            },
            "type": "scatterpolar"
           }
          ],
          "scatterpolargl": [
           {
            "marker": {
             "colorbar": {
              "outlinewidth": 0,
              "ticks": ""
             }
            },
            "type": "scatterpolargl"
           }
          ],
          "scatterternary": [
           {
            "marker": {
             "colorbar": {
              "outlinewidth": 0,
              "ticks": ""
             }
            },
            "type": "scatterternary"
           }
          ],
          "surface": [
           {
            "colorbar": {
             "outlinewidth": 0,
             "ticks": ""
            },
            "colorscale": [
             [
              0,
              "#0d0887"
             ],
             [
              0.1111111111111111,
              "#46039f"
             ],
             [
              0.2222222222222222,
              "#7201a8"
             ],
             [
              0.3333333333333333,
              "#9c179e"
             ],
             [
              0.4444444444444444,
              "#bd3786"
             ],
             [
              0.5555555555555556,
              "#d8576b"
             ],
             [
              0.6666666666666666,
              "#ed7953"
             ],
             [
              0.7777777777777778,
              "#fb9f3a"
             ],
             [
              0.8888888888888888,
              "#fdca26"
             ],
             [
              1,
              "#f0f921"
             ]
            ],
            "type": "surface"
           }
          ],
          "table": [
           {
            "cells": {
             "fill": {
              "color": "#EBF0F8"
             },
             "line": {
              "color": "white"
             }
            },
            "header": {
             "fill": {
              "color": "#C8D4E3"
             },
             "line": {
              "color": "white"
             }
            },
            "type": "table"
           }
          ]
         },
         "layout": {
          "annotationdefaults": {
           "arrowcolor": "#2a3f5f",
           "arrowhead": 0,
           "arrowwidth": 1
          },
          "autotypenumbers": "strict",
          "coloraxis": {
           "colorbar": {
            "outlinewidth": 0,
            "ticks": ""
           }
          },
          "colorscale": {
           "diverging": [
            [
             0,
             "#8e0152"
            ],
            [
             0.1,
             "#c51b7d"
            ],
            [
             0.2,
             "#de77ae"
            ],
            [
             0.3,
             "#f1b6da"
            ],
            [
             0.4,
             "#fde0ef"
            ],
            [
             0.5,
             "#f7f7f7"
            ],
            [
             0.6,
             "#e6f5d0"
            ],
            [
             0.7,
             "#b8e186"
            ],
            [
             0.8,
             "#7fbc41"
            ],
            [
             0.9,
             "#4d9221"
            ],
            [
             1,
             "#276419"
            ]
           ],
           "sequential": [
            [
             0,
             "#0d0887"
            ],
            [
             0.1111111111111111,
             "#46039f"
            ],
            [
             0.2222222222222222,
             "#7201a8"
            ],
            [
             0.3333333333333333,
             "#9c179e"
            ],
            [
             0.4444444444444444,
             "#bd3786"
            ],
            [
             0.5555555555555556,
             "#d8576b"
            ],
            [
             0.6666666666666666,
             "#ed7953"
            ],
            [
             0.7777777777777778,
             "#fb9f3a"
            ],
            [
             0.8888888888888888,
             "#fdca26"
            ],
            [
             1,
             "#f0f921"
            ]
           ],
           "sequentialminus": [
            [
             0,
             "#0d0887"
            ],
            [
             0.1111111111111111,
             "#46039f"
            ],
            [
             0.2222222222222222,
             "#7201a8"
            ],
            [
             0.3333333333333333,
             "#9c179e"
            ],
            [
             0.4444444444444444,
             "#bd3786"
            ],
            [
             0.5555555555555556,
             "#d8576b"
            ],
            [
             0.6666666666666666,
             "#ed7953"
            ],
            [
             0.7777777777777778,
             "#fb9f3a"
            ],
            [
             0.8888888888888888,
             "#fdca26"
            ],
            [
             1,
             "#f0f921"
            ]
           ]
          },
          "colorway": [
           "#636efa",
           "#EF553B",
           "#00cc96",
           "#ab63fa",
           "#FFA15A",
           "#19d3f3",
           "#FF6692",
           "#B6E880",
           "#FF97FF",
           "#FECB52"
          ],
          "font": {
           "color": "#2a3f5f"
          },
          "geo": {
           "bgcolor": "white",
           "lakecolor": "white",
           "landcolor": "#E5ECF6",
           "showlakes": true,
           "showland": true,
           "subunitcolor": "white"
          },
          "hoverlabel": {
           "align": "left"
          },
          "hovermode": "closest",
          "mapbox": {
           "style": "light"
          },
          "paper_bgcolor": "white",
          "plot_bgcolor": "#E5ECF6",
          "polar": {
           "angularaxis": {
            "gridcolor": "white",
            "linecolor": "white",
            "ticks": ""
           },
           "bgcolor": "#E5ECF6",
           "radialaxis": {
            "gridcolor": "white",
            "linecolor": "white",
            "ticks": ""
           }
          },
          "scene": {
           "xaxis": {
            "backgroundcolor": "#E5ECF6",
            "gridcolor": "white",
            "gridwidth": 2,
            "linecolor": "white",
            "showbackground": true,
            "ticks": "",
            "zerolinecolor": "white"
           },
           "yaxis": {
            "backgroundcolor": "#E5ECF6",
            "gridcolor": "white",
            "gridwidth": 2,
            "linecolor": "white",
            "showbackground": true,
            "ticks": "",
            "zerolinecolor": "white"
           },
           "zaxis": {
            "backgroundcolor": "#E5ECF6",
            "gridcolor": "white",
            "gridwidth": 2,
            "linecolor": "white",
            "showbackground": true,
            "ticks": "",
            "zerolinecolor": "white"
           }
          },
          "shapedefaults": {
           "line": {
            "color": "#2a3f5f"
           }
          },
          "ternary": {
           "aaxis": {
            "gridcolor": "white",
            "linecolor": "white",
            "ticks": ""
           },
           "baxis": {
            "gridcolor": "white",
            "linecolor": "white",
            "ticks": ""
           },
           "bgcolor": "#E5ECF6",
           "caxis": {
            "gridcolor": "white",
            "linecolor": "white",
            "ticks": ""
           }
          },
          "title": {
           "x": 0.05
          },
          "xaxis": {
           "automargin": true,
           "gridcolor": "white",
           "linecolor": "white",
           "ticks": "",
           "title": {
            "standoff": 15
           },
           "zerolinecolor": "white",
           "zerolinewidth": 2
          },
          "yaxis": {
           "automargin": true,
           "gridcolor": "white",
           "linecolor": "white",
           "ticks": "",
           "title": {
            "standoff": 15
           },
           "zerolinecolor": "white",
           "zerolinewidth": 2
          }
         }
        },
        "title": {
         "font": {
          "color": "#4D5663"
         }
        },
        "xaxis": {
         "gridcolor": "#E1E5ED",
         "showgrid": true,
         "tickfont": {
          "color": "#4D5663"
         },
         "title": {
          "font": {
           "color": "#4D5663"
          },
          "text": ""
         },
         "zerolinecolor": "#E1E5ED"
        },
        "yaxis": {
         "gridcolor": "#E1E5ED",
         "showgrid": true,
         "tickfont": {
          "color": "#4D5663"
         },
         "title": {
          "font": {
           "color": "#4D5663"
          },
          "text": ""
         },
         "zerolinecolor": "#E1E5ED"
        }
       }
      },
      "text/html": [
       "<div>                            <div id=\"be94f35f-cc9c-4074-9ced-0f081d0adb0d\" class=\"plotly-graph-div\" style=\"height:525px; width:100%;\"></div>            <script type=\"text/javascript\">                require([\"plotly\"], function(Plotly) {                    window.PLOTLYENV=window.PLOTLYENV || {};\n",
       "                    window.PLOTLYENV.BASE_URL='https://plot.ly';                                    if (document.getElementById(\"be94f35f-cc9c-4074-9ced-0f081d0adb0d\")) {                    Plotly.newPlot(                        \"be94f35f-cc9c-4074-9ced-0f081d0adb0d\",                        [{\"colorscale\":[[0.0,\"rgb(255, 153, 51)\"],[0.1111111111111111,\"rgb(55, 128, 191)\"],[0.2222222222222222,\"rgb(50, 171, 96)\"],[0.3333333333333333,\"rgb(128, 0, 128)\"],[0.4444444444444444,\"rgb(219, 64, 82)\"],[0.5555555555555556,\"rgb(0, 128, 128)\"],[0.6666666666666666,\"rgb(255, 255, 51)\"],[0.7777777777777778,\"rgb(128, 128, 0)\"],[0.8888888888888888,\"rgb(251, 128, 114)\"],[1.0,\"rgb(128, 177, 211)\"]],\"x\":[0,1,2,3,4],\"y\":[\"x\",\"y\",\"z\"],\"z\":[[1,2,3,4,5],[10,20,30,20,10],[5,4,3,2,1]],\"type\":\"surface\"}],                        {\"legend\":{\"bgcolor\":\"#F5F6F9\",\"font\":{\"color\":\"#4D5663\"}},\"paper_bgcolor\":\"#F5F6F9\",\"plot_bgcolor\":\"#F5F6F9\",\"template\":{\"data\":{\"barpolar\":[{\"marker\":{\"line\":{\"color\":\"#E5ECF6\",\"width\":0.5},\"pattern\":{\"fillmode\":\"overlay\",\"size\":10,\"solidity\":0.2}},\"type\":\"barpolar\"}],\"bar\":[{\"error_x\":{\"color\":\"#2a3f5f\"},\"error_y\":{\"color\":\"#2a3f5f\"},\"marker\":{\"line\":{\"color\":\"#E5ECF6\",\"width\":0.5},\"pattern\":{\"fillmode\":\"overlay\",\"size\":10,\"solidity\":0.2}},\"type\":\"bar\"}],\"carpet\":[{\"aaxis\":{\"endlinecolor\":\"#2a3f5f\",\"gridcolor\":\"white\",\"linecolor\":\"white\",\"minorgridcolor\":\"white\",\"startlinecolor\":\"#2a3f5f\"},\"baxis\":{\"endlinecolor\":\"#2a3f5f\",\"gridcolor\":\"white\",\"linecolor\":\"white\",\"minorgridcolor\":\"white\",\"startlinecolor\":\"#2a3f5f\"},\"type\":\"carpet\"}],\"choropleth\":[{\"colorbar\":{\"outlinewidth\":0,\"ticks\":\"\"},\"type\":\"choropleth\"}],\"contourcarpet\":[{\"colorbar\":{\"outlinewidth\":0,\"ticks\":\"\"},\"type\":\"contourcarpet\"}],\"contour\":[{\"colorbar\":{\"outlinewidth\":0,\"ticks\":\"\"},\"colorscale\":[[0.0,\"#0d0887\"],[0.1111111111111111,\"#46039f\"],[0.2222222222222222,\"#7201a8\"],[0.3333333333333333,\"#9c179e\"],[0.4444444444444444,\"#bd3786\"],[0.5555555555555556,\"#d8576b\"],[0.6666666666666666,\"#ed7953\"],[0.7777777777777778,\"#fb9f3a\"],[0.8888888888888888,\"#fdca26\"],[1.0,\"#f0f921\"]],\"type\":\"contour\"}],\"heatmapgl\":[{\"colorbar\":{\"outlinewidth\":0,\"ticks\":\"\"},\"colorscale\":[[0.0,\"#0d0887\"],[0.1111111111111111,\"#46039f\"],[0.2222222222222222,\"#7201a8\"],[0.3333333333333333,\"#9c179e\"],[0.4444444444444444,\"#bd3786\"],[0.5555555555555556,\"#d8576b\"],[0.6666666666666666,\"#ed7953\"],[0.7777777777777778,\"#fb9f3a\"],[0.8888888888888888,\"#fdca26\"],[1.0,\"#f0f921\"]],\"type\":\"heatmapgl\"}],\"heatmap\":[{\"colorbar\":{\"outlinewidth\":0,\"ticks\":\"\"},\"colorscale\":[[0.0,\"#0d0887\"],[0.1111111111111111,\"#46039f\"],[0.2222222222222222,\"#7201a8\"],[0.3333333333333333,\"#9c179e\"],[0.4444444444444444,\"#bd3786\"],[0.5555555555555556,\"#d8576b\"],[0.6666666666666666,\"#ed7953\"],[0.7777777777777778,\"#fb9f3a\"],[0.8888888888888888,\"#fdca26\"],[1.0,\"#f0f921\"]],\"type\":\"heatmap\"}],\"histogram2dcontour\":[{\"colorbar\":{\"outlinewidth\":0,\"ticks\":\"\"},\"colorscale\":[[0.0,\"#0d0887\"],[0.1111111111111111,\"#46039f\"],[0.2222222222222222,\"#7201a8\"],[0.3333333333333333,\"#9c179e\"],[0.4444444444444444,\"#bd3786\"],[0.5555555555555556,\"#d8576b\"],[0.6666666666666666,\"#ed7953\"],[0.7777777777777778,\"#fb9f3a\"],[0.8888888888888888,\"#fdca26\"],[1.0,\"#f0f921\"]],\"type\":\"histogram2dcontour\"}],\"histogram2d\":[{\"colorbar\":{\"outlinewidth\":0,\"ticks\":\"\"},\"colorscale\":[[0.0,\"#0d0887\"],[0.1111111111111111,\"#46039f\"],[0.2222222222222222,\"#7201a8\"],[0.3333333333333333,\"#9c179e\"],[0.4444444444444444,\"#bd3786\"],[0.5555555555555556,\"#d8576b\"],[0.6666666666666666,\"#ed7953\"],[0.7777777777777778,\"#fb9f3a\"],[0.8888888888888888,\"#fdca26\"],[1.0,\"#f0f921\"]],\"type\":\"histogram2d\"}],\"histogram\":[{\"marker\":{\"pattern\":{\"fillmode\":\"overlay\",\"size\":10,\"solidity\":0.2}},\"type\":\"histogram\"}],\"mesh3d\":[{\"colorbar\":{\"outlinewidth\":0,\"ticks\":\"\"},\"type\":\"mesh3d\"}],\"parcoords\":[{\"line\":{\"colorbar\":{\"outlinewidth\":0,\"ticks\":\"\"}},\"type\":\"parcoords\"}],\"pie\":[{\"automargin\":true,\"type\":\"pie\"}],\"scatter3d\":[{\"line\":{\"colorbar\":{\"outlinewidth\":0,\"ticks\":\"\"}},\"marker\":{\"colorbar\":{\"outlinewidth\":0,\"ticks\":\"\"}},\"type\":\"scatter3d\"}],\"scattercarpet\":[{\"marker\":{\"colorbar\":{\"outlinewidth\":0,\"ticks\":\"\"}},\"type\":\"scattercarpet\"}],\"scattergeo\":[{\"marker\":{\"colorbar\":{\"outlinewidth\":0,\"ticks\":\"\"}},\"type\":\"scattergeo\"}],\"scattergl\":[{\"marker\":{\"colorbar\":{\"outlinewidth\":0,\"ticks\":\"\"}},\"type\":\"scattergl\"}],\"scattermapbox\":[{\"marker\":{\"colorbar\":{\"outlinewidth\":0,\"ticks\":\"\"}},\"type\":\"scattermapbox\"}],\"scatterpolargl\":[{\"marker\":{\"colorbar\":{\"outlinewidth\":0,\"ticks\":\"\"}},\"type\":\"scatterpolargl\"}],\"scatterpolar\":[{\"marker\":{\"colorbar\":{\"outlinewidth\":0,\"ticks\":\"\"}},\"type\":\"scatterpolar\"}],\"scatter\":[{\"marker\":{\"colorbar\":{\"outlinewidth\":0,\"ticks\":\"\"}},\"type\":\"scatter\"}],\"scatterternary\":[{\"marker\":{\"colorbar\":{\"outlinewidth\":0,\"ticks\":\"\"}},\"type\":\"scatterternary\"}],\"surface\":[{\"colorbar\":{\"outlinewidth\":0,\"ticks\":\"\"},\"colorscale\":[[0.0,\"#0d0887\"],[0.1111111111111111,\"#46039f\"],[0.2222222222222222,\"#7201a8\"],[0.3333333333333333,\"#9c179e\"],[0.4444444444444444,\"#bd3786\"],[0.5555555555555556,\"#d8576b\"],[0.6666666666666666,\"#ed7953\"],[0.7777777777777778,\"#fb9f3a\"],[0.8888888888888888,\"#fdca26\"],[1.0,\"#f0f921\"]],\"type\":\"surface\"}],\"table\":[{\"cells\":{\"fill\":{\"color\":\"#EBF0F8\"},\"line\":{\"color\":\"white\"}},\"header\":{\"fill\":{\"color\":\"#C8D4E3\"},\"line\":{\"color\":\"white\"}},\"type\":\"table\"}]},\"layout\":{\"annotationdefaults\":{\"arrowcolor\":\"#2a3f5f\",\"arrowhead\":0,\"arrowwidth\":1},\"autotypenumbers\":\"strict\",\"coloraxis\":{\"colorbar\":{\"outlinewidth\":0,\"ticks\":\"\"}},\"colorscale\":{\"diverging\":[[0,\"#8e0152\"],[0.1,\"#c51b7d\"],[0.2,\"#de77ae\"],[0.3,\"#f1b6da\"],[0.4,\"#fde0ef\"],[0.5,\"#f7f7f7\"],[0.6,\"#e6f5d0\"],[0.7,\"#b8e186\"],[0.8,\"#7fbc41\"],[0.9,\"#4d9221\"],[1,\"#276419\"]],\"sequential\":[[0.0,\"#0d0887\"],[0.1111111111111111,\"#46039f\"],[0.2222222222222222,\"#7201a8\"],[0.3333333333333333,\"#9c179e\"],[0.4444444444444444,\"#bd3786\"],[0.5555555555555556,\"#d8576b\"],[0.6666666666666666,\"#ed7953\"],[0.7777777777777778,\"#fb9f3a\"],[0.8888888888888888,\"#fdca26\"],[1.0,\"#f0f921\"]],\"sequentialminus\":[[0.0,\"#0d0887\"],[0.1111111111111111,\"#46039f\"],[0.2222222222222222,\"#7201a8\"],[0.3333333333333333,\"#9c179e\"],[0.4444444444444444,\"#bd3786\"],[0.5555555555555556,\"#d8576b\"],[0.6666666666666666,\"#ed7953\"],[0.7777777777777778,\"#fb9f3a\"],[0.8888888888888888,\"#fdca26\"],[1.0,\"#f0f921\"]]},\"colorway\":[\"#636efa\",\"#EF553B\",\"#00cc96\",\"#ab63fa\",\"#FFA15A\",\"#19d3f3\",\"#FF6692\",\"#B6E880\",\"#FF97FF\",\"#FECB52\"],\"font\":{\"color\":\"#2a3f5f\"},\"geo\":{\"bgcolor\":\"white\",\"lakecolor\":\"white\",\"landcolor\":\"#E5ECF6\",\"showlakes\":true,\"showland\":true,\"subunitcolor\":\"white\"},\"hoverlabel\":{\"align\":\"left\"},\"hovermode\":\"closest\",\"mapbox\":{\"style\":\"light\"},\"paper_bgcolor\":\"white\",\"plot_bgcolor\":\"#E5ECF6\",\"polar\":{\"angularaxis\":{\"gridcolor\":\"white\",\"linecolor\":\"white\",\"ticks\":\"\"},\"bgcolor\":\"#E5ECF6\",\"radialaxis\":{\"gridcolor\":\"white\",\"linecolor\":\"white\",\"ticks\":\"\"}},\"scene\":{\"xaxis\":{\"backgroundcolor\":\"#E5ECF6\",\"gridcolor\":\"white\",\"gridwidth\":2,\"linecolor\":\"white\",\"showbackground\":true,\"ticks\":\"\",\"zerolinecolor\":\"white\"},\"yaxis\":{\"backgroundcolor\":\"#E5ECF6\",\"gridcolor\":\"white\",\"gridwidth\":2,\"linecolor\":\"white\",\"showbackground\":true,\"ticks\":\"\",\"zerolinecolor\":\"white\"},\"zaxis\":{\"backgroundcolor\":\"#E5ECF6\",\"gridcolor\":\"white\",\"gridwidth\":2,\"linecolor\":\"white\",\"showbackground\":true,\"ticks\":\"\",\"zerolinecolor\":\"white\"}},\"shapedefaults\":{\"line\":{\"color\":\"#2a3f5f\"}},\"ternary\":{\"aaxis\":{\"gridcolor\":\"white\",\"linecolor\":\"white\",\"ticks\":\"\"},\"baxis\":{\"gridcolor\":\"white\",\"linecolor\":\"white\",\"ticks\":\"\"},\"bgcolor\":\"#E5ECF6\",\"caxis\":{\"gridcolor\":\"white\",\"linecolor\":\"white\",\"ticks\":\"\"}},\"title\":{\"x\":0.05},\"xaxis\":{\"automargin\":true,\"gridcolor\":\"white\",\"linecolor\":\"white\",\"ticks\":\"\",\"title\":{\"standoff\":15},\"zerolinecolor\":\"white\",\"zerolinewidth\":2},\"yaxis\":{\"automargin\":true,\"gridcolor\":\"white\",\"linecolor\":\"white\",\"ticks\":\"\",\"title\":{\"standoff\":15},\"zerolinecolor\":\"white\",\"zerolinewidth\":2}}},\"title\":{\"font\":{\"color\":\"#4D5663\"}},\"xaxis\":{\"gridcolor\":\"#E1E5ED\",\"showgrid\":true,\"tickfont\":{\"color\":\"#4D5663\"},\"title\":{\"font\":{\"color\":\"#4D5663\"},\"text\":\"\"},\"zerolinecolor\":\"#E1E5ED\"},\"yaxis\":{\"gridcolor\":\"#E1E5ED\",\"showgrid\":true,\"tickfont\":{\"color\":\"#4D5663\"},\"title\":{\"font\":{\"color\":\"#4D5663\"},\"text\":\"\"},\"zerolinecolor\":\"#E1E5ED\"}},                        {\"showLink\": true, \"linkText\": \"Export to plot.ly\", \"plotlyServerURL\": \"https://plot.ly\", \"responsive\": true}                    ).then(function(){\n",
       "                            \n",
       "var gd = document.getElementById('be94f35f-cc9c-4074-9ced-0f081d0adb0d');\n",
       "var x = new MutationObserver(function (mutations, observer) {{\n",
       "        var display = window.getComputedStyle(gd).display;\n",
       "        if (!display || display === 'none') {{\n",
       "            console.log([gd, 'removed!']);\n",
       "            Plotly.purge(gd);\n",
       "            observer.disconnect();\n",
       "        }}\n",
       "}});\n",
       "\n",
       "// Listen for the removal of the full notebook cells\n",
       "var notebookContainer = gd.closest('#notebook-container');\n",
       "if (notebookContainer) {{\n",
       "    x.observe(notebookContainer, {childList: true});\n",
       "}}\n",
       "\n",
       "// Listen for the clearing of the current output cell\n",
       "var outputEl = gd.closest('.output');\n",
       "if (outputEl) {{\n",
       "    x.observe(outputEl, {childList: true});\n",
       "}}\n",
       "\n",
       "                        })                };                });            </script>        </div>"
      ]
     },
     "metadata": {},
     "output_type": "display_data"
    }
   ],
   "source": [
    "df3.iplot(kind='surface')"
   ]
  },
  {
   "cell_type": "code",
   "execution_count": 24,
   "metadata": {},
   "outputs": [
    {
     "data": {
      "application/vnd.plotly.v1+json": {
       "config": {
        "linkText": "Export to plot.ly",
        "plotlyServerURL": "https://plot.ly",
        "showLink": true
       },
       "data": [
        {
         "colorscale": [
          [
           0,
           "rgb(165,0,38)"
          ],
          [
           0.1,
           "rgb(215,48,39)"
          ],
          [
           0.2,
           "rgb(244,109,67)"
          ],
          [
           0.3,
           "rgb(253,174,97)"
          ],
          [
           0.4,
           "rgb(254,224,144)"
          ],
          [
           0.5,
           "rgb(255,255,191)"
          ],
          [
           0.6,
           "rgb(224,243,248)"
          ],
          [
           0.7,
           "rgb(171,217,233)"
          ],
          [
           0.8,
           "rgb(116,173,209)"
          ],
          [
           0.9,
           "rgb(69,117,180)"
          ],
          [
           1,
           "rgb(49,54,149)"
          ]
         ],
         "type": "surface",
         "x": [
          0,
          1,
          2,
          3,
          4
         ],
         "y": [
          "x",
          "y",
          "z"
         ],
         "z": [
          [
           1,
           2,
           3,
           4,
           5
          ],
          [
           10,
           20,
           30,
           20,
           10
          ],
          [
           5,
           4,
           3,
           2,
           1
          ]
         ]
        }
       ],
       "layout": {
        "legend": {
         "bgcolor": "#F5F6F9",
         "font": {
          "color": "#4D5663"
         }
        },
        "paper_bgcolor": "#F5F6F9",
        "plot_bgcolor": "#F5F6F9",
        "template": {
         "data": {
          "bar": [
           {
            "error_x": {
             "color": "#2a3f5f"
            },
            "error_y": {
             "color": "#2a3f5f"
            },
            "marker": {
             "line": {
              "color": "#E5ECF6",
              "width": 0.5
             },
             "pattern": {
              "fillmode": "overlay",
              "size": 10,
              "solidity": 0.2
             }
            },
            "type": "bar"
           }
          ],
          "barpolar": [
           {
            "marker": {
             "line": {
              "color": "#E5ECF6",
              "width": 0.5
             },
             "pattern": {
              "fillmode": "overlay",
              "size": 10,
              "solidity": 0.2
             }
            },
            "type": "barpolar"
           }
          ],
          "carpet": [
           {
            "aaxis": {
             "endlinecolor": "#2a3f5f",
             "gridcolor": "white",
             "linecolor": "white",
             "minorgridcolor": "white",
             "startlinecolor": "#2a3f5f"
            },
            "baxis": {
             "endlinecolor": "#2a3f5f",
             "gridcolor": "white",
             "linecolor": "white",
             "minorgridcolor": "white",
             "startlinecolor": "#2a3f5f"
            },
            "type": "carpet"
           }
          ],
          "choropleth": [
           {
            "colorbar": {
             "outlinewidth": 0,
             "ticks": ""
            },
            "type": "choropleth"
           }
          ],
          "contour": [
           {
            "colorbar": {
             "outlinewidth": 0,
             "ticks": ""
            },
            "colorscale": [
             [
              0,
              "#0d0887"
             ],
             [
              0.1111111111111111,
              "#46039f"
             ],
             [
              0.2222222222222222,
              "#7201a8"
             ],
             [
              0.3333333333333333,
              "#9c179e"
             ],
             [
              0.4444444444444444,
              "#bd3786"
             ],
             [
              0.5555555555555556,
              "#d8576b"
             ],
             [
              0.6666666666666666,
              "#ed7953"
             ],
             [
              0.7777777777777778,
              "#fb9f3a"
             ],
             [
              0.8888888888888888,
              "#fdca26"
             ],
             [
              1,
              "#f0f921"
             ]
            ],
            "type": "contour"
           }
          ],
          "contourcarpet": [
           {
            "colorbar": {
             "outlinewidth": 0,
             "ticks": ""
            },
            "type": "contourcarpet"
           }
          ],
          "heatmap": [
           {
            "colorbar": {
             "outlinewidth": 0,
             "ticks": ""
            },
            "colorscale": [
             [
              0,
              "#0d0887"
             ],
             [
              0.1111111111111111,
              "#46039f"
             ],
             [
              0.2222222222222222,
              "#7201a8"
             ],
             [
              0.3333333333333333,
              "#9c179e"
             ],
             [
              0.4444444444444444,
              "#bd3786"
             ],
             [
              0.5555555555555556,
              "#d8576b"
             ],
             [
              0.6666666666666666,
              "#ed7953"
             ],
             [
              0.7777777777777778,
              "#fb9f3a"
             ],
             [
              0.8888888888888888,
              "#fdca26"
             ],
             [
              1,
              "#f0f921"
             ]
            ],
            "type": "heatmap"
           }
          ],
          "heatmapgl": [
           {
            "colorbar": {
             "outlinewidth": 0,
             "ticks": ""
            },
            "colorscale": [
             [
              0,
              "#0d0887"
             ],
             [
              0.1111111111111111,
              "#46039f"
             ],
             [
              0.2222222222222222,
              "#7201a8"
             ],
             [
              0.3333333333333333,
              "#9c179e"
             ],
             [
              0.4444444444444444,
              "#bd3786"
             ],
             [
              0.5555555555555556,
              "#d8576b"
             ],
             [
              0.6666666666666666,
              "#ed7953"
             ],
             [
              0.7777777777777778,
              "#fb9f3a"
             ],
             [
              0.8888888888888888,
              "#fdca26"
             ],
             [
              1,
              "#f0f921"
             ]
            ],
            "type": "heatmapgl"
           }
          ],
          "histogram": [
           {
            "marker": {
             "pattern": {
              "fillmode": "overlay",
              "size": 10,
              "solidity": 0.2
             }
            },
            "type": "histogram"
           }
          ],
          "histogram2d": [
           {
            "colorbar": {
             "outlinewidth": 0,
             "ticks": ""
            },
            "colorscale": [
             [
              0,
              "#0d0887"
             ],
             [
              0.1111111111111111,
              "#46039f"
             ],
             [
              0.2222222222222222,
              "#7201a8"
             ],
             [
              0.3333333333333333,
              "#9c179e"
             ],
             [
              0.4444444444444444,
              "#bd3786"
             ],
             [
              0.5555555555555556,
              "#d8576b"
             ],
             [
              0.6666666666666666,
              "#ed7953"
             ],
             [
              0.7777777777777778,
              "#fb9f3a"
             ],
             [
              0.8888888888888888,
              "#fdca26"
             ],
             [
              1,
              "#f0f921"
             ]
            ],
            "type": "histogram2d"
           }
          ],
          "histogram2dcontour": [
           {
            "colorbar": {
             "outlinewidth": 0,
             "ticks": ""
            },
            "colorscale": [
             [
              0,
              "#0d0887"
             ],
             [
              0.1111111111111111,
              "#46039f"
             ],
             [
              0.2222222222222222,
              "#7201a8"
             ],
             [
              0.3333333333333333,
              "#9c179e"
             ],
             [
              0.4444444444444444,
              "#bd3786"
             ],
             [
              0.5555555555555556,
              "#d8576b"
             ],
             [
              0.6666666666666666,
              "#ed7953"
             ],
             [
              0.7777777777777778,
              "#fb9f3a"
             ],
             [
              0.8888888888888888,
              "#fdca26"
             ],
             [
              1,
              "#f0f921"
             ]
            ],
            "type": "histogram2dcontour"
           }
          ],
          "mesh3d": [
           {
            "colorbar": {
             "outlinewidth": 0,
             "ticks": ""
            },
            "type": "mesh3d"
           }
          ],
          "parcoords": [
           {
            "line": {
             "colorbar": {
              "outlinewidth": 0,
              "ticks": ""
             }
            },
            "type": "parcoords"
           }
          ],
          "pie": [
           {
            "automargin": true,
            "type": "pie"
           }
          ],
          "scatter": [
           {
            "marker": {
             "colorbar": {
              "outlinewidth": 0,
              "ticks": ""
             }
            },
            "type": "scatter"
           }
          ],
          "scatter3d": [
           {
            "line": {
             "colorbar": {
              "outlinewidth": 0,
              "ticks": ""
             }
            },
            "marker": {
             "colorbar": {
              "outlinewidth": 0,
              "ticks": ""
             }
            },
            "type": "scatter3d"
           }
          ],
          "scattercarpet": [
           {
            "marker": {
             "colorbar": {
              "outlinewidth": 0,
              "ticks": ""
             }
            },
            "type": "scattercarpet"
           }
          ],
          "scattergeo": [
           {
            "marker": {
             "colorbar": {
              "outlinewidth": 0,
              "ticks": ""
             }
            },
            "type": "scattergeo"
           }
          ],
          "scattergl": [
           {
            "marker": {
             "colorbar": {
              "outlinewidth": 0,
              "ticks": ""
             }
            },
            "type": "scattergl"
           }
          ],
          "scattermapbox": [
           {
            "marker": {
             "colorbar": {
              "outlinewidth": 0,
              "ticks": ""
             }
            },
            "type": "scattermapbox"
           }
          ],
          "scatterpolar": [
           {
            "marker": {
             "colorbar": {
              "outlinewidth": 0,
              "ticks": ""
             }
            },
            "type": "scatterpolar"
           }
          ],
          "scatterpolargl": [
           {
            "marker": {
             "colorbar": {
              "outlinewidth": 0,
              "ticks": ""
             }
            },
            "type": "scatterpolargl"
           }
          ],
          "scatterternary": [
           {
            "marker": {
             "colorbar": {
              "outlinewidth": 0,
              "ticks": ""
             }
            },
            "type": "scatterternary"
           }
          ],
          "surface": [
           {
            "colorbar": {
             "outlinewidth": 0,
             "ticks": ""
            },
            "colorscale": [
             [
              0,
              "#0d0887"
             ],
             [
              0.1111111111111111,
              "#46039f"
             ],
             [
              0.2222222222222222,
              "#7201a8"
             ],
             [
              0.3333333333333333,
              "#9c179e"
             ],
             [
              0.4444444444444444,
              "#bd3786"
             ],
             [
              0.5555555555555556,
              "#d8576b"
             ],
             [
              0.6666666666666666,
              "#ed7953"
             ],
             [
              0.7777777777777778,
              "#fb9f3a"
             ],
             [
              0.8888888888888888,
              "#fdca26"
             ],
             [
              1,
              "#f0f921"
             ]
            ],
            "type": "surface"
           }
          ],
          "table": [
           {
            "cells": {
             "fill": {
              "color": "#EBF0F8"
             },
             "line": {
              "color": "white"
             }
            },
            "header": {
             "fill": {
              "color": "#C8D4E3"
             },
             "line": {
              "color": "white"
             }
            },
            "type": "table"
           }
          ]
         },
         "layout": {
          "annotationdefaults": {
           "arrowcolor": "#2a3f5f",
           "arrowhead": 0,
           "arrowwidth": 1
          },
          "autotypenumbers": "strict",
          "coloraxis": {
           "colorbar": {
            "outlinewidth": 0,
            "ticks": ""
           }
          },
          "colorscale": {
           "diverging": [
            [
             0,
             "#8e0152"
            ],
            [
             0.1,
             "#c51b7d"
            ],
            [
             0.2,
             "#de77ae"
            ],
            [
             0.3,
             "#f1b6da"
            ],
            [
             0.4,
             "#fde0ef"
            ],
            [
             0.5,
             "#f7f7f7"
            ],
            [
             0.6,
             "#e6f5d0"
            ],
            [
             0.7,
             "#b8e186"
            ],
            [
             0.8,
             "#7fbc41"
            ],
            [
             0.9,
             "#4d9221"
            ],
            [
             1,
             "#276419"
            ]
           ],
           "sequential": [
            [
             0,
             "#0d0887"
            ],
            [
             0.1111111111111111,
             "#46039f"
            ],
            [
             0.2222222222222222,
             "#7201a8"
            ],
            [
             0.3333333333333333,
             "#9c179e"
            ],
            [
             0.4444444444444444,
             "#bd3786"
            ],
            [
             0.5555555555555556,
             "#d8576b"
            ],
            [
             0.6666666666666666,
             "#ed7953"
            ],
            [
             0.7777777777777778,
             "#fb9f3a"
            ],
            [
             0.8888888888888888,
             "#fdca26"
            ],
            [
             1,
             "#f0f921"
            ]
           ],
           "sequentialminus": [
            [
             0,
             "#0d0887"
            ],
            [
             0.1111111111111111,
             "#46039f"
            ],
            [
             0.2222222222222222,
             "#7201a8"
            ],
            [
             0.3333333333333333,
             "#9c179e"
            ],
            [
             0.4444444444444444,
             "#bd3786"
            ],
            [
             0.5555555555555556,
             "#d8576b"
            ],
            [
             0.6666666666666666,
             "#ed7953"
            ],
            [
             0.7777777777777778,
             "#fb9f3a"
            ],
            [
             0.8888888888888888,
             "#fdca26"
            ],
            [
             1,
             "#f0f921"
            ]
           ]
          },
          "colorway": [
           "#636efa",
           "#EF553B",
           "#00cc96",
           "#ab63fa",
           "#FFA15A",
           "#19d3f3",
           "#FF6692",
           "#B6E880",
           "#FF97FF",
           "#FECB52"
          ],
          "font": {
           "color": "#2a3f5f"
          },
          "geo": {
           "bgcolor": "white",
           "lakecolor": "white",
           "landcolor": "#E5ECF6",
           "showlakes": true,
           "showland": true,
           "subunitcolor": "white"
          },
          "hoverlabel": {
           "align": "left"
          },
          "hovermode": "closest",
          "mapbox": {
           "style": "light"
          },
          "paper_bgcolor": "white",
          "plot_bgcolor": "#E5ECF6",
          "polar": {
           "angularaxis": {
            "gridcolor": "white",
            "linecolor": "white",
            "ticks": ""
           },
           "bgcolor": "#E5ECF6",
           "radialaxis": {
            "gridcolor": "white",
            "linecolor": "white",
            "ticks": ""
           }
          },
          "scene": {
           "xaxis": {
            "backgroundcolor": "#E5ECF6",
            "gridcolor": "white",
            "gridwidth": 2,
            "linecolor": "white",
            "showbackground": true,
            "ticks": "",
            "zerolinecolor": "white"
           },
           "yaxis": {
            "backgroundcolor": "#E5ECF6",
            "gridcolor": "white",
            "gridwidth": 2,
            "linecolor": "white",
            "showbackground": true,
            "ticks": "",
            "zerolinecolor": "white"
           },
           "zaxis": {
            "backgroundcolor": "#E5ECF6",
            "gridcolor": "white",
            "gridwidth": 2,
            "linecolor": "white",
            "showbackground": true,
            "ticks": "",
            "zerolinecolor": "white"
           }
          },
          "shapedefaults": {
           "line": {
            "color": "#2a3f5f"
           }
          },
          "ternary": {
           "aaxis": {
            "gridcolor": "white",
            "linecolor": "white",
            "ticks": ""
           },
           "baxis": {
            "gridcolor": "white",
            "linecolor": "white",
            "ticks": ""
           },
           "bgcolor": "#E5ECF6",
           "caxis": {
            "gridcolor": "white",
            "linecolor": "white",
            "ticks": ""
           }
          },
          "title": {
           "x": 0.05
          },
          "xaxis": {
           "automargin": true,
           "gridcolor": "white",
           "linecolor": "white",
           "ticks": "",
           "title": {
            "standoff": 15
           },
           "zerolinecolor": "white",
           "zerolinewidth": 2
          },
          "yaxis": {
           "automargin": true,
           "gridcolor": "white",
           "linecolor": "white",
           "ticks": "",
           "title": {
            "standoff": 15
           },
           "zerolinecolor": "white",
           "zerolinewidth": 2
          }
         }
        },
        "title": {
         "font": {
          "color": "#4D5663"
         }
        },
        "xaxis": {
         "gridcolor": "#E1E5ED",
         "showgrid": true,
         "tickfont": {
          "color": "#4D5663"
         },
         "title": {
          "font": {
           "color": "#4D5663"
          },
          "text": ""
         },
         "zerolinecolor": "#E1E5ED"
        },
        "yaxis": {
         "gridcolor": "#E1E5ED",
         "showgrid": true,
         "tickfont": {
          "color": "#4D5663"
         },
         "title": {
          "font": {
           "color": "#4D5663"
          },
          "text": ""
         },
         "zerolinecolor": "#E1E5ED"
        }
       }
      },
      "text/html": [
       "<div>                            <div id=\"85de37b4-d70f-4312-ad12-440201dc920c\" class=\"plotly-graph-div\" style=\"height:525px; width:100%;\"></div>            <script type=\"text/javascript\">                require([\"plotly\"], function(Plotly) {                    window.PLOTLYENV=window.PLOTLYENV || {};\n",
       "                    window.PLOTLYENV.BASE_URL='https://plot.ly';                                    if (document.getElementById(\"85de37b4-d70f-4312-ad12-440201dc920c\")) {                    Plotly.newPlot(                        \"85de37b4-d70f-4312-ad12-440201dc920c\",                        [{\"colorscale\":[[0.0,\"rgb(165,0,38)\"],[0.1,\"rgb(215,48,39)\"],[0.2,\"rgb(244,109,67)\"],[0.3,\"rgb(253,174,97)\"],[0.4,\"rgb(254,224,144)\"],[0.5,\"rgb(255,255,191)\"],[0.6,\"rgb(224,243,248)\"],[0.7,\"rgb(171,217,233)\"],[0.8,\"rgb(116,173,209)\"],[0.9,\"rgb(69,117,180)\"],[1.0,\"rgb(49,54,149)\"]],\"x\":[0,1,2,3,4],\"y\":[\"x\",\"y\",\"z\"],\"z\":[[1,2,3,4,5],[10,20,30,20,10],[5,4,3,2,1]],\"type\":\"surface\"}],                        {\"legend\":{\"bgcolor\":\"#F5F6F9\",\"font\":{\"color\":\"#4D5663\"}},\"paper_bgcolor\":\"#F5F6F9\",\"plot_bgcolor\":\"#F5F6F9\",\"template\":{\"data\":{\"barpolar\":[{\"marker\":{\"line\":{\"color\":\"#E5ECF6\",\"width\":0.5},\"pattern\":{\"fillmode\":\"overlay\",\"size\":10,\"solidity\":0.2}},\"type\":\"barpolar\"}],\"bar\":[{\"error_x\":{\"color\":\"#2a3f5f\"},\"error_y\":{\"color\":\"#2a3f5f\"},\"marker\":{\"line\":{\"color\":\"#E5ECF6\",\"width\":0.5},\"pattern\":{\"fillmode\":\"overlay\",\"size\":10,\"solidity\":0.2}},\"type\":\"bar\"}],\"carpet\":[{\"aaxis\":{\"endlinecolor\":\"#2a3f5f\",\"gridcolor\":\"white\",\"linecolor\":\"white\",\"minorgridcolor\":\"white\",\"startlinecolor\":\"#2a3f5f\"},\"baxis\":{\"endlinecolor\":\"#2a3f5f\",\"gridcolor\":\"white\",\"linecolor\":\"white\",\"minorgridcolor\":\"white\",\"startlinecolor\":\"#2a3f5f\"},\"type\":\"carpet\"}],\"choropleth\":[{\"colorbar\":{\"outlinewidth\":0,\"ticks\":\"\"},\"type\":\"choropleth\"}],\"contourcarpet\":[{\"colorbar\":{\"outlinewidth\":0,\"ticks\":\"\"},\"type\":\"contourcarpet\"}],\"contour\":[{\"colorbar\":{\"outlinewidth\":0,\"ticks\":\"\"},\"colorscale\":[[0.0,\"#0d0887\"],[0.1111111111111111,\"#46039f\"],[0.2222222222222222,\"#7201a8\"],[0.3333333333333333,\"#9c179e\"],[0.4444444444444444,\"#bd3786\"],[0.5555555555555556,\"#d8576b\"],[0.6666666666666666,\"#ed7953\"],[0.7777777777777778,\"#fb9f3a\"],[0.8888888888888888,\"#fdca26\"],[1.0,\"#f0f921\"]],\"type\":\"contour\"}],\"heatmapgl\":[{\"colorbar\":{\"outlinewidth\":0,\"ticks\":\"\"},\"colorscale\":[[0.0,\"#0d0887\"],[0.1111111111111111,\"#46039f\"],[0.2222222222222222,\"#7201a8\"],[0.3333333333333333,\"#9c179e\"],[0.4444444444444444,\"#bd3786\"],[0.5555555555555556,\"#d8576b\"],[0.6666666666666666,\"#ed7953\"],[0.7777777777777778,\"#fb9f3a\"],[0.8888888888888888,\"#fdca26\"],[1.0,\"#f0f921\"]],\"type\":\"heatmapgl\"}],\"heatmap\":[{\"colorbar\":{\"outlinewidth\":0,\"ticks\":\"\"},\"colorscale\":[[0.0,\"#0d0887\"],[0.1111111111111111,\"#46039f\"],[0.2222222222222222,\"#7201a8\"],[0.3333333333333333,\"#9c179e\"],[0.4444444444444444,\"#bd3786\"],[0.5555555555555556,\"#d8576b\"],[0.6666666666666666,\"#ed7953\"],[0.7777777777777778,\"#fb9f3a\"],[0.8888888888888888,\"#fdca26\"],[1.0,\"#f0f921\"]],\"type\":\"heatmap\"}],\"histogram2dcontour\":[{\"colorbar\":{\"outlinewidth\":0,\"ticks\":\"\"},\"colorscale\":[[0.0,\"#0d0887\"],[0.1111111111111111,\"#46039f\"],[0.2222222222222222,\"#7201a8\"],[0.3333333333333333,\"#9c179e\"],[0.4444444444444444,\"#bd3786\"],[0.5555555555555556,\"#d8576b\"],[0.6666666666666666,\"#ed7953\"],[0.7777777777777778,\"#fb9f3a\"],[0.8888888888888888,\"#fdca26\"],[1.0,\"#f0f921\"]],\"type\":\"histogram2dcontour\"}],\"histogram2d\":[{\"colorbar\":{\"outlinewidth\":0,\"ticks\":\"\"},\"colorscale\":[[0.0,\"#0d0887\"],[0.1111111111111111,\"#46039f\"],[0.2222222222222222,\"#7201a8\"],[0.3333333333333333,\"#9c179e\"],[0.4444444444444444,\"#bd3786\"],[0.5555555555555556,\"#d8576b\"],[0.6666666666666666,\"#ed7953\"],[0.7777777777777778,\"#fb9f3a\"],[0.8888888888888888,\"#fdca26\"],[1.0,\"#f0f921\"]],\"type\":\"histogram2d\"}],\"histogram\":[{\"marker\":{\"pattern\":{\"fillmode\":\"overlay\",\"size\":10,\"solidity\":0.2}},\"type\":\"histogram\"}],\"mesh3d\":[{\"colorbar\":{\"outlinewidth\":0,\"ticks\":\"\"},\"type\":\"mesh3d\"}],\"parcoords\":[{\"line\":{\"colorbar\":{\"outlinewidth\":0,\"ticks\":\"\"}},\"type\":\"parcoords\"}],\"pie\":[{\"automargin\":true,\"type\":\"pie\"}],\"scatter3d\":[{\"line\":{\"colorbar\":{\"outlinewidth\":0,\"ticks\":\"\"}},\"marker\":{\"colorbar\":{\"outlinewidth\":0,\"ticks\":\"\"}},\"type\":\"scatter3d\"}],\"scattercarpet\":[{\"marker\":{\"colorbar\":{\"outlinewidth\":0,\"ticks\":\"\"}},\"type\":\"scattercarpet\"}],\"scattergeo\":[{\"marker\":{\"colorbar\":{\"outlinewidth\":0,\"ticks\":\"\"}},\"type\":\"scattergeo\"}],\"scattergl\":[{\"marker\":{\"colorbar\":{\"outlinewidth\":0,\"ticks\":\"\"}},\"type\":\"scattergl\"}],\"scattermapbox\":[{\"marker\":{\"colorbar\":{\"outlinewidth\":0,\"ticks\":\"\"}},\"type\":\"scattermapbox\"}],\"scatterpolargl\":[{\"marker\":{\"colorbar\":{\"outlinewidth\":0,\"ticks\":\"\"}},\"type\":\"scatterpolargl\"}],\"scatterpolar\":[{\"marker\":{\"colorbar\":{\"outlinewidth\":0,\"ticks\":\"\"}},\"type\":\"scatterpolar\"}],\"scatter\":[{\"marker\":{\"colorbar\":{\"outlinewidth\":0,\"ticks\":\"\"}},\"type\":\"scatter\"}],\"scatterternary\":[{\"marker\":{\"colorbar\":{\"outlinewidth\":0,\"ticks\":\"\"}},\"type\":\"scatterternary\"}],\"surface\":[{\"colorbar\":{\"outlinewidth\":0,\"ticks\":\"\"},\"colorscale\":[[0.0,\"#0d0887\"],[0.1111111111111111,\"#46039f\"],[0.2222222222222222,\"#7201a8\"],[0.3333333333333333,\"#9c179e\"],[0.4444444444444444,\"#bd3786\"],[0.5555555555555556,\"#d8576b\"],[0.6666666666666666,\"#ed7953\"],[0.7777777777777778,\"#fb9f3a\"],[0.8888888888888888,\"#fdca26\"],[1.0,\"#f0f921\"]],\"type\":\"surface\"}],\"table\":[{\"cells\":{\"fill\":{\"color\":\"#EBF0F8\"},\"line\":{\"color\":\"white\"}},\"header\":{\"fill\":{\"color\":\"#C8D4E3\"},\"line\":{\"color\":\"white\"}},\"type\":\"table\"}]},\"layout\":{\"annotationdefaults\":{\"arrowcolor\":\"#2a3f5f\",\"arrowhead\":0,\"arrowwidth\":1},\"autotypenumbers\":\"strict\",\"coloraxis\":{\"colorbar\":{\"outlinewidth\":0,\"ticks\":\"\"}},\"colorscale\":{\"diverging\":[[0,\"#8e0152\"],[0.1,\"#c51b7d\"],[0.2,\"#de77ae\"],[0.3,\"#f1b6da\"],[0.4,\"#fde0ef\"],[0.5,\"#f7f7f7\"],[0.6,\"#e6f5d0\"],[0.7,\"#b8e186\"],[0.8,\"#7fbc41\"],[0.9,\"#4d9221\"],[1,\"#276419\"]],\"sequential\":[[0.0,\"#0d0887\"],[0.1111111111111111,\"#46039f\"],[0.2222222222222222,\"#7201a8\"],[0.3333333333333333,\"#9c179e\"],[0.4444444444444444,\"#bd3786\"],[0.5555555555555556,\"#d8576b\"],[0.6666666666666666,\"#ed7953\"],[0.7777777777777778,\"#fb9f3a\"],[0.8888888888888888,\"#fdca26\"],[1.0,\"#f0f921\"]],\"sequentialminus\":[[0.0,\"#0d0887\"],[0.1111111111111111,\"#46039f\"],[0.2222222222222222,\"#7201a8\"],[0.3333333333333333,\"#9c179e\"],[0.4444444444444444,\"#bd3786\"],[0.5555555555555556,\"#d8576b\"],[0.6666666666666666,\"#ed7953\"],[0.7777777777777778,\"#fb9f3a\"],[0.8888888888888888,\"#fdca26\"],[1.0,\"#f0f921\"]]},\"colorway\":[\"#636efa\",\"#EF553B\",\"#00cc96\",\"#ab63fa\",\"#FFA15A\",\"#19d3f3\",\"#FF6692\",\"#B6E880\",\"#FF97FF\",\"#FECB52\"],\"font\":{\"color\":\"#2a3f5f\"},\"geo\":{\"bgcolor\":\"white\",\"lakecolor\":\"white\",\"landcolor\":\"#E5ECF6\",\"showlakes\":true,\"showland\":true,\"subunitcolor\":\"white\"},\"hoverlabel\":{\"align\":\"left\"},\"hovermode\":\"closest\",\"mapbox\":{\"style\":\"light\"},\"paper_bgcolor\":\"white\",\"plot_bgcolor\":\"#E5ECF6\",\"polar\":{\"angularaxis\":{\"gridcolor\":\"white\",\"linecolor\":\"white\",\"ticks\":\"\"},\"bgcolor\":\"#E5ECF6\",\"radialaxis\":{\"gridcolor\":\"white\",\"linecolor\":\"white\",\"ticks\":\"\"}},\"scene\":{\"xaxis\":{\"backgroundcolor\":\"#E5ECF6\",\"gridcolor\":\"white\",\"gridwidth\":2,\"linecolor\":\"white\",\"showbackground\":true,\"ticks\":\"\",\"zerolinecolor\":\"white\"},\"yaxis\":{\"backgroundcolor\":\"#E5ECF6\",\"gridcolor\":\"white\",\"gridwidth\":2,\"linecolor\":\"white\",\"showbackground\":true,\"ticks\":\"\",\"zerolinecolor\":\"white\"},\"zaxis\":{\"backgroundcolor\":\"#E5ECF6\",\"gridcolor\":\"white\",\"gridwidth\":2,\"linecolor\":\"white\",\"showbackground\":true,\"ticks\":\"\",\"zerolinecolor\":\"white\"}},\"shapedefaults\":{\"line\":{\"color\":\"#2a3f5f\"}},\"ternary\":{\"aaxis\":{\"gridcolor\":\"white\",\"linecolor\":\"white\",\"ticks\":\"\"},\"baxis\":{\"gridcolor\":\"white\",\"linecolor\":\"white\",\"ticks\":\"\"},\"bgcolor\":\"#E5ECF6\",\"caxis\":{\"gridcolor\":\"white\",\"linecolor\":\"white\",\"ticks\":\"\"}},\"title\":{\"x\":0.05},\"xaxis\":{\"automargin\":true,\"gridcolor\":\"white\",\"linecolor\":\"white\",\"ticks\":\"\",\"title\":{\"standoff\":15},\"zerolinecolor\":\"white\",\"zerolinewidth\":2},\"yaxis\":{\"automargin\":true,\"gridcolor\":\"white\",\"linecolor\":\"white\",\"ticks\":\"\",\"title\":{\"standoff\":15},\"zerolinecolor\":\"white\",\"zerolinewidth\":2}}},\"title\":{\"font\":{\"color\":\"#4D5663\"}},\"xaxis\":{\"gridcolor\":\"#E1E5ED\",\"showgrid\":true,\"tickfont\":{\"color\":\"#4D5663\"},\"title\":{\"font\":{\"color\":\"#4D5663\"},\"text\":\"\"},\"zerolinecolor\":\"#E1E5ED\"},\"yaxis\":{\"gridcolor\":\"#E1E5ED\",\"showgrid\":true,\"tickfont\":{\"color\":\"#4D5663\"},\"title\":{\"font\":{\"color\":\"#4D5663\"},\"text\":\"\"},\"zerolinecolor\":\"#E1E5ED\"}},                        {\"showLink\": true, \"linkText\": \"Export to plot.ly\", \"plotlyServerURL\": \"https://plot.ly\", \"responsive\": true}                    ).then(function(){\n",
       "                            \n",
       "var gd = document.getElementById('85de37b4-d70f-4312-ad12-440201dc920c');\n",
       "var x = new MutationObserver(function (mutations, observer) {{\n",
       "        var display = window.getComputedStyle(gd).display;\n",
       "        if (!display || display === 'none') {{\n",
       "            console.log([gd, 'removed!']);\n",
       "            Plotly.purge(gd);\n",
       "            observer.disconnect();\n",
       "        }}\n",
       "}});\n",
       "\n",
       "// Listen for the removal of the full notebook cells\n",
       "var notebookContainer = gd.closest('#notebook-container');\n",
       "if (notebookContainer) {{\n",
       "    x.observe(notebookContainer, {childList: true});\n",
       "}}\n",
       "\n",
       "// Listen for the clearing of the current output cell\n",
       "var outputEl = gd.closest('.output');\n",
       "if (outputEl) {{\n",
       "    x.observe(outputEl, {childList: true});\n",
       "}}\n",
       "\n",
       "                        })                };                });            </script>        </div>"
      ]
     },
     "metadata": {},
     "output_type": "display_data"
    }
   ],
   "source": [
    "#to change colors, use the argument colorscale='colorscale', refer to docs for mroe info, note-this colorscale is different than matplotlib's or seaborn's colorscale\n",
    "df3.iplot(kind='surface', colorscale='rdylbu')"
   ]
  },
  {
   "cell_type": "code",
   "execution_count": 25,
   "metadata": {},
   "outputs": [
    {
     "data": {
      "application/vnd.plotly.v1+json": {
       "config": {
        "linkText": "Export to plot.ly",
        "plotlyServerURL": "https://plot.ly",
        "showLink": true
       },
       "data": [
        {
         "histfunc": "count",
         "histnorm": "",
         "marker": {
          "color": "rgba(255, 153, 51, 1.0)",
          "line": {
           "color": "#4D5663",
           "width": 1.3
          }
         },
         "name": "A",
         "opacity": 0.8,
         "orientation": "v",
         "type": "histogram",
         "x": [
          0.886481626762867,
          -0.3499620218114763,
          -1.585776582814845,
          0.6484898454257476,
          -1.9979968441142282,
          0.1201311235502911,
          -0.4148740926620486,
          0.48602098140719663,
          -0.4421915736894337,
          1.2418778460177193,
          0.10118778876868344,
          -0.3818017352390294,
          -1.0889405954178286,
          -1.0775398374986283,
          0.7176163433204604,
          0.33913004139571756,
          -0.4032606079303681,
          -0.3637756464595728,
          -1.4718184440680067,
          0.713886037258169,
          0.19269588171664376,
          0.23304829932510332,
          0.5709190035735119,
          -1.8433915506663612,
          0.8324219856241711,
          -1.0757550291979756,
          0.5077556723582699,
          -0.44413901106422243,
          -1.0086197778973143,
          -1.4028236947855495,
          0.7121967790439677,
          0.3204505587958397,
          0.4445431803849003,
          -0.7710464998332621,
          -0.32331670313769884,
          -0.37674258119090615,
          -0.4248675218977924,
          0.40764947955994546,
          -1.3078826247959392,
          1.0601288365287158,
          -0.07365209559188851,
          -0.15604718500861364,
          0.6942083782207596,
          1.6486670014904792,
          -0.7077253997726066,
          1.2800832468714303,
          -0.9465578355996911,
          -0.20620629379940864,
          -0.7963607240498749,
          -0.36078265872225806,
          1.2110561274705427,
          -0.1104525081824256,
          -0.6700042401655598,
          0.5569922218535346,
          0.3089864141526496,
          -0.2255228252683958,
          -0.2420062158747075,
          1.422815466914821,
          0.1503362119866953,
          -0.08743388513554257,
          -2.0349797681611563,
          0.8458105742183093,
          1.5407511255122293,
          0.029309506747405435,
          0.8584238640416992,
          0.9580984168929361,
          -0.9005130295018315,
          -0.013473286256282085,
          -0.8038220434152606,
          0.5661970188353798,
          -0.41924053958573,
          -0.29814007571196643,
          -0.03279477170129877,
          0.29650560309755564,
          -0.5463247852636246,
          -0.7671606914275885,
          1.0529157002903464,
          0.7838311671342689,
          1.9802407213895976,
          0.47847443413408924,
          1.0458971972595335,
          -1.2475785868909688,
          -0.8810956529233439,
          -1.6642079892521435,
          0.7756690712728784,
          -0.14000153305790228,
          -0.298192880456967,
          0.6070013657895164,
          0.9080645827077884,
          0.7257777964960853,
          -2.3168928477995996,
          -0.23743985166319456,
          -0.6036935396622959,
          -1.022352491479891,
          1.11444393383111,
          1.145304707468234,
          -3.250282066368351,
          1.5221237939575507,
          0.14200502104205395,
          0.38571662007639357
         ]
        }
       ],
       "layout": {
        "barmode": "overlay",
        "legend": {
         "bgcolor": "#F5F6F9",
         "font": {
          "color": "#4D5663"
         }
        },
        "paper_bgcolor": "#F5F6F9",
        "plot_bgcolor": "#F5F6F9",
        "template": {
         "data": {
          "bar": [
           {
            "error_x": {
             "color": "#2a3f5f"
            },
            "error_y": {
             "color": "#2a3f5f"
            },
            "marker": {
             "line": {
              "color": "#E5ECF6",
              "width": 0.5
             },
             "pattern": {
              "fillmode": "overlay",
              "size": 10,
              "solidity": 0.2
             }
            },
            "type": "bar"
           }
          ],
          "barpolar": [
           {
            "marker": {
             "line": {
              "color": "#E5ECF6",
              "width": 0.5
             },
             "pattern": {
              "fillmode": "overlay",
              "size": 10,
              "solidity": 0.2
             }
            },
            "type": "barpolar"
           }
          ],
          "carpet": [
           {
            "aaxis": {
             "endlinecolor": "#2a3f5f",
             "gridcolor": "white",
             "linecolor": "white",
             "minorgridcolor": "white",
             "startlinecolor": "#2a3f5f"
            },
            "baxis": {
             "endlinecolor": "#2a3f5f",
             "gridcolor": "white",
             "linecolor": "white",
             "minorgridcolor": "white",
             "startlinecolor": "#2a3f5f"
            },
            "type": "carpet"
           }
          ],
          "choropleth": [
           {
            "colorbar": {
             "outlinewidth": 0,
             "ticks": ""
            },
            "type": "choropleth"
           }
          ],
          "contour": [
           {
            "colorbar": {
             "outlinewidth": 0,
             "ticks": ""
            },
            "colorscale": [
             [
              0,
              "#0d0887"
             ],
             [
              0.1111111111111111,
              "#46039f"
             ],
             [
              0.2222222222222222,
              "#7201a8"
             ],
             [
              0.3333333333333333,
              "#9c179e"
             ],
             [
              0.4444444444444444,
              "#bd3786"
             ],
             [
              0.5555555555555556,
              "#d8576b"
             ],
             [
              0.6666666666666666,
              "#ed7953"
             ],
             [
              0.7777777777777778,
              "#fb9f3a"
             ],
             [
              0.8888888888888888,
              "#fdca26"
             ],
             [
              1,
              "#f0f921"
             ]
            ],
            "type": "contour"
           }
          ],
          "contourcarpet": [
           {
            "colorbar": {
             "outlinewidth": 0,
             "ticks": ""
            },
            "type": "contourcarpet"
           }
          ],
          "heatmap": [
           {
            "colorbar": {
             "outlinewidth": 0,
             "ticks": ""
            },
            "colorscale": [
             [
              0,
              "#0d0887"
             ],
             [
              0.1111111111111111,
              "#46039f"
             ],
             [
              0.2222222222222222,
              "#7201a8"
             ],
             [
              0.3333333333333333,
              "#9c179e"
             ],
             [
              0.4444444444444444,
              "#bd3786"
             ],
             [
              0.5555555555555556,
              "#d8576b"
             ],
             [
              0.6666666666666666,
              "#ed7953"
             ],
             [
              0.7777777777777778,
              "#fb9f3a"
             ],
             [
              0.8888888888888888,
              "#fdca26"
             ],
             [
              1,
              "#f0f921"
             ]
            ],
            "type": "heatmap"
           }
          ],
          "heatmapgl": [
           {
            "colorbar": {
             "outlinewidth": 0,
             "ticks": ""
            },
            "colorscale": [
             [
              0,
              "#0d0887"
             ],
             [
              0.1111111111111111,
              "#46039f"
             ],
             [
              0.2222222222222222,
              "#7201a8"
             ],
             [
              0.3333333333333333,
              "#9c179e"
             ],
             [
              0.4444444444444444,
              "#bd3786"
             ],
             [
              0.5555555555555556,
              "#d8576b"
             ],
             [
              0.6666666666666666,
              "#ed7953"
             ],
             [
              0.7777777777777778,
              "#fb9f3a"
             ],
             [
              0.8888888888888888,
              "#fdca26"
             ],
             [
              1,
              "#f0f921"
             ]
            ],
            "type": "heatmapgl"
           }
          ],
          "histogram": [
           {
            "marker": {
             "pattern": {
              "fillmode": "overlay",
              "size": 10,
              "solidity": 0.2
             }
            },
            "type": "histogram"
           }
          ],
          "histogram2d": [
           {
            "colorbar": {
             "outlinewidth": 0,
             "ticks": ""
            },
            "colorscale": [
             [
              0,
              "#0d0887"
             ],
             [
              0.1111111111111111,
              "#46039f"
             ],
             [
              0.2222222222222222,
              "#7201a8"
             ],
             [
              0.3333333333333333,
              "#9c179e"
             ],
             [
              0.4444444444444444,
              "#bd3786"
             ],
             [
              0.5555555555555556,
              "#d8576b"
             ],
             [
              0.6666666666666666,
              "#ed7953"
             ],
             [
              0.7777777777777778,
              "#fb9f3a"
             ],
             [
              0.8888888888888888,
              "#fdca26"
             ],
             [
              1,
              "#f0f921"
             ]
            ],
            "type": "histogram2d"
           }
          ],
          "histogram2dcontour": [
           {
            "colorbar": {
             "outlinewidth": 0,
             "ticks": ""
            },
            "colorscale": [
             [
              0,
              "#0d0887"
             ],
             [
              0.1111111111111111,
              "#46039f"
             ],
             [
              0.2222222222222222,
              "#7201a8"
             ],
             [
              0.3333333333333333,
              "#9c179e"
             ],
             [
              0.4444444444444444,
              "#bd3786"
             ],
             [
              0.5555555555555556,
              "#d8576b"
             ],
             [
              0.6666666666666666,
              "#ed7953"
             ],
             [
              0.7777777777777778,
              "#fb9f3a"
             ],
             [
              0.8888888888888888,
              "#fdca26"
             ],
             [
              1,
              "#f0f921"
             ]
            ],
            "type": "histogram2dcontour"
           }
          ],
          "mesh3d": [
           {
            "colorbar": {
             "outlinewidth": 0,
             "ticks": ""
            },
            "type": "mesh3d"
           }
          ],
          "parcoords": [
           {
            "line": {
             "colorbar": {
              "outlinewidth": 0,
              "ticks": ""
             }
            },
            "type": "parcoords"
           }
          ],
          "pie": [
           {
            "automargin": true,
            "type": "pie"
           }
          ],
          "scatter": [
           {
            "marker": {
             "colorbar": {
              "outlinewidth": 0,
              "ticks": ""
             }
            },
            "type": "scatter"
           }
          ],
          "scatter3d": [
           {
            "line": {
             "colorbar": {
              "outlinewidth": 0,
              "ticks": ""
             }
            },
            "marker": {
             "colorbar": {
              "outlinewidth": 0,
              "ticks": ""
             }
            },
            "type": "scatter3d"
           }
          ],
          "scattercarpet": [
           {
            "marker": {
             "colorbar": {
              "outlinewidth": 0,
              "ticks": ""
             }
            },
            "type": "scattercarpet"
           }
          ],
          "scattergeo": [
           {
            "marker": {
             "colorbar": {
              "outlinewidth": 0,
              "ticks": ""
             }
            },
            "type": "scattergeo"
           }
          ],
          "scattergl": [
           {
            "marker": {
             "colorbar": {
              "outlinewidth": 0,
              "ticks": ""
             }
            },
            "type": "scattergl"
           }
          ],
          "scattermapbox": [
           {
            "marker": {
             "colorbar": {
              "outlinewidth": 0,
              "ticks": ""
             }
            },
            "type": "scattermapbox"
           }
          ],
          "scatterpolar": [
           {
            "marker": {
             "colorbar": {
              "outlinewidth": 0,
              "ticks": ""
             }
            },
            "type": "scatterpolar"
           }
          ],
          "scatterpolargl": [
           {
            "marker": {
             "colorbar": {
              "outlinewidth": 0,
              "ticks": ""
             }
            },
            "type": "scatterpolargl"
           }
          ],
          "scatterternary": [
           {
            "marker": {
             "colorbar": {
              "outlinewidth": 0,
              "ticks": ""
             }
            },
            "type": "scatterternary"
           }
          ],
          "surface": [
           {
            "colorbar": {
             "outlinewidth": 0,
             "ticks": ""
            },
            "colorscale": [
             [
              0,
              "#0d0887"
             ],
             [
              0.1111111111111111,
              "#46039f"
             ],
             [
              0.2222222222222222,
              "#7201a8"
             ],
             [
              0.3333333333333333,
              "#9c179e"
             ],
             [
              0.4444444444444444,
              "#bd3786"
             ],
             [
              0.5555555555555556,
              "#d8576b"
             ],
             [
              0.6666666666666666,
              "#ed7953"
             ],
             [
              0.7777777777777778,
              "#fb9f3a"
             ],
             [
              0.8888888888888888,
              "#fdca26"
             ],
             [
              1,
              "#f0f921"
             ]
            ],
            "type": "surface"
           }
          ],
          "table": [
           {
            "cells": {
             "fill": {
              "color": "#EBF0F8"
             },
             "line": {
              "color": "white"
             }
            },
            "header": {
             "fill": {
              "color": "#C8D4E3"
             },
             "line": {
              "color": "white"
             }
            },
            "type": "table"
           }
          ]
         },
         "layout": {
          "annotationdefaults": {
           "arrowcolor": "#2a3f5f",
           "arrowhead": 0,
           "arrowwidth": 1
          },
          "autotypenumbers": "strict",
          "coloraxis": {
           "colorbar": {
            "outlinewidth": 0,
            "ticks": ""
           }
          },
          "colorscale": {
           "diverging": [
            [
             0,
             "#8e0152"
            ],
            [
             0.1,
             "#c51b7d"
            ],
            [
             0.2,
             "#de77ae"
            ],
            [
             0.3,
             "#f1b6da"
            ],
            [
             0.4,
             "#fde0ef"
            ],
            [
             0.5,
             "#f7f7f7"
            ],
            [
             0.6,
             "#e6f5d0"
            ],
            [
             0.7,
             "#b8e186"
            ],
            [
             0.8,
             "#7fbc41"
            ],
            [
             0.9,
             "#4d9221"
            ],
            [
             1,
             "#276419"
            ]
           ],
           "sequential": [
            [
             0,
             "#0d0887"
            ],
            [
             0.1111111111111111,
             "#46039f"
            ],
            [
             0.2222222222222222,
             "#7201a8"
            ],
            [
             0.3333333333333333,
             "#9c179e"
            ],
            [
             0.4444444444444444,
             "#bd3786"
            ],
            [
             0.5555555555555556,
             "#d8576b"
            ],
            [
             0.6666666666666666,
             "#ed7953"
            ],
            [
             0.7777777777777778,
             "#fb9f3a"
            ],
            [
             0.8888888888888888,
             "#fdca26"
            ],
            [
             1,
             "#f0f921"
            ]
           ],
           "sequentialminus": [
            [
             0,
             "#0d0887"
            ],
            [
             0.1111111111111111,
             "#46039f"
            ],
            [
             0.2222222222222222,
             "#7201a8"
            ],
            [
             0.3333333333333333,
             "#9c179e"
            ],
            [
             0.4444444444444444,
             "#bd3786"
            ],
            [
             0.5555555555555556,
             "#d8576b"
            ],
            [
             0.6666666666666666,
             "#ed7953"
            ],
            [
             0.7777777777777778,
             "#fb9f3a"
            ],
            [
             0.8888888888888888,
             "#fdca26"
            ],
            [
             1,
             "#f0f921"
            ]
           ]
          },
          "colorway": [
           "#636efa",
           "#EF553B",
           "#00cc96",
           "#ab63fa",
           "#FFA15A",
           "#19d3f3",
           "#FF6692",
           "#B6E880",
           "#FF97FF",
           "#FECB52"
          ],
          "font": {
           "color": "#2a3f5f"
          },
          "geo": {
           "bgcolor": "white",
           "lakecolor": "white",
           "landcolor": "#E5ECF6",
           "showlakes": true,
           "showland": true,
           "subunitcolor": "white"
          },
          "hoverlabel": {
           "align": "left"
          },
          "hovermode": "closest",
          "mapbox": {
           "style": "light"
          },
          "paper_bgcolor": "white",
          "plot_bgcolor": "#E5ECF6",
          "polar": {
           "angularaxis": {
            "gridcolor": "white",
            "linecolor": "white",
            "ticks": ""
           },
           "bgcolor": "#E5ECF6",
           "radialaxis": {
            "gridcolor": "white",
            "linecolor": "white",
            "ticks": ""
           }
          },
          "scene": {
           "xaxis": {
            "backgroundcolor": "#E5ECF6",
            "gridcolor": "white",
            "gridwidth": 2,
            "linecolor": "white",
            "showbackground": true,
            "ticks": "",
            "zerolinecolor": "white"
           },
           "yaxis": {
            "backgroundcolor": "#E5ECF6",
            "gridcolor": "white",
            "gridwidth": 2,
            "linecolor": "white",
            "showbackground": true,
            "ticks": "",
            "zerolinecolor": "white"
           },
           "zaxis": {
            "backgroundcolor": "#E5ECF6",
            "gridcolor": "white",
            "gridwidth": 2,
            "linecolor": "white",
            "showbackground": true,
            "ticks": "",
            "zerolinecolor": "white"
           }
          },
          "shapedefaults": {
           "line": {
            "color": "#2a3f5f"
           }
          },
          "ternary": {
           "aaxis": {
            "gridcolor": "white",
            "linecolor": "white",
            "ticks": ""
           },
           "baxis": {
            "gridcolor": "white",
            "linecolor": "white",
            "ticks": ""
           },
           "bgcolor": "#E5ECF6",
           "caxis": {
            "gridcolor": "white",
            "linecolor": "white",
            "ticks": ""
           }
          },
          "title": {
           "x": 0.05
          },
          "xaxis": {
           "automargin": true,
           "gridcolor": "white",
           "linecolor": "white",
           "ticks": "",
           "title": {
            "standoff": 15
           },
           "zerolinecolor": "white",
           "zerolinewidth": 2
          },
          "yaxis": {
           "automargin": true,
           "gridcolor": "white",
           "linecolor": "white",
           "ticks": "",
           "title": {
            "standoff": 15
           },
           "zerolinecolor": "white",
           "zerolinewidth": 2
          }
         }
        },
        "title": {
         "font": {
          "color": "#4D5663"
         }
        },
        "xaxis": {
         "gridcolor": "#E1E5ED",
         "showgrid": true,
         "tickfont": {
          "color": "#4D5663"
         },
         "title": {
          "font": {
           "color": "#4D5663"
          },
          "text": ""
         },
         "zerolinecolor": "#E1E5ED"
        },
        "yaxis": {
         "gridcolor": "#E1E5ED",
         "showgrid": true,
         "tickfont": {
          "color": "#4D5663"
         },
         "title": {
          "font": {
           "color": "#4D5663"
          },
          "text": ""
         },
         "zerolinecolor": "#E1E5ED"
        }
       }
      },
      "text/html": [
       "<div>                            <div id=\"5828a576-2e00-4fd6-a62e-1ee327ee759d\" class=\"plotly-graph-div\" style=\"height:525px; width:100%;\"></div>            <script type=\"text/javascript\">                require([\"plotly\"], function(Plotly) {                    window.PLOTLYENV=window.PLOTLYENV || {};\n",
       "                    window.PLOTLYENV.BASE_URL='https://plot.ly';                                    if (document.getElementById(\"5828a576-2e00-4fd6-a62e-1ee327ee759d\")) {                    Plotly.newPlot(                        \"5828a576-2e00-4fd6-a62e-1ee327ee759d\",                        [{\"histfunc\":\"count\",\"histnorm\":\"\",\"marker\":{\"color\":\"rgba(255, 153, 51, 1.0)\",\"line\":{\"color\":\"#4D5663\",\"width\":1.3}},\"name\":\"A\",\"opacity\":0.8,\"orientation\":\"v\",\"x\":[0.886481626762867,-0.3499620218114763,-1.585776582814845,0.6484898454257476,-1.9979968441142282,0.1201311235502911,-0.4148740926620486,0.48602098140719663,-0.4421915736894337,1.2418778460177193,0.10118778876868344,-0.3818017352390294,-1.0889405954178286,-1.0775398374986283,0.7176163433204604,0.33913004139571756,-0.4032606079303681,-0.3637756464595728,-1.4718184440680067,0.713886037258169,0.19269588171664376,0.23304829932510332,0.5709190035735119,-1.8433915506663612,0.8324219856241711,-1.0757550291979756,0.5077556723582699,-0.44413901106422243,-1.0086197778973143,-1.4028236947855495,0.7121967790439677,0.3204505587958397,0.4445431803849003,-0.7710464998332621,-0.32331670313769884,-0.37674258119090615,-0.4248675218977924,0.40764947955994546,-1.3078826247959392,1.0601288365287158,-0.07365209559188851,-0.15604718500861364,0.6942083782207596,1.6486670014904792,-0.7077253997726066,1.2800832468714303,-0.9465578355996911,-0.20620629379940864,-0.7963607240498749,-0.36078265872225806,1.2110561274705427,-0.1104525081824256,-0.6700042401655598,0.5569922218535346,0.3089864141526496,-0.2255228252683958,-0.2420062158747075,1.422815466914821,0.1503362119866953,-0.08743388513554257,-2.0349797681611563,0.8458105742183093,1.5407511255122293,0.029309506747405435,0.8584238640416992,0.9580984168929361,-0.9005130295018315,-0.013473286256282085,-0.8038220434152606,0.5661970188353798,-0.41924053958573,-0.29814007571196643,-0.03279477170129877,0.29650560309755564,-0.5463247852636246,-0.7671606914275885,1.0529157002903464,0.7838311671342689,1.9802407213895976,0.47847443413408924,1.0458971972595335,-1.2475785868909688,-0.8810956529233439,-1.6642079892521435,0.7756690712728784,-0.14000153305790228,-0.298192880456967,0.6070013657895164,0.9080645827077884,0.7257777964960853,-2.3168928477995996,-0.23743985166319456,-0.6036935396622959,-1.022352491479891,1.11444393383111,1.145304707468234,-3.250282066368351,1.5221237939575507,0.14200502104205395,0.38571662007639357],\"type\":\"histogram\"}],                        {\"barmode\":\"overlay\",\"legend\":{\"bgcolor\":\"#F5F6F9\",\"font\":{\"color\":\"#4D5663\"}},\"paper_bgcolor\":\"#F5F6F9\",\"plot_bgcolor\":\"#F5F6F9\",\"template\":{\"data\":{\"barpolar\":[{\"marker\":{\"line\":{\"color\":\"#E5ECF6\",\"width\":0.5},\"pattern\":{\"fillmode\":\"overlay\",\"size\":10,\"solidity\":0.2}},\"type\":\"barpolar\"}],\"bar\":[{\"error_x\":{\"color\":\"#2a3f5f\"},\"error_y\":{\"color\":\"#2a3f5f\"},\"marker\":{\"line\":{\"color\":\"#E5ECF6\",\"width\":0.5},\"pattern\":{\"fillmode\":\"overlay\",\"size\":10,\"solidity\":0.2}},\"type\":\"bar\"}],\"carpet\":[{\"aaxis\":{\"endlinecolor\":\"#2a3f5f\",\"gridcolor\":\"white\",\"linecolor\":\"white\",\"minorgridcolor\":\"white\",\"startlinecolor\":\"#2a3f5f\"},\"baxis\":{\"endlinecolor\":\"#2a3f5f\",\"gridcolor\":\"white\",\"linecolor\":\"white\",\"minorgridcolor\":\"white\",\"startlinecolor\":\"#2a3f5f\"},\"type\":\"carpet\"}],\"choropleth\":[{\"colorbar\":{\"outlinewidth\":0,\"ticks\":\"\"},\"type\":\"choropleth\"}],\"contourcarpet\":[{\"colorbar\":{\"outlinewidth\":0,\"ticks\":\"\"},\"type\":\"contourcarpet\"}],\"contour\":[{\"colorbar\":{\"outlinewidth\":0,\"ticks\":\"\"},\"colorscale\":[[0.0,\"#0d0887\"],[0.1111111111111111,\"#46039f\"],[0.2222222222222222,\"#7201a8\"],[0.3333333333333333,\"#9c179e\"],[0.4444444444444444,\"#bd3786\"],[0.5555555555555556,\"#d8576b\"],[0.6666666666666666,\"#ed7953\"],[0.7777777777777778,\"#fb9f3a\"],[0.8888888888888888,\"#fdca26\"],[1.0,\"#f0f921\"]],\"type\":\"contour\"}],\"heatmapgl\":[{\"colorbar\":{\"outlinewidth\":0,\"ticks\":\"\"},\"colorscale\":[[0.0,\"#0d0887\"],[0.1111111111111111,\"#46039f\"],[0.2222222222222222,\"#7201a8\"],[0.3333333333333333,\"#9c179e\"],[0.4444444444444444,\"#bd3786\"],[0.5555555555555556,\"#d8576b\"],[0.6666666666666666,\"#ed7953\"],[0.7777777777777778,\"#fb9f3a\"],[0.8888888888888888,\"#fdca26\"],[1.0,\"#f0f921\"]],\"type\":\"heatmapgl\"}],\"heatmap\":[{\"colorbar\":{\"outlinewidth\":0,\"ticks\":\"\"},\"colorscale\":[[0.0,\"#0d0887\"],[0.1111111111111111,\"#46039f\"],[0.2222222222222222,\"#7201a8\"],[0.3333333333333333,\"#9c179e\"],[0.4444444444444444,\"#bd3786\"],[0.5555555555555556,\"#d8576b\"],[0.6666666666666666,\"#ed7953\"],[0.7777777777777778,\"#fb9f3a\"],[0.8888888888888888,\"#fdca26\"],[1.0,\"#f0f921\"]],\"type\":\"heatmap\"}],\"histogram2dcontour\":[{\"colorbar\":{\"outlinewidth\":0,\"ticks\":\"\"},\"colorscale\":[[0.0,\"#0d0887\"],[0.1111111111111111,\"#46039f\"],[0.2222222222222222,\"#7201a8\"],[0.3333333333333333,\"#9c179e\"],[0.4444444444444444,\"#bd3786\"],[0.5555555555555556,\"#d8576b\"],[0.6666666666666666,\"#ed7953\"],[0.7777777777777778,\"#fb9f3a\"],[0.8888888888888888,\"#fdca26\"],[1.0,\"#f0f921\"]],\"type\":\"histogram2dcontour\"}],\"histogram2d\":[{\"colorbar\":{\"outlinewidth\":0,\"ticks\":\"\"},\"colorscale\":[[0.0,\"#0d0887\"],[0.1111111111111111,\"#46039f\"],[0.2222222222222222,\"#7201a8\"],[0.3333333333333333,\"#9c179e\"],[0.4444444444444444,\"#bd3786\"],[0.5555555555555556,\"#d8576b\"],[0.6666666666666666,\"#ed7953\"],[0.7777777777777778,\"#fb9f3a\"],[0.8888888888888888,\"#fdca26\"],[1.0,\"#f0f921\"]],\"type\":\"histogram2d\"}],\"histogram\":[{\"marker\":{\"pattern\":{\"fillmode\":\"overlay\",\"size\":10,\"solidity\":0.2}},\"type\":\"histogram\"}],\"mesh3d\":[{\"colorbar\":{\"outlinewidth\":0,\"ticks\":\"\"},\"type\":\"mesh3d\"}],\"parcoords\":[{\"line\":{\"colorbar\":{\"outlinewidth\":0,\"ticks\":\"\"}},\"type\":\"parcoords\"}],\"pie\":[{\"automargin\":true,\"type\":\"pie\"}],\"scatter3d\":[{\"line\":{\"colorbar\":{\"outlinewidth\":0,\"ticks\":\"\"}},\"marker\":{\"colorbar\":{\"outlinewidth\":0,\"ticks\":\"\"}},\"type\":\"scatter3d\"}],\"scattercarpet\":[{\"marker\":{\"colorbar\":{\"outlinewidth\":0,\"ticks\":\"\"}},\"type\":\"scattercarpet\"}],\"scattergeo\":[{\"marker\":{\"colorbar\":{\"outlinewidth\":0,\"ticks\":\"\"}},\"type\":\"scattergeo\"}],\"scattergl\":[{\"marker\":{\"colorbar\":{\"outlinewidth\":0,\"ticks\":\"\"}},\"type\":\"scattergl\"}],\"scattermapbox\":[{\"marker\":{\"colorbar\":{\"outlinewidth\":0,\"ticks\":\"\"}},\"type\":\"scattermapbox\"}],\"scatterpolargl\":[{\"marker\":{\"colorbar\":{\"outlinewidth\":0,\"ticks\":\"\"}},\"type\":\"scatterpolargl\"}],\"scatterpolar\":[{\"marker\":{\"colorbar\":{\"outlinewidth\":0,\"ticks\":\"\"}},\"type\":\"scatterpolar\"}],\"scatter\":[{\"marker\":{\"colorbar\":{\"outlinewidth\":0,\"ticks\":\"\"}},\"type\":\"scatter\"}],\"scatterternary\":[{\"marker\":{\"colorbar\":{\"outlinewidth\":0,\"ticks\":\"\"}},\"type\":\"scatterternary\"}],\"surface\":[{\"colorbar\":{\"outlinewidth\":0,\"ticks\":\"\"},\"colorscale\":[[0.0,\"#0d0887\"],[0.1111111111111111,\"#46039f\"],[0.2222222222222222,\"#7201a8\"],[0.3333333333333333,\"#9c179e\"],[0.4444444444444444,\"#bd3786\"],[0.5555555555555556,\"#d8576b\"],[0.6666666666666666,\"#ed7953\"],[0.7777777777777778,\"#fb9f3a\"],[0.8888888888888888,\"#fdca26\"],[1.0,\"#f0f921\"]],\"type\":\"surface\"}],\"table\":[{\"cells\":{\"fill\":{\"color\":\"#EBF0F8\"},\"line\":{\"color\":\"white\"}},\"header\":{\"fill\":{\"color\":\"#C8D4E3\"},\"line\":{\"color\":\"white\"}},\"type\":\"table\"}]},\"layout\":{\"annotationdefaults\":{\"arrowcolor\":\"#2a3f5f\",\"arrowhead\":0,\"arrowwidth\":1},\"autotypenumbers\":\"strict\",\"coloraxis\":{\"colorbar\":{\"outlinewidth\":0,\"ticks\":\"\"}},\"colorscale\":{\"diverging\":[[0,\"#8e0152\"],[0.1,\"#c51b7d\"],[0.2,\"#de77ae\"],[0.3,\"#f1b6da\"],[0.4,\"#fde0ef\"],[0.5,\"#f7f7f7\"],[0.6,\"#e6f5d0\"],[0.7,\"#b8e186\"],[0.8,\"#7fbc41\"],[0.9,\"#4d9221\"],[1,\"#276419\"]],\"sequential\":[[0.0,\"#0d0887\"],[0.1111111111111111,\"#46039f\"],[0.2222222222222222,\"#7201a8\"],[0.3333333333333333,\"#9c179e\"],[0.4444444444444444,\"#bd3786\"],[0.5555555555555556,\"#d8576b\"],[0.6666666666666666,\"#ed7953\"],[0.7777777777777778,\"#fb9f3a\"],[0.8888888888888888,\"#fdca26\"],[1.0,\"#f0f921\"]],\"sequentialminus\":[[0.0,\"#0d0887\"],[0.1111111111111111,\"#46039f\"],[0.2222222222222222,\"#7201a8\"],[0.3333333333333333,\"#9c179e\"],[0.4444444444444444,\"#bd3786\"],[0.5555555555555556,\"#d8576b\"],[0.6666666666666666,\"#ed7953\"],[0.7777777777777778,\"#fb9f3a\"],[0.8888888888888888,\"#fdca26\"],[1.0,\"#f0f921\"]]},\"colorway\":[\"#636efa\",\"#EF553B\",\"#00cc96\",\"#ab63fa\",\"#FFA15A\",\"#19d3f3\",\"#FF6692\",\"#B6E880\",\"#FF97FF\",\"#FECB52\"],\"font\":{\"color\":\"#2a3f5f\"},\"geo\":{\"bgcolor\":\"white\",\"lakecolor\":\"white\",\"landcolor\":\"#E5ECF6\",\"showlakes\":true,\"showland\":true,\"subunitcolor\":\"white\"},\"hoverlabel\":{\"align\":\"left\"},\"hovermode\":\"closest\",\"mapbox\":{\"style\":\"light\"},\"paper_bgcolor\":\"white\",\"plot_bgcolor\":\"#E5ECF6\",\"polar\":{\"angularaxis\":{\"gridcolor\":\"white\",\"linecolor\":\"white\",\"ticks\":\"\"},\"bgcolor\":\"#E5ECF6\",\"radialaxis\":{\"gridcolor\":\"white\",\"linecolor\":\"white\",\"ticks\":\"\"}},\"scene\":{\"xaxis\":{\"backgroundcolor\":\"#E5ECF6\",\"gridcolor\":\"white\",\"gridwidth\":2,\"linecolor\":\"white\",\"showbackground\":true,\"ticks\":\"\",\"zerolinecolor\":\"white\"},\"yaxis\":{\"backgroundcolor\":\"#E5ECF6\",\"gridcolor\":\"white\",\"gridwidth\":2,\"linecolor\":\"white\",\"showbackground\":true,\"ticks\":\"\",\"zerolinecolor\":\"white\"},\"zaxis\":{\"backgroundcolor\":\"#E5ECF6\",\"gridcolor\":\"white\",\"gridwidth\":2,\"linecolor\":\"white\",\"showbackground\":true,\"ticks\":\"\",\"zerolinecolor\":\"white\"}},\"shapedefaults\":{\"line\":{\"color\":\"#2a3f5f\"}},\"ternary\":{\"aaxis\":{\"gridcolor\":\"white\",\"linecolor\":\"white\",\"ticks\":\"\"},\"baxis\":{\"gridcolor\":\"white\",\"linecolor\":\"white\",\"ticks\":\"\"},\"bgcolor\":\"#E5ECF6\",\"caxis\":{\"gridcolor\":\"white\",\"linecolor\":\"white\",\"ticks\":\"\"}},\"title\":{\"x\":0.05},\"xaxis\":{\"automargin\":true,\"gridcolor\":\"white\",\"linecolor\":\"white\",\"ticks\":\"\",\"title\":{\"standoff\":15},\"zerolinecolor\":\"white\",\"zerolinewidth\":2},\"yaxis\":{\"automargin\":true,\"gridcolor\":\"white\",\"linecolor\":\"white\",\"ticks\":\"\",\"title\":{\"standoff\":15},\"zerolinecolor\":\"white\",\"zerolinewidth\":2}}},\"title\":{\"font\":{\"color\":\"#4D5663\"}},\"xaxis\":{\"gridcolor\":\"#E1E5ED\",\"showgrid\":true,\"tickfont\":{\"color\":\"#4D5663\"},\"title\":{\"font\":{\"color\":\"#4D5663\"},\"text\":\"\"},\"zerolinecolor\":\"#E1E5ED\"},\"yaxis\":{\"gridcolor\":\"#E1E5ED\",\"showgrid\":true,\"tickfont\":{\"color\":\"#4D5663\"},\"title\":{\"font\":{\"color\":\"#4D5663\"},\"text\":\"\"},\"zerolinecolor\":\"#E1E5ED\"}},                        {\"showLink\": true, \"linkText\": \"Export to plot.ly\", \"plotlyServerURL\": \"https://plot.ly\", \"responsive\": true}                    ).then(function(){\n",
       "                            \n",
       "var gd = document.getElementById('5828a576-2e00-4fd6-a62e-1ee327ee759d');\n",
       "var x = new MutationObserver(function (mutations, observer) {{\n",
       "        var display = window.getComputedStyle(gd).display;\n",
       "        if (!display || display === 'none') {{\n",
       "            console.log([gd, 'removed!']);\n",
       "            Plotly.purge(gd);\n",
       "            observer.disconnect();\n",
       "        }}\n",
       "}});\n",
       "\n",
       "// Listen for the removal of the full notebook cells\n",
       "var notebookContainer = gd.closest('#notebook-container');\n",
       "if (notebookContainer) {{\n",
       "    x.observe(notebookContainer, {childList: true});\n",
       "}}\n",
       "\n",
       "// Listen for the clearing of the current output cell\n",
       "var outputEl = gd.closest('.output');\n",
       "if (outputEl) {{\n",
       "    x.observe(outputEl, {childList: true});\n",
       "}}\n",
       "\n",
       "                        })                };                });            </script>        </div>"
      ]
     },
     "metadata": {},
     "output_type": "display_data"
    }
   ],
   "source": [
    "df['A'].iplot(kind='hist')"
   ]
  },
  {
   "cell_type": "code",
   "execution_count": 26,
   "metadata": {},
   "outputs": [
    {
     "data": {
      "application/vnd.plotly.v1+json": {
       "config": {
        "linkText": "Export to plot.ly",
        "plotlyServerURL": "https://plot.ly",
        "showLink": true
       },
       "data": [
        {
         "histfunc": "count",
         "histnorm": "",
         "marker": {
          "color": "rgba(255, 153, 51, 1.0)",
          "line": {
           "color": "#4D5663",
           "width": 1.3
          }
         },
         "name": "A",
         "opacity": 0.8,
         "orientation": "v",
         "type": "histogram",
         "x": [
          0.886481626762867,
          -0.3499620218114763,
          -1.585776582814845,
          0.6484898454257476,
          -1.9979968441142282,
          0.1201311235502911,
          -0.4148740926620486,
          0.48602098140719663,
          -0.4421915736894337,
          1.2418778460177193,
          0.10118778876868344,
          -0.3818017352390294,
          -1.0889405954178286,
          -1.0775398374986283,
          0.7176163433204604,
          0.33913004139571756,
          -0.4032606079303681,
          -0.3637756464595728,
          -1.4718184440680067,
          0.713886037258169,
          0.19269588171664376,
          0.23304829932510332,
          0.5709190035735119,
          -1.8433915506663612,
          0.8324219856241711,
          -1.0757550291979756,
          0.5077556723582699,
          -0.44413901106422243,
          -1.0086197778973143,
          -1.4028236947855495,
          0.7121967790439677,
          0.3204505587958397,
          0.4445431803849003,
          -0.7710464998332621,
          -0.32331670313769884,
          -0.37674258119090615,
          -0.4248675218977924,
          0.40764947955994546,
          -1.3078826247959392,
          1.0601288365287158,
          -0.07365209559188851,
          -0.15604718500861364,
          0.6942083782207596,
          1.6486670014904792,
          -0.7077253997726066,
          1.2800832468714303,
          -0.9465578355996911,
          -0.20620629379940864,
          -0.7963607240498749,
          -0.36078265872225806,
          1.2110561274705427,
          -0.1104525081824256,
          -0.6700042401655598,
          0.5569922218535346,
          0.3089864141526496,
          -0.2255228252683958,
          -0.2420062158747075,
          1.422815466914821,
          0.1503362119866953,
          -0.08743388513554257,
          -2.0349797681611563,
          0.8458105742183093,
          1.5407511255122293,
          0.029309506747405435,
          0.8584238640416992,
          0.9580984168929361,
          -0.9005130295018315,
          -0.013473286256282085,
          -0.8038220434152606,
          0.5661970188353798,
          -0.41924053958573,
          -0.29814007571196643,
          -0.03279477170129877,
          0.29650560309755564,
          -0.5463247852636246,
          -0.7671606914275885,
          1.0529157002903464,
          0.7838311671342689,
          1.9802407213895976,
          0.47847443413408924,
          1.0458971972595335,
          -1.2475785868909688,
          -0.8810956529233439,
          -1.6642079892521435,
          0.7756690712728784,
          -0.14000153305790228,
          -0.298192880456967,
          0.6070013657895164,
          0.9080645827077884,
          0.7257777964960853,
          -2.3168928477995996,
          -0.23743985166319456,
          -0.6036935396622959,
          -1.022352491479891,
          1.11444393383111,
          1.145304707468234,
          -3.250282066368351,
          1.5221237939575507,
          0.14200502104205395,
          0.38571662007639357
         ]
        },
        {
         "histfunc": "count",
         "histnorm": "",
         "marker": {
          "color": "rgba(55, 128, 191, 1.0)",
          "line": {
           "color": "#4D5663",
           "width": 1.3
          }
         },
         "name": "B",
         "opacity": 0.8,
         "orientation": "v",
         "type": "histogram",
         "x": [
          -0.46449043768408943,
          0.3523981764252299,
          -2.3568287709836473,
          2.390595577632367,
          -0.9711494279100952,
          -0.598162370267831,
          -0.3968615131465438,
          -1.4678698356334754,
          -0.28684894742407796,
          0.9208405274368389,
          0.9624893523587785,
          -0.4726705970974675,
          -0.6879754336784105,
          -1.3738071612856435,
          0.15306973430517098,
          1.39271128590778,
          1.4306641888922735,
          -1.7229685803087822,
          0.876023771464418,
          -0.6803902408216923,
          -0.5941052879566986,
          0.12043446146704843,
          -0.28515613992993033,
          -0.32609061091749375,
          0.47425472148627396,
          -1.2522126657446717,
          -0.3243536009422392,
          0.5049793346016036,
          -0.04176998943973294,
          0.40192394612822196,
          -0.28054043055164984,
          0.14883547195933453,
          -0.12105123038966474,
          1.0343349745490065,
          0.5991071166463736,
          0.567778493863068,
          0.3037646239706531,
          -1.3719041517480557,
          -0.4436317499417215,
          0.38529293294782807,
          0.18887020024921888,
          -0.44131088434181726,
          -1.345417457240369,
          0.1950054187256295,
          0.008516791334651708,
          -0.030138945389232976,
          -0.052181696931563104,
          -0.28531533414502924,
          -0.3837973447267495,
          -0.07335949970633836,
          -0.5016619524152183,
          -0.07377196799595183,
          1.314600491631252,
          -0.5755533402380913,
          1.04234687914125,
          -1.9884263599852992,
          -0.4546812851638831,
          -0.9135355999965279,
          0.1202491772493144,
          0.2982883545760662,
          1.1759196674481656,
          0.1765180905394663,
          -0.1393540853360605,
          -1.6912307557741173,
          0.6517544039399077,
          -0.11723751480317693,
          0.225761143742028,
          2.575309512971,
          -0.38535401952248977,
          0.12673017985596988,
          -0.07216106803459287,
          1.5616852752254324,
          -1.0467543733046534,
          0.8101267949195068,
          -0.42749849903243314,
          -0.11251204442772755,
          -1.1106289672153369,
          0.3332379125685002,
          1.0663205215842115,
          -1.9046403985666256,
          1.8284597174145687,
          -0.6975813374405788,
          0.46500534847745456,
          0.2676519512599508,
          -0.9130053337789412,
          -0.1662797376110315,
          0.8053195931493092,
          -1.3026754192540417,
          0.15700431317050292,
          -1.207547463863445,
          0.3039178415683296,
          1.994212832448182,
          -0.14322280376679514,
          -1.0562473515513469,
          -1.2639667192364323,
          -0.8634228472340293,
          1.4018232890368303,
          -1.6562191518856821,
          -0.21648483960705828,
          -0.05978220684500359
         ]
        },
        {
         "histfunc": "count",
         "histnorm": "",
         "marker": {
          "color": "rgba(50, 171, 96, 1.0)",
          "line": {
           "color": "#4D5663",
           "width": 1.3
          }
         },
         "name": "C",
         "opacity": 0.8,
         "orientation": "v",
         "type": "histogram",
         "x": [
          0.5201109778797136,
          0.07261771142678988,
          0.4845486456551353,
          0.04175729206404078,
          0.07214813886953271,
          2.5606694217959833,
          0.07923671155527522,
          -0.2554548938241622,
          -0.48350893289418834,
          -0.3601080724389737,
          0.1791297395186548,
          -0.3718455967328699,
          -0.10285950790430816,
          0.1352652300933272,
          -0.403587208589028,
          -0.9703320757531556,
          -1.0309098376147865,
          -0.7839258323598245,
          0.42945907942978373,
          -0.16623496285325534,
          -1.4169503388885316,
          0.2539949991347254,
          -0.020580254158317893,
          -1.0488541639354112,
          -2.900279322232684,
          0.014575478409169191,
          -0.326673408691736,
          -0.18735692164121553,
          0.5945073068751859,
          -1.1483605677505577,
          -0.06420435125397268,
          0.18831486406559445,
          -2.0494593872241715,
          -0.293484960876104,
          -0.9929240294800716,
          -0.4339844599054614,
          -0.8077561213226911,
          0.16124317270479846,
          -0.9424420244798318,
          -3.0363692113542298,
          -1.0081465330942094,
          -0.2576960247641065,
          -0.629302913191415,
          -0.7512827541389725,
          1.3097259912622083,
          0.3891212137644769,
          0.25792350431937977,
          -1.4255660416617586,
          0.6313337215541744,
          -0.8086724659291554,
          -0.31398184848967853,
          0.8968079243347657,
          -0.41047214370925006,
          0.3085293139653205,
          2.440954175592653,
          1.172510577125236,
          -0.21452964732278043,
          1.2500901451930229,
          0.43545890987911706,
          -0.15450392741326677,
          0.34389616421093383,
          0.7022310466650089,
          0.26950241011431497,
          -0.4087380376584617,
          -0.05854610989108658,
          -1.2253792268194523,
          0.36920968290947853,
          0.9510900473471998,
          -0.58479957902115,
          0.2012651723901271,
          -2.2157890554992186,
          0.2572549110191389,
          0.6026994347030282,
          -0.5190278348745757,
          -0.659545259399039,
          0.1013534807846591,
          -1.3857377750410784,
          0.6780432092694408,
          -2.7686858883402987,
          -1.151356806602218,
          -0.38093518884231675,
          1.7752163898008257,
          1.638870823306406,
          0.42769795627912727,
          -1.724320012317729,
          -0.313077254850423,
          -1.6924590866164944,
          0.24414122730241494,
          0.004458488897950751,
          1.232211012758207,
          -0.5640207859786823,
          1.4659627874886405,
          -1.4612430503540268,
          0.5515163223382007,
          -1.1760157382514314,
          -0.5280048160291578,
          0.6642118534920832,
          -0.41497442121476247,
          0.4840723227255899,
          1.4572878058103327
         ]
        },
        {
         "histfunc": "count",
         "histnorm": "",
         "marker": {
          "color": "rgba(128, 0, 128, 1.0)",
          "line": {
           "color": "#4D5663",
           "width": 1.3
          }
         },
         "name": "D",
         "opacity": 0.8,
         "orientation": "v",
         "type": "histogram",
         "x": [
          -0.8988369730855046,
          -0.5973989117894579,
          -2.4769542611372675,
          0.18580822703921393,
          -1.4477266106016817,
          0.7475126441147879,
          -0.40662767732843136,
          0.21562464027425288,
          -0.8437175533042076,
          -0.9206671582879606,
          -0.5128985721362068,
          0.4125456490439085,
          -0.8139361694983875,
          -0.24474602739648574,
          1.399660958090668,
          -0.5690667592803338,
          0.10284268754132027,
          -1.0493291743851698,
          0.8627545558195271,
          -0.9045099347478545,
          -1.026386794162491,
          0.060680317538162075,
          -0.3415314804401644,
          -2.3994321359360637,
          -1.8292002486713017,
          -0.2954406411178994,
          0.4308804806320366,
          -0.10689556363777028,
          1.4089556192348474,
          0.5716511233697971,
          0.18342394810870205,
          0.36969571924469097,
          -0.6231566510192728,
          -1.3706148974987369,
          -0.28615276432148967,
          0.22151874757782652,
          0.8618996252866993,
          -2.104564936295545,
          0.050772616377669236,
          -1.5751320938408422,
          0.529309231319148,
          1.2505362277466154,
          0.5802563261424589,
          1.7510243835154893,
          -0.1627631243159947,
          -0.07003449753416875,
          -0.7440752774362521,
          0.31874611082693405,
          0.1704263449760727,
          -0.11002542802261428,
          -0.24391672792443203,
          0.12914644876715653,
          -0.11217720875904467,
          -1.1825183945583666,
          -0.6923098843607846,
          -0.7681572995718657,
          1.1967731690030423,
          -1.0847602441923174,
          -0.2468238604708724,
          -1.275210084786202,
          -0.2937753192692088,
          -0.009646863994237882,
          -0.09900121737954734,
          -2.273401838062692,
          0.6410847024367559,
          -1.0315530517482356,
          -0.23298010070511913,
          0.21011149847632665,
          -1.6448213858583116,
          0.9457050033179516,
          -0.558715442009201,
          -0.4626338089775159,
          -0.4970146323240726,
          0.5580016935266144,
          1.4573952335048144,
          0.013241314320308596,
          -0.5396902491902932,
          2.0752884236753153,
          0.32674800644109625,
          -0.9622506422535216,
          0.018215536423492086,
          0.8843134448695068,
          -0.018465958943413796,
          -1.1360868737298324,
          -1.7102980416719817,
          -1.6399112314218767,
          -1.9949333484692264,
          0.4223668366027454,
          -1.205824691590463,
          -1.0046967973566239,
          1.0545659444662052,
          -0.16281636113476167,
          -2.195290457025516,
          -0.40360203397521616,
          -0.5068641103072004,
          -1.010766369579888,
          1.035543712197159,
          0.11165562042085199,
          -0.6837883644397107,
          0.06629731977819796
         ]
        }
       ],
       "layout": {
        "barmode": "overlay",
        "legend": {
         "bgcolor": "#F5F6F9",
         "font": {
          "color": "#4D5663"
         }
        },
        "paper_bgcolor": "#F5F6F9",
        "plot_bgcolor": "#F5F6F9",
        "template": {
         "data": {
          "bar": [
           {
            "error_x": {
             "color": "#2a3f5f"
            },
            "error_y": {
             "color": "#2a3f5f"
            },
            "marker": {
             "line": {
              "color": "#E5ECF6",
              "width": 0.5
             },
             "pattern": {
              "fillmode": "overlay",
              "size": 10,
              "solidity": 0.2
             }
            },
            "type": "bar"
           }
          ],
          "barpolar": [
           {
            "marker": {
             "line": {
              "color": "#E5ECF6",
              "width": 0.5
             },
             "pattern": {
              "fillmode": "overlay",
              "size": 10,
              "solidity": 0.2
             }
            },
            "type": "barpolar"
           }
          ],
          "carpet": [
           {
            "aaxis": {
             "endlinecolor": "#2a3f5f",
             "gridcolor": "white",
             "linecolor": "white",
             "minorgridcolor": "white",
             "startlinecolor": "#2a3f5f"
            },
            "baxis": {
             "endlinecolor": "#2a3f5f",
             "gridcolor": "white",
             "linecolor": "white",
             "minorgridcolor": "white",
             "startlinecolor": "#2a3f5f"
            },
            "type": "carpet"
           }
          ],
          "choropleth": [
           {
            "colorbar": {
             "outlinewidth": 0,
             "ticks": ""
            },
            "type": "choropleth"
           }
          ],
          "contour": [
           {
            "colorbar": {
             "outlinewidth": 0,
             "ticks": ""
            },
            "colorscale": [
             [
              0,
              "#0d0887"
             ],
             [
              0.1111111111111111,
              "#46039f"
             ],
             [
              0.2222222222222222,
              "#7201a8"
             ],
             [
              0.3333333333333333,
              "#9c179e"
             ],
             [
              0.4444444444444444,
              "#bd3786"
             ],
             [
              0.5555555555555556,
              "#d8576b"
             ],
             [
              0.6666666666666666,
              "#ed7953"
             ],
             [
              0.7777777777777778,
              "#fb9f3a"
             ],
             [
              0.8888888888888888,
              "#fdca26"
             ],
             [
              1,
              "#f0f921"
             ]
            ],
            "type": "contour"
           }
          ],
          "contourcarpet": [
           {
            "colorbar": {
             "outlinewidth": 0,
             "ticks": ""
            },
            "type": "contourcarpet"
           }
          ],
          "heatmap": [
           {
            "colorbar": {
             "outlinewidth": 0,
             "ticks": ""
            },
            "colorscale": [
             [
              0,
              "#0d0887"
             ],
             [
              0.1111111111111111,
              "#46039f"
             ],
             [
              0.2222222222222222,
              "#7201a8"
             ],
             [
              0.3333333333333333,
              "#9c179e"
             ],
             [
              0.4444444444444444,
              "#bd3786"
             ],
             [
              0.5555555555555556,
              "#d8576b"
             ],
             [
              0.6666666666666666,
              "#ed7953"
             ],
             [
              0.7777777777777778,
              "#fb9f3a"
             ],
             [
              0.8888888888888888,
              "#fdca26"
             ],
             [
              1,
              "#f0f921"
             ]
            ],
            "type": "heatmap"
           }
          ],
          "heatmapgl": [
           {
            "colorbar": {
             "outlinewidth": 0,
             "ticks": ""
            },
            "colorscale": [
             [
              0,
              "#0d0887"
             ],
             [
              0.1111111111111111,
              "#46039f"
             ],
             [
              0.2222222222222222,
              "#7201a8"
             ],
             [
              0.3333333333333333,
              "#9c179e"
             ],
             [
              0.4444444444444444,
              "#bd3786"
             ],
             [
              0.5555555555555556,
              "#d8576b"
             ],
             [
              0.6666666666666666,
              "#ed7953"
             ],
             [
              0.7777777777777778,
              "#fb9f3a"
             ],
             [
              0.8888888888888888,
              "#fdca26"
             ],
             [
              1,
              "#f0f921"
             ]
            ],
            "type": "heatmapgl"
           }
          ],
          "histogram": [
           {
            "marker": {
             "pattern": {
              "fillmode": "overlay",
              "size": 10,
              "solidity": 0.2
             }
            },
            "type": "histogram"
           }
          ],
          "histogram2d": [
           {
            "colorbar": {
             "outlinewidth": 0,
             "ticks": ""
            },
            "colorscale": [
             [
              0,
              "#0d0887"
             ],
             [
              0.1111111111111111,
              "#46039f"
             ],
             [
              0.2222222222222222,
              "#7201a8"
             ],
             [
              0.3333333333333333,
              "#9c179e"
             ],
             [
              0.4444444444444444,
              "#bd3786"
             ],
             [
              0.5555555555555556,
              "#d8576b"
             ],
             [
              0.6666666666666666,
              "#ed7953"
             ],
             [
              0.7777777777777778,
              "#fb9f3a"
             ],
             [
              0.8888888888888888,
              "#fdca26"
             ],
             [
              1,
              "#f0f921"
             ]
            ],
            "type": "histogram2d"
           }
          ],
          "histogram2dcontour": [
           {
            "colorbar": {
             "outlinewidth": 0,
             "ticks": ""
            },
            "colorscale": [
             [
              0,
              "#0d0887"
             ],
             [
              0.1111111111111111,
              "#46039f"
             ],
             [
              0.2222222222222222,
              "#7201a8"
             ],
             [
              0.3333333333333333,
              "#9c179e"
             ],
             [
              0.4444444444444444,
              "#bd3786"
             ],
             [
              0.5555555555555556,
              "#d8576b"
             ],
             [
              0.6666666666666666,
              "#ed7953"
             ],
             [
              0.7777777777777778,
              "#fb9f3a"
             ],
             [
              0.8888888888888888,
              "#fdca26"
             ],
             [
              1,
              "#f0f921"
             ]
            ],
            "type": "histogram2dcontour"
           }
          ],
          "mesh3d": [
           {
            "colorbar": {
             "outlinewidth": 0,
             "ticks": ""
            },
            "type": "mesh3d"
           }
          ],
          "parcoords": [
           {
            "line": {
             "colorbar": {
              "outlinewidth": 0,
              "ticks": ""
             }
            },
            "type": "parcoords"
           }
          ],
          "pie": [
           {
            "automargin": true,
            "type": "pie"
           }
          ],
          "scatter": [
           {
            "marker": {
             "colorbar": {
              "outlinewidth": 0,
              "ticks": ""
             }
            },
            "type": "scatter"
           }
          ],
          "scatter3d": [
           {
            "line": {
             "colorbar": {
              "outlinewidth": 0,
              "ticks": ""
             }
            },
            "marker": {
             "colorbar": {
              "outlinewidth": 0,
              "ticks": ""
             }
            },
            "type": "scatter3d"
           }
          ],
          "scattercarpet": [
           {
            "marker": {
             "colorbar": {
              "outlinewidth": 0,
              "ticks": ""
             }
            },
            "type": "scattercarpet"
           }
          ],
          "scattergeo": [
           {
            "marker": {
             "colorbar": {
              "outlinewidth": 0,
              "ticks": ""
             }
            },
            "type": "scattergeo"
           }
          ],
          "scattergl": [
           {
            "marker": {
             "colorbar": {
              "outlinewidth": 0,
              "ticks": ""
             }
            },
            "type": "scattergl"
           }
          ],
          "scattermapbox": [
           {
            "marker": {
             "colorbar": {
              "outlinewidth": 0,
              "ticks": ""
             }
            },
            "type": "scattermapbox"
           }
          ],
          "scatterpolar": [
           {
            "marker": {
             "colorbar": {
              "outlinewidth": 0,
              "ticks": ""
             }
            },
            "type": "scatterpolar"
           }
          ],
          "scatterpolargl": [
           {
            "marker": {
             "colorbar": {
              "outlinewidth": 0,
              "ticks": ""
             }
            },
            "type": "scatterpolargl"
           }
          ],
          "scatterternary": [
           {
            "marker": {
             "colorbar": {
              "outlinewidth": 0,
              "ticks": ""
             }
            },
            "type": "scatterternary"
           }
          ],
          "surface": [
           {
            "colorbar": {
             "outlinewidth": 0,
             "ticks": ""
            },
            "colorscale": [
             [
              0,
              "#0d0887"
             ],
             [
              0.1111111111111111,
              "#46039f"
             ],
             [
              0.2222222222222222,
              "#7201a8"
             ],
             [
              0.3333333333333333,
              "#9c179e"
             ],
             [
              0.4444444444444444,
              "#bd3786"
             ],
             [
              0.5555555555555556,
              "#d8576b"
             ],
             [
              0.6666666666666666,
              "#ed7953"
             ],
             [
              0.7777777777777778,
              "#fb9f3a"
             ],
             [
              0.8888888888888888,
              "#fdca26"
             ],
             [
              1,
              "#f0f921"
             ]
            ],
            "type": "surface"
           }
          ],
          "table": [
           {
            "cells": {
             "fill": {
              "color": "#EBF0F8"
             },
             "line": {
              "color": "white"
             }
            },
            "header": {
             "fill": {
              "color": "#C8D4E3"
             },
             "line": {
              "color": "white"
             }
            },
            "type": "table"
           }
          ]
         },
         "layout": {
          "annotationdefaults": {
           "arrowcolor": "#2a3f5f",
           "arrowhead": 0,
           "arrowwidth": 1
          },
          "autotypenumbers": "strict",
          "coloraxis": {
           "colorbar": {
            "outlinewidth": 0,
            "ticks": ""
           }
          },
          "colorscale": {
           "diverging": [
            [
             0,
             "#8e0152"
            ],
            [
             0.1,
             "#c51b7d"
            ],
            [
             0.2,
             "#de77ae"
            ],
            [
             0.3,
             "#f1b6da"
            ],
            [
             0.4,
             "#fde0ef"
            ],
            [
             0.5,
             "#f7f7f7"
            ],
            [
             0.6,
             "#e6f5d0"
            ],
            [
             0.7,
             "#b8e186"
            ],
            [
             0.8,
             "#7fbc41"
            ],
            [
             0.9,
             "#4d9221"
            ],
            [
             1,
             "#276419"
            ]
           ],
           "sequential": [
            [
             0,
             "#0d0887"
            ],
            [
             0.1111111111111111,
             "#46039f"
            ],
            [
             0.2222222222222222,
             "#7201a8"
            ],
            [
             0.3333333333333333,
             "#9c179e"
            ],
            [
             0.4444444444444444,
             "#bd3786"
            ],
            [
             0.5555555555555556,
             "#d8576b"
            ],
            [
             0.6666666666666666,
             "#ed7953"
            ],
            [
             0.7777777777777778,
             "#fb9f3a"
            ],
            [
             0.8888888888888888,
             "#fdca26"
            ],
            [
             1,
             "#f0f921"
            ]
           ],
           "sequentialminus": [
            [
             0,
             "#0d0887"
            ],
            [
             0.1111111111111111,
             "#46039f"
            ],
            [
             0.2222222222222222,
             "#7201a8"
            ],
            [
             0.3333333333333333,
             "#9c179e"
            ],
            [
             0.4444444444444444,
             "#bd3786"
            ],
            [
             0.5555555555555556,
             "#d8576b"
            ],
            [
             0.6666666666666666,
             "#ed7953"
            ],
            [
             0.7777777777777778,
             "#fb9f3a"
            ],
            [
             0.8888888888888888,
             "#fdca26"
            ],
            [
             1,
             "#f0f921"
            ]
           ]
          },
          "colorway": [
           "#636efa",
           "#EF553B",
           "#00cc96",
           "#ab63fa",
           "#FFA15A",
           "#19d3f3",
           "#FF6692",
           "#B6E880",
           "#FF97FF",
           "#FECB52"
          ],
          "font": {
           "color": "#2a3f5f"
          },
          "geo": {
           "bgcolor": "white",
           "lakecolor": "white",
           "landcolor": "#E5ECF6",
           "showlakes": true,
           "showland": true,
           "subunitcolor": "white"
          },
          "hoverlabel": {
           "align": "left"
          },
          "hovermode": "closest",
          "mapbox": {
           "style": "light"
          },
          "paper_bgcolor": "white",
          "plot_bgcolor": "#E5ECF6",
          "polar": {
           "angularaxis": {
            "gridcolor": "white",
            "linecolor": "white",
            "ticks": ""
           },
           "bgcolor": "#E5ECF6",
           "radialaxis": {
            "gridcolor": "white",
            "linecolor": "white",
            "ticks": ""
           }
          },
          "scene": {
           "xaxis": {
            "backgroundcolor": "#E5ECF6",
            "gridcolor": "white",
            "gridwidth": 2,
            "linecolor": "white",
            "showbackground": true,
            "ticks": "",
            "zerolinecolor": "white"
           },
           "yaxis": {
            "backgroundcolor": "#E5ECF6",
            "gridcolor": "white",
            "gridwidth": 2,
            "linecolor": "white",
            "showbackground": true,
            "ticks": "",
            "zerolinecolor": "white"
           },
           "zaxis": {
            "backgroundcolor": "#E5ECF6",
            "gridcolor": "white",
            "gridwidth": 2,
            "linecolor": "white",
            "showbackground": true,
            "ticks": "",
            "zerolinecolor": "white"
           }
          },
          "shapedefaults": {
           "line": {
            "color": "#2a3f5f"
           }
          },
          "ternary": {
           "aaxis": {
            "gridcolor": "white",
            "linecolor": "white",
            "ticks": ""
           },
           "baxis": {
            "gridcolor": "white",
            "linecolor": "white",
            "ticks": ""
           },
           "bgcolor": "#E5ECF6",
           "caxis": {
            "gridcolor": "white",
            "linecolor": "white",
            "ticks": ""
           }
          },
          "title": {
           "x": 0.05
          },
          "xaxis": {
           "automargin": true,
           "gridcolor": "white",
           "linecolor": "white",
           "ticks": "",
           "title": {
            "standoff": 15
           },
           "zerolinecolor": "white",
           "zerolinewidth": 2
          },
          "yaxis": {
           "automargin": true,
           "gridcolor": "white",
           "linecolor": "white",
           "ticks": "",
           "title": {
            "standoff": 15
           },
           "zerolinecolor": "white",
           "zerolinewidth": 2
          }
         }
        },
        "title": {
         "font": {
          "color": "#4D5663"
         }
        },
        "xaxis": {
         "gridcolor": "#E1E5ED",
         "showgrid": true,
         "tickfont": {
          "color": "#4D5663"
         },
         "title": {
          "font": {
           "color": "#4D5663"
          },
          "text": ""
         },
         "zerolinecolor": "#E1E5ED"
        },
        "yaxis": {
         "gridcolor": "#E1E5ED",
         "showgrid": true,
         "tickfont": {
          "color": "#4D5663"
         },
         "title": {
          "font": {
           "color": "#4D5663"
          },
          "text": ""
         },
         "zerolinecolor": "#E1E5ED"
        }
       }
      },
      "text/html": [
       "<div>                            <div id=\"f845afb4-d321-4137-a4f4-73ccbdf940ea\" class=\"plotly-graph-div\" style=\"height:525px; width:100%;\"></div>            <script type=\"text/javascript\">                require([\"plotly\"], function(Plotly) {                    window.PLOTLYENV=window.PLOTLYENV || {};\n",
       "                    window.PLOTLYENV.BASE_URL='https://plot.ly';                                    if (document.getElementById(\"f845afb4-d321-4137-a4f4-73ccbdf940ea\")) {                    Plotly.newPlot(                        \"f845afb4-d321-4137-a4f4-73ccbdf940ea\",                        [{\"histfunc\":\"count\",\"histnorm\":\"\",\"marker\":{\"color\":\"rgba(255, 153, 51, 1.0)\",\"line\":{\"color\":\"#4D5663\",\"width\":1.3}},\"name\":\"A\",\"opacity\":0.8,\"orientation\":\"v\",\"x\":[0.886481626762867,-0.3499620218114763,-1.585776582814845,0.6484898454257476,-1.9979968441142282,0.1201311235502911,-0.4148740926620486,0.48602098140719663,-0.4421915736894337,1.2418778460177193,0.10118778876868344,-0.3818017352390294,-1.0889405954178286,-1.0775398374986283,0.7176163433204604,0.33913004139571756,-0.4032606079303681,-0.3637756464595728,-1.4718184440680067,0.713886037258169,0.19269588171664376,0.23304829932510332,0.5709190035735119,-1.8433915506663612,0.8324219856241711,-1.0757550291979756,0.5077556723582699,-0.44413901106422243,-1.0086197778973143,-1.4028236947855495,0.7121967790439677,0.3204505587958397,0.4445431803849003,-0.7710464998332621,-0.32331670313769884,-0.37674258119090615,-0.4248675218977924,0.40764947955994546,-1.3078826247959392,1.0601288365287158,-0.07365209559188851,-0.15604718500861364,0.6942083782207596,1.6486670014904792,-0.7077253997726066,1.2800832468714303,-0.9465578355996911,-0.20620629379940864,-0.7963607240498749,-0.36078265872225806,1.2110561274705427,-0.1104525081824256,-0.6700042401655598,0.5569922218535346,0.3089864141526496,-0.2255228252683958,-0.2420062158747075,1.422815466914821,0.1503362119866953,-0.08743388513554257,-2.0349797681611563,0.8458105742183093,1.5407511255122293,0.029309506747405435,0.8584238640416992,0.9580984168929361,-0.9005130295018315,-0.013473286256282085,-0.8038220434152606,0.5661970188353798,-0.41924053958573,-0.29814007571196643,-0.03279477170129877,0.29650560309755564,-0.5463247852636246,-0.7671606914275885,1.0529157002903464,0.7838311671342689,1.9802407213895976,0.47847443413408924,1.0458971972595335,-1.2475785868909688,-0.8810956529233439,-1.6642079892521435,0.7756690712728784,-0.14000153305790228,-0.298192880456967,0.6070013657895164,0.9080645827077884,0.7257777964960853,-2.3168928477995996,-0.23743985166319456,-0.6036935396622959,-1.022352491479891,1.11444393383111,1.145304707468234,-3.250282066368351,1.5221237939575507,0.14200502104205395,0.38571662007639357],\"type\":\"histogram\"},{\"histfunc\":\"count\",\"histnorm\":\"\",\"marker\":{\"color\":\"rgba(55, 128, 191, 1.0)\",\"line\":{\"color\":\"#4D5663\",\"width\":1.3}},\"name\":\"B\",\"opacity\":0.8,\"orientation\":\"v\",\"x\":[-0.46449043768408943,0.3523981764252299,-2.3568287709836473,2.390595577632367,-0.9711494279100952,-0.598162370267831,-0.3968615131465438,-1.4678698356334754,-0.28684894742407796,0.9208405274368389,0.9624893523587785,-0.4726705970974675,-0.6879754336784105,-1.3738071612856435,0.15306973430517098,1.39271128590778,1.4306641888922735,-1.7229685803087822,0.876023771464418,-0.6803902408216923,-0.5941052879566986,0.12043446146704843,-0.28515613992993033,-0.32609061091749375,0.47425472148627396,-1.2522126657446717,-0.3243536009422392,0.5049793346016036,-0.04176998943973294,0.40192394612822196,-0.28054043055164984,0.14883547195933453,-0.12105123038966474,1.0343349745490065,0.5991071166463736,0.567778493863068,0.3037646239706531,-1.3719041517480557,-0.4436317499417215,0.38529293294782807,0.18887020024921888,-0.44131088434181726,-1.345417457240369,0.1950054187256295,0.008516791334651708,-0.030138945389232976,-0.052181696931563104,-0.28531533414502924,-0.3837973447267495,-0.07335949970633836,-0.5016619524152183,-0.07377196799595183,1.314600491631252,-0.5755533402380913,1.04234687914125,-1.9884263599852992,-0.4546812851638831,-0.9135355999965279,0.1202491772493144,0.2982883545760662,1.1759196674481656,0.1765180905394663,-0.1393540853360605,-1.6912307557741173,0.6517544039399077,-0.11723751480317693,0.225761143742028,2.575309512971,-0.38535401952248977,0.12673017985596988,-0.07216106803459287,1.5616852752254324,-1.0467543733046534,0.8101267949195068,-0.42749849903243314,-0.11251204442772755,-1.1106289672153369,0.3332379125685002,1.0663205215842115,-1.9046403985666256,1.8284597174145687,-0.6975813374405788,0.46500534847745456,0.2676519512599508,-0.9130053337789412,-0.1662797376110315,0.8053195931493092,-1.3026754192540417,0.15700431317050292,-1.207547463863445,0.3039178415683296,1.994212832448182,-0.14322280376679514,-1.0562473515513469,-1.2639667192364323,-0.8634228472340293,1.4018232890368303,-1.6562191518856821,-0.21648483960705828,-0.05978220684500359],\"type\":\"histogram\"},{\"histfunc\":\"count\",\"histnorm\":\"\",\"marker\":{\"color\":\"rgba(50, 171, 96, 1.0)\",\"line\":{\"color\":\"#4D5663\",\"width\":1.3}},\"name\":\"C\",\"opacity\":0.8,\"orientation\":\"v\",\"x\":[0.5201109778797136,0.07261771142678988,0.4845486456551353,0.04175729206404078,0.07214813886953271,2.5606694217959833,0.07923671155527522,-0.2554548938241622,-0.48350893289418834,-0.3601080724389737,0.1791297395186548,-0.3718455967328699,-0.10285950790430816,0.1352652300933272,-0.403587208589028,-0.9703320757531556,-1.0309098376147865,-0.7839258323598245,0.42945907942978373,-0.16623496285325534,-1.4169503388885316,0.2539949991347254,-0.020580254158317893,-1.0488541639354112,-2.900279322232684,0.014575478409169191,-0.326673408691736,-0.18735692164121553,0.5945073068751859,-1.1483605677505577,-0.06420435125397268,0.18831486406559445,-2.0494593872241715,-0.293484960876104,-0.9929240294800716,-0.4339844599054614,-0.8077561213226911,0.16124317270479846,-0.9424420244798318,-3.0363692113542298,-1.0081465330942094,-0.2576960247641065,-0.629302913191415,-0.7512827541389725,1.3097259912622083,0.3891212137644769,0.25792350431937977,-1.4255660416617586,0.6313337215541744,-0.8086724659291554,-0.31398184848967853,0.8968079243347657,-0.41047214370925006,0.3085293139653205,2.440954175592653,1.172510577125236,-0.21452964732278043,1.2500901451930229,0.43545890987911706,-0.15450392741326677,0.34389616421093383,0.7022310466650089,0.26950241011431497,-0.4087380376584617,-0.05854610989108658,-1.2253792268194523,0.36920968290947853,0.9510900473471998,-0.58479957902115,0.2012651723901271,-2.2157890554992186,0.2572549110191389,0.6026994347030282,-0.5190278348745757,-0.659545259399039,0.1013534807846591,-1.3857377750410784,0.6780432092694408,-2.7686858883402987,-1.151356806602218,-0.38093518884231675,1.7752163898008257,1.638870823306406,0.42769795627912727,-1.724320012317729,-0.313077254850423,-1.6924590866164944,0.24414122730241494,0.004458488897950751,1.232211012758207,-0.5640207859786823,1.4659627874886405,-1.4612430503540268,0.5515163223382007,-1.1760157382514314,-0.5280048160291578,0.6642118534920832,-0.41497442121476247,0.4840723227255899,1.4572878058103327],\"type\":\"histogram\"},{\"histfunc\":\"count\",\"histnorm\":\"\",\"marker\":{\"color\":\"rgba(128, 0, 128, 1.0)\",\"line\":{\"color\":\"#4D5663\",\"width\":1.3}},\"name\":\"D\",\"opacity\":0.8,\"orientation\":\"v\",\"x\":[-0.8988369730855046,-0.5973989117894579,-2.4769542611372675,0.18580822703921393,-1.4477266106016817,0.7475126441147879,-0.40662767732843136,0.21562464027425288,-0.8437175533042076,-0.9206671582879606,-0.5128985721362068,0.4125456490439085,-0.8139361694983875,-0.24474602739648574,1.399660958090668,-0.5690667592803338,0.10284268754132027,-1.0493291743851698,0.8627545558195271,-0.9045099347478545,-1.026386794162491,0.060680317538162075,-0.3415314804401644,-2.3994321359360637,-1.8292002486713017,-0.2954406411178994,0.4308804806320366,-0.10689556363777028,1.4089556192348474,0.5716511233697971,0.18342394810870205,0.36969571924469097,-0.6231566510192728,-1.3706148974987369,-0.28615276432148967,0.22151874757782652,0.8618996252866993,-2.104564936295545,0.050772616377669236,-1.5751320938408422,0.529309231319148,1.2505362277466154,0.5802563261424589,1.7510243835154893,-0.1627631243159947,-0.07003449753416875,-0.7440752774362521,0.31874611082693405,0.1704263449760727,-0.11002542802261428,-0.24391672792443203,0.12914644876715653,-0.11217720875904467,-1.1825183945583666,-0.6923098843607846,-0.7681572995718657,1.1967731690030423,-1.0847602441923174,-0.2468238604708724,-1.275210084786202,-0.2937753192692088,-0.009646863994237882,-0.09900121737954734,-2.273401838062692,0.6410847024367559,-1.0315530517482356,-0.23298010070511913,0.21011149847632665,-1.6448213858583116,0.9457050033179516,-0.558715442009201,-0.4626338089775159,-0.4970146323240726,0.5580016935266144,1.4573952335048144,0.013241314320308596,-0.5396902491902932,2.0752884236753153,0.32674800644109625,-0.9622506422535216,0.018215536423492086,0.8843134448695068,-0.018465958943413796,-1.1360868737298324,-1.7102980416719817,-1.6399112314218767,-1.9949333484692264,0.4223668366027454,-1.205824691590463,-1.0046967973566239,1.0545659444662052,-0.16281636113476167,-2.195290457025516,-0.40360203397521616,-0.5068641103072004,-1.010766369579888,1.035543712197159,0.11165562042085199,-0.6837883644397107,0.06629731977819796],\"type\":\"histogram\"}],                        {\"barmode\":\"overlay\",\"legend\":{\"bgcolor\":\"#F5F6F9\",\"font\":{\"color\":\"#4D5663\"}},\"paper_bgcolor\":\"#F5F6F9\",\"plot_bgcolor\":\"#F5F6F9\",\"template\":{\"data\":{\"barpolar\":[{\"marker\":{\"line\":{\"color\":\"#E5ECF6\",\"width\":0.5},\"pattern\":{\"fillmode\":\"overlay\",\"size\":10,\"solidity\":0.2}},\"type\":\"barpolar\"}],\"bar\":[{\"error_x\":{\"color\":\"#2a3f5f\"},\"error_y\":{\"color\":\"#2a3f5f\"},\"marker\":{\"line\":{\"color\":\"#E5ECF6\",\"width\":0.5},\"pattern\":{\"fillmode\":\"overlay\",\"size\":10,\"solidity\":0.2}},\"type\":\"bar\"}],\"carpet\":[{\"aaxis\":{\"endlinecolor\":\"#2a3f5f\",\"gridcolor\":\"white\",\"linecolor\":\"white\",\"minorgridcolor\":\"white\",\"startlinecolor\":\"#2a3f5f\"},\"baxis\":{\"endlinecolor\":\"#2a3f5f\",\"gridcolor\":\"white\",\"linecolor\":\"white\",\"minorgridcolor\":\"white\",\"startlinecolor\":\"#2a3f5f\"},\"type\":\"carpet\"}],\"choropleth\":[{\"colorbar\":{\"outlinewidth\":0,\"ticks\":\"\"},\"type\":\"choropleth\"}],\"contourcarpet\":[{\"colorbar\":{\"outlinewidth\":0,\"ticks\":\"\"},\"type\":\"contourcarpet\"}],\"contour\":[{\"colorbar\":{\"outlinewidth\":0,\"ticks\":\"\"},\"colorscale\":[[0.0,\"#0d0887\"],[0.1111111111111111,\"#46039f\"],[0.2222222222222222,\"#7201a8\"],[0.3333333333333333,\"#9c179e\"],[0.4444444444444444,\"#bd3786\"],[0.5555555555555556,\"#d8576b\"],[0.6666666666666666,\"#ed7953\"],[0.7777777777777778,\"#fb9f3a\"],[0.8888888888888888,\"#fdca26\"],[1.0,\"#f0f921\"]],\"type\":\"contour\"}],\"heatmapgl\":[{\"colorbar\":{\"outlinewidth\":0,\"ticks\":\"\"},\"colorscale\":[[0.0,\"#0d0887\"],[0.1111111111111111,\"#46039f\"],[0.2222222222222222,\"#7201a8\"],[0.3333333333333333,\"#9c179e\"],[0.4444444444444444,\"#bd3786\"],[0.5555555555555556,\"#d8576b\"],[0.6666666666666666,\"#ed7953\"],[0.7777777777777778,\"#fb9f3a\"],[0.8888888888888888,\"#fdca26\"],[1.0,\"#f0f921\"]],\"type\":\"heatmapgl\"}],\"heatmap\":[{\"colorbar\":{\"outlinewidth\":0,\"ticks\":\"\"},\"colorscale\":[[0.0,\"#0d0887\"],[0.1111111111111111,\"#46039f\"],[0.2222222222222222,\"#7201a8\"],[0.3333333333333333,\"#9c179e\"],[0.4444444444444444,\"#bd3786\"],[0.5555555555555556,\"#d8576b\"],[0.6666666666666666,\"#ed7953\"],[0.7777777777777778,\"#fb9f3a\"],[0.8888888888888888,\"#fdca26\"],[1.0,\"#f0f921\"]],\"type\":\"heatmap\"}],\"histogram2dcontour\":[{\"colorbar\":{\"outlinewidth\":0,\"ticks\":\"\"},\"colorscale\":[[0.0,\"#0d0887\"],[0.1111111111111111,\"#46039f\"],[0.2222222222222222,\"#7201a8\"],[0.3333333333333333,\"#9c179e\"],[0.4444444444444444,\"#bd3786\"],[0.5555555555555556,\"#d8576b\"],[0.6666666666666666,\"#ed7953\"],[0.7777777777777778,\"#fb9f3a\"],[0.8888888888888888,\"#fdca26\"],[1.0,\"#f0f921\"]],\"type\":\"histogram2dcontour\"}],\"histogram2d\":[{\"colorbar\":{\"outlinewidth\":0,\"ticks\":\"\"},\"colorscale\":[[0.0,\"#0d0887\"],[0.1111111111111111,\"#46039f\"],[0.2222222222222222,\"#7201a8\"],[0.3333333333333333,\"#9c179e\"],[0.4444444444444444,\"#bd3786\"],[0.5555555555555556,\"#d8576b\"],[0.6666666666666666,\"#ed7953\"],[0.7777777777777778,\"#fb9f3a\"],[0.8888888888888888,\"#fdca26\"],[1.0,\"#f0f921\"]],\"type\":\"histogram2d\"}],\"histogram\":[{\"marker\":{\"pattern\":{\"fillmode\":\"overlay\",\"size\":10,\"solidity\":0.2}},\"type\":\"histogram\"}],\"mesh3d\":[{\"colorbar\":{\"outlinewidth\":0,\"ticks\":\"\"},\"type\":\"mesh3d\"}],\"parcoords\":[{\"line\":{\"colorbar\":{\"outlinewidth\":0,\"ticks\":\"\"}},\"type\":\"parcoords\"}],\"pie\":[{\"automargin\":true,\"type\":\"pie\"}],\"scatter3d\":[{\"line\":{\"colorbar\":{\"outlinewidth\":0,\"ticks\":\"\"}},\"marker\":{\"colorbar\":{\"outlinewidth\":0,\"ticks\":\"\"}},\"type\":\"scatter3d\"}],\"scattercarpet\":[{\"marker\":{\"colorbar\":{\"outlinewidth\":0,\"ticks\":\"\"}},\"type\":\"scattercarpet\"}],\"scattergeo\":[{\"marker\":{\"colorbar\":{\"outlinewidth\":0,\"ticks\":\"\"}},\"type\":\"scattergeo\"}],\"scattergl\":[{\"marker\":{\"colorbar\":{\"outlinewidth\":0,\"ticks\":\"\"}},\"type\":\"scattergl\"}],\"scattermapbox\":[{\"marker\":{\"colorbar\":{\"outlinewidth\":0,\"ticks\":\"\"}},\"type\":\"scattermapbox\"}],\"scatterpolargl\":[{\"marker\":{\"colorbar\":{\"outlinewidth\":0,\"ticks\":\"\"}},\"type\":\"scatterpolargl\"}],\"scatterpolar\":[{\"marker\":{\"colorbar\":{\"outlinewidth\":0,\"ticks\":\"\"}},\"type\":\"scatterpolar\"}],\"scatter\":[{\"marker\":{\"colorbar\":{\"outlinewidth\":0,\"ticks\":\"\"}},\"type\":\"scatter\"}],\"scatterternary\":[{\"marker\":{\"colorbar\":{\"outlinewidth\":0,\"ticks\":\"\"}},\"type\":\"scatterternary\"}],\"surface\":[{\"colorbar\":{\"outlinewidth\":0,\"ticks\":\"\"},\"colorscale\":[[0.0,\"#0d0887\"],[0.1111111111111111,\"#46039f\"],[0.2222222222222222,\"#7201a8\"],[0.3333333333333333,\"#9c179e\"],[0.4444444444444444,\"#bd3786\"],[0.5555555555555556,\"#d8576b\"],[0.6666666666666666,\"#ed7953\"],[0.7777777777777778,\"#fb9f3a\"],[0.8888888888888888,\"#fdca26\"],[1.0,\"#f0f921\"]],\"type\":\"surface\"}],\"table\":[{\"cells\":{\"fill\":{\"color\":\"#EBF0F8\"},\"line\":{\"color\":\"white\"}},\"header\":{\"fill\":{\"color\":\"#C8D4E3\"},\"line\":{\"color\":\"white\"}},\"type\":\"table\"}]},\"layout\":{\"annotationdefaults\":{\"arrowcolor\":\"#2a3f5f\",\"arrowhead\":0,\"arrowwidth\":1},\"autotypenumbers\":\"strict\",\"coloraxis\":{\"colorbar\":{\"outlinewidth\":0,\"ticks\":\"\"}},\"colorscale\":{\"diverging\":[[0,\"#8e0152\"],[0.1,\"#c51b7d\"],[0.2,\"#de77ae\"],[0.3,\"#f1b6da\"],[0.4,\"#fde0ef\"],[0.5,\"#f7f7f7\"],[0.6,\"#e6f5d0\"],[0.7,\"#b8e186\"],[0.8,\"#7fbc41\"],[0.9,\"#4d9221\"],[1,\"#276419\"]],\"sequential\":[[0.0,\"#0d0887\"],[0.1111111111111111,\"#46039f\"],[0.2222222222222222,\"#7201a8\"],[0.3333333333333333,\"#9c179e\"],[0.4444444444444444,\"#bd3786\"],[0.5555555555555556,\"#d8576b\"],[0.6666666666666666,\"#ed7953\"],[0.7777777777777778,\"#fb9f3a\"],[0.8888888888888888,\"#fdca26\"],[1.0,\"#f0f921\"]],\"sequentialminus\":[[0.0,\"#0d0887\"],[0.1111111111111111,\"#46039f\"],[0.2222222222222222,\"#7201a8\"],[0.3333333333333333,\"#9c179e\"],[0.4444444444444444,\"#bd3786\"],[0.5555555555555556,\"#d8576b\"],[0.6666666666666666,\"#ed7953\"],[0.7777777777777778,\"#fb9f3a\"],[0.8888888888888888,\"#fdca26\"],[1.0,\"#f0f921\"]]},\"colorway\":[\"#636efa\",\"#EF553B\",\"#00cc96\",\"#ab63fa\",\"#FFA15A\",\"#19d3f3\",\"#FF6692\",\"#B6E880\",\"#FF97FF\",\"#FECB52\"],\"font\":{\"color\":\"#2a3f5f\"},\"geo\":{\"bgcolor\":\"white\",\"lakecolor\":\"white\",\"landcolor\":\"#E5ECF6\",\"showlakes\":true,\"showland\":true,\"subunitcolor\":\"white\"},\"hoverlabel\":{\"align\":\"left\"},\"hovermode\":\"closest\",\"mapbox\":{\"style\":\"light\"},\"paper_bgcolor\":\"white\",\"plot_bgcolor\":\"#E5ECF6\",\"polar\":{\"angularaxis\":{\"gridcolor\":\"white\",\"linecolor\":\"white\",\"ticks\":\"\"},\"bgcolor\":\"#E5ECF6\",\"radialaxis\":{\"gridcolor\":\"white\",\"linecolor\":\"white\",\"ticks\":\"\"}},\"scene\":{\"xaxis\":{\"backgroundcolor\":\"#E5ECF6\",\"gridcolor\":\"white\",\"gridwidth\":2,\"linecolor\":\"white\",\"showbackground\":true,\"ticks\":\"\",\"zerolinecolor\":\"white\"},\"yaxis\":{\"backgroundcolor\":\"#E5ECF6\",\"gridcolor\":\"white\",\"gridwidth\":2,\"linecolor\":\"white\",\"showbackground\":true,\"ticks\":\"\",\"zerolinecolor\":\"white\"},\"zaxis\":{\"backgroundcolor\":\"#E5ECF6\",\"gridcolor\":\"white\",\"gridwidth\":2,\"linecolor\":\"white\",\"showbackground\":true,\"ticks\":\"\",\"zerolinecolor\":\"white\"}},\"shapedefaults\":{\"line\":{\"color\":\"#2a3f5f\"}},\"ternary\":{\"aaxis\":{\"gridcolor\":\"white\",\"linecolor\":\"white\",\"ticks\":\"\"},\"baxis\":{\"gridcolor\":\"white\",\"linecolor\":\"white\",\"ticks\":\"\"},\"bgcolor\":\"#E5ECF6\",\"caxis\":{\"gridcolor\":\"white\",\"linecolor\":\"white\",\"ticks\":\"\"}},\"title\":{\"x\":0.05},\"xaxis\":{\"automargin\":true,\"gridcolor\":\"white\",\"linecolor\":\"white\",\"ticks\":\"\",\"title\":{\"standoff\":15},\"zerolinecolor\":\"white\",\"zerolinewidth\":2},\"yaxis\":{\"automargin\":true,\"gridcolor\":\"white\",\"linecolor\":\"white\",\"ticks\":\"\",\"title\":{\"standoff\":15},\"zerolinecolor\":\"white\",\"zerolinewidth\":2}}},\"title\":{\"font\":{\"color\":\"#4D5663\"}},\"xaxis\":{\"gridcolor\":\"#E1E5ED\",\"showgrid\":true,\"tickfont\":{\"color\":\"#4D5663\"},\"title\":{\"font\":{\"color\":\"#4D5663\"},\"text\":\"\"},\"zerolinecolor\":\"#E1E5ED\"},\"yaxis\":{\"gridcolor\":\"#E1E5ED\",\"showgrid\":true,\"tickfont\":{\"color\":\"#4D5663\"},\"title\":{\"font\":{\"color\":\"#4D5663\"},\"text\":\"\"},\"zerolinecolor\":\"#E1E5ED\"}},                        {\"showLink\": true, \"linkText\": \"Export to plot.ly\", \"plotlyServerURL\": \"https://plot.ly\", \"responsive\": true}                    ).then(function(){\n",
       "                            \n",
       "var gd = document.getElementById('f845afb4-d321-4137-a4f4-73ccbdf940ea');\n",
       "var x = new MutationObserver(function (mutations, observer) {{\n",
       "        var display = window.getComputedStyle(gd).display;\n",
       "        if (!display || display === 'none') {{\n",
       "            console.log([gd, 'removed!']);\n",
       "            Plotly.purge(gd);\n",
       "            observer.disconnect();\n",
       "        }}\n",
       "}});\n",
       "\n",
       "// Listen for the removal of the full notebook cells\n",
       "var notebookContainer = gd.closest('#notebook-container');\n",
       "if (notebookContainer) {{\n",
       "    x.observe(notebookContainer, {childList: true});\n",
       "}}\n",
       "\n",
       "// Listen for the clearing of the current output cell\n",
       "var outputEl = gd.closest('.output');\n",
       "if (outputEl) {{\n",
       "    x.observe(outputEl, {childList: true});\n",
       "}}\n",
       "\n",
       "                        })                };                });            </script>        </div>"
      ]
     },
     "metadata": {},
     "output_type": "display_data"
    }
   ],
   "source": [
    "df.iplot(kind='hist')"
   ]
  },
  {
   "cell_type": "code",
   "execution_count": 27,
   "metadata": {},
   "outputs": [
    {
     "name": "stderr",
     "output_type": "stream",
     "text": [
      "C:\\Users\\mmdas\\AppData\\Local\\Packages\\PythonSoftwareFoundation.Python.3.9_qbz5n2kfra8p0\\LocalCache\\local-packages\\Python39\\site-packages\\cufflinks\\plotlytools.py:849: FutureWarning:\n",
      "\n",
      "The pandas.np module is deprecated and will be removed from pandas in a future version. Import numpy directly instead\n",
      "\n",
      "C:\\Users\\mmdas\\AppData\\Local\\Packages\\PythonSoftwareFoundation.Python.3.9_qbz5n2kfra8p0\\LocalCache\\local-packages\\Python39\\site-packages\\cufflinks\\plotlytools.py:850: FutureWarning:\n",
      "\n",
      "The pandas.np module is deprecated and will be removed from pandas in a future version. Import numpy directly instead\n",
      "\n"
     ]
    },
    {
     "data": {
      "application/vnd.plotly.v1+json": {
       "config": {
        "linkText": "Export to plot.ly",
        "plotlyServerURL": "https://plot.ly",
        "showLink": true
       },
       "data": [
        {
         "line": {
          "color": "rgba(255, 153, 51, 1.0)",
          "dash": "solid",
          "shape": "linear",
          "width": 1.3
         },
         "mode": "lines",
         "name": "A",
         "text": "",
         "type": "scatter",
         "x": [
          0,
          1,
          2,
          3,
          4,
          5,
          6,
          7,
          8,
          9,
          10,
          11,
          12,
          13,
          14,
          15,
          16,
          17,
          18,
          19,
          20,
          21,
          22,
          23,
          24,
          25,
          26,
          27,
          28,
          29,
          30,
          31,
          32,
          33,
          34,
          35,
          36,
          37,
          38,
          39,
          40,
          41,
          42,
          43,
          44,
          45,
          46,
          47,
          48,
          49,
          50,
          51,
          52,
          53,
          54,
          55,
          56,
          57,
          58,
          59,
          60,
          61,
          62,
          63,
          64,
          65,
          66,
          67,
          68,
          69,
          70,
          71,
          72,
          73,
          74,
          75,
          76,
          77,
          78,
          79,
          80,
          81,
          82,
          83,
          84,
          85,
          86,
          87,
          88,
          89,
          90,
          91,
          92,
          93,
          94,
          95,
          96,
          97,
          98,
          99
         ],
         "y": [
          0.886481626762867,
          -0.3499620218114763,
          -1.585776582814845,
          0.6484898454257476,
          -1.9979968441142282,
          0.1201311235502911,
          -0.4148740926620486,
          0.48602098140719663,
          -0.4421915736894337,
          1.2418778460177193,
          0.10118778876868344,
          -0.3818017352390294,
          -1.0889405954178286,
          -1.0775398374986283,
          0.7176163433204604,
          0.33913004139571756,
          -0.4032606079303681,
          -0.3637756464595728,
          -1.4718184440680067,
          0.713886037258169,
          0.19269588171664376,
          0.23304829932510332,
          0.5709190035735119,
          -1.8433915506663612,
          0.8324219856241711,
          -1.0757550291979756,
          0.5077556723582699,
          -0.44413901106422243,
          -1.0086197778973143,
          -1.4028236947855495,
          0.7121967790439677,
          0.3204505587958397,
          0.4445431803849003,
          -0.7710464998332621,
          -0.32331670313769884,
          -0.37674258119090615,
          -0.4248675218977924,
          0.40764947955994546,
          -1.3078826247959392,
          1.0601288365287158,
          -0.07365209559188851,
          -0.15604718500861364,
          0.6942083782207596,
          1.6486670014904792,
          -0.7077253997726066,
          1.2800832468714303,
          -0.9465578355996911,
          -0.20620629379940864,
          -0.7963607240498749,
          -0.36078265872225806,
          1.2110561274705427,
          -0.1104525081824256,
          -0.6700042401655598,
          0.5569922218535346,
          0.3089864141526496,
          -0.2255228252683958,
          -0.2420062158747075,
          1.422815466914821,
          0.1503362119866953,
          -0.08743388513554257,
          -2.0349797681611563,
          0.8458105742183093,
          1.5407511255122293,
          0.029309506747405435,
          0.8584238640416992,
          0.9580984168929361,
          -0.9005130295018315,
          -0.013473286256282085,
          -0.8038220434152606,
          0.5661970188353798,
          -0.41924053958573,
          -0.29814007571196643,
          -0.03279477170129877,
          0.29650560309755564,
          -0.5463247852636246,
          -0.7671606914275885,
          1.0529157002903464,
          0.7838311671342689,
          1.9802407213895976,
          0.47847443413408924,
          1.0458971972595335,
          -1.2475785868909688,
          -0.8810956529233439,
          -1.6642079892521435,
          0.7756690712728784,
          -0.14000153305790228,
          -0.298192880456967,
          0.6070013657895164,
          0.9080645827077884,
          0.7257777964960853,
          -2.3168928477995996,
          -0.23743985166319456,
          -0.6036935396622959,
          -1.022352491479891,
          1.11444393383111,
          1.145304707468234,
          -3.250282066368351,
          1.5221237939575507,
          0.14200502104205395,
          0.38571662007639357
         ]
        },
        {
         "line": {
          "color": "rgba(55, 128, 191, 1.0)",
          "dash": "solid",
          "shape": "linear",
          "width": 1.3
         },
         "mode": "lines",
         "name": "B",
         "text": "",
         "type": "scatter",
         "x": [
          0,
          1,
          2,
          3,
          4,
          5,
          6,
          7,
          8,
          9,
          10,
          11,
          12,
          13,
          14,
          15,
          16,
          17,
          18,
          19,
          20,
          21,
          22,
          23,
          24,
          25,
          26,
          27,
          28,
          29,
          30,
          31,
          32,
          33,
          34,
          35,
          36,
          37,
          38,
          39,
          40,
          41,
          42,
          43,
          44,
          45,
          46,
          47,
          48,
          49,
          50,
          51,
          52,
          53,
          54,
          55,
          56,
          57,
          58,
          59,
          60,
          61,
          62,
          63,
          64,
          65,
          66,
          67,
          68,
          69,
          70,
          71,
          72,
          73,
          74,
          75,
          76,
          77,
          78,
          79,
          80,
          81,
          82,
          83,
          84,
          85,
          86,
          87,
          88,
          89,
          90,
          91,
          92,
          93,
          94,
          95,
          96,
          97,
          98,
          99
         ],
         "y": [
          -0.46449043768408943,
          0.3523981764252299,
          -2.3568287709836473,
          2.390595577632367,
          -0.9711494279100952,
          -0.598162370267831,
          -0.3968615131465438,
          -1.4678698356334754,
          -0.28684894742407796,
          0.9208405274368389,
          0.9624893523587785,
          -0.4726705970974675,
          -0.6879754336784105,
          -1.3738071612856435,
          0.15306973430517098,
          1.39271128590778,
          1.4306641888922735,
          -1.7229685803087822,
          0.876023771464418,
          -0.6803902408216923,
          -0.5941052879566986,
          0.12043446146704843,
          -0.28515613992993033,
          -0.32609061091749375,
          0.47425472148627396,
          -1.2522126657446717,
          -0.3243536009422392,
          0.5049793346016036,
          -0.04176998943973294,
          0.40192394612822196,
          -0.28054043055164984,
          0.14883547195933453,
          -0.12105123038966474,
          1.0343349745490065,
          0.5991071166463736,
          0.567778493863068,
          0.3037646239706531,
          -1.3719041517480557,
          -0.4436317499417215,
          0.38529293294782807,
          0.18887020024921888,
          -0.44131088434181726,
          -1.345417457240369,
          0.1950054187256295,
          0.008516791334651708,
          -0.030138945389232976,
          -0.052181696931563104,
          -0.28531533414502924,
          -0.3837973447267495,
          -0.07335949970633836,
          -0.5016619524152183,
          -0.07377196799595183,
          1.314600491631252,
          -0.5755533402380913,
          1.04234687914125,
          -1.9884263599852992,
          -0.4546812851638831,
          -0.9135355999965279,
          0.1202491772493144,
          0.2982883545760662,
          1.1759196674481656,
          0.1765180905394663,
          -0.1393540853360605,
          -1.6912307557741173,
          0.6517544039399077,
          -0.11723751480317693,
          0.225761143742028,
          2.575309512971,
          -0.38535401952248977,
          0.12673017985596988,
          -0.07216106803459287,
          1.5616852752254324,
          -1.0467543733046534,
          0.8101267949195068,
          -0.42749849903243314,
          -0.11251204442772755,
          -1.1106289672153369,
          0.3332379125685002,
          1.0663205215842115,
          -1.9046403985666256,
          1.8284597174145687,
          -0.6975813374405788,
          0.46500534847745456,
          0.2676519512599508,
          -0.9130053337789412,
          -0.1662797376110315,
          0.8053195931493092,
          -1.3026754192540417,
          0.15700431317050292,
          -1.207547463863445,
          0.3039178415683296,
          1.994212832448182,
          -0.14322280376679514,
          -1.0562473515513469,
          -1.2639667192364323,
          -0.8634228472340293,
          1.4018232890368303,
          -1.6562191518856821,
          -0.21648483960705828,
          -0.05978220684500359
         ]
        },
        {
         "connectgaps": false,
         "fill": "tozeroy",
         "line": {
          "color": "green",
          "dash": "solid",
          "shape": "linear",
          "width": 0.5
         },
         "mode": "lines",
         "name": "Spread",
         "showlegend": false,
         "type": "scatter",
         "x": [
          0,
          1,
          2,
          3,
          4,
          5,
          6,
          7,
          8,
          9,
          10,
          11,
          12,
          13,
          14,
          15,
          16,
          17,
          18,
          19,
          20,
          21,
          22,
          23,
          24,
          25,
          26,
          27,
          28,
          29,
          30,
          31,
          32,
          33,
          34,
          35,
          36,
          37,
          38,
          39,
          40,
          41,
          42,
          43,
          44,
          45,
          46,
          47,
          48,
          49,
          50,
          51,
          52,
          53,
          54,
          55,
          56,
          57,
          58,
          59,
          60,
          61,
          62,
          63,
          64,
          65,
          66,
          67,
          68,
          69,
          70,
          71,
          72,
          73,
          74,
          75,
          76,
          77,
          78,
          79,
          80,
          81,
          82,
          83,
          84,
          85,
          86,
          87,
          88,
          89,
          90,
          91,
          92,
          93,
          94,
          95,
          96,
          97,
          98,
          99
         ],
         "xaxis": "x2",
         "y": [
          1.3509720644469565,
          "",
          0.7710521881688024,
          "",
          "",
          0.7182934938181221,
          "",
          1.953890817040672,
          "",
          0.32103731858088047,
          "",
          0.09086886185843812,
          "",
          0.29626732378701526,
          0.5645466090152894,
          "",
          "",
          1.3591929338492095,
          "",
          1.3942762780798614,
          0.7868011696733423,
          0.11261383785805489,
          0.8560751435034422,
          "",
          0.3581672641378972,
          0.1764576365466961,
          0.8321092733005091,
          "",
          "",
          "",
          0.9927372095956175,
          0.1716150868365052,
          0.5655944107745651,
          "",
          "",
          "",
          "",
          1.7795536313080011,
          "",
          0.6748359035808877,
          "",
          0.2852636993332036,
          2.0396258354611287,
          1.4536615827648496,
          "",
          1.3102221922606632,
          "",
          0.07910904034562061,
          "",
          "",
          1.7127180798857609,
          "",
          "",
          1.132545562091626,
          "",
          1.7629035347169033,
          0.21267506928917562,
          2.336351066911349,
          0.030087034737380905,
          "",
          "",
          0.669292483678843,
          1.6801052108482897,
          1.7205402625215227,
          0.20666946010179155,
          1.075335931696113,
          "",
          "",
          "",
          0.43946683897940986,
          "",
          "",
          1.0139596016033545,
          "",
          "",
          "",
          2.1635446675056835,
          0.4505932545657687,
          0.9139201998053861,
          2.383114832700715,
          "",
          "",
          "",
          "",
          1.6886744050518196,
          0.02627820455312921,
          "",
          1.909676785043558,
          0.7510602695372856,
          1.9333252603595303,
          "",
          "",
          "",
          0.03389486007145592,
          2.3784106530675424,
          2.008727554702263,
          "",
          3.178342945843233,
          0.35848986064911226,
          0.44549882692139714
         ],
         "yaxis": "y2"
        },
        {
         "connectgaps": false,
         "fill": "tozeroy",
         "line": {
          "color": "red",
          "dash": "solid",
          "shape": "linear",
          "width": 0.5
         },
         "mode": "lines",
         "name": "Spread",
         "showlegend": false,
         "type": "scatter",
         "x": [
          0,
          1,
          2,
          3,
          4,
          5,
          6,
          7,
          8,
          9,
          10,
          11,
          12,
          13,
          14,
          15,
          16,
          17,
          18,
          19,
          20,
          21,
          22,
          23,
          24,
          25,
          26,
          27,
          28,
          29,
          30,
          31,
          32,
          33,
          34,
          35,
          36,
          37,
          38,
          39,
          40,
          41,
          42,
          43,
          44,
          45,
          46,
          47,
          48,
          49,
          50,
          51,
          52,
          53,
          54,
          55,
          56,
          57,
          58,
          59,
          60,
          61,
          62,
          63,
          64,
          65,
          66,
          67,
          68,
          69,
          70,
          71,
          72,
          73,
          74,
          75,
          76,
          77,
          78,
          79,
          80,
          81,
          82,
          83,
          84,
          85,
          86,
          87,
          88,
          89,
          90,
          91,
          92,
          93,
          94,
          95,
          96,
          97,
          98,
          99
         ],
         "xaxis": "x2",
         "y": [
          "",
          -0.7023601982367063,
          "",
          -1.7421057322066194,
          -1.026847416204133,
          "",
          -0.018012579515504834,
          "",
          -0.15534262626535572,
          "",
          -0.8613015635900951,
          "",
          -0.4009651617394181,
          "",
          "",
          -1.0535812445120625,
          -1.8339247968226418,
          "",
          -2.347842215532425,
          "",
          "",
          "",
          "",
          -1.5173009397488675,
          "",
          "",
          "",
          -0.9491183456658261,
          -0.9668497884575813,
          -1.8047476409137715,
          "",
          "",
          "",
          -1.8053814743822687,
          -0.9224238197840724,
          -0.9445210750539741,
          -0.7286321458684455,
          "",
          -0.8642508748542177,
          "",
          -0.2625222958411074,
          "",
          "",
          "",
          -0.7162421911072583,
          "",
          -0.8943761386681279,
          "",
          -0.4125633793231254,
          -0.2874231590159197,
          "",
          -0.036680540186473765,
          -1.9846047317968116,
          "",
          -0.7333604649886004,
          "",
          "",
          "",
          "",
          -0.38572223971160874,
          -3.210899435609322,
          "",
          "",
          "",
          "",
          "",
          -1.1262741732438595,
          -2.5887827992272823,
          -0.4184680238927709,
          "",
          -0.3470794715511371,
          -1.859825350937399,
          "",
          -0.5136211918219511,
          -0.11882628623119146,
          -0.6546486469998609,
          "",
          "",
          "",
          "",
          -0.7825625201550352,
          -0.54999724945039,
          -1.3461010014007986,
          -1.9318599405120942,
          "",
          "",
          -1.1035124736062762,
          "",
          "",
          "",
          -2.620810689367929,
          -2.2316526841113764,
          -0.46047073589550075,
          "",
          "",
          "",
          -4.652105355405181,
          "",
          "",
          ""
         ],
         "yaxis": "y2"
        }
       ],
       "layout": {
        "hovermode": "x",
        "legend": {
         "bgcolor": "#F5F6F9",
         "font": {
          "color": "#4D5663"
         }
        },
        "paper_bgcolor": "#F5F6F9",
        "plot_bgcolor": "#F5F6F9",
        "template": {
         "data": {
          "bar": [
           {
            "error_x": {
             "color": "#2a3f5f"
            },
            "error_y": {
             "color": "#2a3f5f"
            },
            "marker": {
             "line": {
              "color": "#E5ECF6",
              "width": 0.5
             },
             "pattern": {
              "fillmode": "overlay",
              "size": 10,
              "solidity": 0.2
             }
            },
            "type": "bar"
           }
          ],
          "barpolar": [
           {
            "marker": {
             "line": {
              "color": "#E5ECF6",
              "width": 0.5
             },
             "pattern": {
              "fillmode": "overlay",
              "size": 10,
              "solidity": 0.2
             }
            },
            "type": "barpolar"
           }
          ],
          "carpet": [
           {
            "aaxis": {
             "endlinecolor": "#2a3f5f",
             "gridcolor": "white",
             "linecolor": "white",
             "minorgridcolor": "white",
             "startlinecolor": "#2a3f5f"
            },
            "baxis": {
             "endlinecolor": "#2a3f5f",
             "gridcolor": "white",
             "linecolor": "white",
             "minorgridcolor": "white",
             "startlinecolor": "#2a3f5f"
            },
            "type": "carpet"
           }
          ],
          "choropleth": [
           {
            "colorbar": {
             "outlinewidth": 0,
             "ticks": ""
            },
            "type": "choropleth"
           }
          ],
          "contour": [
           {
            "colorbar": {
             "outlinewidth": 0,
             "ticks": ""
            },
            "colorscale": [
             [
              0,
              "#0d0887"
             ],
             [
              0.1111111111111111,
              "#46039f"
             ],
             [
              0.2222222222222222,
              "#7201a8"
             ],
             [
              0.3333333333333333,
              "#9c179e"
             ],
             [
              0.4444444444444444,
              "#bd3786"
             ],
             [
              0.5555555555555556,
              "#d8576b"
             ],
             [
              0.6666666666666666,
              "#ed7953"
             ],
             [
              0.7777777777777778,
              "#fb9f3a"
             ],
             [
              0.8888888888888888,
              "#fdca26"
             ],
             [
              1,
              "#f0f921"
             ]
            ],
            "type": "contour"
           }
          ],
          "contourcarpet": [
           {
            "colorbar": {
             "outlinewidth": 0,
             "ticks": ""
            },
            "type": "contourcarpet"
           }
          ],
          "heatmap": [
           {
            "colorbar": {
             "outlinewidth": 0,
             "ticks": ""
            },
            "colorscale": [
             [
              0,
              "#0d0887"
             ],
             [
              0.1111111111111111,
              "#46039f"
             ],
             [
              0.2222222222222222,
              "#7201a8"
             ],
             [
              0.3333333333333333,
              "#9c179e"
             ],
             [
              0.4444444444444444,
              "#bd3786"
             ],
             [
              0.5555555555555556,
              "#d8576b"
             ],
             [
              0.6666666666666666,
              "#ed7953"
             ],
             [
              0.7777777777777778,
              "#fb9f3a"
             ],
             [
              0.8888888888888888,
              "#fdca26"
             ],
             [
              1,
              "#f0f921"
             ]
            ],
            "type": "heatmap"
           }
          ],
          "heatmapgl": [
           {
            "colorbar": {
             "outlinewidth": 0,
             "ticks": ""
            },
            "colorscale": [
             [
              0,
              "#0d0887"
             ],
             [
              0.1111111111111111,
              "#46039f"
             ],
             [
              0.2222222222222222,
              "#7201a8"
             ],
             [
              0.3333333333333333,
              "#9c179e"
             ],
             [
              0.4444444444444444,
              "#bd3786"
             ],
             [
              0.5555555555555556,
              "#d8576b"
             ],
             [
              0.6666666666666666,
              "#ed7953"
             ],
             [
              0.7777777777777778,
              "#fb9f3a"
             ],
             [
              0.8888888888888888,
              "#fdca26"
             ],
             [
              1,
              "#f0f921"
             ]
            ],
            "type": "heatmapgl"
           }
          ],
          "histogram": [
           {
            "marker": {
             "pattern": {
              "fillmode": "overlay",
              "size": 10,
              "solidity": 0.2
             }
            },
            "type": "histogram"
           }
          ],
          "histogram2d": [
           {
            "colorbar": {
             "outlinewidth": 0,
             "ticks": ""
            },
            "colorscale": [
             [
              0,
              "#0d0887"
             ],
             [
              0.1111111111111111,
              "#46039f"
             ],
             [
              0.2222222222222222,
              "#7201a8"
             ],
             [
              0.3333333333333333,
              "#9c179e"
             ],
             [
              0.4444444444444444,
              "#bd3786"
             ],
             [
              0.5555555555555556,
              "#d8576b"
             ],
             [
              0.6666666666666666,
              "#ed7953"
             ],
             [
              0.7777777777777778,
              "#fb9f3a"
             ],
             [
              0.8888888888888888,
              "#fdca26"
             ],
             [
              1,
              "#f0f921"
             ]
            ],
            "type": "histogram2d"
           }
          ],
          "histogram2dcontour": [
           {
            "colorbar": {
             "outlinewidth": 0,
             "ticks": ""
            },
            "colorscale": [
             [
              0,
              "#0d0887"
             ],
             [
              0.1111111111111111,
              "#46039f"
             ],
             [
              0.2222222222222222,
              "#7201a8"
             ],
             [
              0.3333333333333333,
              "#9c179e"
             ],
             [
              0.4444444444444444,
              "#bd3786"
             ],
             [
              0.5555555555555556,
              "#d8576b"
             ],
             [
              0.6666666666666666,
              "#ed7953"
             ],
             [
              0.7777777777777778,
              "#fb9f3a"
             ],
             [
              0.8888888888888888,
              "#fdca26"
             ],
             [
              1,
              "#f0f921"
             ]
            ],
            "type": "histogram2dcontour"
           }
          ],
          "mesh3d": [
           {
            "colorbar": {
             "outlinewidth": 0,
             "ticks": ""
            },
            "type": "mesh3d"
           }
          ],
          "parcoords": [
           {
            "line": {
             "colorbar": {
              "outlinewidth": 0,
              "ticks": ""
             }
            },
            "type": "parcoords"
           }
          ],
          "pie": [
           {
            "automargin": true,
            "type": "pie"
           }
          ],
          "scatter": [
           {
            "marker": {
             "colorbar": {
              "outlinewidth": 0,
              "ticks": ""
             }
            },
            "type": "scatter"
           }
          ],
          "scatter3d": [
           {
            "line": {
             "colorbar": {
              "outlinewidth": 0,
              "ticks": ""
             }
            },
            "marker": {
             "colorbar": {
              "outlinewidth": 0,
              "ticks": ""
             }
            },
            "type": "scatter3d"
           }
          ],
          "scattercarpet": [
           {
            "marker": {
             "colorbar": {
              "outlinewidth": 0,
              "ticks": ""
             }
            },
            "type": "scattercarpet"
           }
          ],
          "scattergeo": [
           {
            "marker": {
             "colorbar": {
              "outlinewidth": 0,
              "ticks": ""
             }
            },
            "type": "scattergeo"
           }
          ],
          "scattergl": [
           {
            "marker": {
             "colorbar": {
              "outlinewidth": 0,
              "ticks": ""
             }
            },
            "type": "scattergl"
           }
          ],
          "scattermapbox": [
           {
            "marker": {
             "colorbar": {
              "outlinewidth": 0,
              "ticks": ""
             }
            },
            "type": "scattermapbox"
           }
          ],
          "scatterpolar": [
           {
            "marker": {
             "colorbar": {
              "outlinewidth": 0,
              "ticks": ""
             }
            },
            "type": "scatterpolar"
           }
          ],
          "scatterpolargl": [
           {
            "marker": {
             "colorbar": {
              "outlinewidth": 0,
              "ticks": ""
             }
            },
            "type": "scatterpolargl"
           }
          ],
          "scatterternary": [
           {
            "marker": {
             "colorbar": {
              "outlinewidth": 0,
              "ticks": ""
             }
            },
            "type": "scatterternary"
           }
          ],
          "surface": [
           {
            "colorbar": {
             "outlinewidth": 0,
             "ticks": ""
            },
            "colorscale": [
             [
              0,
              "#0d0887"
             ],
             [
              0.1111111111111111,
              "#46039f"
             ],
             [
              0.2222222222222222,
              "#7201a8"
             ],
             [
              0.3333333333333333,
              "#9c179e"
             ],
             [
              0.4444444444444444,
              "#bd3786"
             ],
             [
              0.5555555555555556,
              "#d8576b"
             ],
             [
              0.6666666666666666,
              "#ed7953"
             ],
             [
              0.7777777777777778,
              "#fb9f3a"
             ],
             [
              0.8888888888888888,
              "#fdca26"
             ],
             [
              1,
              "#f0f921"
             ]
            ],
            "type": "surface"
           }
          ],
          "table": [
           {
            "cells": {
             "fill": {
              "color": "#EBF0F8"
             },
             "line": {
              "color": "white"
             }
            },
            "header": {
             "fill": {
              "color": "#C8D4E3"
             },
             "line": {
              "color": "white"
             }
            },
            "type": "table"
           }
          ]
         },
         "layout": {
          "annotationdefaults": {
           "arrowcolor": "#2a3f5f",
           "arrowhead": 0,
           "arrowwidth": 1
          },
          "autotypenumbers": "strict",
          "coloraxis": {
           "colorbar": {
            "outlinewidth": 0,
            "ticks": ""
           }
          },
          "colorscale": {
           "diverging": [
            [
             0,
             "#8e0152"
            ],
            [
             0.1,
             "#c51b7d"
            ],
            [
             0.2,
             "#de77ae"
            ],
            [
             0.3,
             "#f1b6da"
            ],
            [
             0.4,
             "#fde0ef"
            ],
            [
             0.5,
             "#f7f7f7"
            ],
            [
             0.6,
             "#e6f5d0"
            ],
            [
             0.7,
             "#b8e186"
            ],
            [
             0.8,
             "#7fbc41"
            ],
            [
             0.9,
             "#4d9221"
            ],
            [
             1,
             "#276419"
            ]
           ],
           "sequential": [
            [
             0,
             "#0d0887"
            ],
            [
             0.1111111111111111,
             "#46039f"
            ],
            [
             0.2222222222222222,
             "#7201a8"
            ],
            [
             0.3333333333333333,
             "#9c179e"
            ],
            [
             0.4444444444444444,
             "#bd3786"
            ],
            [
             0.5555555555555556,
             "#d8576b"
            ],
            [
             0.6666666666666666,
             "#ed7953"
            ],
            [
             0.7777777777777778,
             "#fb9f3a"
            ],
            [
             0.8888888888888888,
             "#fdca26"
            ],
            [
             1,
             "#f0f921"
            ]
           ],
           "sequentialminus": [
            [
             0,
             "#0d0887"
            ],
            [
             0.1111111111111111,
             "#46039f"
            ],
            [
             0.2222222222222222,
             "#7201a8"
            ],
            [
             0.3333333333333333,
             "#9c179e"
            ],
            [
             0.4444444444444444,
             "#bd3786"
            ],
            [
             0.5555555555555556,
             "#d8576b"
            ],
            [
             0.6666666666666666,
             "#ed7953"
            ],
            [
             0.7777777777777778,
             "#fb9f3a"
            ],
            [
             0.8888888888888888,
             "#fdca26"
            ],
            [
             1,
             "#f0f921"
            ]
           ]
          },
          "colorway": [
           "#636efa",
           "#EF553B",
           "#00cc96",
           "#ab63fa",
           "#FFA15A",
           "#19d3f3",
           "#FF6692",
           "#B6E880",
           "#FF97FF",
           "#FECB52"
          ],
          "font": {
           "color": "#2a3f5f"
          },
          "geo": {
           "bgcolor": "white",
           "lakecolor": "white",
           "landcolor": "#E5ECF6",
           "showlakes": true,
           "showland": true,
           "subunitcolor": "white"
          },
          "hoverlabel": {
           "align": "left"
          },
          "hovermode": "closest",
          "mapbox": {
           "style": "light"
          },
          "paper_bgcolor": "white",
          "plot_bgcolor": "#E5ECF6",
          "polar": {
           "angularaxis": {
            "gridcolor": "white",
            "linecolor": "white",
            "ticks": ""
           },
           "bgcolor": "#E5ECF6",
           "radialaxis": {
            "gridcolor": "white",
            "linecolor": "white",
            "ticks": ""
           }
          },
          "scene": {
           "xaxis": {
            "backgroundcolor": "#E5ECF6",
            "gridcolor": "white",
            "gridwidth": 2,
            "linecolor": "white",
            "showbackground": true,
            "ticks": "",
            "zerolinecolor": "white"
           },
           "yaxis": {
            "backgroundcolor": "#E5ECF6",
            "gridcolor": "white",
            "gridwidth": 2,
            "linecolor": "white",
            "showbackground": true,
            "ticks": "",
            "zerolinecolor": "white"
           },
           "zaxis": {
            "backgroundcolor": "#E5ECF6",
            "gridcolor": "white",
            "gridwidth": 2,
            "linecolor": "white",
            "showbackground": true,
            "ticks": "",
            "zerolinecolor": "white"
           }
          },
          "shapedefaults": {
           "line": {
            "color": "#2a3f5f"
           }
          },
          "ternary": {
           "aaxis": {
            "gridcolor": "white",
            "linecolor": "white",
            "ticks": ""
           },
           "baxis": {
            "gridcolor": "white",
            "linecolor": "white",
            "ticks": ""
           },
           "bgcolor": "#E5ECF6",
           "caxis": {
            "gridcolor": "white",
            "linecolor": "white",
            "ticks": ""
           }
          },
          "title": {
           "x": 0.05
          },
          "xaxis": {
           "automargin": true,
           "gridcolor": "white",
           "linecolor": "white",
           "ticks": "",
           "title": {
            "standoff": 15
           },
           "zerolinecolor": "white",
           "zerolinewidth": 2
          },
          "yaxis": {
           "automargin": true,
           "gridcolor": "white",
           "linecolor": "white",
           "ticks": "",
           "title": {
            "standoff": 15
           },
           "zerolinecolor": "white",
           "zerolinewidth": 2
          }
         }
        },
        "title": {
         "font": {
          "color": "#4D5663"
         }
        },
        "xaxis": {
         "gridcolor": "#E1E5ED",
         "showgrid": true,
         "tickfont": {
          "color": "#4D5663"
         },
         "title": {
          "font": {
           "color": "#4D5663"
          },
          "text": ""
         },
         "zerolinecolor": "#E1E5ED"
        },
        "xaxis2": {
         "anchor": "y2",
         "gridcolor": "#E1E5ED",
         "showgrid": true,
         "showticklabels": false,
         "tickfont": {
          "color": "#4D5663"
         },
         "title": {
          "font": {
           "color": "#4D5663"
          },
          "text": ""
         },
         "zerolinecolor": "#E1E5ED"
        },
        "yaxis": {
         "domain": [
          0.3,
          1
         ],
         "gridcolor": "#E1E5ED",
         "showgrid": true,
         "tickfont": {
          "color": "#4D5663"
         },
         "title": {
          "font": {
           "color": "#4D5663"
          },
          "text": ""
         },
         "zerolinecolor": "#E1E5ED"
        },
        "yaxis2": {
         "domain": [
          0,
          0.25
         ],
         "gridcolor": "#E1E5ED",
         "showgrid": true,
         "tickfont": {
          "color": "#4D5663"
         },
         "title": {
          "font": {
           "color": "#4D5663"
          },
          "text": "Spread"
         },
         "zerolinecolor": "#E1E5ED"
        }
       }
      },
      "text/html": [
       "<div>                            <div id=\"8af18c26-cfae-4049-96af-3c015ede2d2d\" class=\"plotly-graph-div\" style=\"height:525px; width:100%;\"></div>            <script type=\"text/javascript\">                require([\"plotly\"], function(Plotly) {                    window.PLOTLYENV=window.PLOTLYENV || {};\n",
       "                    window.PLOTLYENV.BASE_URL='https://plot.ly';                                    if (document.getElementById(\"8af18c26-cfae-4049-96af-3c015ede2d2d\")) {                    Plotly.newPlot(                        \"8af18c26-cfae-4049-96af-3c015ede2d2d\",                        [{\"line\":{\"color\":\"rgba(255, 153, 51, 1.0)\",\"dash\":\"solid\",\"shape\":\"linear\",\"width\":1.3},\"mode\":\"lines\",\"name\":\"A\",\"text\":\"\",\"x\":[0,1,2,3,4,5,6,7,8,9,10,11,12,13,14,15,16,17,18,19,20,21,22,23,24,25,26,27,28,29,30,31,32,33,34,35,36,37,38,39,40,41,42,43,44,45,46,47,48,49,50,51,52,53,54,55,56,57,58,59,60,61,62,63,64,65,66,67,68,69,70,71,72,73,74,75,76,77,78,79,80,81,82,83,84,85,86,87,88,89,90,91,92,93,94,95,96,97,98,99],\"y\":[0.886481626762867,-0.3499620218114763,-1.585776582814845,0.6484898454257476,-1.9979968441142282,0.1201311235502911,-0.4148740926620486,0.48602098140719663,-0.4421915736894337,1.2418778460177193,0.10118778876868344,-0.3818017352390294,-1.0889405954178286,-1.0775398374986283,0.7176163433204604,0.33913004139571756,-0.4032606079303681,-0.3637756464595728,-1.4718184440680067,0.713886037258169,0.19269588171664376,0.23304829932510332,0.5709190035735119,-1.8433915506663612,0.8324219856241711,-1.0757550291979756,0.5077556723582699,-0.44413901106422243,-1.0086197778973143,-1.4028236947855495,0.7121967790439677,0.3204505587958397,0.4445431803849003,-0.7710464998332621,-0.32331670313769884,-0.37674258119090615,-0.4248675218977924,0.40764947955994546,-1.3078826247959392,1.0601288365287158,-0.07365209559188851,-0.15604718500861364,0.6942083782207596,1.6486670014904792,-0.7077253997726066,1.2800832468714303,-0.9465578355996911,-0.20620629379940864,-0.7963607240498749,-0.36078265872225806,1.2110561274705427,-0.1104525081824256,-0.6700042401655598,0.5569922218535346,0.3089864141526496,-0.2255228252683958,-0.2420062158747075,1.422815466914821,0.1503362119866953,-0.08743388513554257,-2.0349797681611563,0.8458105742183093,1.5407511255122293,0.029309506747405435,0.8584238640416992,0.9580984168929361,-0.9005130295018315,-0.013473286256282085,-0.8038220434152606,0.5661970188353798,-0.41924053958573,-0.29814007571196643,-0.03279477170129877,0.29650560309755564,-0.5463247852636246,-0.7671606914275885,1.0529157002903464,0.7838311671342689,1.9802407213895976,0.47847443413408924,1.0458971972595335,-1.2475785868909688,-0.8810956529233439,-1.6642079892521435,0.7756690712728784,-0.14000153305790228,-0.298192880456967,0.6070013657895164,0.9080645827077884,0.7257777964960853,-2.3168928477995996,-0.23743985166319456,-0.6036935396622959,-1.022352491479891,1.11444393383111,1.145304707468234,-3.250282066368351,1.5221237939575507,0.14200502104205395,0.38571662007639357],\"type\":\"scatter\"},{\"line\":{\"color\":\"rgba(55, 128, 191, 1.0)\",\"dash\":\"solid\",\"shape\":\"linear\",\"width\":1.3},\"mode\":\"lines\",\"name\":\"B\",\"text\":\"\",\"x\":[0,1,2,3,4,5,6,7,8,9,10,11,12,13,14,15,16,17,18,19,20,21,22,23,24,25,26,27,28,29,30,31,32,33,34,35,36,37,38,39,40,41,42,43,44,45,46,47,48,49,50,51,52,53,54,55,56,57,58,59,60,61,62,63,64,65,66,67,68,69,70,71,72,73,74,75,76,77,78,79,80,81,82,83,84,85,86,87,88,89,90,91,92,93,94,95,96,97,98,99],\"y\":[-0.46449043768408943,0.3523981764252299,-2.3568287709836473,2.390595577632367,-0.9711494279100952,-0.598162370267831,-0.3968615131465438,-1.4678698356334754,-0.28684894742407796,0.9208405274368389,0.9624893523587785,-0.4726705970974675,-0.6879754336784105,-1.3738071612856435,0.15306973430517098,1.39271128590778,1.4306641888922735,-1.7229685803087822,0.876023771464418,-0.6803902408216923,-0.5941052879566986,0.12043446146704843,-0.28515613992993033,-0.32609061091749375,0.47425472148627396,-1.2522126657446717,-0.3243536009422392,0.5049793346016036,-0.04176998943973294,0.40192394612822196,-0.28054043055164984,0.14883547195933453,-0.12105123038966474,1.0343349745490065,0.5991071166463736,0.567778493863068,0.3037646239706531,-1.3719041517480557,-0.4436317499417215,0.38529293294782807,0.18887020024921888,-0.44131088434181726,-1.345417457240369,0.1950054187256295,0.008516791334651708,-0.030138945389232976,-0.052181696931563104,-0.28531533414502924,-0.3837973447267495,-0.07335949970633836,-0.5016619524152183,-0.07377196799595183,1.314600491631252,-0.5755533402380913,1.04234687914125,-1.9884263599852992,-0.4546812851638831,-0.9135355999965279,0.1202491772493144,0.2982883545760662,1.1759196674481656,0.1765180905394663,-0.1393540853360605,-1.6912307557741173,0.6517544039399077,-0.11723751480317693,0.225761143742028,2.575309512971,-0.38535401952248977,0.12673017985596988,-0.07216106803459287,1.5616852752254324,-1.0467543733046534,0.8101267949195068,-0.42749849903243314,-0.11251204442772755,-1.1106289672153369,0.3332379125685002,1.0663205215842115,-1.9046403985666256,1.8284597174145687,-0.6975813374405788,0.46500534847745456,0.2676519512599508,-0.9130053337789412,-0.1662797376110315,0.8053195931493092,-1.3026754192540417,0.15700431317050292,-1.207547463863445,0.3039178415683296,1.994212832448182,-0.14322280376679514,-1.0562473515513469,-1.2639667192364323,-0.8634228472340293,1.4018232890368303,-1.6562191518856821,-0.21648483960705828,-0.05978220684500359],\"type\":\"scatter\"},{\"connectgaps\":false,\"fill\":\"tozeroy\",\"line\":{\"color\":\"green\",\"dash\":\"solid\",\"shape\":\"linear\",\"width\":0.5},\"mode\":\"lines\",\"name\":\"Spread\",\"showlegend\":false,\"x\":[0,1,2,3,4,5,6,7,8,9,10,11,12,13,14,15,16,17,18,19,20,21,22,23,24,25,26,27,28,29,30,31,32,33,34,35,36,37,38,39,40,41,42,43,44,45,46,47,48,49,50,51,52,53,54,55,56,57,58,59,60,61,62,63,64,65,66,67,68,69,70,71,72,73,74,75,76,77,78,79,80,81,82,83,84,85,86,87,88,89,90,91,92,93,94,95,96,97,98,99],\"xaxis\":\"x2\",\"y\":[1.3509720644469565,\"\",0.7710521881688024,\"\",\"\",0.7182934938181221,\"\",1.953890817040672,\"\",0.32103731858088047,\"\",0.09086886185843812,\"\",0.29626732378701526,0.5645466090152894,\"\",\"\",1.3591929338492095,\"\",1.3942762780798614,0.7868011696733423,0.11261383785805489,0.8560751435034422,\"\",0.3581672641378972,0.1764576365466961,0.8321092733005091,\"\",\"\",\"\",0.9927372095956175,0.1716150868365052,0.5655944107745651,\"\",\"\",\"\",\"\",1.7795536313080011,\"\",0.6748359035808877,\"\",0.2852636993332036,2.0396258354611287,1.4536615827648496,\"\",1.3102221922606632,\"\",0.07910904034562061,\"\",\"\",1.7127180798857609,\"\",\"\",1.132545562091626,\"\",1.7629035347169033,0.21267506928917562,2.336351066911349,0.030087034737380905,\"\",\"\",0.669292483678843,1.6801052108482897,1.7205402625215227,0.20666946010179155,1.075335931696113,\"\",\"\",\"\",0.43946683897940986,\"\",\"\",1.0139596016033545,\"\",\"\",\"\",2.1635446675056835,0.4505932545657687,0.9139201998053861,2.383114832700715,\"\",\"\",\"\",\"\",1.6886744050518196,0.02627820455312921,\"\",1.909676785043558,0.7510602695372856,1.9333252603595303,\"\",\"\",\"\",0.03389486007145592,2.3784106530675424,2.008727554702263,\"\",3.178342945843233,0.35848986064911226,0.44549882692139714],\"yaxis\":\"y2\",\"type\":\"scatter\"},{\"connectgaps\":false,\"fill\":\"tozeroy\",\"line\":{\"color\":\"red\",\"dash\":\"solid\",\"shape\":\"linear\",\"width\":0.5},\"mode\":\"lines\",\"name\":\"Spread\",\"showlegend\":false,\"x\":[0,1,2,3,4,5,6,7,8,9,10,11,12,13,14,15,16,17,18,19,20,21,22,23,24,25,26,27,28,29,30,31,32,33,34,35,36,37,38,39,40,41,42,43,44,45,46,47,48,49,50,51,52,53,54,55,56,57,58,59,60,61,62,63,64,65,66,67,68,69,70,71,72,73,74,75,76,77,78,79,80,81,82,83,84,85,86,87,88,89,90,91,92,93,94,95,96,97,98,99],\"xaxis\":\"x2\",\"y\":[\"\",-0.7023601982367063,\"\",-1.7421057322066194,-1.026847416204133,\"\",-0.018012579515504834,\"\",-0.15534262626535572,\"\",-0.8613015635900951,\"\",-0.4009651617394181,\"\",\"\",-1.0535812445120625,-1.8339247968226418,\"\",-2.347842215532425,\"\",\"\",\"\",\"\",-1.5173009397488675,\"\",\"\",\"\",-0.9491183456658261,-0.9668497884575813,-1.8047476409137715,\"\",\"\",\"\",-1.8053814743822687,-0.9224238197840724,-0.9445210750539741,-0.7286321458684455,\"\",-0.8642508748542177,\"\",-0.2625222958411074,\"\",\"\",\"\",-0.7162421911072583,\"\",-0.8943761386681279,\"\",-0.4125633793231254,-0.2874231590159197,\"\",-0.036680540186473765,-1.9846047317968116,\"\",-0.7333604649886004,\"\",\"\",\"\",\"\",-0.38572223971160874,-3.210899435609322,\"\",\"\",\"\",\"\",\"\",-1.1262741732438595,-2.5887827992272823,-0.4184680238927709,\"\",-0.3470794715511371,-1.859825350937399,\"\",-0.5136211918219511,-0.11882628623119146,-0.6546486469998609,\"\",\"\",\"\",\"\",-0.7825625201550352,-0.54999724945039,-1.3461010014007986,-1.9318599405120942,\"\",\"\",-1.1035124736062762,\"\",\"\",\"\",-2.620810689367929,-2.2316526841113764,-0.46047073589550075,\"\",\"\",\"\",-4.652105355405181,\"\",\"\",\"\"],\"yaxis\":\"y2\",\"type\":\"scatter\"}],                        {\"hovermode\":\"x\",\"legend\":{\"bgcolor\":\"#F5F6F9\",\"font\":{\"color\":\"#4D5663\"}},\"paper_bgcolor\":\"#F5F6F9\",\"plot_bgcolor\":\"#F5F6F9\",\"template\":{\"data\":{\"barpolar\":[{\"marker\":{\"line\":{\"color\":\"#E5ECF6\",\"width\":0.5},\"pattern\":{\"fillmode\":\"overlay\",\"size\":10,\"solidity\":0.2}},\"type\":\"barpolar\"}],\"bar\":[{\"error_x\":{\"color\":\"#2a3f5f\"},\"error_y\":{\"color\":\"#2a3f5f\"},\"marker\":{\"line\":{\"color\":\"#E5ECF6\",\"width\":0.5},\"pattern\":{\"fillmode\":\"overlay\",\"size\":10,\"solidity\":0.2}},\"type\":\"bar\"}],\"carpet\":[{\"aaxis\":{\"endlinecolor\":\"#2a3f5f\",\"gridcolor\":\"white\",\"linecolor\":\"white\",\"minorgridcolor\":\"white\",\"startlinecolor\":\"#2a3f5f\"},\"baxis\":{\"endlinecolor\":\"#2a3f5f\",\"gridcolor\":\"white\",\"linecolor\":\"white\",\"minorgridcolor\":\"white\",\"startlinecolor\":\"#2a3f5f\"},\"type\":\"carpet\"}],\"choropleth\":[{\"colorbar\":{\"outlinewidth\":0,\"ticks\":\"\"},\"type\":\"choropleth\"}],\"contourcarpet\":[{\"colorbar\":{\"outlinewidth\":0,\"ticks\":\"\"},\"type\":\"contourcarpet\"}],\"contour\":[{\"colorbar\":{\"outlinewidth\":0,\"ticks\":\"\"},\"colorscale\":[[0.0,\"#0d0887\"],[0.1111111111111111,\"#46039f\"],[0.2222222222222222,\"#7201a8\"],[0.3333333333333333,\"#9c179e\"],[0.4444444444444444,\"#bd3786\"],[0.5555555555555556,\"#d8576b\"],[0.6666666666666666,\"#ed7953\"],[0.7777777777777778,\"#fb9f3a\"],[0.8888888888888888,\"#fdca26\"],[1.0,\"#f0f921\"]],\"type\":\"contour\"}],\"heatmapgl\":[{\"colorbar\":{\"outlinewidth\":0,\"ticks\":\"\"},\"colorscale\":[[0.0,\"#0d0887\"],[0.1111111111111111,\"#46039f\"],[0.2222222222222222,\"#7201a8\"],[0.3333333333333333,\"#9c179e\"],[0.4444444444444444,\"#bd3786\"],[0.5555555555555556,\"#d8576b\"],[0.6666666666666666,\"#ed7953\"],[0.7777777777777778,\"#fb9f3a\"],[0.8888888888888888,\"#fdca26\"],[1.0,\"#f0f921\"]],\"type\":\"heatmapgl\"}],\"heatmap\":[{\"colorbar\":{\"outlinewidth\":0,\"ticks\":\"\"},\"colorscale\":[[0.0,\"#0d0887\"],[0.1111111111111111,\"#46039f\"],[0.2222222222222222,\"#7201a8\"],[0.3333333333333333,\"#9c179e\"],[0.4444444444444444,\"#bd3786\"],[0.5555555555555556,\"#d8576b\"],[0.6666666666666666,\"#ed7953\"],[0.7777777777777778,\"#fb9f3a\"],[0.8888888888888888,\"#fdca26\"],[1.0,\"#f0f921\"]],\"type\":\"heatmap\"}],\"histogram2dcontour\":[{\"colorbar\":{\"outlinewidth\":0,\"ticks\":\"\"},\"colorscale\":[[0.0,\"#0d0887\"],[0.1111111111111111,\"#46039f\"],[0.2222222222222222,\"#7201a8\"],[0.3333333333333333,\"#9c179e\"],[0.4444444444444444,\"#bd3786\"],[0.5555555555555556,\"#d8576b\"],[0.6666666666666666,\"#ed7953\"],[0.7777777777777778,\"#fb9f3a\"],[0.8888888888888888,\"#fdca26\"],[1.0,\"#f0f921\"]],\"type\":\"histogram2dcontour\"}],\"histogram2d\":[{\"colorbar\":{\"outlinewidth\":0,\"ticks\":\"\"},\"colorscale\":[[0.0,\"#0d0887\"],[0.1111111111111111,\"#46039f\"],[0.2222222222222222,\"#7201a8\"],[0.3333333333333333,\"#9c179e\"],[0.4444444444444444,\"#bd3786\"],[0.5555555555555556,\"#d8576b\"],[0.6666666666666666,\"#ed7953\"],[0.7777777777777778,\"#fb9f3a\"],[0.8888888888888888,\"#fdca26\"],[1.0,\"#f0f921\"]],\"type\":\"histogram2d\"}],\"histogram\":[{\"marker\":{\"pattern\":{\"fillmode\":\"overlay\",\"size\":10,\"solidity\":0.2}},\"type\":\"histogram\"}],\"mesh3d\":[{\"colorbar\":{\"outlinewidth\":0,\"ticks\":\"\"},\"type\":\"mesh3d\"}],\"parcoords\":[{\"line\":{\"colorbar\":{\"outlinewidth\":0,\"ticks\":\"\"}},\"type\":\"parcoords\"}],\"pie\":[{\"automargin\":true,\"type\":\"pie\"}],\"scatter3d\":[{\"line\":{\"colorbar\":{\"outlinewidth\":0,\"ticks\":\"\"}},\"marker\":{\"colorbar\":{\"outlinewidth\":0,\"ticks\":\"\"}},\"type\":\"scatter3d\"}],\"scattercarpet\":[{\"marker\":{\"colorbar\":{\"outlinewidth\":0,\"ticks\":\"\"}},\"type\":\"scattercarpet\"}],\"scattergeo\":[{\"marker\":{\"colorbar\":{\"outlinewidth\":0,\"ticks\":\"\"}},\"type\":\"scattergeo\"}],\"scattergl\":[{\"marker\":{\"colorbar\":{\"outlinewidth\":0,\"ticks\":\"\"}},\"type\":\"scattergl\"}],\"scattermapbox\":[{\"marker\":{\"colorbar\":{\"outlinewidth\":0,\"ticks\":\"\"}},\"type\":\"scattermapbox\"}],\"scatterpolargl\":[{\"marker\":{\"colorbar\":{\"outlinewidth\":0,\"ticks\":\"\"}},\"type\":\"scatterpolargl\"}],\"scatterpolar\":[{\"marker\":{\"colorbar\":{\"outlinewidth\":0,\"ticks\":\"\"}},\"type\":\"scatterpolar\"}],\"scatter\":[{\"marker\":{\"colorbar\":{\"outlinewidth\":0,\"ticks\":\"\"}},\"type\":\"scatter\"}],\"scatterternary\":[{\"marker\":{\"colorbar\":{\"outlinewidth\":0,\"ticks\":\"\"}},\"type\":\"scatterternary\"}],\"surface\":[{\"colorbar\":{\"outlinewidth\":0,\"ticks\":\"\"},\"colorscale\":[[0.0,\"#0d0887\"],[0.1111111111111111,\"#46039f\"],[0.2222222222222222,\"#7201a8\"],[0.3333333333333333,\"#9c179e\"],[0.4444444444444444,\"#bd3786\"],[0.5555555555555556,\"#d8576b\"],[0.6666666666666666,\"#ed7953\"],[0.7777777777777778,\"#fb9f3a\"],[0.8888888888888888,\"#fdca26\"],[1.0,\"#f0f921\"]],\"type\":\"surface\"}],\"table\":[{\"cells\":{\"fill\":{\"color\":\"#EBF0F8\"},\"line\":{\"color\":\"white\"}},\"header\":{\"fill\":{\"color\":\"#C8D4E3\"},\"line\":{\"color\":\"white\"}},\"type\":\"table\"}]},\"layout\":{\"annotationdefaults\":{\"arrowcolor\":\"#2a3f5f\",\"arrowhead\":0,\"arrowwidth\":1},\"autotypenumbers\":\"strict\",\"coloraxis\":{\"colorbar\":{\"outlinewidth\":0,\"ticks\":\"\"}},\"colorscale\":{\"diverging\":[[0,\"#8e0152\"],[0.1,\"#c51b7d\"],[0.2,\"#de77ae\"],[0.3,\"#f1b6da\"],[0.4,\"#fde0ef\"],[0.5,\"#f7f7f7\"],[0.6,\"#e6f5d0\"],[0.7,\"#b8e186\"],[0.8,\"#7fbc41\"],[0.9,\"#4d9221\"],[1,\"#276419\"]],\"sequential\":[[0.0,\"#0d0887\"],[0.1111111111111111,\"#46039f\"],[0.2222222222222222,\"#7201a8\"],[0.3333333333333333,\"#9c179e\"],[0.4444444444444444,\"#bd3786\"],[0.5555555555555556,\"#d8576b\"],[0.6666666666666666,\"#ed7953\"],[0.7777777777777778,\"#fb9f3a\"],[0.8888888888888888,\"#fdca26\"],[1.0,\"#f0f921\"]],\"sequentialminus\":[[0.0,\"#0d0887\"],[0.1111111111111111,\"#46039f\"],[0.2222222222222222,\"#7201a8\"],[0.3333333333333333,\"#9c179e\"],[0.4444444444444444,\"#bd3786\"],[0.5555555555555556,\"#d8576b\"],[0.6666666666666666,\"#ed7953\"],[0.7777777777777778,\"#fb9f3a\"],[0.8888888888888888,\"#fdca26\"],[1.0,\"#f0f921\"]]},\"colorway\":[\"#636efa\",\"#EF553B\",\"#00cc96\",\"#ab63fa\",\"#FFA15A\",\"#19d3f3\",\"#FF6692\",\"#B6E880\",\"#FF97FF\",\"#FECB52\"],\"font\":{\"color\":\"#2a3f5f\"},\"geo\":{\"bgcolor\":\"white\",\"lakecolor\":\"white\",\"landcolor\":\"#E5ECF6\",\"showlakes\":true,\"showland\":true,\"subunitcolor\":\"white\"},\"hoverlabel\":{\"align\":\"left\"},\"hovermode\":\"closest\",\"mapbox\":{\"style\":\"light\"},\"paper_bgcolor\":\"white\",\"plot_bgcolor\":\"#E5ECF6\",\"polar\":{\"angularaxis\":{\"gridcolor\":\"white\",\"linecolor\":\"white\",\"ticks\":\"\"},\"bgcolor\":\"#E5ECF6\",\"radialaxis\":{\"gridcolor\":\"white\",\"linecolor\":\"white\",\"ticks\":\"\"}},\"scene\":{\"xaxis\":{\"backgroundcolor\":\"#E5ECF6\",\"gridcolor\":\"white\",\"gridwidth\":2,\"linecolor\":\"white\",\"showbackground\":true,\"ticks\":\"\",\"zerolinecolor\":\"white\"},\"yaxis\":{\"backgroundcolor\":\"#E5ECF6\",\"gridcolor\":\"white\",\"gridwidth\":2,\"linecolor\":\"white\",\"showbackground\":true,\"ticks\":\"\",\"zerolinecolor\":\"white\"},\"zaxis\":{\"backgroundcolor\":\"#E5ECF6\",\"gridcolor\":\"white\",\"gridwidth\":2,\"linecolor\":\"white\",\"showbackground\":true,\"ticks\":\"\",\"zerolinecolor\":\"white\"}},\"shapedefaults\":{\"line\":{\"color\":\"#2a3f5f\"}},\"ternary\":{\"aaxis\":{\"gridcolor\":\"white\",\"linecolor\":\"white\",\"ticks\":\"\"},\"baxis\":{\"gridcolor\":\"white\",\"linecolor\":\"white\",\"ticks\":\"\"},\"bgcolor\":\"#E5ECF6\",\"caxis\":{\"gridcolor\":\"white\",\"linecolor\":\"white\",\"ticks\":\"\"}},\"title\":{\"x\":0.05},\"xaxis\":{\"automargin\":true,\"gridcolor\":\"white\",\"linecolor\":\"white\",\"ticks\":\"\",\"title\":{\"standoff\":15},\"zerolinecolor\":\"white\",\"zerolinewidth\":2},\"yaxis\":{\"automargin\":true,\"gridcolor\":\"white\",\"linecolor\":\"white\",\"ticks\":\"\",\"title\":{\"standoff\":15},\"zerolinecolor\":\"white\",\"zerolinewidth\":2}}},\"title\":{\"font\":{\"color\":\"#4D5663\"}},\"xaxis\":{\"gridcolor\":\"#E1E5ED\",\"showgrid\":true,\"tickfont\":{\"color\":\"#4D5663\"},\"title\":{\"font\":{\"color\":\"#4D5663\"},\"text\":\"\"},\"zerolinecolor\":\"#E1E5ED\"},\"yaxis\":{\"domain\":[0.3,1],\"gridcolor\":\"#E1E5ED\",\"showgrid\":true,\"tickfont\":{\"color\":\"#4D5663\"},\"title\":{\"font\":{\"color\":\"#4D5663\"},\"text\":\"\"},\"zerolinecolor\":\"#E1E5ED\"},\"yaxis2\":{\"domain\":[0,0.25],\"gridcolor\":\"#E1E5ED\",\"showgrid\":true,\"tickfont\":{\"color\":\"#4D5663\"},\"title\":{\"font\":{\"color\":\"#4D5663\"},\"text\":\"Spread\"},\"zerolinecolor\":\"#E1E5ED\"},\"xaxis2\":{\"anchor\":\"y2\",\"gridcolor\":\"#E1E5ED\",\"showgrid\":true,\"showticklabels\":false,\"tickfont\":{\"color\":\"#4D5663\"},\"title\":{\"font\":{\"color\":\"#4D5663\"},\"text\":\"\"},\"zerolinecolor\":\"#E1E5ED\"}},                        {\"showLink\": true, \"linkText\": \"Export to plot.ly\", \"plotlyServerURL\": \"https://plot.ly\", \"responsive\": true}                    ).then(function(){\n",
       "                            \n",
       "var gd = document.getElementById('8af18c26-cfae-4049-96af-3c015ede2d2d');\n",
       "var x = new MutationObserver(function (mutations, observer) {{\n",
       "        var display = window.getComputedStyle(gd).display;\n",
       "        if (!display || display === 'none') {{\n",
       "            console.log([gd, 'removed!']);\n",
       "            Plotly.purge(gd);\n",
       "            observer.disconnect();\n",
       "        }}\n",
       "}});\n",
       "\n",
       "// Listen for the removal of the full notebook cells\n",
       "var notebookContainer = gd.closest('#notebook-container');\n",
       "if (notebookContainer) {{\n",
       "    x.observe(notebookContainer, {childList: true});\n",
       "}}\n",
       "\n",
       "// Listen for the clearing of the current output cell\n",
       "var outputEl = gd.closest('.output');\n",
       "if (outputEl) {{\n",
       "    x.observe(outputEl, {childList: true});\n",
       "}}\n",
       "\n",
       "                        })                };                });            </script>        </div>"
      ]
     },
     "metadata": {},
     "output_type": "display_data"
    }
   ],
   "source": [
    "df[['A', 'B']].iplot(kind='spread')"
   ]
  },
  {
   "cell_type": "code",
   "execution_count": 28,
   "metadata": {},
   "outputs": [
    {
     "data": {
      "application/vnd.plotly.v1+json": {
       "config": {
        "linkText": "Export to plot.ly",
        "plotlyServerURL": "https://plot.ly",
        "showLink": true
       },
       "data": [
        {
         "marker": {
          "color": [
           "rgb(255, 153, 51)",
           "rgb(55, 128, 191)",
           "rgb(50, 171, 96)",
           "rgb(128, 0, 128)",
           "rgb(219, 64, 82)",
           "rgb(0, 128, 128)",
           "rgb(255, 255, 51)",
           "rgb(128, 128, 0)",
           "rgb(251, 128, 114)",
           "rgb(128, 177, 211)"
          ],
          "line": {
           "width": 1.3
          },
          "size": [
           75,
           67,
           74,
           66,
           67,
           112,
           67,
           61,
           57,
           59,
           69,
           59,
           64,
           68,
           59,
           48,
           47,
           52,
           73,
           63,
           40,
           70,
           65,
           47,
           14,
           66,
           60,
           62,
           76,
           45,
           65,
           69,
           29,
           61,
           48,
           58,
           51,
           69,
           49,
           12,
           48,
           61,
           55,
           52,
           89,
           73,
           70,
           40,
           77,
           51,
           60,
           82,
           58,
           71,
           109,
           87,
           62,
           88,
           74,
           63,
           72,
           78,
           71,
           58,
           65,
           44,
           72,
           83,
           55,
           69,
           26,
           70,
           77,
           56,
           54,
           68,
           41,
           78,
           16,
           45,
           59,
           97,
           95,
           73,
           35,
           60,
           36,
           70,
           66,
           88,
           56,
           92,
           40,
           76,
           45,
           56,
           78,
           58,
           74,
           92
          ],
          "symbol": "circle"
         },
         "mode": "markers",
         "text": "",
         "type": "scatter",
         "x": [
          0.886481626762867,
          -0.3499620218114763,
          -1.585776582814845,
          0.6484898454257476,
          -1.9979968441142282,
          0.1201311235502911,
          -0.4148740926620486,
          0.48602098140719663,
          -0.4421915736894337,
          1.2418778460177193,
          0.10118778876868344,
          -0.3818017352390294,
          -1.0889405954178286,
          -1.0775398374986283,
          0.7176163433204604,
          0.33913004139571756,
          -0.4032606079303681,
          -0.3637756464595728,
          -1.4718184440680067,
          0.713886037258169,
          0.19269588171664376,
          0.23304829932510332,
          0.5709190035735119,
          -1.8433915506663612,
          0.8324219856241711,
          -1.0757550291979756,
          0.5077556723582699,
          -0.44413901106422243,
          -1.0086197778973143,
          -1.4028236947855495,
          0.7121967790439677,
          0.3204505587958397,
          0.4445431803849003,
          -0.7710464998332621,
          -0.32331670313769884,
          -0.37674258119090615,
          -0.4248675218977924,
          0.40764947955994546,
          -1.3078826247959392,
          1.0601288365287158,
          -0.07365209559188851,
          -0.15604718500861364,
          0.6942083782207596,
          1.6486670014904792,
          -0.7077253997726066,
          1.2800832468714303,
          -0.9465578355996911,
          -0.20620629379940864,
          -0.7963607240498749,
          -0.36078265872225806,
          1.2110561274705427,
          -0.1104525081824256,
          -0.6700042401655598,
          0.5569922218535346,
          0.3089864141526496,
          -0.2255228252683958,
          -0.2420062158747075,
          1.422815466914821,
          0.1503362119866953,
          -0.08743388513554257,
          -2.0349797681611563,
          0.8458105742183093,
          1.5407511255122293,
          0.029309506747405435,
          0.8584238640416992,
          0.9580984168929361,
          -0.9005130295018315,
          -0.013473286256282085,
          -0.8038220434152606,
          0.5661970188353798,
          -0.41924053958573,
          -0.29814007571196643,
          -0.03279477170129877,
          0.29650560309755564,
          -0.5463247852636246,
          -0.7671606914275885,
          1.0529157002903464,
          0.7838311671342689,
          1.9802407213895976,
          0.47847443413408924,
          1.0458971972595335,
          -1.2475785868909688,
          -0.8810956529233439,
          -1.6642079892521435,
          0.7756690712728784,
          -0.14000153305790228,
          -0.298192880456967,
          0.6070013657895164,
          0.9080645827077884,
          0.7257777964960853,
          -2.3168928477995996,
          -0.23743985166319456,
          -0.6036935396622959,
          -1.022352491479891,
          1.11444393383111,
          1.145304707468234,
          -3.250282066368351,
          1.5221237939575507,
          0.14200502104205395,
          0.38571662007639357
         ],
         "y": [
          -0.46449043768408943,
          0.3523981764252299,
          -2.3568287709836473,
          2.390595577632367,
          -0.9711494279100952,
          -0.598162370267831,
          -0.3968615131465438,
          -1.4678698356334754,
          -0.28684894742407796,
          0.9208405274368389,
          0.9624893523587785,
          -0.4726705970974675,
          -0.6879754336784105,
          -1.3738071612856435,
          0.15306973430517098,
          1.39271128590778,
          1.4306641888922735,
          -1.7229685803087822,
          0.876023771464418,
          -0.6803902408216923,
          -0.5941052879566986,
          0.12043446146704843,
          -0.28515613992993033,
          -0.32609061091749375,
          0.47425472148627396,
          -1.2522126657446717,
          -0.3243536009422392,
          0.5049793346016036,
          -0.04176998943973294,
          0.40192394612822196,
          -0.28054043055164984,
          0.14883547195933453,
          -0.12105123038966474,
          1.0343349745490065,
          0.5991071166463736,
          0.567778493863068,
          0.3037646239706531,
          -1.3719041517480557,
          -0.4436317499417215,
          0.38529293294782807,
          0.18887020024921888,
          -0.44131088434181726,
          -1.345417457240369,
          0.1950054187256295,
          0.008516791334651708,
          -0.030138945389232976,
          -0.052181696931563104,
          -0.28531533414502924,
          -0.3837973447267495,
          -0.07335949970633836,
          -0.5016619524152183,
          -0.07377196799595183,
          1.314600491631252,
          -0.5755533402380913,
          1.04234687914125,
          -1.9884263599852992,
          -0.4546812851638831,
          -0.9135355999965279,
          0.1202491772493144,
          0.2982883545760662,
          1.1759196674481656,
          0.1765180905394663,
          -0.1393540853360605,
          -1.6912307557741173,
          0.6517544039399077,
          -0.11723751480317693,
          0.225761143742028,
          2.575309512971,
          -0.38535401952248977,
          0.12673017985596988,
          -0.07216106803459287,
          1.5616852752254324,
          -1.0467543733046534,
          0.8101267949195068,
          -0.42749849903243314,
          -0.11251204442772755,
          -1.1106289672153369,
          0.3332379125685002,
          1.0663205215842115,
          -1.9046403985666256,
          1.8284597174145687,
          -0.6975813374405788,
          0.46500534847745456,
          0.2676519512599508,
          -0.9130053337789412,
          -0.1662797376110315,
          0.8053195931493092,
          -1.3026754192540417,
          0.15700431317050292,
          -1.207547463863445,
          0.3039178415683296,
          1.994212832448182,
          -0.14322280376679514,
          -1.0562473515513469,
          -1.2639667192364323,
          -0.8634228472340293,
          1.4018232890368303,
          -1.6562191518856821,
          -0.21648483960705828,
          -0.05978220684500359
         ]
        }
       ],
       "layout": {
        "legend": {
         "bgcolor": "#F5F6F9",
         "font": {
          "color": "#4D5663"
         }
        },
        "paper_bgcolor": "#F5F6F9",
        "plot_bgcolor": "#F5F6F9",
        "template": {
         "data": {
          "bar": [
           {
            "error_x": {
             "color": "#2a3f5f"
            },
            "error_y": {
             "color": "#2a3f5f"
            },
            "marker": {
             "line": {
              "color": "#E5ECF6",
              "width": 0.5
             },
             "pattern": {
              "fillmode": "overlay",
              "size": 10,
              "solidity": 0.2
             }
            },
            "type": "bar"
           }
          ],
          "barpolar": [
           {
            "marker": {
             "line": {
              "color": "#E5ECF6",
              "width": 0.5
             },
             "pattern": {
              "fillmode": "overlay",
              "size": 10,
              "solidity": 0.2
             }
            },
            "type": "barpolar"
           }
          ],
          "carpet": [
           {
            "aaxis": {
             "endlinecolor": "#2a3f5f",
             "gridcolor": "white",
             "linecolor": "white",
             "minorgridcolor": "white",
             "startlinecolor": "#2a3f5f"
            },
            "baxis": {
             "endlinecolor": "#2a3f5f",
             "gridcolor": "white",
             "linecolor": "white",
             "minorgridcolor": "white",
             "startlinecolor": "#2a3f5f"
            },
            "type": "carpet"
           }
          ],
          "choropleth": [
           {
            "colorbar": {
             "outlinewidth": 0,
             "ticks": ""
            },
            "type": "choropleth"
           }
          ],
          "contour": [
           {
            "colorbar": {
             "outlinewidth": 0,
             "ticks": ""
            },
            "colorscale": [
             [
              0,
              "#0d0887"
             ],
             [
              0.1111111111111111,
              "#46039f"
             ],
             [
              0.2222222222222222,
              "#7201a8"
             ],
             [
              0.3333333333333333,
              "#9c179e"
             ],
             [
              0.4444444444444444,
              "#bd3786"
             ],
             [
              0.5555555555555556,
              "#d8576b"
             ],
             [
              0.6666666666666666,
              "#ed7953"
             ],
             [
              0.7777777777777778,
              "#fb9f3a"
             ],
             [
              0.8888888888888888,
              "#fdca26"
             ],
             [
              1,
              "#f0f921"
             ]
            ],
            "type": "contour"
           }
          ],
          "contourcarpet": [
           {
            "colorbar": {
             "outlinewidth": 0,
             "ticks": ""
            },
            "type": "contourcarpet"
           }
          ],
          "heatmap": [
           {
            "colorbar": {
             "outlinewidth": 0,
             "ticks": ""
            },
            "colorscale": [
             [
              0,
              "#0d0887"
             ],
             [
              0.1111111111111111,
              "#46039f"
             ],
             [
              0.2222222222222222,
              "#7201a8"
             ],
             [
              0.3333333333333333,
              "#9c179e"
             ],
             [
              0.4444444444444444,
              "#bd3786"
             ],
             [
              0.5555555555555556,
              "#d8576b"
             ],
             [
              0.6666666666666666,
              "#ed7953"
             ],
             [
              0.7777777777777778,
              "#fb9f3a"
             ],
             [
              0.8888888888888888,
              "#fdca26"
             ],
             [
              1,
              "#f0f921"
             ]
            ],
            "type": "heatmap"
           }
          ],
          "heatmapgl": [
           {
            "colorbar": {
             "outlinewidth": 0,
             "ticks": ""
            },
            "colorscale": [
             [
              0,
              "#0d0887"
             ],
             [
              0.1111111111111111,
              "#46039f"
             ],
             [
              0.2222222222222222,
              "#7201a8"
             ],
             [
              0.3333333333333333,
              "#9c179e"
             ],
             [
              0.4444444444444444,
              "#bd3786"
             ],
             [
              0.5555555555555556,
              "#d8576b"
             ],
             [
              0.6666666666666666,
              "#ed7953"
             ],
             [
              0.7777777777777778,
              "#fb9f3a"
             ],
             [
              0.8888888888888888,
              "#fdca26"
             ],
             [
              1,
              "#f0f921"
             ]
            ],
            "type": "heatmapgl"
           }
          ],
          "histogram": [
           {
            "marker": {
             "pattern": {
              "fillmode": "overlay",
              "size": 10,
              "solidity": 0.2
             }
            },
            "type": "histogram"
           }
          ],
          "histogram2d": [
           {
            "colorbar": {
             "outlinewidth": 0,
             "ticks": ""
            },
            "colorscale": [
             [
              0,
              "#0d0887"
             ],
             [
              0.1111111111111111,
              "#46039f"
             ],
             [
              0.2222222222222222,
              "#7201a8"
             ],
             [
              0.3333333333333333,
              "#9c179e"
             ],
             [
              0.4444444444444444,
              "#bd3786"
             ],
             [
              0.5555555555555556,
              "#d8576b"
             ],
             [
              0.6666666666666666,
              "#ed7953"
             ],
             [
              0.7777777777777778,
              "#fb9f3a"
             ],
             [
              0.8888888888888888,
              "#fdca26"
             ],
             [
              1,
              "#f0f921"
             ]
            ],
            "type": "histogram2d"
           }
          ],
          "histogram2dcontour": [
           {
            "colorbar": {
             "outlinewidth": 0,
             "ticks": ""
            },
            "colorscale": [
             [
              0,
              "#0d0887"
             ],
             [
              0.1111111111111111,
              "#46039f"
             ],
             [
              0.2222222222222222,
              "#7201a8"
             ],
             [
              0.3333333333333333,
              "#9c179e"
             ],
             [
              0.4444444444444444,
              "#bd3786"
             ],
             [
              0.5555555555555556,
              "#d8576b"
             ],
             [
              0.6666666666666666,
              "#ed7953"
             ],
             [
              0.7777777777777778,
              "#fb9f3a"
             ],
             [
              0.8888888888888888,
              "#fdca26"
             ],
             [
              1,
              "#f0f921"
             ]
            ],
            "type": "histogram2dcontour"
           }
          ],
          "mesh3d": [
           {
            "colorbar": {
             "outlinewidth": 0,
             "ticks": ""
            },
            "type": "mesh3d"
           }
          ],
          "parcoords": [
           {
            "line": {
             "colorbar": {
              "outlinewidth": 0,
              "ticks": ""
             }
            },
            "type": "parcoords"
           }
          ],
          "pie": [
           {
            "automargin": true,
            "type": "pie"
           }
          ],
          "scatter": [
           {
            "marker": {
             "colorbar": {
              "outlinewidth": 0,
              "ticks": ""
             }
            },
            "type": "scatter"
           }
          ],
          "scatter3d": [
           {
            "line": {
             "colorbar": {
              "outlinewidth": 0,
              "ticks": ""
             }
            },
            "marker": {
             "colorbar": {
              "outlinewidth": 0,
              "ticks": ""
             }
            },
            "type": "scatter3d"
           }
          ],
          "scattercarpet": [
           {
            "marker": {
             "colorbar": {
              "outlinewidth": 0,
              "ticks": ""
             }
            },
            "type": "scattercarpet"
           }
          ],
          "scattergeo": [
           {
            "marker": {
             "colorbar": {
              "outlinewidth": 0,
              "ticks": ""
             }
            },
            "type": "scattergeo"
           }
          ],
          "scattergl": [
           {
            "marker": {
             "colorbar": {
              "outlinewidth": 0,
              "ticks": ""
             }
            },
            "type": "scattergl"
           }
          ],
          "scattermapbox": [
           {
            "marker": {
             "colorbar": {
              "outlinewidth": 0,
              "ticks": ""
             }
            },
            "type": "scattermapbox"
           }
          ],
          "scatterpolar": [
           {
            "marker": {
             "colorbar": {
              "outlinewidth": 0,
              "ticks": ""
             }
            },
            "type": "scatterpolar"
           }
          ],
          "scatterpolargl": [
           {
            "marker": {
             "colorbar": {
              "outlinewidth": 0,
              "ticks": ""
             }
            },
            "type": "scatterpolargl"
           }
          ],
          "scatterternary": [
           {
            "marker": {
             "colorbar": {
              "outlinewidth": 0,
              "ticks": ""
             }
            },
            "type": "scatterternary"
           }
          ],
          "surface": [
           {
            "colorbar": {
             "outlinewidth": 0,
             "ticks": ""
            },
            "colorscale": [
             [
              0,
              "#0d0887"
             ],
             [
              0.1111111111111111,
              "#46039f"
             ],
             [
              0.2222222222222222,
              "#7201a8"
             ],
             [
              0.3333333333333333,
              "#9c179e"
             ],
             [
              0.4444444444444444,
              "#bd3786"
             ],
             [
              0.5555555555555556,
              "#d8576b"
             ],
             [
              0.6666666666666666,
              "#ed7953"
             ],
             [
              0.7777777777777778,
              "#fb9f3a"
             ],
             [
              0.8888888888888888,
              "#fdca26"
             ],
             [
              1,
              "#f0f921"
             ]
            ],
            "type": "surface"
           }
          ],
          "table": [
           {
            "cells": {
             "fill": {
              "color": "#EBF0F8"
             },
             "line": {
              "color": "white"
             }
            },
            "header": {
             "fill": {
              "color": "#C8D4E3"
             },
             "line": {
              "color": "white"
             }
            },
            "type": "table"
           }
          ]
         },
         "layout": {
          "annotationdefaults": {
           "arrowcolor": "#2a3f5f",
           "arrowhead": 0,
           "arrowwidth": 1
          },
          "autotypenumbers": "strict",
          "coloraxis": {
           "colorbar": {
            "outlinewidth": 0,
            "ticks": ""
           }
          },
          "colorscale": {
           "diverging": [
            [
             0,
             "#8e0152"
            ],
            [
             0.1,
             "#c51b7d"
            ],
            [
             0.2,
             "#de77ae"
            ],
            [
             0.3,
             "#f1b6da"
            ],
            [
             0.4,
             "#fde0ef"
            ],
            [
             0.5,
             "#f7f7f7"
            ],
            [
             0.6,
             "#e6f5d0"
            ],
            [
             0.7,
             "#b8e186"
            ],
            [
             0.8,
             "#7fbc41"
            ],
            [
             0.9,
             "#4d9221"
            ],
            [
             1,
             "#276419"
            ]
           ],
           "sequential": [
            [
             0,
             "#0d0887"
            ],
            [
             0.1111111111111111,
             "#46039f"
            ],
            [
             0.2222222222222222,
             "#7201a8"
            ],
            [
             0.3333333333333333,
             "#9c179e"
            ],
            [
             0.4444444444444444,
             "#bd3786"
            ],
            [
             0.5555555555555556,
             "#d8576b"
            ],
            [
             0.6666666666666666,
             "#ed7953"
            ],
            [
             0.7777777777777778,
             "#fb9f3a"
            ],
            [
             0.8888888888888888,
             "#fdca26"
            ],
            [
             1,
             "#f0f921"
            ]
           ],
           "sequentialminus": [
            [
             0,
             "#0d0887"
            ],
            [
             0.1111111111111111,
             "#46039f"
            ],
            [
             0.2222222222222222,
             "#7201a8"
            ],
            [
             0.3333333333333333,
             "#9c179e"
            ],
            [
             0.4444444444444444,
             "#bd3786"
            ],
            [
             0.5555555555555556,
             "#d8576b"
            ],
            [
             0.6666666666666666,
             "#ed7953"
            ],
            [
             0.7777777777777778,
             "#fb9f3a"
            ],
            [
             0.8888888888888888,
             "#fdca26"
            ],
            [
             1,
             "#f0f921"
            ]
           ]
          },
          "colorway": [
           "#636efa",
           "#EF553B",
           "#00cc96",
           "#ab63fa",
           "#FFA15A",
           "#19d3f3",
           "#FF6692",
           "#B6E880",
           "#FF97FF",
           "#FECB52"
          ],
          "font": {
           "color": "#2a3f5f"
          },
          "geo": {
           "bgcolor": "white",
           "lakecolor": "white",
           "landcolor": "#E5ECF6",
           "showlakes": true,
           "showland": true,
           "subunitcolor": "white"
          },
          "hoverlabel": {
           "align": "left"
          },
          "hovermode": "closest",
          "mapbox": {
           "style": "light"
          },
          "paper_bgcolor": "white",
          "plot_bgcolor": "#E5ECF6",
          "polar": {
           "angularaxis": {
            "gridcolor": "white",
            "linecolor": "white",
            "ticks": ""
           },
           "bgcolor": "#E5ECF6",
           "radialaxis": {
            "gridcolor": "white",
            "linecolor": "white",
            "ticks": ""
           }
          },
          "scene": {
           "xaxis": {
            "backgroundcolor": "#E5ECF6",
            "gridcolor": "white",
            "gridwidth": 2,
            "linecolor": "white",
            "showbackground": true,
            "ticks": "",
            "zerolinecolor": "white"
           },
           "yaxis": {
            "backgroundcolor": "#E5ECF6",
            "gridcolor": "white",
            "gridwidth": 2,
            "linecolor": "white",
            "showbackground": true,
            "ticks": "",
            "zerolinecolor": "white"
           },
           "zaxis": {
            "backgroundcolor": "#E5ECF6",
            "gridcolor": "white",
            "gridwidth": 2,
            "linecolor": "white",
            "showbackground": true,
            "ticks": "",
            "zerolinecolor": "white"
           }
          },
          "shapedefaults": {
           "line": {
            "color": "#2a3f5f"
           }
          },
          "ternary": {
           "aaxis": {
            "gridcolor": "white",
            "linecolor": "white",
            "ticks": ""
           },
           "baxis": {
            "gridcolor": "white",
            "linecolor": "white",
            "ticks": ""
           },
           "bgcolor": "#E5ECF6",
           "caxis": {
            "gridcolor": "white",
            "linecolor": "white",
            "ticks": ""
           }
          },
          "title": {
           "x": 0.05
          },
          "xaxis": {
           "automargin": true,
           "gridcolor": "white",
           "linecolor": "white",
           "ticks": "",
           "title": {
            "standoff": 15
           },
           "zerolinecolor": "white",
           "zerolinewidth": 2
          },
          "yaxis": {
           "automargin": true,
           "gridcolor": "white",
           "linecolor": "white",
           "ticks": "",
           "title": {
            "standoff": 15
           },
           "zerolinecolor": "white",
           "zerolinewidth": 2
          }
         }
        },
        "title": {
         "font": {
          "color": "#4D5663"
         }
        },
        "xaxis": {
         "gridcolor": "#E1E5ED",
         "showgrid": true,
         "tickfont": {
          "color": "#4D5663"
         },
         "title": {
          "font": {
           "color": "#4D5663"
          },
          "text": ""
         },
         "zerolinecolor": "#E1E5ED"
        },
        "yaxis": {
         "gridcolor": "#E1E5ED",
         "showgrid": true,
         "tickfont": {
          "color": "#4D5663"
         },
         "title": {
          "font": {
           "color": "#4D5663"
          },
          "text": ""
         },
         "zerolinecolor": "#E1E5ED"
        }
       }
      },
      "text/html": [
       "<div>                            <div id=\"235e54ab-bad3-4847-85ba-0459901218ac\" class=\"plotly-graph-div\" style=\"height:525px; width:100%;\"></div>            <script type=\"text/javascript\">                require([\"plotly\"], function(Plotly) {                    window.PLOTLYENV=window.PLOTLYENV || {};\n",
       "                    window.PLOTLYENV.BASE_URL='https://plot.ly';                                    if (document.getElementById(\"235e54ab-bad3-4847-85ba-0459901218ac\")) {                    Plotly.newPlot(                        \"235e54ab-bad3-4847-85ba-0459901218ac\",                        [{\"marker\":{\"color\":[\"rgb(255, 153, 51)\",\"rgb(55, 128, 191)\",\"rgb(50, 171, 96)\",\"rgb(128, 0, 128)\",\"rgb(219, 64, 82)\",\"rgb(0, 128, 128)\",\"rgb(255, 255, 51)\",\"rgb(128, 128, 0)\",\"rgb(251, 128, 114)\",\"rgb(128, 177, 211)\"],\"line\":{\"width\":1.3},\"size\":[75,67,74,66,67,112,67,61,57,59,69,59,64,68,59,48,47,52,73,63,40,70,65,47,14,66,60,62,76,45,65,69,29,61,48,58,51,69,49,12,48,61,55,52,89,73,70,40,77,51,60,82,58,71,109,87,62,88,74,63,72,78,71,58,65,44,72,83,55,69,26,70,77,56,54,68,41,78,16,45,59,97,95,73,35,60,36,70,66,88,56,92,40,76,45,56,78,58,74,92],\"symbol\":\"circle\"},\"mode\":\"markers\",\"text\":\"\",\"x\":[0.886481626762867,-0.3499620218114763,-1.585776582814845,0.6484898454257476,-1.9979968441142282,0.1201311235502911,-0.4148740926620486,0.48602098140719663,-0.4421915736894337,1.2418778460177193,0.10118778876868344,-0.3818017352390294,-1.0889405954178286,-1.0775398374986283,0.7176163433204604,0.33913004139571756,-0.4032606079303681,-0.3637756464595728,-1.4718184440680067,0.713886037258169,0.19269588171664376,0.23304829932510332,0.5709190035735119,-1.8433915506663612,0.8324219856241711,-1.0757550291979756,0.5077556723582699,-0.44413901106422243,-1.0086197778973143,-1.4028236947855495,0.7121967790439677,0.3204505587958397,0.4445431803849003,-0.7710464998332621,-0.32331670313769884,-0.37674258119090615,-0.4248675218977924,0.40764947955994546,-1.3078826247959392,1.0601288365287158,-0.07365209559188851,-0.15604718500861364,0.6942083782207596,1.6486670014904792,-0.7077253997726066,1.2800832468714303,-0.9465578355996911,-0.20620629379940864,-0.7963607240498749,-0.36078265872225806,1.2110561274705427,-0.1104525081824256,-0.6700042401655598,0.5569922218535346,0.3089864141526496,-0.2255228252683958,-0.2420062158747075,1.422815466914821,0.1503362119866953,-0.08743388513554257,-2.0349797681611563,0.8458105742183093,1.5407511255122293,0.029309506747405435,0.8584238640416992,0.9580984168929361,-0.9005130295018315,-0.013473286256282085,-0.8038220434152606,0.5661970188353798,-0.41924053958573,-0.29814007571196643,-0.03279477170129877,0.29650560309755564,-0.5463247852636246,-0.7671606914275885,1.0529157002903464,0.7838311671342689,1.9802407213895976,0.47847443413408924,1.0458971972595335,-1.2475785868909688,-0.8810956529233439,-1.6642079892521435,0.7756690712728784,-0.14000153305790228,-0.298192880456967,0.6070013657895164,0.9080645827077884,0.7257777964960853,-2.3168928477995996,-0.23743985166319456,-0.6036935396622959,-1.022352491479891,1.11444393383111,1.145304707468234,-3.250282066368351,1.5221237939575507,0.14200502104205395,0.38571662007639357],\"y\":[-0.46449043768408943,0.3523981764252299,-2.3568287709836473,2.390595577632367,-0.9711494279100952,-0.598162370267831,-0.3968615131465438,-1.4678698356334754,-0.28684894742407796,0.9208405274368389,0.9624893523587785,-0.4726705970974675,-0.6879754336784105,-1.3738071612856435,0.15306973430517098,1.39271128590778,1.4306641888922735,-1.7229685803087822,0.876023771464418,-0.6803902408216923,-0.5941052879566986,0.12043446146704843,-0.28515613992993033,-0.32609061091749375,0.47425472148627396,-1.2522126657446717,-0.3243536009422392,0.5049793346016036,-0.04176998943973294,0.40192394612822196,-0.28054043055164984,0.14883547195933453,-0.12105123038966474,1.0343349745490065,0.5991071166463736,0.567778493863068,0.3037646239706531,-1.3719041517480557,-0.4436317499417215,0.38529293294782807,0.18887020024921888,-0.44131088434181726,-1.345417457240369,0.1950054187256295,0.008516791334651708,-0.030138945389232976,-0.052181696931563104,-0.28531533414502924,-0.3837973447267495,-0.07335949970633836,-0.5016619524152183,-0.07377196799595183,1.314600491631252,-0.5755533402380913,1.04234687914125,-1.9884263599852992,-0.4546812851638831,-0.9135355999965279,0.1202491772493144,0.2982883545760662,1.1759196674481656,0.1765180905394663,-0.1393540853360605,-1.6912307557741173,0.6517544039399077,-0.11723751480317693,0.225761143742028,2.575309512971,-0.38535401952248977,0.12673017985596988,-0.07216106803459287,1.5616852752254324,-1.0467543733046534,0.8101267949195068,-0.42749849903243314,-0.11251204442772755,-1.1106289672153369,0.3332379125685002,1.0663205215842115,-1.9046403985666256,1.8284597174145687,-0.6975813374405788,0.46500534847745456,0.2676519512599508,-0.9130053337789412,-0.1662797376110315,0.8053195931493092,-1.3026754192540417,0.15700431317050292,-1.207547463863445,0.3039178415683296,1.994212832448182,-0.14322280376679514,-1.0562473515513469,-1.2639667192364323,-0.8634228472340293,1.4018232890368303,-1.6562191518856821,-0.21648483960705828,-0.05978220684500359],\"type\":\"scatter\"}],                        {\"legend\":{\"bgcolor\":\"#F5F6F9\",\"font\":{\"color\":\"#4D5663\"}},\"paper_bgcolor\":\"#F5F6F9\",\"plot_bgcolor\":\"#F5F6F9\",\"template\":{\"data\":{\"barpolar\":[{\"marker\":{\"line\":{\"color\":\"#E5ECF6\",\"width\":0.5},\"pattern\":{\"fillmode\":\"overlay\",\"size\":10,\"solidity\":0.2}},\"type\":\"barpolar\"}],\"bar\":[{\"error_x\":{\"color\":\"#2a3f5f\"},\"error_y\":{\"color\":\"#2a3f5f\"},\"marker\":{\"line\":{\"color\":\"#E5ECF6\",\"width\":0.5},\"pattern\":{\"fillmode\":\"overlay\",\"size\":10,\"solidity\":0.2}},\"type\":\"bar\"}],\"carpet\":[{\"aaxis\":{\"endlinecolor\":\"#2a3f5f\",\"gridcolor\":\"white\",\"linecolor\":\"white\",\"minorgridcolor\":\"white\",\"startlinecolor\":\"#2a3f5f\"},\"baxis\":{\"endlinecolor\":\"#2a3f5f\",\"gridcolor\":\"white\",\"linecolor\":\"white\",\"minorgridcolor\":\"white\",\"startlinecolor\":\"#2a3f5f\"},\"type\":\"carpet\"}],\"choropleth\":[{\"colorbar\":{\"outlinewidth\":0,\"ticks\":\"\"},\"type\":\"choropleth\"}],\"contourcarpet\":[{\"colorbar\":{\"outlinewidth\":0,\"ticks\":\"\"},\"type\":\"contourcarpet\"}],\"contour\":[{\"colorbar\":{\"outlinewidth\":0,\"ticks\":\"\"},\"colorscale\":[[0.0,\"#0d0887\"],[0.1111111111111111,\"#46039f\"],[0.2222222222222222,\"#7201a8\"],[0.3333333333333333,\"#9c179e\"],[0.4444444444444444,\"#bd3786\"],[0.5555555555555556,\"#d8576b\"],[0.6666666666666666,\"#ed7953\"],[0.7777777777777778,\"#fb9f3a\"],[0.8888888888888888,\"#fdca26\"],[1.0,\"#f0f921\"]],\"type\":\"contour\"}],\"heatmapgl\":[{\"colorbar\":{\"outlinewidth\":0,\"ticks\":\"\"},\"colorscale\":[[0.0,\"#0d0887\"],[0.1111111111111111,\"#46039f\"],[0.2222222222222222,\"#7201a8\"],[0.3333333333333333,\"#9c179e\"],[0.4444444444444444,\"#bd3786\"],[0.5555555555555556,\"#d8576b\"],[0.6666666666666666,\"#ed7953\"],[0.7777777777777778,\"#fb9f3a\"],[0.8888888888888888,\"#fdca26\"],[1.0,\"#f0f921\"]],\"type\":\"heatmapgl\"}],\"heatmap\":[{\"colorbar\":{\"outlinewidth\":0,\"ticks\":\"\"},\"colorscale\":[[0.0,\"#0d0887\"],[0.1111111111111111,\"#46039f\"],[0.2222222222222222,\"#7201a8\"],[0.3333333333333333,\"#9c179e\"],[0.4444444444444444,\"#bd3786\"],[0.5555555555555556,\"#d8576b\"],[0.6666666666666666,\"#ed7953\"],[0.7777777777777778,\"#fb9f3a\"],[0.8888888888888888,\"#fdca26\"],[1.0,\"#f0f921\"]],\"type\":\"heatmap\"}],\"histogram2dcontour\":[{\"colorbar\":{\"outlinewidth\":0,\"ticks\":\"\"},\"colorscale\":[[0.0,\"#0d0887\"],[0.1111111111111111,\"#46039f\"],[0.2222222222222222,\"#7201a8\"],[0.3333333333333333,\"#9c179e\"],[0.4444444444444444,\"#bd3786\"],[0.5555555555555556,\"#d8576b\"],[0.6666666666666666,\"#ed7953\"],[0.7777777777777778,\"#fb9f3a\"],[0.8888888888888888,\"#fdca26\"],[1.0,\"#f0f921\"]],\"type\":\"histogram2dcontour\"}],\"histogram2d\":[{\"colorbar\":{\"outlinewidth\":0,\"ticks\":\"\"},\"colorscale\":[[0.0,\"#0d0887\"],[0.1111111111111111,\"#46039f\"],[0.2222222222222222,\"#7201a8\"],[0.3333333333333333,\"#9c179e\"],[0.4444444444444444,\"#bd3786\"],[0.5555555555555556,\"#d8576b\"],[0.6666666666666666,\"#ed7953\"],[0.7777777777777778,\"#fb9f3a\"],[0.8888888888888888,\"#fdca26\"],[1.0,\"#f0f921\"]],\"type\":\"histogram2d\"}],\"histogram\":[{\"marker\":{\"pattern\":{\"fillmode\":\"overlay\",\"size\":10,\"solidity\":0.2}},\"type\":\"histogram\"}],\"mesh3d\":[{\"colorbar\":{\"outlinewidth\":0,\"ticks\":\"\"},\"type\":\"mesh3d\"}],\"parcoords\":[{\"line\":{\"colorbar\":{\"outlinewidth\":0,\"ticks\":\"\"}},\"type\":\"parcoords\"}],\"pie\":[{\"automargin\":true,\"type\":\"pie\"}],\"scatter3d\":[{\"line\":{\"colorbar\":{\"outlinewidth\":0,\"ticks\":\"\"}},\"marker\":{\"colorbar\":{\"outlinewidth\":0,\"ticks\":\"\"}},\"type\":\"scatter3d\"}],\"scattercarpet\":[{\"marker\":{\"colorbar\":{\"outlinewidth\":0,\"ticks\":\"\"}},\"type\":\"scattercarpet\"}],\"scattergeo\":[{\"marker\":{\"colorbar\":{\"outlinewidth\":0,\"ticks\":\"\"}},\"type\":\"scattergeo\"}],\"scattergl\":[{\"marker\":{\"colorbar\":{\"outlinewidth\":0,\"ticks\":\"\"}},\"type\":\"scattergl\"}],\"scattermapbox\":[{\"marker\":{\"colorbar\":{\"outlinewidth\":0,\"ticks\":\"\"}},\"type\":\"scattermapbox\"}],\"scatterpolargl\":[{\"marker\":{\"colorbar\":{\"outlinewidth\":0,\"ticks\":\"\"}},\"type\":\"scatterpolargl\"}],\"scatterpolar\":[{\"marker\":{\"colorbar\":{\"outlinewidth\":0,\"ticks\":\"\"}},\"type\":\"scatterpolar\"}],\"scatter\":[{\"marker\":{\"colorbar\":{\"outlinewidth\":0,\"ticks\":\"\"}},\"type\":\"scatter\"}],\"scatterternary\":[{\"marker\":{\"colorbar\":{\"outlinewidth\":0,\"ticks\":\"\"}},\"type\":\"scatterternary\"}],\"surface\":[{\"colorbar\":{\"outlinewidth\":0,\"ticks\":\"\"},\"colorscale\":[[0.0,\"#0d0887\"],[0.1111111111111111,\"#46039f\"],[0.2222222222222222,\"#7201a8\"],[0.3333333333333333,\"#9c179e\"],[0.4444444444444444,\"#bd3786\"],[0.5555555555555556,\"#d8576b\"],[0.6666666666666666,\"#ed7953\"],[0.7777777777777778,\"#fb9f3a\"],[0.8888888888888888,\"#fdca26\"],[1.0,\"#f0f921\"]],\"type\":\"surface\"}],\"table\":[{\"cells\":{\"fill\":{\"color\":\"#EBF0F8\"},\"line\":{\"color\":\"white\"}},\"header\":{\"fill\":{\"color\":\"#C8D4E3\"},\"line\":{\"color\":\"white\"}},\"type\":\"table\"}]},\"layout\":{\"annotationdefaults\":{\"arrowcolor\":\"#2a3f5f\",\"arrowhead\":0,\"arrowwidth\":1},\"autotypenumbers\":\"strict\",\"coloraxis\":{\"colorbar\":{\"outlinewidth\":0,\"ticks\":\"\"}},\"colorscale\":{\"diverging\":[[0,\"#8e0152\"],[0.1,\"#c51b7d\"],[0.2,\"#de77ae\"],[0.3,\"#f1b6da\"],[0.4,\"#fde0ef\"],[0.5,\"#f7f7f7\"],[0.6,\"#e6f5d0\"],[0.7,\"#b8e186\"],[0.8,\"#7fbc41\"],[0.9,\"#4d9221\"],[1,\"#276419\"]],\"sequential\":[[0.0,\"#0d0887\"],[0.1111111111111111,\"#46039f\"],[0.2222222222222222,\"#7201a8\"],[0.3333333333333333,\"#9c179e\"],[0.4444444444444444,\"#bd3786\"],[0.5555555555555556,\"#d8576b\"],[0.6666666666666666,\"#ed7953\"],[0.7777777777777778,\"#fb9f3a\"],[0.8888888888888888,\"#fdca26\"],[1.0,\"#f0f921\"]],\"sequentialminus\":[[0.0,\"#0d0887\"],[0.1111111111111111,\"#46039f\"],[0.2222222222222222,\"#7201a8\"],[0.3333333333333333,\"#9c179e\"],[0.4444444444444444,\"#bd3786\"],[0.5555555555555556,\"#d8576b\"],[0.6666666666666666,\"#ed7953\"],[0.7777777777777778,\"#fb9f3a\"],[0.8888888888888888,\"#fdca26\"],[1.0,\"#f0f921\"]]},\"colorway\":[\"#636efa\",\"#EF553B\",\"#00cc96\",\"#ab63fa\",\"#FFA15A\",\"#19d3f3\",\"#FF6692\",\"#B6E880\",\"#FF97FF\",\"#FECB52\"],\"font\":{\"color\":\"#2a3f5f\"},\"geo\":{\"bgcolor\":\"white\",\"lakecolor\":\"white\",\"landcolor\":\"#E5ECF6\",\"showlakes\":true,\"showland\":true,\"subunitcolor\":\"white\"},\"hoverlabel\":{\"align\":\"left\"},\"hovermode\":\"closest\",\"mapbox\":{\"style\":\"light\"},\"paper_bgcolor\":\"white\",\"plot_bgcolor\":\"#E5ECF6\",\"polar\":{\"angularaxis\":{\"gridcolor\":\"white\",\"linecolor\":\"white\",\"ticks\":\"\"},\"bgcolor\":\"#E5ECF6\",\"radialaxis\":{\"gridcolor\":\"white\",\"linecolor\":\"white\",\"ticks\":\"\"}},\"scene\":{\"xaxis\":{\"backgroundcolor\":\"#E5ECF6\",\"gridcolor\":\"white\",\"gridwidth\":2,\"linecolor\":\"white\",\"showbackground\":true,\"ticks\":\"\",\"zerolinecolor\":\"white\"},\"yaxis\":{\"backgroundcolor\":\"#E5ECF6\",\"gridcolor\":\"white\",\"gridwidth\":2,\"linecolor\":\"white\",\"showbackground\":true,\"ticks\":\"\",\"zerolinecolor\":\"white\"},\"zaxis\":{\"backgroundcolor\":\"#E5ECF6\",\"gridcolor\":\"white\",\"gridwidth\":2,\"linecolor\":\"white\",\"showbackground\":true,\"ticks\":\"\",\"zerolinecolor\":\"white\"}},\"shapedefaults\":{\"line\":{\"color\":\"#2a3f5f\"}},\"ternary\":{\"aaxis\":{\"gridcolor\":\"white\",\"linecolor\":\"white\",\"ticks\":\"\"},\"baxis\":{\"gridcolor\":\"white\",\"linecolor\":\"white\",\"ticks\":\"\"},\"bgcolor\":\"#E5ECF6\",\"caxis\":{\"gridcolor\":\"white\",\"linecolor\":\"white\",\"ticks\":\"\"}},\"title\":{\"x\":0.05},\"xaxis\":{\"automargin\":true,\"gridcolor\":\"white\",\"linecolor\":\"white\",\"ticks\":\"\",\"title\":{\"standoff\":15},\"zerolinecolor\":\"white\",\"zerolinewidth\":2},\"yaxis\":{\"automargin\":true,\"gridcolor\":\"white\",\"linecolor\":\"white\",\"ticks\":\"\",\"title\":{\"standoff\":15},\"zerolinecolor\":\"white\",\"zerolinewidth\":2}}},\"title\":{\"font\":{\"color\":\"#4D5663\"}},\"xaxis\":{\"gridcolor\":\"#E1E5ED\",\"showgrid\":true,\"tickfont\":{\"color\":\"#4D5663\"},\"title\":{\"font\":{\"color\":\"#4D5663\"},\"text\":\"\"},\"zerolinecolor\":\"#E1E5ED\"},\"yaxis\":{\"gridcolor\":\"#E1E5ED\",\"showgrid\":true,\"tickfont\":{\"color\":\"#4D5663\"},\"title\":{\"font\":{\"color\":\"#4D5663\"},\"text\":\"\"},\"zerolinecolor\":\"#E1E5ED\"}},                        {\"showLink\": true, \"linkText\": \"Export to plot.ly\", \"plotlyServerURL\": \"https://plot.ly\", \"responsive\": true}                    ).then(function(){\n",
       "                            \n",
       "var gd = document.getElementById('235e54ab-bad3-4847-85ba-0459901218ac');\n",
       "var x = new MutationObserver(function (mutations, observer) {{\n",
       "        var display = window.getComputedStyle(gd).display;\n",
       "        if (!display || display === 'none') {{\n",
       "            console.log([gd, 'removed!']);\n",
       "            Plotly.purge(gd);\n",
       "            observer.disconnect();\n",
       "        }}\n",
       "}});\n",
       "\n",
       "// Listen for the removal of the full notebook cells\n",
       "var notebookContainer = gd.closest('#notebook-container');\n",
       "if (notebookContainer) {{\n",
       "    x.observe(notebookContainer, {childList: true});\n",
       "}}\n",
       "\n",
       "// Listen for the clearing of the current output cell\n",
       "var outputEl = gd.closest('.output');\n",
       "if (outputEl) {{\n",
       "    x.observe(outputEl, {childList: true});\n",
       "}}\n",
       "\n",
       "                        })                };                });            </script>        </div>"
      ]
     },
     "metadata": {},
     "output_type": "display_data"
    }
   ],
   "source": [
    "#a bubble plot is similar to scatter plot, jsut that the size of the markers are based off of another column\n",
    "df.iplot(kind='bubble', x='A', y='B', size='C')"
   ]
  },
  {
   "cell_type": "code",
   "execution_count": 30,
   "metadata": {},
   "outputs": [
    {
     "data": {
      "application/vnd.plotly.v1+json": {
       "config": {
        "linkText": "Export to plot.ly",
        "plotlyServerURL": "https://plot.ly",
        "showLink": true
       },
       "data": [
        {
         "histfunc": "count",
         "histnorm": "",
         "marker": {
          "color": "rgba(255, 153, 51, 1.0)",
          "line": {
           "color": "#4D5663",
           "width": 1.3
          }
         },
         "name": "A",
         "nbinsx": 10,
         "opacity": 0.8,
         "orientation": "v",
         "type": "histogram",
         "x": [
          0.886481626762867,
          -0.3499620218114763,
          -1.585776582814845,
          0.6484898454257476,
          -1.9979968441142282,
          0.1201311235502911,
          -0.4148740926620486,
          0.48602098140719663,
          -0.4421915736894337,
          1.2418778460177193,
          0.10118778876868344,
          -0.3818017352390294,
          -1.0889405954178286,
          -1.0775398374986283,
          0.7176163433204604,
          0.33913004139571756,
          -0.4032606079303681,
          -0.3637756464595728,
          -1.4718184440680067,
          0.713886037258169,
          0.19269588171664376,
          0.23304829932510332,
          0.5709190035735119,
          -1.8433915506663612,
          0.8324219856241711,
          -1.0757550291979756,
          0.5077556723582699,
          -0.44413901106422243,
          -1.0086197778973143,
          -1.4028236947855495,
          0.7121967790439677,
          0.3204505587958397,
          0.4445431803849003,
          -0.7710464998332621,
          -0.32331670313769884,
          -0.37674258119090615,
          -0.4248675218977924,
          0.40764947955994546,
          -1.3078826247959392,
          1.0601288365287158,
          -0.07365209559188851,
          -0.15604718500861364,
          0.6942083782207596,
          1.6486670014904792,
          -0.7077253997726066,
          1.2800832468714303,
          -0.9465578355996911,
          -0.20620629379940864,
          -0.7963607240498749,
          -0.36078265872225806,
          1.2110561274705427,
          -0.1104525081824256,
          -0.6700042401655598,
          0.5569922218535346,
          0.3089864141526496,
          -0.2255228252683958,
          -0.2420062158747075,
          1.422815466914821,
          0.1503362119866953,
          -0.08743388513554257,
          -2.0349797681611563,
          0.8458105742183093,
          1.5407511255122293,
          0.029309506747405435,
          0.8584238640416992,
          0.9580984168929361,
          -0.9005130295018315,
          -0.013473286256282085,
          -0.8038220434152606,
          0.5661970188353798,
          -0.41924053958573,
          -0.29814007571196643,
          -0.03279477170129877,
          0.29650560309755564,
          -0.5463247852636246,
          -0.7671606914275885,
          1.0529157002903464,
          0.7838311671342689,
          1.9802407213895976,
          0.47847443413408924,
          1.0458971972595335,
          -1.2475785868909688,
          -0.8810956529233439,
          -1.6642079892521435,
          0.7756690712728784,
          -0.14000153305790228,
          -0.298192880456967,
          0.6070013657895164,
          0.9080645827077884,
          0.7257777964960853,
          -2.3168928477995996,
          -0.23743985166319456,
          -0.6036935396622959,
          -1.022352491479891,
          1.11444393383111,
          1.145304707468234,
          -3.250282066368351,
          1.5221237939575507,
          0.14200502104205395,
          0.38571662007639357
         ],
         "xaxis": "x",
         "yaxis": "y"
        },
        {
         "line": {
          "color": "rgba(128, 128, 128, 1.0)",
          "dash": "solid",
          "shape": "linear",
          "width": 1.3
         },
         "marker": {
          "size": 2,
          "symbol": "circle"
         },
         "mode": "markers",
         "name": "A",
         "text": "",
         "type": "scatter",
         "x": [
          -0.46449043768408943,
          0.3523981764252299,
          -2.3568287709836473,
          2.390595577632367,
          -0.9711494279100952,
          -0.598162370267831,
          -0.3968615131465438,
          -1.4678698356334754,
          -0.28684894742407796,
          0.9208405274368389,
          0.9624893523587785,
          -0.4726705970974675,
          -0.6879754336784105,
          -1.3738071612856435,
          0.15306973430517098,
          1.39271128590778,
          1.4306641888922735,
          -1.7229685803087822,
          0.876023771464418,
          -0.6803902408216923,
          -0.5941052879566986,
          0.12043446146704843,
          -0.28515613992993033,
          -0.32609061091749375,
          0.47425472148627396,
          -1.2522126657446717,
          -0.3243536009422392,
          0.5049793346016036,
          -0.04176998943973294,
          0.40192394612822196,
          -0.28054043055164984,
          0.14883547195933453,
          -0.12105123038966474,
          1.0343349745490065,
          0.5991071166463736,
          0.567778493863068,
          0.3037646239706531,
          -1.3719041517480557,
          -0.4436317499417215,
          0.38529293294782807,
          0.18887020024921888,
          -0.44131088434181726,
          -1.345417457240369,
          0.1950054187256295,
          0.008516791334651708,
          -0.030138945389232976,
          -0.052181696931563104,
          -0.28531533414502924,
          -0.3837973447267495,
          -0.07335949970633836,
          -0.5016619524152183,
          -0.07377196799595183,
          1.314600491631252,
          -0.5755533402380913,
          1.04234687914125,
          -1.9884263599852992,
          -0.4546812851638831,
          -0.9135355999965279,
          0.1202491772493144,
          0.2982883545760662,
          1.1759196674481656,
          0.1765180905394663,
          -0.1393540853360605,
          -1.6912307557741173,
          0.6517544039399077,
          -0.11723751480317693,
          0.225761143742028,
          2.575309512971,
          -0.38535401952248977,
          0.12673017985596988,
          -0.07216106803459287,
          1.5616852752254324,
          -1.0467543733046534,
          0.8101267949195068,
          -0.42749849903243314,
          -0.11251204442772755,
          -1.1106289672153369,
          0.3332379125685002,
          1.0663205215842115,
          -1.9046403985666256,
          1.8284597174145687,
          -0.6975813374405788,
          0.46500534847745456,
          0.2676519512599508,
          -0.9130053337789412,
          -0.1662797376110315,
          0.8053195931493092,
          -1.3026754192540417,
          0.15700431317050292,
          -1.207547463863445,
          0.3039178415683296,
          1.994212832448182,
          -0.14322280376679514,
          -1.0562473515513469,
          -1.2639667192364323,
          -0.8634228472340293,
          1.4018232890368303,
          -1.6562191518856821,
          -0.21648483960705828,
          -0.05978220684500359
         ],
         "xaxis": "x2",
         "y": [
          0.886481626762867,
          -0.3499620218114763,
          -1.585776582814845,
          0.6484898454257476,
          -1.9979968441142282,
          0.1201311235502911,
          -0.4148740926620486,
          0.48602098140719663,
          -0.4421915736894337,
          1.2418778460177193,
          0.10118778876868344,
          -0.3818017352390294,
          -1.0889405954178286,
          -1.0775398374986283,
          0.7176163433204604,
          0.33913004139571756,
          -0.4032606079303681,
          -0.3637756464595728,
          -1.4718184440680067,
          0.713886037258169,
          0.19269588171664376,
          0.23304829932510332,
          0.5709190035735119,
          -1.8433915506663612,
          0.8324219856241711,
          -1.0757550291979756,
          0.5077556723582699,
          -0.44413901106422243,
          -1.0086197778973143,
          -1.4028236947855495,
          0.7121967790439677,
          0.3204505587958397,
          0.4445431803849003,
          -0.7710464998332621,
          -0.32331670313769884,
          -0.37674258119090615,
          -0.4248675218977924,
          0.40764947955994546,
          -1.3078826247959392,
          1.0601288365287158,
          -0.07365209559188851,
          -0.15604718500861364,
          0.6942083782207596,
          1.6486670014904792,
          -0.7077253997726066,
          1.2800832468714303,
          -0.9465578355996911,
          -0.20620629379940864,
          -0.7963607240498749,
          -0.36078265872225806,
          1.2110561274705427,
          -0.1104525081824256,
          -0.6700042401655598,
          0.5569922218535346,
          0.3089864141526496,
          -0.2255228252683958,
          -0.2420062158747075,
          1.422815466914821,
          0.1503362119866953,
          -0.08743388513554257,
          -2.0349797681611563,
          0.8458105742183093,
          1.5407511255122293,
          0.029309506747405435,
          0.8584238640416992,
          0.9580984168929361,
          -0.9005130295018315,
          -0.013473286256282085,
          -0.8038220434152606,
          0.5661970188353798,
          -0.41924053958573,
          -0.29814007571196643,
          -0.03279477170129877,
          0.29650560309755564,
          -0.5463247852636246,
          -0.7671606914275885,
          1.0529157002903464,
          0.7838311671342689,
          1.9802407213895976,
          0.47847443413408924,
          1.0458971972595335,
          -1.2475785868909688,
          -0.8810956529233439,
          -1.6642079892521435,
          0.7756690712728784,
          -0.14000153305790228,
          -0.298192880456967,
          0.6070013657895164,
          0.9080645827077884,
          0.7257777964960853,
          -2.3168928477995996,
          -0.23743985166319456,
          -0.6036935396622959,
          -1.022352491479891,
          1.11444393383111,
          1.145304707468234,
          -3.250282066368351,
          1.5221237939575507,
          0.14200502104205395,
          0.38571662007639357
         ],
         "yaxis": "y2"
        },
        {
         "line": {
          "color": "rgba(128, 128, 128, 1.0)",
          "dash": "solid",
          "shape": "linear",
          "width": 1.3
         },
         "marker": {
          "size": 2,
          "symbol": "circle"
         },
         "mode": "markers",
         "name": "A",
         "text": "",
         "type": "scatter",
         "x": [
          0.5201109778797136,
          0.07261771142678988,
          0.4845486456551353,
          0.04175729206404078,
          0.07214813886953271,
          2.5606694217959833,
          0.07923671155527522,
          -0.2554548938241622,
          -0.48350893289418834,
          -0.3601080724389737,
          0.1791297395186548,
          -0.3718455967328699,
          -0.10285950790430816,
          0.1352652300933272,
          -0.403587208589028,
          -0.9703320757531556,
          -1.0309098376147865,
          -0.7839258323598245,
          0.42945907942978373,
          -0.16623496285325534,
          -1.4169503388885316,
          0.2539949991347254,
          -0.020580254158317893,
          -1.0488541639354112,
          -2.900279322232684,
          0.014575478409169191,
          -0.326673408691736,
          -0.18735692164121553,
          0.5945073068751859,
          -1.1483605677505577,
          -0.06420435125397268,
          0.18831486406559445,
          -2.0494593872241715,
          -0.293484960876104,
          -0.9929240294800716,
          -0.4339844599054614,
          -0.8077561213226911,
          0.16124317270479846,
          -0.9424420244798318,
          -3.0363692113542298,
          -1.0081465330942094,
          -0.2576960247641065,
          -0.629302913191415,
          -0.7512827541389725,
          1.3097259912622083,
          0.3891212137644769,
          0.25792350431937977,
          -1.4255660416617586,
          0.6313337215541744,
          -0.8086724659291554,
          -0.31398184848967853,
          0.8968079243347657,
          -0.41047214370925006,
          0.3085293139653205,
          2.440954175592653,
          1.172510577125236,
          -0.21452964732278043,
          1.2500901451930229,
          0.43545890987911706,
          -0.15450392741326677,
          0.34389616421093383,
          0.7022310466650089,
          0.26950241011431497,
          -0.4087380376584617,
          -0.05854610989108658,
          -1.2253792268194523,
          0.36920968290947853,
          0.9510900473471998,
          -0.58479957902115,
          0.2012651723901271,
          -2.2157890554992186,
          0.2572549110191389,
          0.6026994347030282,
          -0.5190278348745757,
          -0.659545259399039,
          0.1013534807846591,
          -1.3857377750410784,
          0.6780432092694408,
          -2.7686858883402987,
          -1.151356806602218,
          -0.38093518884231675,
          1.7752163898008257,
          1.638870823306406,
          0.42769795627912727,
          -1.724320012317729,
          -0.313077254850423,
          -1.6924590866164944,
          0.24414122730241494,
          0.004458488897950751,
          1.232211012758207,
          -0.5640207859786823,
          1.4659627874886405,
          -1.4612430503540268,
          0.5515163223382007,
          -1.1760157382514314,
          -0.5280048160291578,
          0.6642118534920832,
          -0.41497442121476247,
          0.4840723227255899,
          1.4572878058103327
         ],
         "xaxis": "x3",
         "y": [
          0.886481626762867,
          -0.3499620218114763,
          -1.585776582814845,
          0.6484898454257476,
          -1.9979968441142282,
          0.1201311235502911,
          -0.4148740926620486,
          0.48602098140719663,
          -0.4421915736894337,
          1.2418778460177193,
          0.10118778876868344,
          -0.3818017352390294,
          -1.0889405954178286,
          -1.0775398374986283,
          0.7176163433204604,
          0.33913004139571756,
          -0.4032606079303681,
          -0.3637756464595728,
          -1.4718184440680067,
          0.713886037258169,
          0.19269588171664376,
          0.23304829932510332,
          0.5709190035735119,
          -1.8433915506663612,
          0.8324219856241711,
          -1.0757550291979756,
          0.5077556723582699,
          -0.44413901106422243,
          -1.0086197778973143,
          -1.4028236947855495,
          0.7121967790439677,
          0.3204505587958397,
          0.4445431803849003,
          -0.7710464998332621,
          -0.32331670313769884,
          -0.37674258119090615,
          -0.4248675218977924,
          0.40764947955994546,
          -1.3078826247959392,
          1.0601288365287158,
          -0.07365209559188851,
          -0.15604718500861364,
          0.6942083782207596,
          1.6486670014904792,
          -0.7077253997726066,
          1.2800832468714303,
          -0.9465578355996911,
          -0.20620629379940864,
          -0.7963607240498749,
          -0.36078265872225806,
          1.2110561274705427,
          -0.1104525081824256,
          -0.6700042401655598,
          0.5569922218535346,
          0.3089864141526496,
          -0.2255228252683958,
          -0.2420062158747075,
          1.422815466914821,
          0.1503362119866953,
          -0.08743388513554257,
          -2.0349797681611563,
          0.8458105742183093,
          1.5407511255122293,
          0.029309506747405435,
          0.8584238640416992,
          0.9580984168929361,
          -0.9005130295018315,
          -0.013473286256282085,
          -0.8038220434152606,
          0.5661970188353798,
          -0.41924053958573,
          -0.29814007571196643,
          -0.03279477170129877,
          0.29650560309755564,
          -0.5463247852636246,
          -0.7671606914275885,
          1.0529157002903464,
          0.7838311671342689,
          1.9802407213895976,
          0.47847443413408924,
          1.0458971972595335,
          -1.2475785868909688,
          -0.8810956529233439,
          -1.6642079892521435,
          0.7756690712728784,
          -0.14000153305790228,
          -0.298192880456967,
          0.6070013657895164,
          0.9080645827077884,
          0.7257777964960853,
          -2.3168928477995996,
          -0.23743985166319456,
          -0.6036935396622959,
          -1.022352491479891,
          1.11444393383111,
          1.145304707468234,
          -3.250282066368351,
          1.5221237939575507,
          0.14200502104205395,
          0.38571662007639357
         ],
         "yaxis": "y3"
        },
        {
         "line": {
          "color": "rgba(128, 128, 128, 1.0)",
          "dash": "solid",
          "shape": "linear",
          "width": 1.3
         },
         "marker": {
          "size": 2,
          "symbol": "circle"
         },
         "mode": "markers",
         "name": "A",
         "text": "",
         "type": "scatter",
         "x": [
          -0.8988369730855046,
          -0.5973989117894579,
          -2.4769542611372675,
          0.18580822703921393,
          -1.4477266106016817,
          0.7475126441147879,
          -0.40662767732843136,
          0.21562464027425288,
          -0.8437175533042076,
          -0.9206671582879606,
          -0.5128985721362068,
          0.4125456490439085,
          -0.8139361694983875,
          -0.24474602739648574,
          1.399660958090668,
          -0.5690667592803338,
          0.10284268754132027,
          -1.0493291743851698,
          0.8627545558195271,
          -0.9045099347478545,
          -1.026386794162491,
          0.060680317538162075,
          -0.3415314804401644,
          -2.3994321359360637,
          -1.8292002486713017,
          -0.2954406411178994,
          0.4308804806320366,
          -0.10689556363777028,
          1.4089556192348474,
          0.5716511233697971,
          0.18342394810870205,
          0.36969571924469097,
          -0.6231566510192728,
          -1.3706148974987369,
          -0.28615276432148967,
          0.22151874757782652,
          0.8618996252866993,
          -2.104564936295545,
          0.050772616377669236,
          -1.5751320938408422,
          0.529309231319148,
          1.2505362277466154,
          0.5802563261424589,
          1.7510243835154893,
          -0.1627631243159947,
          -0.07003449753416875,
          -0.7440752774362521,
          0.31874611082693405,
          0.1704263449760727,
          -0.11002542802261428,
          -0.24391672792443203,
          0.12914644876715653,
          -0.11217720875904467,
          -1.1825183945583666,
          -0.6923098843607846,
          -0.7681572995718657,
          1.1967731690030423,
          -1.0847602441923174,
          -0.2468238604708724,
          -1.275210084786202,
          -0.2937753192692088,
          -0.009646863994237882,
          -0.09900121737954734,
          -2.273401838062692,
          0.6410847024367559,
          -1.0315530517482356,
          -0.23298010070511913,
          0.21011149847632665,
          -1.6448213858583116,
          0.9457050033179516,
          -0.558715442009201,
          -0.4626338089775159,
          -0.4970146323240726,
          0.5580016935266144,
          1.4573952335048144,
          0.013241314320308596,
          -0.5396902491902932,
          2.0752884236753153,
          0.32674800644109625,
          -0.9622506422535216,
          0.018215536423492086,
          0.8843134448695068,
          -0.018465958943413796,
          -1.1360868737298324,
          -1.7102980416719817,
          -1.6399112314218767,
          -1.9949333484692264,
          0.4223668366027454,
          -1.205824691590463,
          -1.0046967973566239,
          1.0545659444662052,
          -0.16281636113476167,
          -2.195290457025516,
          -0.40360203397521616,
          -0.5068641103072004,
          -1.010766369579888,
          1.035543712197159,
          0.11165562042085199,
          -0.6837883644397107,
          0.06629731977819796
         ],
         "xaxis": "x4",
         "y": [
          0.886481626762867,
          -0.3499620218114763,
          -1.585776582814845,
          0.6484898454257476,
          -1.9979968441142282,
          0.1201311235502911,
          -0.4148740926620486,
          0.48602098140719663,
          -0.4421915736894337,
          1.2418778460177193,
          0.10118778876868344,
          -0.3818017352390294,
          -1.0889405954178286,
          -1.0775398374986283,
          0.7176163433204604,
          0.33913004139571756,
          -0.4032606079303681,
          -0.3637756464595728,
          -1.4718184440680067,
          0.713886037258169,
          0.19269588171664376,
          0.23304829932510332,
          0.5709190035735119,
          -1.8433915506663612,
          0.8324219856241711,
          -1.0757550291979756,
          0.5077556723582699,
          -0.44413901106422243,
          -1.0086197778973143,
          -1.4028236947855495,
          0.7121967790439677,
          0.3204505587958397,
          0.4445431803849003,
          -0.7710464998332621,
          -0.32331670313769884,
          -0.37674258119090615,
          -0.4248675218977924,
          0.40764947955994546,
          -1.3078826247959392,
          1.0601288365287158,
          -0.07365209559188851,
          -0.15604718500861364,
          0.6942083782207596,
          1.6486670014904792,
          -0.7077253997726066,
          1.2800832468714303,
          -0.9465578355996911,
          -0.20620629379940864,
          -0.7963607240498749,
          -0.36078265872225806,
          1.2110561274705427,
          -0.1104525081824256,
          -0.6700042401655598,
          0.5569922218535346,
          0.3089864141526496,
          -0.2255228252683958,
          -0.2420062158747075,
          1.422815466914821,
          0.1503362119866953,
          -0.08743388513554257,
          -2.0349797681611563,
          0.8458105742183093,
          1.5407511255122293,
          0.029309506747405435,
          0.8584238640416992,
          0.9580984168929361,
          -0.9005130295018315,
          -0.013473286256282085,
          -0.8038220434152606,
          0.5661970188353798,
          -0.41924053958573,
          -0.29814007571196643,
          -0.03279477170129877,
          0.29650560309755564,
          -0.5463247852636246,
          -0.7671606914275885,
          1.0529157002903464,
          0.7838311671342689,
          1.9802407213895976,
          0.47847443413408924,
          1.0458971972595335,
          -1.2475785868909688,
          -0.8810956529233439,
          -1.6642079892521435,
          0.7756690712728784,
          -0.14000153305790228,
          -0.298192880456967,
          0.6070013657895164,
          0.9080645827077884,
          0.7257777964960853,
          -2.3168928477995996,
          -0.23743985166319456,
          -0.6036935396622959,
          -1.022352491479891,
          1.11444393383111,
          1.145304707468234,
          -3.250282066368351,
          1.5221237939575507,
          0.14200502104205395,
          0.38571662007639357
         ],
         "yaxis": "y4"
        },
        {
         "line": {
          "color": "rgba(128, 128, 128, 1.0)",
          "dash": "solid",
          "shape": "linear",
          "width": 1.3
         },
         "marker": {
          "size": 2,
          "symbol": "circle"
         },
         "mode": "markers",
         "name": "B",
         "text": "",
         "type": "scatter",
         "x": [
          0.886481626762867,
          -0.3499620218114763,
          -1.585776582814845,
          0.6484898454257476,
          -1.9979968441142282,
          0.1201311235502911,
          -0.4148740926620486,
          0.48602098140719663,
          -0.4421915736894337,
          1.2418778460177193,
          0.10118778876868344,
          -0.3818017352390294,
          -1.0889405954178286,
          -1.0775398374986283,
          0.7176163433204604,
          0.33913004139571756,
          -0.4032606079303681,
          -0.3637756464595728,
          -1.4718184440680067,
          0.713886037258169,
          0.19269588171664376,
          0.23304829932510332,
          0.5709190035735119,
          -1.8433915506663612,
          0.8324219856241711,
          -1.0757550291979756,
          0.5077556723582699,
          -0.44413901106422243,
          -1.0086197778973143,
          -1.4028236947855495,
          0.7121967790439677,
          0.3204505587958397,
          0.4445431803849003,
          -0.7710464998332621,
          -0.32331670313769884,
          -0.37674258119090615,
          -0.4248675218977924,
          0.40764947955994546,
          -1.3078826247959392,
          1.0601288365287158,
          -0.07365209559188851,
          -0.15604718500861364,
          0.6942083782207596,
          1.6486670014904792,
          -0.7077253997726066,
          1.2800832468714303,
          -0.9465578355996911,
          -0.20620629379940864,
          -0.7963607240498749,
          -0.36078265872225806,
          1.2110561274705427,
          -0.1104525081824256,
          -0.6700042401655598,
          0.5569922218535346,
          0.3089864141526496,
          -0.2255228252683958,
          -0.2420062158747075,
          1.422815466914821,
          0.1503362119866953,
          -0.08743388513554257,
          -2.0349797681611563,
          0.8458105742183093,
          1.5407511255122293,
          0.029309506747405435,
          0.8584238640416992,
          0.9580984168929361,
          -0.9005130295018315,
          -0.013473286256282085,
          -0.8038220434152606,
          0.5661970188353798,
          -0.41924053958573,
          -0.29814007571196643,
          -0.03279477170129877,
          0.29650560309755564,
          -0.5463247852636246,
          -0.7671606914275885,
          1.0529157002903464,
          0.7838311671342689,
          1.9802407213895976,
          0.47847443413408924,
          1.0458971972595335,
          -1.2475785868909688,
          -0.8810956529233439,
          -1.6642079892521435,
          0.7756690712728784,
          -0.14000153305790228,
          -0.298192880456967,
          0.6070013657895164,
          0.9080645827077884,
          0.7257777964960853,
          -2.3168928477995996,
          -0.23743985166319456,
          -0.6036935396622959,
          -1.022352491479891,
          1.11444393383111,
          1.145304707468234,
          -3.250282066368351,
          1.5221237939575507,
          0.14200502104205395,
          0.38571662007639357
         ],
         "xaxis": "x5",
         "y": [
          -0.46449043768408943,
          0.3523981764252299,
          -2.3568287709836473,
          2.390595577632367,
          -0.9711494279100952,
          -0.598162370267831,
          -0.3968615131465438,
          -1.4678698356334754,
          -0.28684894742407796,
          0.9208405274368389,
          0.9624893523587785,
          -0.4726705970974675,
          -0.6879754336784105,
          -1.3738071612856435,
          0.15306973430517098,
          1.39271128590778,
          1.4306641888922735,
          -1.7229685803087822,
          0.876023771464418,
          -0.6803902408216923,
          -0.5941052879566986,
          0.12043446146704843,
          -0.28515613992993033,
          -0.32609061091749375,
          0.47425472148627396,
          -1.2522126657446717,
          -0.3243536009422392,
          0.5049793346016036,
          -0.04176998943973294,
          0.40192394612822196,
          -0.28054043055164984,
          0.14883547195933453,
          -0.12105123038966474,
          1.0343349745490065,
          0.5991071166463736,
          0.567778493863068,
          0.3037646239706531,
          -1.3719041517480557,
          -0.4436317499417215,
          0.38529293294782807,
          0.18887020024921888,
          -0.44131088434181726,
          -1.345417457240369,
          0.1950054187256295,
          0.008516791334651708,
          -0.030138945389232976,
          -0.052181696931563104,
          -0.28531533414502924,
          -0.3837973447267495,
          -0.07335949970633836,
          -0.5016619524152183,
          -0.07377196799595183,
          1.314600491631252,
          -0.5755533402380913,
          1.04234687914125,
          -1.9884263599852992,
          -0.4546812851638831,
          -0.9135355999965279,
          0.1202491772493144,
          0.2982883545760662,
          1.1759196674481656,
          0.1765180905394663,
          -0.1393540853360605,
          -1.6912307557741173,
          0.6517544039399077,
          -0.11723751480317693,
          0.225761143742028,
          2.575309512971,
          -0.38535401952248977,
          0.12673017985596988,
          -0.07216106803459287,
          1.5616852752254324,
          -1.0467543733046534,
          0.8101267949195068,
          -0.42749849903243314,
          -0.11251204442772755,
          -1.1106289672153369,
          0.3332379125685002,
          1.0663205215842115,
          -1.9046403985666256,
          1.8284597174145687,
          -0.6975813374405788,
          0.46500534847745456,
          0.2676519512599508,
          -0.9130053337789412,
          -0.1662797376110315,
          0.8053195931493092,
          -1.3026754192540417,
          0.15700431317050292,
          -1.207547463863445,
          0.3039178415683296,
          1.994212832448182,
          -0.14322280376679514,
          -1.0562473515513469,
          -1.2639667192364323,
          -0.8634228472340293,
          1.4018232890368303,
          -1.6562191518856821,
          -0.21648483960705828,
          -0.05978220684500359
         ],
         "yaxis": "y5"
        },
        {
         "histfunc": "count",
         "histnorm": "",
         "marker": {
          "color": "rgba(55, 128, 191, 1.0)",
          "line": {
           "color": "#4D5663",
           "width": 1.3
          }
         },
         "name": "B",
         "nbinsx": 10,
         "opacity": 0.8,
         "orientation": "v",
         "type": "histogram",
         "x": [
          -0.46449043768408943,
          0.3523981764252299,
          -2.3568287709836473,
          2.390595577632367,
          -0.9711494279100952,
          -0.598162370267831,
          -0.3968615131465438,
          -1.4678698356334754,
          -0.28684894742407796,
          0.9208405274368389,
          0.9624893523587785,
          -0.4726705970974675,
          -0.6879754336784105,
          -1.3738071612856435,
          0.15306973430517098,
          1.39271128590778,
          1.4306641888922735,
          -1.7229685803087822,
          0.876023771464418,
          -0.6803902408216923,
          -0.5941052879566986,
          0.12043446146704843,
          -0.28515613992993033,
          -0.32609061091749375,
          0.47425472148627396,
          -1.2522126657446717,
          -0.3243536009422392,
          0.5049793346016036,
          -0.04176998943973294,
          0.40192394612822196,
          -0.28054043055164984,
          0.14883547195933453,
          -0.12105123038966474,
          1.0343349745490065,
          0.5991071166463736,
          0.567778493863068,
          0.3037646239706531,
          -1.3719041517480557,
          -0.4436317499417215,
          0.38529293294782807,
          0.18887020024921888,
          -0.44131088434181726,
          -1.345417457240369,
          0.1950054187256295,
          0.008516791334651708,
          -0.030138945389232976,
          -0.052181696931563104,
          -0.28531533414502924,
          -0.3837973447267495,
          -0.07335949970633836,
          -0.5016619524152183,
          -0.07377196799595183,
          1.314600491631252,
          -0.5755533402380913,
          1.04234687914125,
          -1.9884263599852992,
          -0.4546812851638831,
          -0.9135355999965279,
          0.1202491772493144,
          0.2982883545760662,
          1.1759196674481656,
          0.1765180905394663,
          -0.1393540853360605,
          -1.6912307557741173,
          0.6517544039399077,
          -0.11723751480317693,
          0.225761143742028,
          2.575309512971,
          -0.38535401952248977,
          0.12673017985596988,
          -0.07216106803459287,
          1.5616852752254324,
          -1.0467543733046534,
          0.8101267949195068,
          -0.42749849903243314,
          -0.11251204442772755,
          -1.1106289672153369,
          0.3332379125685002,
          1.0663205215842115,
          -1.9046403985666256,
          1.8284597174145687,
          -0.6975813374405788,
          0.46500534847745456,
          0.2676519512599508,
          -0.9130053337789412,
          -0.1662797376110315,
          0.8053195931493092,
          -1.3026754192540417,
          0.15700431317050292,
          -1.207547463863445,
          0.3039178415683296,
          1.994212832448182,
          -0.14322280376679514,
          -1.0562473515513469,
          -1.2639667192364323,
          -0.8634228472340293,
          1.4018232890368303,
          -1.6562191518856821,
          -0.21648483960705828,
          -0.05978220684500359
         ],
         "xaxis": "x6",
         "yaxis": "y6"
        },
        {
         "line": {
          "color": "rgba(128, 128, 128, 1.0)",
          "dash": "solid",
          "shape": "linear",
          "width": 1.3
         },
         "marker": {
          "size": 2,
          "symbol": "circle"
         },
         "mode": "markers",
         "name": "B",
         "text": "",
         "type": "scatter",
         "x": [
          0.5201109778797136,
          0.07261771142678988,
          0.4845486456551353,
          0.04175729206404078,
          0.07214813886953271,
          2.5606694217959833,
          0.07923671155527522,
          -0.2554548938241622,
          -0.48350893289418834,
          -0.3601080724389737,
          0.1791297395186548,
          -0.3718455967328699,
          -0.10285950790430816,
          0.1352652300933272,
          -0.403587208589028,
          -0.9703320757531556,
          -1.0309098376147865,
          -0.7839258323598245,
          0.42945907942978373,
          -0.16623496285325534,
          -1.4169503388885316,
          0.2539949991347254,
          -0.020580254158317893,
          -1.0488541639354112,
          -2.900279322232684,
          0.014575478409169191,
          -0.326673408691736,
          -0.18735692164121553,
          0.5945073068751859,
          -1.1483605677505577,
          -0.06420435125397268,
          0.18831486406559445,
          -2.0494593872241715,
          -0.293484960876104,
          -0.9929240294800716,
          -0.4339844599054614,
          -0.8077561213226911,
          0.16124317270479846,
          -0.9424420244798318,
          -3.0363692113542298,
          -1.0081465330942094,
          -0.2576960247641065,
          -0.629302913191415,
          -0.7512827541389725,
          1.3097259912622083,
          0.3891212137644769,
          0.25792350431937977,
          -1.4255660416617586,
          0.6313337215541744,
          -0.8086724659291554,
          -0.31398184848967853,
          0.8968079243347657,
          -0.41047214370925006,
          0.3085293139653205,
          2.440954175592653,
          1.172510577125236,
          -0.21452964732278043,
          1.2500901451930229,
          0.43545890987911706,
          -0.15450392741326677,
          0.34389616421093383,
          0.7022310466650089,
          0.26950241011431497,
          -0.4087380376584617,
          -0.05854610989108658,
          -1.2253792268194523,
          0.36920968290947853,
          0.9510900473471998,
          -0.58479957902115,
          0.2012651723901271,
          -2.2157890554992186,
          0.2572549110191389,
          0.6026994347030282,
          -0.5190278348745757,
          -0.659545259399039,
          0.1013534807846591,
          -1.3857377750410784,
          0.6780432092694408,
          -2.7686858883402987,
          -1.151356806602218,
          -0.38093518884231675,
          1.7752163898008257,
          1.638870823306406,
          0.42769795627912727,
          -1.724320012317729,
          -0.313077254850423,
          -1.6924590866164944,
          0.24414122730241494,
          0.004458488897950751,
          1.232211012758207,
          -0.5640207859786823,
          1.4659627874886405,
          -1.4612430503540268,
          0.5515163223382007,
          -1.1760157382514314,
          -0.5280048160291578,
          0.6642118534920832,
          -0.41497442121476247,
          0.4840723227255899,
          1.4572878058103327
         ],
         "xaxis": "x7",
         "y": [
          -0.46449043768408943,
          0.3523981764252299,
          -2.3568287709836473,
          2.390595577632367,
          -0.9711494279100952,
          -0.598162370267831,
          -0.3968615131465438,
          -1.4678698356334754,
          -0.28684894742407796,
          0.9208405274368389,
          0.9624893523587785,
          -0.4726705970974675,
          -0.6879754336784105,
          -1.3738071612856435,
          0.15306973430517098,
          1.39271128590778,
          1.4306641888922735,
          -1.7229685803087822,
          0.876023771464418,
          -0.6803902408216923,
          -0.5941052879566986,
          0.12043446146704843,
          -0.28515613992993033,
          -0.32609061091749375,
          0.47425472148627396,
          -1.2522126657446717,
          -0.3243536009422392,
          0.5049793346016036,
          -0.04176998943973294,
          0.40192394612822196,
          -0.28054043055164984,
          0.14883547195933453,
          -0.12105123038966474,
          1.0343349745490065,
          0.5991071166463736,
          0.567778493863068,
          0.3037646239706531,
          -1.3719041517480557,
          -0.4436317499417215,
          0.38529293294782807,
          0.18887020024921888,
          -0.44131088434181726,
          -1.345417457240369,
          0.1950054187256295,
          0.008516791334651708,
          -0.030138945389232976,
          -0.052181696931563104,
          -0.28531533414502924,
          -0.3837973447267495,
          -0.07335949970633836,
          -0.5016619524152183,
          -0.07377196799595183,
          1.314600491631252,
          -0.5755533402380913,
          1.04234687914125,
          -1.9884263599852992,
          -0.4546812851638831,
          -0.9135355999965279,
          0.1202491772493144,
          0.2982883545760662,
          1.1759196674481656,
          0.1765180905394663,
          -0.1393540853360605,
          -1.6912307557741173,
          0.6517544039399077,
          -0.11723751480317693,
          0.225761143742028,
          2.575309512971,
          -0.38535401952248977,
          0.12673017985596988,
          -0.07216106803459287,
          1.5616852752254324,
          -1.0467543733046534,
          0.8101267949195068,
          -0.42749849903243314,
          -0.11251204442772755,
          -1.1106289672153369,
          0.3332379125685002,
          1.0663205215842115,
          -1.9046403985666256,
          1.8284597174145687,
          -0.6975813374405788,
          0.46500534847745456,
          0.2676519512599508,
          -0.9130053337789412,
          -0.1662797376110315,
          0.8053195931493092,
          -1.3026754192540417,
          0.15700431317050292,
          -1.207547463863445,
          0.3039178415683296,
          1.994212832448182,
          -0.14322280376679514,
          -1.0562473515513469,
          -1.2639667192364323,
          -0.8634228472340293,
          1.4018232890368303,
          -1.6562191518856821,
          -0.21648483960705828,
          -0.05978220684500359
         ],
         "yaxis": "y7"
        },
        {
         "line": {
          "color": "rgba(128, 128, 128, 1.0)",
          "dash": "solid",
          "shape": "linear",
          "width": 1.3
         },
         "marker": {
          "size": 2,
          "symbol": "circle"
         },
         "mode": "markers",
         "name": "B",
         "text": "",
         "type": "scatter",
         "x": [
          -0.8988369730855046,
          -0.5973989117894579,
          -2.4769542611372675,
          0.18580822703921393,
          -1.4477266106016817,
          0.7475126441147879,
          -0.40662767732843136,
          0.21562464027425288,
          -0.8437175533042076,
          -0.9206671582879606,
          -0.5128985721362068,
          0.4125456490439085,
          -0.8139361694983875,
          -0.24474602739648574,
          1.399660958090668,
          -0.5690667592803338,
          0.10284268754132027,
          -1.0493291743851698,
          0.8627545558195271,
          -0.9045099347478545,
          -1.026386794162491,
          0.060680317538162075,
          -0.3415314804401644,
          -2.3994321359360637,
          -1.8292002486713017,
          -0.2954406411178994,
          0.4308804806320366,
          -0.10689556363777028,
          1.4089556192348474,
          0.5716511233697971,
          0.18342394810870205,
          0.36969571924469097,
          -0.6231566510192728,
          -1.3706148974987369,
          -0.28615276432148967,
          0.22151874757782652,
          0.8618996252866993,
          -2.104564936295545,
          0.050772616377669236,
          -1.5751320938408422,
          0.529309231319148,
          1.2505362277466154,
          0.5802563261424589,
          1.7510243835154893,
          -0.1627631243159947,
          -0.07003449753416875,
          -0.7440752774362521,
          0.31874611082693405,
          0.1704263449760727,
          -0.11002542802261428,
          -0.24391672792443203,
          0.12914644876715653,
          -0.11217720875904467,
          -1.1825183945583666,
          -0.6923098843607846,
          -0.7681572995718657,
          1.1967731690030423,
          -1.0847602441923174,
          -0.2468238604708724,
          -1.275210084786202,
          -0.2937753192692088,
          -0.009646863994237882,
          -0.09900121737954734,
          -2.273401838062692,
          0.6410847024367559,
          -1.0315530517482356,
          -0.23298010070511913,
          0.21011149847632665,
          -1.6448213858583116,
          0.9457050033179516,
          -0.558715442009201,
          -0.4626338089775159,
          -0.4970146323240726,
          0.5580016935266144,
          1.4573952335048144,
          0.013241314320308596,
          -0.5396902491902932,
          2.0752884236753153,
          0.32674800644109625,
          -0.9622506422535216,
          0.018215536423492086,
          0.8843134448695068,
          -0.018465958943413796,
          -1.1360868737298324,
          -1.7102980416719817,
          -1.6399112314218767,
          -1.9949333484692264,
          0.4223668366027454,
          -1.205824691590463,
          -1.0046967973566239,
          1.0545659444662052,
          -0.16281636113476167,
          -2.195290457025516,
          -0.40360203397521616,
          -0.5068641103072004,
          -1.010766369579888,
          1.035543712197159,
          0.11165562042085199,
          -0.6837883644397107,
          0.06629731977819796
         ],
         "xaxis": "x8",
         "y": [
          -0.46449043768408943,
          0.3523981764252299,
          -2.3568287709836473,
          2.390595577632367,
          -0.9711494279100952,
          -0.598162370267831,
          -0.3968615131465438,
          -1.4678698356334754,
          -0.28684894742407796,
          0.9208405274368389,
          0.9624893523587785,
          -0.4726705970974675,
          -0.6879754336784105,
          -1.3738071612856435,
          0.15306973430517098,
          1.39271128590778,
          1.4306641888922735,
          -1.7229685803087822,
          0.876023771464418,
          -0.6803902408216923,
          -0.5941052879566986,
          0.12043446146704843,
          -0.28515613992993033,
          -0.32609061091749375,
          0.47425472148627396,
          -1.2522126657446717,
          -0.3243536009422392,
          0.5049793346016036,
          -0.04176998943973294,
          0.40192394612822196,
          -0.28054043055164984,
          0.14883547195933453,
          -0.12105123038966474,
          1.0343349745490065,
          0.5991071166463736,
          0.567778493863068,
          0.3037646239706531,
          -1.3719041517480557,
          -0.4436317499417215,
          0.38529293294782807,
          0.18887020024921888,
          -0.44131088434181726,
          -1.345417457240369,
          0.1950054187256295,
          0.008516791334651708,
          -0.030138945389232976,
          -0.052181696931563104,
          -0.28531533414502924,
          -0.3837973447267495,
          -0.07335949970633836,
          -0.5016619524152183,
          -0.07377196799595183,
          1.314600491631252,
          -0.5755533402380913,
          1.04234687914125,
          -1.9884263599852992,
          -0.4546812851638831,
          -0.9135355999965279,
          0.1202491772493144,
          0.2982883545760662,
          1.1759196674481656,
          0.1765180905394663,
          -0.1393540853360605,
          -1.6912307557741173,
          0.6517544039399077,
          -0.11723751480317693,
          0.225761143742028,
          2.575309512971,
          -0.38535401952248977,
          0.12673017985596988,
          -0.07216106803459287,
          1.5616852752254324,
          -1.0467543733046534,
          0.8101267949195068,
          -0.42749849903243314,
          -0.11251204442772755,
          -1.1106289672153369,
          0.3332379125685002,
          1.0663205215842115,
          -1.9046403985666256,
          1.8284597174145687,
          -0.6975813374405788,
          0.46500534847745456,
          0.2676519512599508,
          -0.9130053337789412,
          -0.1662797376110315,
          0.8053195931493092,
          -1.3026754192540417,
          0.15700431317050292,
          -1.207547463863445,
          0.3039178415683296,
          1.994212832448182,
          -0.14322280376679514,
          -1.0562473515513469,
          -1.2639667192364323,
          -0.8634228472340293,
          1.4018232890368303,
          -1.6562191518856821,
          -0.21648483960705828,
          -0.05978220684500359
         ],
         "yaxis": "y8"
        },
        {
         "line": {
          "color": "rgba(128, 128, 128, 1.0)",
          "dash": "solid",
          "shape": "linear",
          "width": 1.3
         },
         "marker": {
          "size": 2,
          "symbol": "circle"
         },
         "mode": "markers",
         "name": "C",
         "text": "",
         "type": "scatter",
         "x": [
          0.886481626762867,
          -0.3499620218114763,
          -1.585776582814845,
          0.6484898454257476,
          -1.9979968441142282,
          0.1201311235502911,
          -0.4148740926620486,
          0.48602098140719663,
          -0.4421915736894337,
          1.2418778460177193,
          0.10118778876868344,
          -0.3818017352390294,
          -1.0889405954178286,
          -1.0775398374986283,
          0.7176163433204604,
          0.33913004139571756,
          -0.4032606079303681,
          -0.3637756464595728,
          -1.4718184440680067,
          0.713886037258169,
          0.19269588171664376,
          0.23304829932510332,
          0.5709190035735119,
          -1.8433915506663612,
          0.8324219856241711,
          -1.0757550291979756,
          0.5077556723582699,
          -0.44413901106422243,
          -1.0086197778973143,
          -1.4028236947855495,
          0.7121967790439677,
          0.3204505587958397,
          0.4445431803849003,
          -0.7710464998332621,
          -0.32331670313769884,
          -0.37674258119090615,
          -0.4248675218977924,
          0.40764947955994546,
          -1.3078826247959392,
          1.0601288365287158,
          -0.07365209559188851,
          -0.15604718500861364,
          0.6942083782207596,
          1.6486670014904792,
          -0.7077253997726066,
          1.2800832468714303,
          -0.9465578355996911,
          -0.20620629379940864,
          -0.7963607240498749,
          -0.36078265872225806,
          1.2110561274705427,
          -0.1104525081824256,
          -0.6700042401655598,
          0.5569922218535346,
          0.3089864141526496,
          -0.2255228252683958,
          -0.2420062158747075,
          1.422815466914821,
          0.1503362119866953,
          -0.08743388513554257,
          -2.0349797681611563,
          0.8458105742183093,
          1.5407511255122293,
          0.029309506747405435,
          0.8584238640416992,
          0.9580984168929361,
          -0.9005130295018315,
          -0.013473286256282085,
          -0.8038220434152606,
          0.5661970188353798,
          -0.41924053958573,
          -0.29814007571196643,
          -0.03279477170129877,
          0.29650560309755564,
          -0.5463247852636246,
          -0.7671606914275885,
          1.0529157002903464,
          0.7838311671342689,
          1.9802407213895976,
          0.47847443413408924,
          1.0458971972595335,
          -1.2475785868909688,
          -0.8810956529233439,
          -1.6642079892521435,
          0.7756690712728784,
          -0.14000153305790228,
          -0.298192880456967,
          0.6070013657895164,
          0.9080645827077884,
          0.7257777964960853,
          -2.3168928477995996,
          -0.23743985166319456,
          -0.6036935396622959,
          -1.022352491479891,
          1.11444393383111,
          1.145304707468234,
          -3.250282066368351,
          1.5221237939575507,
          0.14200502104205395,
          0.38571662007639357
         ],
         "xaxis": "x9",
         "y": [
          0.5201109778797136,
          0.07261771142678988,
          0.4845486456551353,
          0.04175729206404078,
          0.07214813886953271,
          2.5606694217959833,
          0.07923671155527522,
          -0.2554548938241622,
          -0.48350893289418834,
          -0.3601080724389737,
          0.1791297395186548,
          -0.3718455967328699,
          -0.10285950790430816,
          0.1352652300933272,
          -0.403587208589028,
          -0.9703320757531556,
          -1.0309098376147865,
          -0.7839258323598245,
          0.42945907942978373,
          -0.16623496285325534,
          -1.4169503388885316,
          0.2539949991347254,
          -0.020580254158317893,
          -1.0488541639354112,
          -2.900279322232684,
          0.014575478409169191,
          -0.326673408691736,
          -0.18735692164121553,
          0.5945073068751859,
          -1.1483605677505577,
          -0.06420435125397268,
          0.18831486406559445,
          -2.0494593872241715,
          -0.293484960876104,
          -0.9929240294800716,
          -0.4339844599054614,
          -0.8077561213226911,
          0.16124317270479846,
          -0.9424420244798318,
          -3.0363692113542298,
          -1.0081465330942094,
          -0.2576960247641065,
          -0.629302913191415,
          -0.7512827541389725,
          1.3097259912622083,
          0.3891212137644769,
          0.25792350431937977,
          -1.4255660416617586,
          0.6313337215541744,
          -0.8086724659291554,
          -0.31398184848967853,
          0.8968079243347657,
          -0.41047214370925006,
          0.3085293139653205,
          2.440954175592653,
          1.172510577125236,
          -0.21452964732278043,
          1.2500901451930229,
          0.43545890987911706,
          -0.15450392741326677,
          0.34389616421093383,
          0.7022310466650089,
          0.26950241011431497,
          -0.4087380376584617,
          -0.05854610989108658,
          -1.2253792268194523,
          0.36920968290947853,
          0.9510900473471998,
          -0.58479957902115,
          0.2012651723901271,
          -2.2157890554992186,
          0.2572549110191389,
          0.6026994347030282,
          -0.5190278348745757,
          -0.659545259399039,
          0.1013534807846591,
          -1.3857377750410784,
          0.6780432092694408,
          -2.7686858883402987,
          -1.151356806602218,
          -0.38093518884231675,
          1.7752163898008257,
          1.638870823306406,
          0.42769795627912727,
          -1.724320012317729,
          -0.313077254850423,
          -1.6924590866164944,
          0.24414122730241494,
          0.004458488897950751,
          1.232211012758207,
          -0.5640207859786823,
          1.4659627874886405,
          -1.4612430503540268,
          0.5515163223382007,
          -1.1760157382514314,
          -0.5280048160291578,
          0.6642118534920832,
          -0.41497442121476247,
          0.4840723227255899,
          1.4572878058103327
         ],
         "yaxis": "y9"
        },
        {
         "line": {
          "color": "rgba(128, 128, 128, 1.0)",
          "dash": "solid",
          "shape": "linear",
          "width": 1.3
         },
         "marker": {
          "size": 2,
          "symbol": "circle"
         },
         "mode": "markers",
         "name": "C",
         "text": "",
         "type": "scatter",
         "x": [
          -0.46449043768408943,
          0.3523981764252299,
          -2.3568287709836473,
          2.390595577632367,
          -0.9711494279100952,
          -0.598162370267831,
          -0.3968615131465438,
          -1.4678698356334754,
          -0.28684894742407796,
          0.9208405274368389,
          0.9624893523587785,
          -0.4726705970974675,
          -0.6879754336784105,
          -1.3738071612856435,
          0.15306973430517098,
          1.39271128590778,
          1.4306641888922735,
          -1.7229685803087822,
          0.876023771464418,
          -0.6803902408216923,
          -0.5941052879566986,
          0.12043446146704843,
          -0.28515613992993033,
          -0.32609061091749375,
          0.47425472148627396,
          -1.2522126657446717,
          -0.3243536009422392,
          0.5049793346016036,
          -0.04176998943973294,
          0.40192394612822196,
          -0.28054043055164984,
          0.14883547195933453,
          -0.12105123038966474,
          1.0343349745490065,
          0.5991071166463736,
          0.567778493863068,
          0.3037646239706531,
          -1.3719041517480557,
          -0.4436317499417215,
          0.38529293294782807,
          0.18887020024921888,
          -0.44131088434181726,
          -1.345417457240369,
          0.1950054187256295,
          0.008516791334651708,
          -0.030138945389232976,
          -0.052181696931563104,
          -0.28531533414502924,
          -0.3837973447267495,
          -0.07335949970633836,
          -0.5016619524152183,
          -0.07377196799595183,
          1.314600491631252,
          -0.5755533402380913,
          1.04234687914125,
          -1.9884263599852992,
          -0.4546812851638831,
          -0.9135355999965279,
          0.1202491772493144,
          0.2982883545760662,
          1.1759196674481656,
          0.1765180905394663,
          -0.1393540853360605,
          -1.6912307557741173,
          0.6517544039399077,
          -0.11723751480317693,
          0.225761143742028,
          2.575309512971,
          -0.38535401952248977,
          0.12673017985596988,
          -0.07216106803459287,
          1.5616852752254324,
          -1.0467543733046534,
          0.8101267949195068,
          -0.42749849903243314,
          -0.11251204442772755,
          -1.1106289672153369,
          0.3332379125685002,
          1.0663205215842115,
          -1.9046403985666256,
          1.8284597174145687,
          -0.6975813374405788,
          0.46500534847745456,
          0.2676519512599508,
          -0.9130053337789412,
          -0.1662797376110315,
          0.8053195931493092,
          -1.3026754192540417,
          0.15700431317050292,
          -1.207547463863445,
          0.3039178415683296,
          1.994212832448182,
          -0.14322280376679514,
          -1.0562473515513469,
          -1.2639667192364323,
          -0.8634228472340293,
          1.4018232890368303,
          -1.6562191518856821,
          -0.21648483960705828,
          -0.05978220684500359
         ],
         "xaxis": "x10",
         "y": [
          0.5201109778797136,
          0.07261771142678988,
          0.4845486456551353,
          0.04175729206404078,
          0.07214813886953271,
          2.5606694217959833,
          0.07923671155527522,
          -0.2554548938241622,
          -0.48350893289418834,
          -0.3601080724389737,
          0.1791297395186548,
          -0.3718455967328699,
          -0.10285950790430816,
          0.1352652300933272,
          -0.403587208589028,
          -0.9703320757531556,
          -1.0309098376147865,
          -0.7839258323598245,
          0.42945907942978373,
          -0.16623496285325534,
          -1.4169503388885316,
          0.2539949991347254,
          -0.020580254158317893,
          -1.0488541639354112,
          -2.900279322232684,
          0.014575478409169191,
          -0.326673408691736,
          -0.18735692164121553,
          0.5945073068751859,
          -1.1483605677505577,
          -0.06420435125397268,
          0.18831486406559445,
          -2.0494593872241715,
          -0.293484960876104,
          -0.9929240294800716,
          -0.4339844599054614,
          -0.8077561213226911,
          0.16124317270479846,
          -0.9424420244798318,
          -3.0363692113542298,
          -1.0081465330942094,
          -0.2576960247641065,
          -0.629302913191415,
          -0.7512827541389725,
          1.3097259912622083,
          0.3891212137644769,
          0.25792350431937977,
          -1.4255660416617586,
          0.6313337215541744,
          -0.8086724659291554,
          -0.31398184848967853,
          0.8968079243347657,
          -0.41047214370925006,
          0.3085293139653205,
          2.440954175592653,
          1.172510577125236,
          -0.21452964732278043,
          1.2500901451930229,
          0.43545890987911706,
          -0.15450392741326677,
          0.34389616421093383,
          0.7022310466650089,
          0.26950241011431497,
          -0.4087380376584617,
          -0.05854610989108658,
          -1.2253792268194523,
          0.36920968290947853,
          0.9510900473471998,
          -0.58479957902115,
          0.2012651723901271,
          -2.2157890554992186,
          0.2572549110191389,
          0.6026994347030282,
          -0.5190278348745757,
          -0.659545259399039,
          0.1013534807846591,
          -1.3857377750410784,
          0.6780432092694408,
          -2.7686858883402987,
          -1.151356806602218,
          -0.38093518884231675,
          1.7752163898008257,
          1.638870823306406,
          0.42769795627912727,
          -1.724320012317729,
          -0.313077254850423,
          -1.6924590866164944,
          0.24414122730241494,
          0.004458488897950751,
          1.232211012758207,
          -0.5640207859786823,
          1.4659627874886405,
          -1.4612430503540268,
          0.5515163223382007,
          -1.1760157382514314,
          -0.5280048160291578,
          0.6642118534920832,
          -0.41497442121476247,
          0.4840723227255899,
          1.4572878058103327
         ],
         "yaxis": "y10"
        },
        {
         "histfunc": "count",
         "histnorm": "",
         "marker": {
          "color": "rgba(50, 171, 96, 1.0)",
          "line": {
           "color": "#4D5663",
           "width": 1.3
          }
         },
         "name": "C",
         "nbinsx": 10,
         "opacity": 0.8,
         "orientation": "v",
         "type": "histogram",
         "x": [
          0.5201109778797136,
          0.07261771142678988,
          0.4845486456551353,
          0.04175729206404078,
          0.07214813886953271,
          2.5606694217959833,
          0.07923671155527522,
          -0.2554548938241622,
          -0.48350893289418834,
          -0.3601080724389737,
          0.1791297395186548,
          -0.3718455967328699,
          -0.10285950790430816,
          0.1352652300933272,
          -0.403587208589028,
          -0.9703320757531556,
          -1.0309098376147865,
          -0.7839258323598245,
          0.42945907942978373,
          -0.16623496285325534,
          -1.4169503388885316,
          0.2539949991347254,
          -0.020580254158317893,
          -1.0488541639354112,
          -2.900279322232684,
          0.014575478409169191,
          -0.326673408691736,
          -0.18735692164121553,
          0.5945073068751859,
          -1.1483605677505577,
          -0.06420435125397268,
          0.18831486406559445,
          -2.0494593872241715,
          -0.293484960876104,
          -0.9929240294800716,
          -0.4339844599054614,
          -0.8077561213226911,
          0.16124317270479846,
          -0.9424420244798318,
          -3.0363692113542298,
          -1.0081465330942094,
          -0.2576960247641065,
          -0.629302913191415,
          -0.7512827541389725,
          1.3097259912622083,
          0.3891212137644769,
          0.25792350431937977,
          -1.4255660416617586,
          0.6313337215541744,
          -0.8086724659291554,
          -0.31398184848967853,
          0.8968079243347657,
          -0.41047214370925006,
          0.3085293139653205,
          2.440954175592653,
          1.172510577125236,
          -0.21452964732278043,
          1.2500901451930229,
          0.43545890987911706,
          -0.15450392741326677,
          0.34389616421093383,
          0.7022310466650089,
          0.26950241011431497,
          -0.4087380376584617,
          -0.05854610989108658,
          -1.2253792268194523,
          0.36920968290947853,
          0.9510900473471998,
          -0.58479957902115,
          0.2012651723901271,
          -2.2157890554992186,
          0.2572549110191389,
          0.6026994347030282,
          -0.5190278348745757,
          -0.659545259399039,
          0.1013534807846591,
          -1.3857377750410784,
          0.6780432092694408,
          -2.7686858883402987,
          -1.151356806602218,
          -0.38093518884231675,
          1.7752163898008257,
          1.638870823306406,
          0.42769795627912727,
          -1.724320012317729,
          -0.313077254850423,
          -1.6924590866164944,
          0.24414122730241494,
          0.004458488897950751,
          1.232211012758207,
          -0.5640207859786823,
          1.4659627874886405,
          -1.4612430503540268,
          0.5515163223382007,
          -1.1760157382514314,
          -0.5280048160291578,
          0.6642118534920832,
          -0.41497442121476247,
          0.4840723227255899,
          1.4572878058103327
         ],
         "xaxis": "x11",
         "yaxis": "y11"
        },
        {
         "line": {
          "color": "rgba(128, 128, 128, 1.0)",
          "dash": "solid",
          "shape": "linear",
          "width": 1.3
         },
         "marker": {
          "size": 2,
          "symbol": "circle"
         },
         "mode": "markers",
         "name": "C",
         "text": "",
         "type": "scatter",
         "x": [
          -0.8988369730855046,
          -0.5973989117894579,
          -2.4769542611372675,
          0.18580822703921393,
          -1.4477266106016817,
          0.7475126441147879,
          -0.40662767732843136,
          0.21562464027425288,
          -0.8437175533042076,
          -0.9206671582879606,
          -0.5128985721362068,
          0.4125456490439085,
          -0.8139361694983875,
          -0.24474602739648574,
          1.399660958090668,
          -0.5690667592803338,
          0.10284268754132027,
          -1.0493291743851698,
          0.8627545558195271,
          -0.9045099347478545,
          -1.026386794162491,
          0.060680317538162075,
          -0.3415314804401644,
          -2.3994321359360637,
          -1.8292002486713017,
          -0.2954406411178994,
          0.4308804806320366,
          -0.10689556363777028,
          1.4089556192348474,
          0.5716511233697971,
          0.18342394810870205,
          0.36969571924469097,
          -0.6231566510192728,
          -1.3706148974987369,
          -0.28615276432148967,
          0.22151874757782652,
          0.8618996252866993,
          -2.104564936295545,
          0.050772616377669236,
          -1.5751320938408422,
          0.529309231319148,
          1.2505362277466154,
          0.5802563261424589,
          1.7510243835154893,
          -0.1627631243159947,
          -0.07003449753416875,
          -0.7440752774362521,
          0.31874611082693405,
          0.1704263449760727,
          -0.11002542802261428,
          -0.24391672792443203,
          0.12914644876715653,
          -0.11217720875904467,
          -1.1825183945583666,
          -0.6923098843607846,
          -0.7681572995718657,
          1.1967731690030423,
          -1.0847602441923174,
          -0.2468238604708724,
          -1.275210084786202,
          -0.2937753192692088,
          -0.009646863994237882,
          -0.09900121737954734,
          -2.273401838062692,
          0.6410847024367559,
          -1.0315530517482356,
          -0.23298010070511913,
          0.21011149847632665,
          -1.6448213858583116,
          0.9457050033179516,
          -0.558715442009201,
          -0.4626338089775159,
          -0.4970146323240726,
          0.5580016935266144,
          1.4573952335048144,
          0.013241314320308596,
          -0.5396902491902932,
          2.0752884236753153,
          0.32674800644109625,
          -0.9622506422535216,
          0.018215536423492086,
          0.8843134448695068,
          -0.018465958943413796,
          -1.1360868737298324,
          -1.7102980416719817,
          -1.6399112314218767,
          -1.9949333484692264,
          0.4223668366027454,
          -1.205824691590463,
          -1.0046967973566239,
          1.0545659444662052,
          -0.16281636113476167,
          -2.195290457025516,
          -0.40360203397521616,
          -0.5068641103072004,
          -1.010766369579888,
          1.035543712197159,
          0.11165562042085199,
          -0.6837883644397107,
          0.06629731977819796
         ],
         "xaxis": "x12",
         "y": [
          0.5201109778797136,
          0.07261771142678988,
          0.4845486456551353,
          0.04175729206404078,
          0.07214813886953271,
          2.5606694217959833,
          0.07923671155527522,
          -0.2554548938241622,
          -0.48350893289418834,
          -0.3601080724389737,
          0.1791297395186548,
          -0.3718455967328699,
          -0.10285950790430816,
          0.1352652300933272,
          -0.403587208589028,
          -0.9703320757531556,
          -1.0309098376147865,
          -0.7839258323598245,
          0.42945907942978373,
          -0.16623496285325534,
          -1.4169503388885316,
          0.2539949991347254,
          -0.020580254158317893,
          -1.0488541639354112,
          -2.900279322232684,
          0.014575478409169191,
          -0.326673408691736,
          -0.18735692164121553,
          0.5945073068751859,
          -1.1483605677505577,
          -0.06420435125397268,
          0.18831486406559445,
          -2.0494593872241715,
          -0.293484960876104,
          -0.9929240294800716,
          -0.4339844599054614,
          -0.8077561213226911,
          0.16124317270479846,
          -0.9424420244798318,
          -3.0363692113542298,
          -1.0081465330942094,
          -0.2576960247641065,
          -0.629302913191415,
          -0.7512827541389725,
          1.3097259912622083,
          0.3891212137644769,
          0.25792350431937977,
          -1.4255660416617586,
          0.6313337215541744,
          -0.8086724659291554,
          -0.31398184848967853,
          0.8968079243347657,
          -0.41047214370925006,
          0.3085293139653205,
          2.440954175592653,
          1.172510577125236,
          -0.21452964732278043,
          1.2500901451930229,
          0.43545890987911706,
          -0.15450392741326677,
          0.34389616421093383,
          0.7022310466650089,
          0.26950241011431497,
          -0.4087380376584617,
          -0.05854610989108658,
          -1.2253792268194523,
          0.36920968290947853,
          0.9510900473471998,
          -0.58479957902115,
          0.2012651723901271,
          -2.2157890554992186,
          0.2572549110191389,
          0.6026994347030282,
          -0.5190278348745757,
          -0.659545259399039,
          0.1013534807846591,
          -1.3857377750410784,
          0.6780432092694408,
          -2.7686858883402987,
          -1.151356806602218,
          -0.38093518884231675,
          1.7752163898008257,
          1.638870823306406,
          0.42769795627912727,
          -1.724320012317729,
          -0.313077254850423,
          -1.6924590866164944,
          0.24414122730241494,
          0.004458488897950751,
          1.232211012758207,
          -0.5640207859786823,
          1.4659627874886405,
          -1.4612430503540268,
          0.5515163223382007,
          -1.1760157382514314,
          -0.5280048160291578,
          0.6642118534920832,
          -0.41497442121476247,
          0.4840723227255899,
          1.4572878058103327
         ],
         "yaxis": "y12"
        },
        {
         "line": {
          "color": "rgba(128, 128, 128, 1.0)",
          "dash": "solid",
          "shape": "linear",
          "width": 1.3
         },
         "marker": {
          "size": 2,
          "symbol": "circle"
         },
         "mode": "markers",
         "name": "D",
         "text": "",
         "type": "scatter",
         "x": [
          0.886481626762867,
          -0.3499620218114763,
          -1.585776582814845,
          0.6484898454257476,
          -1.9979968441142282,
          0.1201311235502911,
          -0.4148740926620486,
          0.48602098140719663,
          -0.4421915736894337,
          1.2418778460177193,
          0.10118778876868344,
          -0.3818017352390294,
          -1.0889405954178286,
          -1.0775398374986283,
          0.7176163433204604,
          0.33913004139571756,
          -0.4032606079303681,
          -0.3637756464595728,
          -1.4718184440680067,
          0.713886037258169,
          0.19269588171664376,
          0.23304829932510332,
          0.5709190035735119,
          -1.8433915506663612,
          0.8324219856241711,
          -1.0757550291979756,
          0.5077556723582699,
          -0.44413901106422243,
          -1.0086197778973143,
          -1.4028236947855495,
          0.7121967790439677,
          0.3204505587958397,
          0.4445431803849003,
          -0.7710464998332621,
          -0.32331670313769884,
          -0.37674258119090615,
          -0.4248675218977924,
          0.40764947955994546,
          -1.3078826247959392,
          1.0601288365287158,
          -0.07365209559188851,
          -0.15604718500861364,
          0.6942083782207596,
          1.6486670014904792,
          -0.7077253997726066,
          1.2800832468714303,
          -0.9465578355996911,
          -0.20620629379940864,
          -0.7963607240498749,
          -0.36078265872225806,
          1.2110561274705427,
          -0.1104525081824256,
          -0.6700042401655598,
          0.5569922218535346,
          0.3089864141526496,
          -0.2255228252683958,
          -0.2420062158747075,
          1.422815466914821,
          0.1503362119866953,
          -0.08743388513554257,
          -2.0349797681611563,
          0.8458105742183093,
          1.5407511255122293,
          0.029309506747405435,
          0.8584238640416992,
          0.9580984168929361,
          -0.9005130295018315,
          -0.013473286256282085,
          -0.8038220434152606,
          0.5661970188353798,
          -0.41924053958573,
          -0.29814007571196643,
          -0.03279477170129877,
          0.29650560309755564,
          -0.5463247852636246,
          -0.7671606914275885,
          1.0529157002903464,
          0.7838311671342689,
          1.9802407213895976,
          0.47847443413408924,
          1.0458971972595335,
          -1.2475785868909688,
          -0.8810956529233439,
          -1.6642079892521435,
          0.7756690712728784,
          -0.14000153305790228,
          -0.298192880456967,
          0.6070013657895164,
          0.9080645827077884,
          0.7257777964960853,
          -2.3168928477995996,
          -0.23743985166319456,
          -0.6036935396622959,
          -1.022352491479891,
          1.11444393383111,
          1.145304707468234,
          -3.250282066368351,
          1.5221237939575507,
          0.14200502104205395,
          0.38571662007639357
         ],
         "xaxis": "x13",
         "y": [
          -0.8988369730855046,
          -0.5973989117894579,
          -2.4769542611372675,
          0.18580822703921393,
          -1.4477266106016817,
          0.7475126441147879,
          -0.40662767732843136,
          0.21562464027425288,
          -0.8437175533042076,
          -0.9206671582879606,
          -0.5128985721362068,
          0.4125456490439085,
          -0.8139361694983875,
          -0.24474602739648574,
          1.399660958090668,
          -0.5690667592803338,
          0.10284268754132027,
          -1.0493291743851698,
          0.8627545558195271,
          -0.9045099347478545,
          -1.026386794162491,
          0.060680317538162075,
          -0.3415314804401644,
          -2.3994321359360637,
          -1.8292002486713017,
          -0.2954406411178994,
          0.4308804806320366,
          -0.10689556363777028,
          1.4089556192348474,
          0.5716511233697971,
          0.18342394810870205,
          0.36969571924469097,
          -0.6231566510192728,
          -1.3706148974987369,
          -0.28615276432148967,
          0.22151874757782652,
          0.8618996252866993,
          -2.104564936295545,
          0.050772616377669236,
          -1.5751320938408422,
          0.529309231319148,
          1.2505362277466154,
          0.5802563261424589,
          1.7510243835154893,
          -0.1627631243159947,
          -0.07003449753416875,
          -0.7440752774362521,
          0.31874611082693405,
          0.1704263449760727,
          -0.11002542802261428,
          -0.24391672792443203,
          0.12914644876715653,
          -0.11217720875904467,
          -1.1825183945583666,
          -0.6923098843607846,
          -0.7681572995718657,
          1.1967731690030423,
          -1.0847602441923174,
          -0.2468238604708724,
          -1.275210084786202,
          -0.2937753192692088,
          -0.009646863994237882,
          -0.09900121737954734,
          -2.273401838062692,
          0.6410847024367559,
          -1.0315530517482356,
          -0.23298010070511913,
          0.21011149847632665,
          -1.6448213858583116,
          0.9457050033179516,
          -0.558715442009201,
          -0.4626338089775159,
          -0.4970146323240726,
          0.5580016935266144,
          1.4573952335048144,
          0.013241314320308596,
          -0.5396902491902932,
          2.0752884236753153,
          0.32674800644109625,
          -0.9622506422535216,
          0.018215536423492086,
          0.8843134448695068,
          -0.018465958943413796,
          -1.1360868737298324,
          -1.7102980416719817,
          -1.6399112314218767,
          -1.9949333484692264,
          0.4223668366027454,
          -1.205824691590463,
          -1.0046967973566239,
          1.0545659444662052,
          -0.16281636113476167,
          -2.195290457025516,
          -0.40360203397521616,
          -0.5068641103072004,
          -1.010766369579888,
          1.035543712197159,
          0.11165562042085199,
          -0.6837883644397107,
          0.06629731977819796
         ],
         "yaxis": "y13"
        },
        {
         "line": {
          "color": "rgba(128, 128, 128, 1.0)",
          "dash": "solid",
          "shape": "linear",
          "width": 1.3
         },
         "marker": {
          "size": 2,
          "symbol": "circle"
         },
         "mode": "markers",
         "name": "D",
         "text": "",
         "type": "scatter",
         "x": [
          -0.46449043768408943,
          0.3523981764252299,
          -2.3568287709836473,
          2.390595577632367,
          -0.9711494279100952,
          -0.598162370267831,
          -0.3968615131465438,
          -1.4678698356334754,
          -0.28684894742407796,
          0.9208405274368389,
          0.9624893523587785,
          -0.4726705970974675,
          -0.6879754336784105,
          -1.3738071612856435,
          0.15306973430517098,
          1.39271128590778,
          1.4306641888922735,
          -1.7229685803087822,
          0.876023771464418,
          -0.6803902408216923,
          -0.5941052879566986,
          0.12043446146704843,
          -0.28515613992993033,
          -0.32609061091749375,
          0.47425472148627396,
          -1.2522126657446717,
          -0.3243536009422392,
          0.5049793346016036,
          -0.04176998943973294,
          0.40192394612822196,
          -0.28054043055164984,
          0.14883547195933453,
          -0.12105123038966474,
          1.0343349745490065,
          0.5991071166463736,
          0.567778493863068,
          0.3037646239706531,
          -1.3719041517480557,
          -0.4436317499417215,
          0.38529293294782807,
          0.18887020024921888,
          -0.44131088434181726,
          -1.345417457240369,
          0.1950054187256295,
          0.008516791334651708,
          -0.030138945389232976,
          -0.052181696931563104,
          -0.28531533414502924,
          -0.3837973447267495,
          -0.07335949970633836,
          -0.5016619524152183,
          -0.07377196799595183,
          1.314600491631252,
          -0.5755533402380913,
          1.04234687914125,
          -1.9884263599852992,
          -0.4546812851638831,
          -0.9135355999965279,
          0.1202491772493144,
          0.2982883545760662,
          1.1759196674481656,
          0.1765180905394663,
          -0.1393540853360605,
          -1.6912307557741173,
          0.6517544039399077,
          -0.11723751480317693,
          0.225761143742028,
          2.575309512971,
          -0.38535401952248977,
          0.12673017985596988,
          -0.07216106803459287,
          1.5616852752254324,
          -1.0467543733046534,
          0.8101267949195068,
          -0.42749849903243314,
          -0.11251204442772755,
          -1.1106289672153369,
          0.3332379125685002,
          1.0663205215842115,
          -1.9046403985666256,
          1.8284597174145687,
          -0.6975813374405788,
          0.46500534847745456,
          0.2676519512599508,
          -0.9130053337789412,
          -0.1662797376110315,
          0.8053195931493092,
          -1.3026754192540417,
          0.15700431317050292,
          -1.207547463863445,
          0.3039178415683296,
          1.994212832448182,
          -0.14322280376679514,
          -1.0562473515513469,
          -1.2639667192364323,
          -0.8634228472340293,
          1.4018232890368303,
          -1.6562191518856821,
          -0.21648483960705828,
          -0.05978220684500359
         ],
         "xaxis": "x14",
         "y": [
          -0.8988369730855046,
          -0.5973989117894579,
          -2.4769542611372675,
          0.18580822703921393,
          -1.4477266106016817,
          0.7475126441147879,
          -0.40662767732843136,
          0.21562464027425288,
          -0.8437175533042076,
          -0.9206671582879606,
          -0.5128985721362068,
          0.4125456490439085,
          -0.8139361694983875,
          -0.24474602739648574,
          1.399660958090668,
          -0.5690667592803338,
          0.10284268754132027,
          -1.0493291743851698,
          0.8627545558195271,
          -0.9045099347478545,
          -1.026386794162491,
          0.060680317538162075,
          -0.3415314804401644,
          -2.3994321359360637,
          -1.8292002486713017,
          -0.2954406411178994,
          0.4308804806320366,
          -0.10689556363777028,
          1.4089556192348474,
          0.5716511233697971,
          0.18342394810870205,
          0.36969571924469097,
          -0.6231566510192728,
          -1.3706148974987369,
          -0.28615276432148967,
          0.22151874757782652,
          0.8618996252866993,
          -2.104564936295545,
          0.050772616377669236,
          -1.5751320938408422,
          0.529309231319148,
          1.2505362277466154,
          0.5802563261424589,
          1.7510243835154893,
          -0.1627631243159947,
          -0.07003449753416875,
          -0.7440752774362521,
          0.31874611082693405,
          0.1704263449760727,
          -0.11002542802261428,
          -0.24391672792443203,
          0.12914644876715653,
          -0.11217720875904467,
          -1.1825183945583666,
          -0.6923098843607846,
          -0.7681572995718657,
          1.1967731690030423,
          -1.0847602441923174,
          -0.2468238604708724,
          -1.275210084786202,
          -0.2937753192692088,
          -0.009646863994237882,
          -0.09900121737954734,
          -2.273401838062692,
          0.6410847024367559,
          -1.0315530517482356,
          -0.23298010070511913,
          0.21011149847632665,
          -1.6448213858583116,
          0.9457050033179516,
          -0.558715442009201,
          -0.4626338089775159,
          -0.4970146323240726,
          0.5580016935266144,
          1.4573952335048144,
          0.013241314320308596,
          -0.5396902491902932,
          2.0752884236753153,
          0.32674800644109625,
          -0.9622506422535216,
          0.018215536423492086,
          0.8843134448695068,
          -0.018465958943413796,
          -1.1360868737298324,
          -1.7102980416719817,
          -1.6399112314218767,
          -1.9949333484692264,
          0.4223668366027454,
          -1.205824691590463,
          -1.0046967973566239,
          1.0545659444662052,
          -0.16281636113476167,
          -2.195290457025516,
          -0.40360203397521616,
          -0.5068641103072004,
          -1.010766369579888,
          1.035543712197159,
          0.11165562042085199,
          -0.6837883644397107,
          0.06629731977819796
         ],
         "yaxis": "y14"
        },
        {
         "line": {
          "color": "rgba(128, 128, 128, 1.0)",
          "dash": "solid",
          "shape": "linear",
          "width": 1.3
         },
         "marker": {
          "size": 2,
          "symbol": "circle"
         },
         "mode": "markers",
         "name": "D",
         "text": "",
         "type": "scatter",
         "x": [
          0.5201109778797136,
          0.07261771142678988,
          0.4845486456551353,
          0.04175729206404078,
          0.07214813886953271,
          2.5606694217959833,
          0.07923671155527522,
          -0.2554548938241622,
          -0.48350893289418834,
          -0.3601080724389737,
          0.1791297395186548,
          -0.3718455967328699,
          -0.10285950790430816,
          0.1352652300933272,
          -0.403587208589028,
          -0.9703320757531556,
          -1.0309098376147865,
          -0.7839258323598245,
          0.42945907942978373,
          -0.16623496285325534,
          -1.4169503388885316,
          0.2539949991347254,
          -0.020580254158317893,
          -1.0488541639354112,
          -2.900279322232684,
          0.014575478409169191,
          -0.326673408691736,
          -0.18735692164121553,
          0.5945073068751859,
          -1.1483605677505577,
          -0.06420435125397268,
          0.18831486406559445,
          -2.0494593872241715,
          -0.293484960876104,
          -0.9929240294800716,
          -0.4339844599054614,
          -0.8077561213226911,
          0.16124317270479846,
          -0.9424420244798318,
          -3.0363692113542298,
          -1.0081465330942094,
          -0.2576960247641065,
          -0.629302913191415,
          -0.7512827541389725,
          1.3097259912622083,
          0.3891212137644769,
          0.25792350431937977,
          -1.4255660416617586,
          0.6313337215541744,
          -0.8086724659291554,
          -0.31398184848967853,
          0.8968079243347657,
          -0.41047214370925006,
          0.3085293139653205,
          2.440954175592653,
          1.172510577125236,
          -0.21452964732278043,
          1.2500901451930229,
          0.43545890987911706,
          -0.15450392741326677,
          0.34389616421093383,
          0.7022310466650089,
          0.26950241011431497,
          -0.4087380376584617,
          -0.05854610989108658,
          -1.2253792268194523,
          0.36920968290947853,
          0.9510900473471998,
          -0.58479957902115,
          0.2012651723901271,
          -2.2157890554992186,
          0.2572549110191389,
          0.6026994347030282,
          -0.5190278348745757,
          -0.659545259399039,
          0.1013534807846591,
          -1.3857377750410784,
          0.6780432092694408,
          -2.7686858883402987,
          -1.151356806602218,
          -0.38093518884231675,
          1.7752163898008257,
          1.638870823306406,
          0.42769795627912727,
          -1.724320012317729,
          -0.313077254850423,
          -1.6924590866164944,
          0.24414122730241494,
          0.004458488897950751,
          1.232211012758207,
          -0.5640207859786823,
          1.4659627874886405,
          -1.4612430503540268,
          0.5515163223382007,
          -1.1760157382514314,
          -0.5280048160291578,
          0.6642118534920832,
          -0.41497442121476247,
          0.4840723227255899,
          1.4572878058103327
         ],
         "xaxis": "x15",
         "y": [
          -0.8988369730855046,
          -0.5973989117894579,
          -2.4769542611372675,
          0.18580822703921393,
          -1.4477266106016817,
          0.7475126441147879,
          -0.40662767732843136,
          0.21562464027425288,
          -0.8437175533042076,
          -0.9206671582879606,
          -0.5128985721362068,
          0.4125456490439085,
          -0.8139361694983875,
          -0.24474602739648574,
          1.399660958090668,
          -0.5690667592803338,
          0.10284268754132027,
          -1.0493291743851698,
          0.8627545558195271,
          -0.9045099347478545,
          -1.026386794162491,
          0.060680317538162075,
          -0.3415314804401644,
          -2.3994321359360637,
          -1.8292002486713017,
          -0.2954406411178994,
          0.4308804806320366,
          -0.10689556363777028,
          1.4089556192348474,
          0.5716511233697971,
          0.18342394810870205,
          0.36969571924469097,
          -0.6231566510192728,
          -1.3706148974987369,
          -0.28615276432148967,
          0.22151874757782652,
          0.8618996252866993,
          -2.104564936295545,
          0.050772616377669236,
          -1.5751320938408422,
          0.529309231319148,
          1.2505362277466154,
          0.5802563261424589,
          1.7510243835154893,
          -0.1627631243159947,
          -0.07003449753416875,
          -0.7440752774362521,
          0.31874611082693405,
          0.1704263449760727,
          -0.11002542802261428,
          -0.24391672792443203,
          0.12914644876715653,
          -0.11217720875904467,
          -1.1825183945583666,
          -0.6923098843607846,
          -0.7681572995718657,
          1.1967731690030423,
          -1.0847602441923174,
          -0.2468238604708724,
          -1.275210084786202,
          -0.2937753192692088,
          -0.009646863994237882,
          -0.09900121737954734,
          -2.273401838062692,
          0.6410847024367559,
          -1.0315530517482356,
          -0.23298010070511913,
          0.21011149847632665,
          -1.6448213858583116,
          0.9457050033179516,
          -0.558715442009201,
          -0.4626338089775159,
          -0.4970146323240726,
          0.5580016935266144,
          1.4573952335048144,
          0.013241314320308596,
          -0.5396902491902932,
          2.0752884236753153,
          0.32674800644109625,
          -0.9622506422535216,
          0.018215536423492086,
          0.8843134448695068,
          -0.018465958943413796,
          -1.1360868737298324,
          -1.7102980416719817,
          -1.6399112314218767,
          -1.9949333484692264,
          0.4223668366027454,
          -1.205824691590463,
          -1.0046967973566239,
          1.0545659444662052,
          -0.16281636113476167,
          -2.195290457025516,
          -0.40360203397521616,
          -0.5068641103072004,
          -1.010766369579888,
          1.035543712197159,
          0.11165562042085199,
          -0.6837883644397107,
          0.06629731977819796
         ],
         "yaxis": "y15"
        },
        {
         "histfunc": "count",
         "histnorm": "",
         "marker": {
          "color": "rgba(128, 0, 128, 1.0)",
          "line": {
           "color": "#4D5663",
           "width": 1.3
          }
         },
         "name": "D",
         "nbinsx": 10,
         "opacity": 0.8,
         "orientation": "v",
         "type": "histogram",
         "x": [
          -0.8988369730855046,
          -0.5973989117894579,
          -2.4769542611372675,
          0.18580822703921393,
          -1.4477266106016817,
          0.7475126441147879,
          -0.40662767732843136,
          0.21562464027425288,
          -0.8437175533042076,
          -0.9206671582879606,
          -0.5128985721362068,
          0.4125456490439085,
          -0.8139361694983875,
          -0.24474602739648574,
          1.399660958090668,
          -0.5690667592803338,
          0.10284268754132027,
          -1.0493291743851698,
          0.8627545558195271,
          -0.9045099347478545,
          -1.026386794162491,
          0.060680317538162075,
          -0.3415314804401644,
          -2.3994321359360637,
          -1.8292002486713017,
          -0.2954406411178994,
          0.4308804806320366,
          -0.10689556363777028,
          1.4089556192348474,
          0.5716511233697971,
          0.18342394810870205,
          0.36969571924469097,
          -0.6231566510192728,
          -1.3706148974987369,
          -0.28615276432148967,
          0.22151874757782652,
          0.8618996252866993,
          -2.104564936295545,
          0.050772616377669236,
          -1.5751320938408422,
          0.529309231319148,
          1.2505362277466154,
          0.5802563261424589,
          1.7510243835154893,
          -0.1627631243159947,
          -0.07003449753416875,
          -0.7440752774362521,
          0.31874611082693405,
          0.1704263449760727,
          -0.11002542802261428,
          -0.24391672792443203,
          0.12914644876715653,
          -0.11217720875904467,
          -1.1825183945583666,
          -0.6923098843607846,
          -0.7681572995718657,
          1.1967731690030423,
          -1.0847602441923174,
          -0.2468238604708724,
          -1.275210084786202,
          -0.2937753192692088,
          -0.009646863994237882,
          -0.09900121737954734,
          -2.273401838062692,
          0.6410847024367559,
          -1.0315530517482356,
          -0.23298010070511913,
          0.21011149847632665,
          -1.6448213858583116,
          0.9457050033179516,
          -0.558715442009201,
          -0.4626338089775159,
          -0.4970146323240726,
          0.5580016935266144,
          1.4573952335048144,
          0.013241314320308596,
          -0.5396902491902932,
          2.0752884236753153,
          0.32674800644109625,
          -0.9622506422535216,
          0.018215536423492086,
          0.8843134448695068,
          -0.018465958943413796,
          -1.1360868737298324,
          -1.7102980416719817,
          -1.6399112314218767,
          -1.9949333484692264,
          0.4223668366027454,
          -1.205824691590463,
          -1.0046967973566239,
          1.0545659444662052,
          -0.16281636113476167,
          -2.195290457025516,
          -0.40360203397521616,
          -0.5068641103072004,
          -1.010766369579888,
          1.035543712197159,
          0.11165562042085199,
          -0.6837883644397107,
          0.06629731977819796
         ],
         "xaxis": "x16",
         "yaxis": "y16"
        }
       ],
       "layout": {
        "bargap": 0.02,
        "legend": {
         "bgcolor": "#F5F6F9",
         "font": {
          "color": "#4D5663"
         }
        },
        "paper_bgcolor": "#F5F6F9",
        "plot_bgcolor": "#F5F6F9",
        "showlegend": false,
        "template": {
         "data": {
          "bar": [
           {
            "error_x": {
             "color": "#2a3f5f"
            },
            "error_y": {
             "color": "#2a3f5f"
            },
            "marker": {
             "line": {
              "color": "#E5ECF6",
              "width": 0.5
             },
             "pattern": {
              "fillmode": "overlay",
              "size": 10,
              "solidity": 0.2
             }
            },
            "type": "bar"
           }
          ],
          "barpolar": [
           {
            "marker": {
             "line": {
              "color": "#E5ECF6",
              "width": 0.5
             },
             "pattern": {
              "fillmode": "overlay",
              "size": 10,
              "solidity": 0.2
             }
            },
            "type": "barpolar"
           }
          ],
          "carpet": [
           {
            "aaxis": {
             "endlinecolor": "#2a3f5f",
             "gridcolor": "white",
             "linecolor": "white",
             "minorgridcolor": "white",
             "startlinecolor": "#2a3f5f"
            },
            "baxis": {
             "endlinecolor": "#2a3f5f",
             "gridcolor": "white",
             "linecolor": "white",
             "minorgridcolor": "white",
             "startlinecolor": "#2a3f5f"
            },
            "type": "carpet"
           }
          ],
          "choropleth": [
           {
            "colorbar": {
             "outlinewidth": 0,
             "ticks": ""
            },
            "type": "choropleth"
           }
          ],
          "contour": [
           {
            "colorbar": {
             "outlinewidth": 0,
             "ticks": ""
            },
            "colorscale": [
             [
              0,
              "#0d0887"
             ],
             [
              0.1111111111111111,
              "#46039f"
             ],
             [
              0.2222222222222222,
              "#7201a8"
             ],
             [
              0.3333333333333333,
              "#9c179e"
             ],
             [
              0.4444444444444444,
              "#bd3786"
             ],
             [
              0.5555555555555556,
              "#d8576b"
             ],
             [
              0.6666666666666666,
              "#ed7953"
             ],
             [
              0.7777777777777778,
              "#fb9f3a"
             ],
             [
              0.8888888888888888,
              "#fdca26"
             ],
             [
              1,
              "#f0f921"
             ]
            ],
            "type": "contour"
           }
          ],
          "contourcarpet": [
           {
            "colorbar": {
             "outlinewidth": 0,
             "ticks": ""
            },
            "type": "contourcarpet"
           }
          ],
          "heatmap": [
           {
            "colorbar": {
             "outlinewidth": 0,
             "ticks": ""
            },
            "colorscale": [
             [
              0,
              "#0d0887"
             ],
             [
              0.1111111111111111,
              "#46039f"
             ],
             [
              0.2222222222222222,
              "#7201a8"
             ],
             [
              0.3333333333333333,
              "#9c179e"
             ],
             [
              0.4444444444444444,
              "#bd3786"
             ],
             [
              0.5555555555555556,
              "#d8576b"
             ],
             [
              0.6666666666666666,
              "#ed7953"
             ],
             [
              0.7777777777777778,
              "#fb9f3a"
             ],
             [
              0.8888888888888888,
              "#fdca26"
             ],
             [
              1,
              "#f0f921"
             ]
            ],
            "type": "heatmap"
           }
          ],
          "heatmapgl": [
           {
            "colorbar": {
             "outlinewidth": 0,
             "ticks": ""
            },
            "colorscale": [
             [
              0,
              "#0d0887"
             ],
             [
              0.1111111111111111,
              "#46039f"
             ],
             [
              0.2222222222222222,
              "#7201a8"
             ],
             [
              0.3333333333333333,
              "#9c179e"
             ],
             [
              0.4444444444444444,
              "#bd3786"
             ],
             [
              0.5555555555555556,
              "#d8576b"
             ],
             [
              0.6666666666666666,
              "#ed7953"
             ],
             [
              0.7777777777777778,
              "#fb9f3a"
             ],
             [
              0.8888888888888888,
              "#fdca26"
             ],
             [
              1,
              "#f0f921"
             ]
            ],
            "type": "heatmapgl"
           }
          ],
          "histogram": [
           {
            "marker": {
             "pattern": {
              "fillmode": "overlay",
              "size": 10,
              "solidity": 0.2
             }
            },
            "type": "histogram"
           }
          ],
          "histogram2d": [
           {
            "colorbar": {
             "outlinewidth": 0,
             "ticks": ""
            },
            "colorscale": [
             [
              0,
              "#0d0887"
             ],
             [
              0.1111111111111111,
              "#46039f"
             ],
             [
              0.2222222222222222,
              "#7201a8"
             ],
             [
              0.3333333333333333,
              "#9c179e"
             ],
             [
              0.4444444444444444,
              "#bd3786"
             ],
             [
              0.5555555555555556,
              "#d8576b"
             ],
             [
              0.6666666666666666,
              "#ed7953"
             ],
             [
              0.7777777777777778,
              "#fb9f3a"
             ],
             [
              0.8888888888888888,
              "#fdca26"
             ],
             [
              1,
              "#f0f921"
             ]
            ],
            "type": "histogram2d"
           }
          ],
          "histogram2dcontour": [
           {
            "colorbar": {
             "outlinewidth": 0,
             "ticks": ""
            },
            "colorscale": [
             [
              0,
              "#0d0887"
             ],
             [
              0.1111111111111111,
              "#46039f"
             ],
             [
              0.2222222222222222,
              "#7201a8"
             ],
             [
              0.3333333333333333,
              "#9c179e"
             ],
             [
              0.4444444444444444,
              "#bd3786"
             ],
             [
              0.5555555555555556,
              "#d8576b"
             ],
             [
              0.6666666666666666,
              "#ed7953"
             ],
             [
              0.7777777777777778,
              "#fb9f3a"
             ],
             [
              0.8888888888888888,
              "#fdca26"
             ],
             [
              1,
              "#f0f921"
             ]
            ],
            "type": "histogram2dcontour"
           }
          ],
          "mesh3d": [
           {
            "colorbar": {
             "outlinewidth": 0,
             "ticks": ""
            },
            "type": "mesh3d"
           }
          ],
          "parcoords": [
           {
            "line": {
             "colorbar": {
              "outlinewidth": 0,
              "ticks": ""
             }
            },
            "type": "parcoords"
           }
          ],
          "pie": [
           {
            "automargin": true,
            "type": "pie"
           }
          ],
          "scatter": [
           {
            "marker": {
             "colorbar": {
              "outlinewidth": 0,
              "ticks": ""
             }
            },
            "type": "scatter"
           }
          ],
          "scatter3d": [
           {
            "line": {
             "colorbar": {
              "outlinewidth": 0,
              "ticks": ""
             }
            },
            "marker": {
             "colorbar": {
              "outlinewidth": 0,
              "ticks": ""
             }
            },
            "type": "scatter3d"
           }
          ],
          "scattercarpet": [
           {
            "marker": {
             "colorbar": {
              "outlinewidth": 0,
              "ticks": ""
             }
            },
            "type": "scattercarpet"
           }
          ],
          "scattergeo": [
           {
            "marker": {
             "colorbar": {
              "outlinewidth": 0,
              "ticks": ""
             }
            },
            "type": "scattergeo"
           }
          ],
          "scattergl": [
           {
            "marker": {
             "colorbar": {
              "outlinewidth": 0,
              "ticks": ""
             }
            },
            "type": "scattergl"
           }
          ],
          "scattermapbox": [
           {
            "marker": {
             "colorbar": {
              "outlinewidth": 0,
              "ticks": ""
             }
            },
            "type": "scattermapbox"
           }
          ],
          "scatterpolar": [
           {
            "marker": {
             "colorbar": {
              "outlinewidth": 0,
              "ticks": ""
             }
            },
            "type": "scatterpolar"
           }
          ],
          "scatterpolargl": [
           {
            "marker": {
             "colorbar": {
              "outlinewidth": 0,
              "ticks": ""
             }
            },
            "type": "scatterpolargl"
           }
          ],
          "scatterternary": [
           {
            "marker": {
             "colorbar": {
              "outlinewidth": 0,
              "ticks": ""
             }
            },
            "type": "scatterternary"
           }
          ],
          "surface": [
           {
            "colorbar": {
             "outlinewidth": 0,
             "ticks": ""
            },
            "colorscale": [
             [
              0,
              "#0d0887"
             ],
             [
              0.1111111111111111,
              "#46039f"
             ],
             [
              0.2222222222222222,
              "#7201a8"
             ],
             [
              0.3333333333333333,
              "#9c179e"
             ],
             [
              0.4444444444444444,
              "#bd3786"
             ],
             [
              0.5555555555555556,
              "#d8576b"
             ],
             [
              0.6666666666666666,
              "#ed7953"
             ],
             [
              0.7777777777777778,
              "#fb9f3a"
             ],
             [
              0.8888888888888888,
              "#fdca26"
             ],
             [
              1,
              "#f0f921"
             ]
            ],
            "type": "surface"
           }
          ],
          "table": [
           {
            "cells": {
             "fill": {
              "color": "#EBF0F8"
             },
             "line": {
              "color": "white"
             }
            },
            "header": {
             "fill": {
              "color": "#C8D4E3"
             },
             "line": {
              "color": "white"
             }
            },
            "type": "table"
           }
          ]
         },
         "layout": {
          "annotationdefaults": {
           "arrowcolor": "#2a3f5f",
           "arrowhead": 0,
           "arrowwidth": 1
          },
          "autotypenumbers": "strict",
          "coloraxis": {
           "colorbar": {
            "outlinewidth": 0,
            "ticks": ""
           }
          },
          "colorscale": {
           "diverging": [
            [
             0,
             "#8e0152"
            ],
            [
             0.1,
             "#c51b7d"
            ],
            [
             0.2,
             "#de77ae"
            ],
            [
             0.3,
             "#f1b6da"
            ],
            [
             0.4,
             "#fde0ef"
            ],
            [
             0.5,
             "#f7f7f7"
            ],
            [
             0.6,
             "#e6f5d0"
            ],
            [
             0.7,
             "#b8e186"
            ],
            [
             0.8,
             "#7fbc41"
            ],
            [
             0.9,
             "#4d9221"
            ],
            [
             1,
             "#276419"
            ]
           ],
           "sequential": [
            [
             0,
             "#0d0887"
            ],
            [
             0.1111111111111111,
             "#46039f"
            ],
            [
             0.2222222222222222,
             "#7201a8"
            ],
            [
             0.3333333333333333,
             "#9c179e"
            ],
            [
             0.4444444444444444,
             "#bd3786"
            ],
            [
             0.5555555555555556,
             "#d8576b"
            ],
            [
             0.6666666666666666,
             "#ed7953"
            ],
            [
             0.7777777777777778,
             "#fb9f3a"
            ],
            [
             0.8888888888888888,
             "#fdca26"
            ],
            [
             1,
             "#f0f921"
            ]
           ],
           "sequentialminus": [
            [
             0,
             "#0d0887"
            ],
            [
             0.1111111111111111,
             "#46039f"
            ],
            [
             0.2222222222222222,
             "#7201a8"
            ],
            [
             0.3333333333333333,
             "#9c179e"
            ],
            [
             0.4444444444444444,
             "#bd3786"
            ],
            [
             0.5555555555555556,
             "#d8576b"
            ],
            [
             0.6666666666666666,
             "#ed7953"
            ],
            [
             0.7777777777777778,
             "#fb9f3a"
            ],
            [
             0.8888888888888888,
             "#fdca26"
            ],
            [
             1,
             "#f0f921"
            ]
           ]
          },
          "colorway": [
           "#636efa",
           "#EF553B",
           "#00cc96",
           "#ab63fa",
           "#FFA15A",
           "#19d3f3",
           "#FF6692",
           "#B6E880",
           "#FF97FF",
           "#FECB52"
          ],
          "font": {
           "color": "#2a3f5f"
          },
          "geo": {
           "bgcolor": "white",
           "lakecolor": "white",
           "landcolor": "#E5ECF6",
           "showlakes": true,
           "showland": true,
           "subunitcolor": "white"
          },
          "hoverlabel": {
           "align": "left"
          },
          "hovermode": "closest",
          "mapbox": {
           "style": "light"
          },
          "paper_bgcolor": "white",
          "plot_bgcolor": "#E5ECF6",
          "polar": {
           "angularaxis": {
            "gridcolor": "white",
            "linecolor": "white",
            "ticks": ""
           },
           "bgcolor": "#E5ECF6",
           "radialaxis": {
            "gridcolor": "white",
            "linecolor": "white",
            "ticks": ""
           }
          },
          "scene": {
           "xaxis": {
            "backgroundcolor": "#E5ECF6",
            "gridcolor": "white",
            "gridwidth": 2,
            "linecolor": "white",
            "showbackground": true,
            "ticks": "",
            "zerolinecolor": "white"
           },
           "yaxis": {
            "backgroundcolor": "#E5ECF6",
            "gridcolor": "white",
            "gridwidth": 2,
            "linecolor": "white",
            "showbackground": true,
            "ticks": "",
            "zerolinecolor": "white"
           },
           "zaxis": {
            "backgroundcolor": "#E5ECF6",
            "gridcolor": "white",
            "gridwidth": 2,
            "linecolor": "white",
            "showbackground": true,
            "ticks": "",
            "zerolinecolor": "white"
           }
          },
          "shapedefaults": {
           "line": {
            "color": "#2a3f5f"
           }
          },
          "ternary": {
           "aaxis": {
            "gridcolor": "white",
            "linecolor": "white",
            "ticks": ""
           },
           "baxis": {
            "gridcolor": "white",
            "linecolor": "white",
            "ticks": ""
           },
           "bgcolor": "#E5ECF6",
           "caxis": {
            "gridcolor": "white",
            "linecolor": "white",
            "ticks": ""
           }
          },
          "title": {
           "x": 0.05
          },
          "xaxis": {
           "automargin": true,
           "gridcolor": "white",
           "linecolor": "white",
           "ticks": "",
           "title": {
            "standoff": 15
           },
           "zerolinecolor": "white",
           "zerolinewidth": 2
          },
          "yaxis": {
           "automargin": true,
           "gridcolor": "white",
           "linecolor": "white",
           "ticks": "",
           "title": {
            "standoff": 15
           },
           "zerolinecolor": "white",
           "zerolinewidth": 2
          }
         }
        },
        "title": {
         "font": {
          "color": "#4D5663"
         }
        },
        "xaxis": {
         "anchor": "y",
         "domain": [
          0,
          0.2125
         ],
         "gridcolor": "#E1E5ED",
         "showgrid": false,
         "tickfont": {
          "color": "#4D5663"
         },
         "title": {
          "font": {
           "color": "#4D5663"
          },
          "text": ""
         },
         "zerolinecolor": "#E1E5ED"
        },
        "xaxis10": {
         "anchor": "y10",
         "domain": [
          0.2625,
          0.475
         ],
         "gridcolor": "#E1E5ED",
         "showgrid": false,
         "tickfont": {
          "color": "#4D5663"
         },
         "title": {
          "font": {
           "color": "#4D5663"
          },
          "text": ""
         },
         "zerolinecolor": "#E1E5ED"
        },
        "xaxis11": {
         "anchor": "y11",
         "domain": [
          0.525,
          0.7375
         ],
         "gridcolor": "#E1E5ED",
         "showgrid": false,
         "tickfont": {
          "color": "#4D5663"
         },
         "title": {
          "font": {
           "color": "#4D5663"
          },
          "text": ""
         },
         "zerolinecolor": "#E1E5ED"
        },
        "xaxis12": {
         "anchor": "y12",
         "domain": [
          0.7875,
          1
         ],
         "gridcolor": "#E1E5ED",
         "showgrid": false,
         "tickfont": {
          "color": "#4D5663"
         },
         "title": {
          "font": {
           "color": "#4D5663"
          },
          "text": ""
         },
         "zerolinecolor": "#E1E5ED"
        },
        "xaxis13": {
         "anchor": "y13",
         "domain": [
          0,
          0.2125
         ],
         "gridcolor": "#E1E5ED",
         "showgrid": false,
         "tickfont": {
          "color": "#4D5663"
         },
         "title": {
          "font": {
           "color": "#4D5663"
          },
          "text": ""
         },
         "zerolinecolor": "#E1E5ED"
        },
        "xaxis14": {
         "anchor": "y14",
         "domain": [
          0.2625,
          0.475
         ],
         "gridcolor": "#E1E5ED",
         "showgrid": false,
         "tickfont": {
          "color": "#4D5663"
         },
         "title": {
          "font": {
           "color": "#4D5663"
          },
          "text": ""
         },
         "zerolinecolor": "#E1E5ED"
        },
        "xaxis15": {
         "anchor": "y15",
         "domain": [
          0.525,
          0.7375
         ],
         "gridcolor": "#E1E5ED",
         "showgrid": false,
         "tickfont": {
          "color": "#4D5663"
         },
         "title": {
          "font": {
           "color": "#4D5663"
          },
          "text": ""
         },
         "zerolinecolor": "#E1E5ED"
        },
        "xaxis16": {
         "anchor": "y16",
         "domain": [
          0.7875,
          1
         ],
         "gridcolor": "#E1E5ED",
         "showgrid": false,
         "tickfont": {
          "color": "#4D5663"
         },
         "title": {
          "font": {
           "color": "#4D5663"
          },
          "text": ""
         },
         "zerolinecolor": "#E1E5ED"
        },
        "xaxis2": {
         "anchor": "y2",
         "domain": [
          0.2625,
          0.475
         ],
         "gridcolor": "#E1E5ED",
         "showgrid": false,
         "tickfont": {
          "color": "#4D5663"
         },
         "title": {
          "font": {
           "color": "#4D5663"
          },
          "text": ""
         },
         "zerolinecolor": "#E1E5ED"
        },
        "xaxis3": {
         "anchor": "y3",
         "domain": [
          0.525,
          0.7375
         ],
         "gridcolor": "#E1E5ED",
         "showgrid": false,
         "tickfont": {
          "color": "#4D5663"
         },
         "title": {
          "font": {
           "color": "#4D5663"
          },
          "text": ""
         },
         "zerolinecolor": "#E1E5ED"
        },
        "xaxis4": {
         "anchor": "y4",
         "domain": [
          0.7875,
          1
         ],
         "gridcolor": "#E1E5ED",
         "showgrid": false,
         "tickfont": {
          "color": "#4D5663"
         },
         "title": {
          "font": {
           "color": "#4D5663"
          },
          "text": ""
         },
         "zerolinecolor": "#E1E5ED"
        },
        "xaxis5": {
         "anchor": "y5",
         "domain": [
          0,
          0.2125
         ],
         "gridcolor": "#E1E5ED",
         "showgrid": false,
         "tickfont": {
          "color": "#4D5663"
         },
         "title": {
          "font": {
           "color": "#4D5663"
          },
          "text": ""
         },
         "zerolinecolor": "#E1E5ED"
        },
        "xaxis6": {
         "anchor": "y6",
         "domain": [
          0.2625,
          0.475
         ],
         "gridcolor": "#E1E5ED",
         "showgrid": false,
         "tickfont": {
          "color": "#4D5663"
         },
         "title": {
          "font": {
           "color": "#4D5663"
          },
          "text": ""
         },
         "zerolinecolor": "#E1E5ED"
        },
        "xaxis7": {
         "anchor": "y7",
         "domain": [
          0.525,
          0.7375
         ],
         "gridcolor": "#E1E5ED",
         "showgrid": false,
         "tickfont": {
          "color": "#4D5663"
         },
         "title": {
          "font": {
           "color": "#4D5663"
          },
          "text": ""
         },
         "zerolinecolor": "#E1E5ED"
        },
        "xaxis8": {
         "anchor": "y8",
         "domain": [
          0.7875,
          1
         ],
         "gridcolor": "#E1E5ED",
         "showgrid": false,
         "tickfont": {
          "color": "#4D5663"
         },
         "title": {
          "font": {
           "color": "#4D5663"
          },
          "text": ""
         },
         "zerolinecolor": "#E1E5ED"
        },
        "xaxis9": {
         "anchor": "y9",
         "domain": [
          0,
          0.2125
         ],
         "gridcolor": "#E1E5ED",
         "showgrid": false,
         "tickfont": {
          "color": "#4D5663"
         },
         "title": {
          "font": {
           "color": "#4D5663"
          },
          "text": ""
         },
         "zerolinecolor": "#E1E5ED"
        },
        "yaxis": {
         "anchor": "x",
         "domain": [
          0.8025,
          1
         ],
         "gridcolor": "#E1E5ED",
         "showgrid": false,
         "tickfont": {
          "color": "#4D5663"
         },
         "title": {
          "font": {
           "color": "#4D5663"
          },
          "text": ""
         },
         "zerolinecolor": "#E1E5ED"
        },
        "yaxis10": {
         "anchor": "x10",
         "domain": [
          0.2675,
          0.465
         ],
         "gridcolor": "#E1E5ED",
         "showgrid": false,
         "tickfont": {
          "color": "#4D5663"
         },
         "title": {
          "font": {
           "color": "#4D5663"
          },
          "text": ""
         },
         "zerolinecolor": "#E1E5ED"
        },
        "yaxis11": {
         "anchor": "x11",
         "domain": [
          0.2675,
          0.465
         ],
         "gridcolor": "#E1E5ED",
         "showgrid": false,
         "tickfont": {
          "color": "#4D5663"
         },
         "title": {
          "font": {
           "color": "#4D5663"
          },
          "text": ""
         },
         "zerolinecolor": "#E1E5ED"
        },
        "yaxis12": {
         "anchor": "x12",
         "domain": [
          0.2675,
          0.465
         ],
         "gridcolor": "#E1E5ED",
         "showgrid": false,
         "tickfont": {
          "color": "#4D5663"
         },
         "title": {
          "font": {
           "color": "#4D5663"
          },
          "text": ""
         },
         "zerolinecolor": "#E1E5ED"
        },
        "yaxis13": {
         "anchor": "x13",
         "domain": [
          0,
          0.1975
         ],
         "gridcolor": "#E1E5ED",
         "showgrid": false,
         "tickfont": {
          "color": "#4D5663"
         },
         "title": {
          "font": {
           "color": "#4D5663"
          },
          "text": ""
         },
         "zerolinecolor": "#E1E5ED"
        },
        "yaxis14": {
         "anchor": "x14",
         "domain": [
          0,
          0.1975
         ],
         "gridcolor": "#E1E5ED",
         "showgrid": false,
         "tickfont": {
          "color": "#4D5663"
         },
         "title": {
          "font": {
           "color": "#4D5663"
          },
          "text": ""
         },
         "zerolinecolor": "#E1E5ED"
        },
        "yaxis15": {
         "anchor": "x15",
         "domain": [
          0,
          0.1975
         ],
         "gridcolor": "#E1E5ED",
         "showgrid": false,
         "tickfont": {
          "color": "#4D5663"
         },
         "title": {
          "font": {
           "color": "#4D5663"
          },
          "text": ""
         },
         "zerolinecolor": "#E1E5ED"
        },
        "yaxis16": {
         "anchor": "x16",
         "domain": [
          0,
          0.1975
         ],
         "gridcolor": "#E1E5ED",
         "showgrid": false,
         "tickfont": {
          "color": "#4D5663"
         },
         "title": {
          "font": {
           "color": "#4D5663"
          },
          "text": ""
         },
         "zerolinecolor": "#E1E5ED"
        },
        "yaxis2": {
         "anchor": "x2",
         "domain": [
          0.8025,
          1
         ],
         "gridcolor": "#E1E5ED",
         "showgrid": false,
         "tickfont": {
          "color": "#4D5663"
         },
         "title": {
          "font": {
           "color": "#4D5663"
          },
          "text": ""
         },
         "zerolinecolor": "#E1E5ED"
        },
        "yaxis3": {
         "anchor": "x3",
         "domain": [
          0.8025,
          1
         ],
         "gridcolor": "#E1E5ED",
         "showgrid": false,
         "tickfont": {
          "color": "#4D5663"
         },
         "title": {
          "font": {
           "color": "#4D5663"
          },
          "text": ""
         },
         "zerolinecolor": "#E1E5ED"
        },
        "yaxis4": {
         "anchor": "x4",
         "domain": [
          0.8025,
          1
         ],
         "gridcolor": "#E1E5ED",
         "showgrid": false,
         "tickfont": {
          "color": "#4D5663"
         },
         "title": {
          "font": {
           "color": "#4D5663"
          },
          "text": ""
         },
         "zerolinecolor": "#E1E5ED"
        },
        "yaxis5": {
         "anchor": "x5",
         "domain": [
          0.535,
          0.7325
         ],
         "gridcolor": "#E1E5ED",
         "showgrid": false,
         "tickfont": {
          "color": "#4D5663"
         },
         "title": {
          "font": {
           "color": "#4D5663"
          },
          "text": ""
         },
         "zerolinecolor": "#E1E5ED"
        },
        "yaxis6": {
         "anchor": "x6",
         "domain": [
          0.535,
          0.7325
         ],
         "gridcolor": "#E1E5ED",
         "showgrid": false,
         "tickfont": {
          "color": "#4D5663"
         },
         "title": {
          "font": {
           "color": "#4D5663"
          },
          "text": ""
         },
         "zerolinecolor": "#E1E5ED"
        },
        "yaxis7": {
         "anchor": "x7",
         "domain": [
          0.535,
          0.7325
         ],
         "gridcolor": "#E1E5ED",
         "showgrid": false,
         "tickfont": {
          "color": "#4D5663"
         },
         "title": {
          "font": {
           "color": "#4D5663"
          },
          "text": ""
         },
         "zerolinecolor": "#E1E5ED"
        },
        "yaxis8": {
         "anchor": "x8",
         "domain": [
          0.535,
          0.7325
         ],
         "gridcolor": "#E1E5ED",
         "showgrid": false,
         "tickfont": {
          "color": "#4D5663"
         },
         "title": {
          "font": {
           "color": "#4D5663"
          },
          "text": ""
         },
         "zerolinecolor": "#E1E5ED"
        },
        "yaxis9": {
         "anchor": "x9",
         "domain": [
          0.2675,
          0.465
         ],
         "gridcolor": "#E1E5ED",
         "showgrid": false,
         "tickfont": {
          "color": "#4D5663"
         },
         "title": {
          "font": {
           "color": "#4D5663"
          },
          "text": ""
         },
         "zerolinecolor": "#E1E5ED"
        }
       }
      },
      "text/html": [
       "<div>                            <div id=\"b3e691e5-1cab-463d-88c4-bfad70fe125d\" class=\"plotly-graph-div\" style=\"height:525px; width:100%;\"></div>            <script type=\"text/javascript\">                require([\"plotly\"], function(Plotly) {                    window.PLOTLYENV=window.PLOTLYENV || {};\n",
       "                    window.PLOTLYENV.BASE_URL='https://plot.ly';                                    if (document.getElementById(\"b3e691e5-1cab-463d-88c4-bfad70fe125d\")) {                    Plotly.newPlot(                        \"b3e691e5-1cab-463d-88c4-bfad70fe125d\",                        [{\"histfunc\":\"count\",\"histnorm\":\"\",\"marker\":{\"color\":\"rgba(255, 153, 51, 1.0)\",\"line\":{\"color\":\"#4D5663\",\"width\":1.3}},\"name\":\"A\",\"nbinsx\":10,\"opacity\":0.8,\"orientation\":\"v\",\"x\":[0.886481626762867,-0.3499620218114763,-1.585776582814845,0.6484898454257476,-1.9979968441142282,0.1201311235502911,-0.4148740926620486,0.48602098140719663,-0.4421915736894337,1.2418778460177193,0.10118778876868344,-0.3818017352390294,-1.0889405954178286,-1.0775398374986283,0.7176163433204604,0.33913004139571756,-0.4032606079303681,-0.3637756464595728,-1.4718184440680067,0.713886037258169,0.19269588171664376,0.23304829932510332,0.5709190035735119,-1.8433915506663612,0.8324219856241711,-1.0757550291979756,0.5077556723582699,-0.44413901106422243,-1.0086197778973143,-1.4028236947855495,0.7121967790439677,0.3204505587958397,0.4445431803849003,-0.7710464998332621,-0.32331670313769884,-0.37674258119090615,-0.4248675218977924,0.40764947955994546,-1.3078826247959392,1.0601288365287158,-0.07365209559188851,-0.15604718500861364,0.6942083782207596,1.6486670014904792,-0.7077253997726066,1.2800832468714303,-0.9465578355996911,-0.20620629379940864,-0.7963607240498749,-0.36078265872225806,1.2110561274705427,-0.1104525081824256,-0.6700042401655598,0.5569922218535346,0.3089864141526496,-0.2255228252683958,-0.2420062158747075,1.422815466914821,0.1503362119866953,-0.08743388513554257,-2.0349797681611563,0.8458105742183093,1.5407511255122293,0.029309506747405435,0.8584238640416992,0.9580984168929361,-0.9005130295018315,-0.013473286256282085,-0.8038220434152606,0.5661970188353798,-0.41924053958573,-0.29814007571196643,-0.03279477170129877,0.29650560309755564,-0.5463247852636246,-0.7671606914275885,1.0529157002903464,0.7838311671342689,1.9802407213895976,0.47847443413408924,1.0458971972595335,-1.2475785868909688,-0.8810956529233439,-1.6642079892521435,0.7756690712728784,-0.14000153305790228,-0.298192880456967,0.6070013657895164,0.9080645827077884,0.7257777964960853,-2.3168928477995996,-0.23743985166319456,-0.6036935396622959,-1.022352491479891,1.11444393383111,1.145304707468234,-3.250282066368351,1.5221237939575507,0.14200502104205395,0.38571662007639357],\"xaxis\":\"x\",\"yaxis\":\"y\",\"type\":\"histogram\"},{\"line\":{\"color\":\"rgba(128, 128, 128, 1.0)\",\"dash\":\"solid\",\"shape\":\"linear\",\"width\":1.3},\"marker\":{\"size\":2,\"symbol\":\"circle\"},\"mode\":\"markers\",\"name\":\"A\",\"text\":\"\",\"x\":[-0.46449043768408943,0.3523981764252299,-2.3568287709836473,2.390595577632367,-0.9711494279100952,-0.598162370267831,-0.3968615131465438,-1.4678698356334754,-0.28684894742407796,0.9208405274368389,0.9624893523587785,-0.4726705970974675,-0.6879754336784105,-1.3738071612856435,0.15306973430517098,1.39271128590778,1.4306641888922735,-1.7229685803087822,0.876023771464418,-0.6803902408216923,-0.5941052879566986,0.12043446146704843,-0.28515613992993033,-0.32609061091749375,0.47425472148627396,-1.2522126657446717,-0.3243536009422392,0.5049793346016036,-0.04176998943973294,0.40192394612822196,-0.28054043055164984,0.14883547195933453,-0.12105123038966474,1.0343349745490065,0.5991071166463736,0.567778493863068,0.3037646239706531,-1.3719041517480557,-0.4436317499417215,0.38529293294782807,0.18887020024921888,-0.44131088434181726,-1.345417457240369,0.1950054187256295,0.008516791334651708,-0.030138945389232976,-0.052181696931563104,-0.28531533414502924,-0.3837973447267495,-0.07335949970633836,-0.5016619524152183,-0.07377196799595183,1.314600491631252,-0.5755533402380913,1.04234687914125,-1.9884263599852992,-0.4546812851638831,-0.9135355999965279,0.1202491772493144,0.2982883545760662,1.1759196674481656,0.1765180905394663,-0.1393540853360605,-1.6912307557741173,0.6517544039399077,-0.11723751480317693,0.225761143742028,2.575309512971,-0.38535401952248977,0.12673017985596988,-0.07216106803459287,1.5616852752254324,-1.0467543733046534,0.8101267949195068,-0.42749849903243314,-0.11251204442772755,-1.1106289672153369,0.3332379125685002,1.0663205215842115,-1.9046403985666256,1.8284597174145687,-0.6975813374405788,0.46500534847745456,0.2676519512599508,-0.9130053337789412,-0.1662797376110315,0.8053195931493092,-1.3026754192540417,0.15700431317050292,-1.207547463863445,0.3039178415683296,1.994212832448182,-0.14322280376679514,-1.0562473515513469,-1.2639667192364323,-0.8634228472340293,1.4018232890368303,-1.6562191518856821,-0.21648483960705828,-0.05978220684500359],\"xaxis\":\"x2\",\"y\":[0.886481626762867,-0.3499620218114763,-1.585776582814845,0.6484898454257476,-1.9979968441142282,0.1201311235502911,-0.4148740926620486,0.48602098140719663,-0.4421915736894337,1.2418778460177193,0.10118778876868344,-0.3818017352390294,-1.0889405954178286,-1.0775398374986283,0.7176163433204604,0.33913004139571756,-0.4032606079303681,-0.3637756464595728,-1.4718184440680067,0.713886037258169,0.19269588171664376,0.23304829932510332,0.5709190035735119,-1.8433915506663612,0.8324219856241711,-1.0757550291979756,0.5077556723582699,-0.44413901106422243,-1.0086197778973143,-1.4028236947855495,0.7121967790439677,0.3204505587958397,0.4445431803849003,-0.7710464998332621,-0.32331670313769884,-0.37674258119090615,-0.4248675218977924,0.40764947955994546,-1.3078826247959392,1.0601288365287158,-0.07365209559188851,-0.15604718500861364,0.6942083782207596,1.6486670014904792,-0.7077253997726066,1.2800832468714303,-0.9465578355996911,-0.20620629379940864,-0.7963607240498749,-0.36078265872225806,1.2110561274705427,-0.1104525081824256,-0.6700042401655598,0.5569922218535346,0.3089864141526496,-0.2255228252683958,-0.2420062158747075,1.422815466914821,0.1503362119866953,-0.08743388513554257,-2.0349797681611563,0.8458105742183093,1.5407511255122293,0.029309506747405435,0.8584238640416992,0.9580984168929361,-0.9005130295018315,-0.013473286256282085,-0.8038220434152606,0.5661970188353798,-0.41924053958573,-0.29814007571196643,-0.03279477170129877,0.29650560309755564,-0.5463247852636246,-0.7671606914275885,1.0529157002903464,0.7838311671342689,1.9802407213895976,0.47847443413408924,1.0458971972595335,-1.2475785868909688,-0.8810956529233439,-1.6642079892521435,0.7756690712728784,-0.14000153305790228,-0.298192880456967,0.6070013657895164,0.9080645827077884,0.7257777964960853,-2.3168928477995996,-0.23743985166319456,-0.6036935396622959,-1.022352491479891,1.11444393383111,1.145304707468234,-3.250282066368351,1.5221237939575507,0.14200502104205395,0.38571662007639357],\"yaxis\":\"y2\",\"type\":\"scatter\"},{\"line\":{\"color\":\"rgba(128, 128, 128, 1.0)\",\"dash\":\"solid\",\"shape\":\"linear\",\"width\":1.3},\"marker\":{\"size\":2,\"symbol\":\"circle\"},\"mode\":\"markers\",\"name\":\"A\",\"text\":\"\",\"x\":[0.5201109778797136,0.07261771142678988,0.4845486456551353,0.04175729206404078,0.07214813886953271,2.5606694217959833,0.07923671155527522,-0.2554548938241622,-0.48350893289418834,-0.3601080724389737,0.1791297395186548,-0.3718455967328699,-0.10285950790430816,0.1352652300933272,-0.403587208589028,-0.9703320757531556,-1.0309098376147865,-0.7839258323598245,0.42945907942978373,-0.16623496285325534,-1.4169503388885316,0.2539949991347254,-0.020580254158317893,-1.0488541639354112,-2.900279322232684,0.014575478409169191,-0.326673408691736,-0.18735692164121553,0.5945073068751859,-1.1483605677505577,-0.06420435125397268,0.18831486406559445,-2.0494593872241715,-0.293484960876104,-0.9929240294800716,-0.4339844599054614,-0.8077561213226911,0.16124317270479846,-0.9424420244798318,-3.0363692113542298,-1.0081465330942094,-0.2576960247641065,-0.629302913191415,-0.7512827541389725,1.3097259912622083,0.3891212137644769,0.25792350431937977,-1.4255660416617586,0.6313337215541744,-0.8086724659291554,-0.31398184848967853,0.8968079243347657,-0.41047214370925006,0.3085293139653205,2.440954175592653,1.172510577125236,-0.21452964732278043,1.2500901451930229,0.43545890987911706,-0.15450392741326677,0.34389616421093383,0.7022310466650089,0.26950241011431497,-0.4087380376584617,-0.05854610989108658,-1.2253792268194523,0.36920968290947853,0.9510900473471998,-0.58479957902115,0.2012651723901271,-2.2157890554992186,0.2572549110191389,0.6026994347030282,-0.5190278348745757,-0.659545259399039,0.1013534807846591,-1.3857377750410784,0.6780432092694408,-2.7686858883402987,-1.151356806602218,-0.38093518884231675,1.7752163898008257,1.638870823306406,0.42769795627912727,-1.724320012317729,-0.313077254850423,-1.6924590866164944,0.24414122730241494,0.004458488897950751,1.232211012758207,-0.5640207859786823,1.4659627874886405,-1.4612430503540268,0.5515163223382007,-1.1760157382514314,-0.5280048160291578,0.6642118534920832,-0.41497442121476247,0.4840723227255899,1.4572878058103327],\"xaxis\":\"x3\",\"y\":[0.886481626762867,-0.3499620218114763,-1.585776582814845,0.6484898454257476,-1.9979968441142282,0.1201311235502911,-0.4148740926620486,0.48602098140719663,-0.4421915736894337,1.2418778460177193,0.10118778876868344,-0.3818017352390294,-1.0889405954178286,-1.0775398374986283,0.7176163433204604,0.33913004139571756,-0.4032606079303681,-0.3637756464595728,-1.4718184440680067,0.713886037258169,0.19269588171664376,0.23304829932510332,0.5709190035735119,-1.8433915506663612,0.8324219856241711,-1.0757550291979756,0.5077556723582699,-0.44413901106422243,-1.0086197778973143,-1.4028236947855495,0.7121967790439677,0.3204505587958397,0.4445431803849003,-0.7710464998332621,-0.32331670313769884,-0.37674258119090615,-0.4248675218977924,0.40764947955994546,-1.3078826247959392,1.0601288365287158,-0.07365209559188851,-0.15604718500861364,0.6942083782207596,1.6486670014904792,-0.7077253997726066,1.2800832468714303,-0.9465578355996911,-0.20620629379940864,-0.7963607240498749,-0.36078265872225806,1.2110561274705427,-0.1104525081824256,-0.6700042401655598,0.5569922218535346,0.3089864141526496,-0.2255228252683958,-0.2420062158747075,1.422815466914821,0.1503362119866953,-0.08743388513554257,-2.0349797681611563,0.8458105742183093,1.5407511255122293,0.029309506747405435,0.8584238640416992,0.9580984168929361,-0.9005130295018315,-0.013473286256282085,-0.8038220434152606,0.5661970188353798,-0.41924053958573,-0.29814007571196643,-0.03279477170129877,0.29650560309755564,-0.5463247852636246,-0.7671606914275885,1.0529157002903464,0.7838311671342689,1.9802407213895976,0.47847443413408924,1.0458971972595335,-1.2475785868909688,-0.8810956529233439,-1.6642079892521435,0.7756690712728784,-0.14000153305790228,-0.298192880456967,0.6070013657895164,0.9080645827077884,0.7257777964960853,-2.3168928477995996,-0.23743985166319456,-0.6036935396622959,-1.022352491479891,1.11444393383111,1.145304707468234,-3.250282066368351,1.5221237939575507,0.14200502104205395,0.38571662007639357],\"yaxis\":\"y3\",\"type\":\"scatter\"},{\"line\":{\"color\":\"rgba(128, 128, 128, 1.0)\",\"dash\":\"solid\",\"shape\":\"linear\",\"width\":1.3},\"marker\":{\"size\":2,\"symbol\":\"circle\"},\"mode\":\"markers\",\"name\":\"A\",\"text\":\"\",\"x\":[-0.8988369730855046,-0.5973989117894579,-2.4769542611372675,0.18580822703921393,-1.4477266106016817,0.7475126441147879,-0.40662767732843136,0.21562464027425288,-0.8437175533042076,-0.9206671582879606,-0.5128985721362068,0.4125456490439085,-0.8139361694983875,-0.24474602739648574,1.399660958090668,-0.5690667592803338,0.10284268754132027,-1.0493291743851698,0.8627545558195271,-0.9045099347478545,-1.026386794162491,0.060680317538162075,-0.3415314804401644,-2.3994321359360637,-1.8292002486713017,-0.2954406411178994,0.4308804806320366,-0.10689556363777028,1.4089556192348474,0.5716511233697971,0.18342394810870205,0.36969571924469097,-0.6231566510192728,-1.3706148974987369,-0.28615276432148967,0.22151874757782652,0.8618996252866993,-2.104564936295545,0.050772616377669236,-1.5751320938408422,0.529309231319148,1.2505362277466154,0.5802563261424589,1.7510243835154893,-0.1627631243159947,-0.07003449753416875,-0.7440752774362521,0.31874611082693405,0.1704263449760727,-0.11002542802261428,-0.24391672792443203,0.12914644876715653,-0.11217720875904467,-1.1825183945583666,-0.6923098843607846,-0.7681572995718657,1.1967731690030423,-1.0847602441923174,-0.2468238604708724,-1.275210084786202,-0.2937753192692088,-0.009646863994237882,-0.09900121737954734,-2.273401838062692,0.6410847024367559,-1.0315530517482356,-0.23298010070511913,0.21011149847632665,-1.6448213858583116,0.9457050033179516,-0.558715442009201,-0.4626338089775159,-0.4970146323240726,0.5580016935266144,1.4573952335048144,0.013241314320308596,-0.5396902491902932,2.0752884236753153,0.32674800644109625,-0.9622506422535216,0.018215536423492086,0.8843134448695068,-0.018465958943413796,-1.1360868737298324,-1.7102980416719817,-1.6399112314218767,-1.9949333484692264,0.4223668366027454,-1.205824691590463,-1.0046967973566239,1.0545659444662052,-0.16281636113476167,-2.195290457025516,-0.40360203397521616,-0.5068641103072004,-1.010766369579888,1.035543712197159,0.11165562042085199,-0.6837883644397107,0.06629731977819796],\"xaxis\":\"x4\",\"y\":[0.886481626762867,-0.3499620218114763,-1.585776582814845,0.6484898454257476,-1.9979968441142282,0.1201311235502911,-0.4148740926620486,0.48602098140719663,-0.4421915736894337,1.2418778460177193,0.10118778876868344,-0.3818017352390294,-1.0889405954178286,-1.0775398374986283,0.7176163433204604,0.33913004139571756,-0.4032606079303681,-0.3637756464595728,-1.4718184440680067,0.713886037258169,0.19269588171664376,0.23304829932510332,0.5709190035735119,-1.8433915506663612,0.8324219856241711,-1.0757550291979756,0.5077556723582699,-0.44413901106422243,-1.0086197778973143,-1.4028236947855495,0.7121967790439677,0.3204505587958397,0.4445431803849003,-0.7710464998332621,-0.32331670313769884,-0.37674258119090615,-0.4248675218977924,0.40764947955994546,-1.3078826247959392,1.0601288365287158,-0.07365209559188851,-0.15604718500861364,0.6942083782207596,1.6486670014904792,-0.7077253997726066,1.2800832468714303,-0.9465578355996911,-0.20620629379940864,-0.7963607240498749,-0.36078265872225806,1.2110561274705427,-0.1104525081824256,-0.6700042401655598,0.5569922218535346,0.3089864141526496,-0.2255228252683958,-0.2420062158747075,1.422815466914821,0.1503362119866953,-0.08743388513554257,-2.0349797681611563,0.8458105742183093,1.5407511255122293,0.029309506747405435,0.8584238640416992,0.9580984168929361,-0.9005130295018315,-0.013473286256282085,-0.8038220434152606,0.5661970188353798,-0.41924053958573,-0.29814007571196643,-0.03279477170129877,0.29650560309755564,-0.5463247852636246,-0.7671606914275885,1.0529157002903464,0.7838311671342689,1.9802407213895976,0.47847443413408924,1.0458971972595335,-1.2475785868909688,-0.8810956529233439,-1.6642079892521435,0.7756690712728784,-0.14000153305790228,-0.298192880456967,0.6070013657895164,0.9080645827077884,0.7257777964960853,-2.3168928477995996,-0.23743985166319456,-0.6036935396622959,-1.022352491479891,1.11444393383111,1.145304707468234,-3.250282066368351,1.5221237939575507,0.14200502104205395,0.38571662007639357],\"yaxis\":\"y4\",\"type\":\"scatter\"},{\"line\":{\"color\":\"rgba(128, 128, 128, 1.0)\",\"dash\":\"solid\",\"shape\":\"linear\",\"width\":1.3},\"marker\":{\"size\":2,\"symbol\":\"circle\"},\"mode\":\"markers\",\"name\":\"B\",\"text\":\"\",\"x\":[0.886481626762867,-0.3499620218114763,-1.585776582814845,0.6484898454257476,-1.9979968441142282,0.1201311235502911,-0.4148740926620486,0.48602098140719663,-0.4421915736894337,1.2418778460177193,0.10118778876868344,-0.3818017352390294,-1.0889405954178286,-1.0775398374986283,0.7176163433204604,0.33913004139571756,-0.4032606079303681,-0.3637756464595728,-1.4718184440680067,0.713886037258169,0.19269588171664376,0.23304829932510332,0.5709190035735119,-1.8433915506663612,0.8324219856241711,-1.0757550291979756,0.5077556723582699,-0.44413901106422243,-1.0086197778973143,-1.4028236947855495,0.7121967790439677,0.3204505587958397,0.4445431803849003,-0.7710464998332621,-0.32331670313769884,-0.37674258119090615,-0.4248675218977924,0.40764947955994546,-1.3078826247959392,1.0601288365287158,-0.07365209559188851,-0.15604718500861364,0.6942083782207596,1.6486670014904792,-0.7077253997726066,1.2800832468714303,-0.9465578355996911,-0.20620629379940864,-0.7963607240498749,-0.36078265872225806,1.2110561274705427,-0.1104525081824256,-0.6700042401655598,0.5569922218535346,0.3089864141526496,-0.2255228252683958,-0.2420062158747075,1.422815466914821,0.1503362119866953,-0.08743388513554257,-2.0349797681611563,0.8458105742183093,1.5407511255122293,0.029309506747405435,0.8584238640416992,0.9580984168929361,-0.9005130295018315,-0.013473286256282085,-0.8038220434152606,0.5661970188353798,-0.41924053958573,-0.29814007571196643,-0.03279477170129877,0.29650560309755564,-0.5463247852636246,-0.7671606914275885,1.0529157002903464,0.7838311671342689,1.9802407213895976,0.47847443413408924,1.0458971972595335,-1.2475785868909688,-0.8810956529233439,-1.6642079892521435,0.7756690712728784,-0.14000153305790228,-0.298192880456967,0.6070013657895164,0.9080645827077884,0.7257777964960853,-2.3168928477995996,-0.23743985166319456,-0.6036935396622959,-1.022352491479891,1.11444393383111,1.145304707468234,-3.250282066368351,1.5221237939575507,0.14200502104205395,0.38571662007639357],\"xaxis\":\"x5\",\"y\":[-0.46449043768408943,0.3523981764252299,-2.3568287709836473,2.390595577632367,-0.9711494279100952,-0.598162370267831,-0.3968615131465438,-1.4678698356334754,-0.28684894742407796,0.9208405274368389,0.9624893523587785,-0.4726705970974675,-0.6879754336784105,-1.3738071612856435,0.15306973430517098,1.39271128590778,1.4306641888922735,-1.7229685803087822,0.876023771464418,-0.6803902408216923,-0.5941052879566986,0.12043446146704843,-0.28515613992993033,-0.32609061091749375,0.47425472148627396,-1.2522126657446717,-0.3243536009422392,0.5049793346016036,-0.04176998943973294,0.40192394612822196,-0.28054043055164984,0.14883547195933453,-0.12105123038966474,1.0343349745490065,0.5991071166463736,0.567778493863068,0.3037646239706531,-1.3719041517480557,-0.4436317499417215,0.38529293294782807,0.18887020024921888,-0.44131088434181726,-1.345417457240369,0.1950054187256295,0.008516791334651708,-0.030138945389232976,-0.052181696931563104,-0.28531533414502924,-0.3837973447267495,-0.07335949970633836,-0.5016619524152183,-0.07377196799595183,1.314600491631252,-0.5755533402380913,1.04234687914125,-1.9884263599852992,-0.4546812851638831,-0.9135355999965279,0.1202491772493144,0.2982883545760662,1.1759196674481656,0.1765180905394663,-0.1393540853360605,-1.6912307557741173,0.6517544039399077,-0.11723751480317693,0.225761143742028,2.575309512971,-0.38535401952248977,0.12673017985596988,-0.07216106803459287,1.5616852752254324,-1.0467543733046534,0.8101267949195068,-0.42749849903243314,-0.11251204442772755,-1.1106289672153369,0.3332379125685002,1.0663205215842115,-1.9046403985666256,1.8284597174145687,-0.6975813374405788,0.46500534847745456,0.2676519512599508,-0.9130053337789412,-0.1662797376110315,0.8053195931493092,-1.3026754192540417,0.15700431317050292,-1.207547463863445,0.3039178415683296,1.994212832448182,-0.14322280376679514,-1.0562473515513469,-1.2639667192364323,-0.8634228472340293,1.4018232890368303,-1.6562191518856821,-0.21648483960705828,-0.05978220684500359],\"yaxis\":\"y5\",\"type\":\"scatter\"},{\"histfunc\":\"count\",\"histnorm\":\"\",\"marker\":{\"color\":\"rgba(55, 128, 191, 1.0)\",\"line\":{\"color\":\"#4D5663\",\"width\":1.3}},\"name\":\"B\",\"nbinsx\":10,\"opacity\":0.8,\"orientation\":\"v\",\"x\":[-0.46449043768408943,0.3523981764252299,-2.3568287709836473,2.390595577632367,-0.9711494279100952,-0.598162370267831,-0.3968615131465438,-1.4678698356334754,-0.28684894742407796,0.9208405274368389,0.9624893523587785,-0.4726705970974675,-0.6879754336784105,-1.3738071612856435,0.15306973430517098,1.39271128590778,1.4306641888922735,-1.7229685803087822,0.876023771464418,-0.6803902408216923,-0.5941052879566986,0.12043446146704843,-0.28515613992993033,-0.32609061091749375,0.47425472148627396,-1.2522126657446717,-0.3243536009422392,0.5049793346016036,-0.04176998943973294,0.40192394612822196,-0.28054043055164984,0.14883547195933453,-0.12105123038966474,1.0343349745490065,0.5991071166463736,0.567778493863068,0.3037646239706531,-1.3719041517480557,-0.4436317499417215,0.38529293294782807,0.18887020024921888,-0.44131088434181726,-1.345417457240369,0.1950054187256295,0.008516791334651708,-0.030138945389232976,-0.052181696931563104,-0.28531533414502924,-0.3837973447267495,-0.07335949970633836,-0.5016619524152183,-0.07377196799595183,1.314600491631252,-0.5755533402380913,1.04234687914125,-1.9884263599852992,-0.4546812851638831,-0.9135355999965279,0.1202491772493144,0.2982883545760662,1.1759196674481656,0.1765180905394663,-0.1393540853360605,-1.6912307557741173,0.6517544039399077,-0.11723751480317693,0.225761143742028,2.575309512971,-0.38535401952248977,0.12673017985596988,-0.07216106803459287,1.5616852752254324,-1.0467543733046534,0.8101267949195068,-0.42749849903243314,-0.11251204442772755,-1.1106289672153369,0.3332379125685002,1.0663205215842115,-1.9046403985666256,1.8284597174145687,-0.6975813374405788,0.46500534847745456,0.2676519512599508,-0.9130053337789412,-0.1662797376110315,0.8053195931493092,-1.3026754192540417,0.15700431317050292,-1.207547463863445,0.3039178415683296,1.994212832448182,-0.14322280376679514,-1.0562473515513469,-1.2639667192364323,-0.8634228472340293,1.4018232890368303,-1.6562191518856821,-0.21648483960705828,-0.05978220684500359],\"xaxis\":\"x6\",\"yaxis\":\"y6\",\"type\":\"histogram\"},{\"line\":{\"color\":\"rgba(128, 128, 128, 1.0)\",\"dash\":\"solid\",\"shape\":\"linear\",\"width\":1.3},\"marker\":{\"size\":2,\"symbol\":\"circle\"},\"mode\":\"markers\",\"name\":\"B\",\"text\":\"\",\"x\":[0.5201109778797136,0.07261771142678988,0.4845486456551353,0.04175729206404078,0.07214813886953271,2.5606694217959833,0.07923671155527522,-0.2554548938241622,-0.48350893289418834,-0.3601080724389737,0.1791297395186548,-0.3718455967328699,-0.10285950790430816,0.1352652300933272,-0.403587208589028,-0.9703320757531556,-1.0309098376147865,-0.7839258323598245,0.42945907942978373,-0.16623496285325534,-1.4169503388885316,0.2539949991347254,-0.020580254158317893,-1.0488541639354112,-2.900279322232684,0.014575478409169191,-0.326673408691736,-0.18735692164121553,0.5945073068751859,-1.1483605677505577,-0.06420435125397268,0.18831486406559445,-2.0494593872241715,-0.293484960876104,-0.9929240294800716,-0.4339844599054614,-0.8077561213226911,0.16124317270479846,-0.9424420244798318,-3.0363692113542298,-1.0081465330942094,-0.2576960247641065,-0.629302913191415,-0.7512827541389725,1.3097259912622083,0.3891212137644769,0.25792350431937977,-1.4255660416617586,0.6313337215541744,-0.8086724659291554,-0.31398184848967853,0.8968079243347657,-0.41047214370925006,0.3085293139653205,2.440954175592653,1.172510577125236,-0.21452964732278043,1.2500901451930229,0.43545890987911706,-0.15450392741326677,0.34389616421093383,0.7022310466650089,0.26950241011431497,-0.4087380376584617,-0.05854610989108658,-1.2253792268194523,0.36920968290947853,0.9510900473471998,-0.58479957902115,0.2012651723901271,-2.2157890554992186,0.2572549110191389,0.6026994347030282,-0.5190278348745757,-0.659545259399039,0.1013534807846591,-1.3857377750410784,0.6780432092694408,-2.7686858883402987,-1.151356806602218,-0.38093518884231675,1.7752163898008257,1.638870823306406,0.42769795627912727,-1.724320012317729,-0.313077254850423,-1.6924590866164944,0.24414122730241494,0.004458488897950751,1.232211012758207,-0.5640207859786823,1.4659627874886405,-1.4612430503540268,0.5515163223382007,-1.1760157382514314,-0.5280048160291578,0.6642118534920832,-0.41497442121476247,0.4840723227255899,1.4572878058103327],\"xaxis\":\"x7\",\"y\":[-0.46449043768408943,0.3523981764252299,-2.3568287709836473,2.390595577632367,-0.9711494279100952,-0.598162370267831,-0.3968615131465438,-1.4678698356334754,-0.28684894742407796,0.9208405274368389,0.9624893523587785,-0.4726705970974675,-0.6879754336784105,-1.3738071612856435,0.15306973430517098,1.39271128590778,1.4306641888922735,-1.7229685803087822,0.876023771464418,-0.6803902408216923,-0.5941052879566986,0.12043446146704843,-0.28515613992993033,-0.32609061091749375,0.47425472148627396,-1.2522126657446717,-0.3243536009422392,0.5049793346016036,-0.04176998943973294,0.40192394612822196,-0.28054043055164984,0.14883547195933453,-0.12105123038966474,1.0343349745490065,0.5991071166463736,0.567778493863068,0.3037646239706531,-1.3719041517480557,-0.4436317499417215,0.38529293294782807,0.18887020024921888,-0.44131088434181726,-1.345417457240369,0.1950054187256295,0.008516791334651708,-0.030138945389232976,-0.052181696931563104,-0.28531533414502924,-0.3837973447267495,-0.07335949970633836,-0.5016619524152183,-0.07377196799595183,1.314600491631252,-0.5755533402380913,1.04234687914125,-1.9884263599852992,-0.4546812851638831,-0.9135355999965279,0.1202491772493144,0.2982883545760662,1.1759196674481656,0.1765180905394663,-0.1393540853360605,-1.6912307557741173,0.6517544039399077,-0.11723751480317693,0.225761143742028,2.575309512971,-0.38535401952248977,0.12673017985596988,-0.07216106803459287,1.5616852752254324,-1.0467543733046534,0.8101267949195068,-0.42749849903243314,-0.11251204442772755,-1.1106289672153369,0.3332379125685002,1.0663205215842115,-1.9046403985666256,1.8284597174145687,-0.6975813374405788,0.46500534847745456,0.2676519512599508,-0.9130053337789412,-0.1662797376110315,0.8053195931493092,-1.3026754192540417,0.15700431317050292,-1.207547463863445,0.3039178415683296,1.994212832448182,-0.14322280376679514,-1.0562473515513469,-1.2639667192364323,-0.8634228472340293,1.4018232890368303,-1.6562191518856821,-0.21648483960705828,-0.05978220684500359],\"yaxis\":\"y7\",\"type\":\"scatter\"},{\"line\":{\"color\":\"rgba(128, 128, 128, 1.0)\",\"dash\":\"solid\",\"shape\":\"linear\",\"width\":1.3},\"marker\":{\"size\":2,\"symbol\":\"circle\"},\"mode\":\"markers\",\"name\":\"B\",\"text\":\"\",\"x\":[-0.8988369730855046,-0.5973989117894579,-2.4769542611372675,0.18580822703921393,-1.4477266106016817,0.7475126441147879,-0.40662767732843136,0.21562464027425288,-0.8437175533042076,-0.9206671582879606,-0.5128985721362068,0.4125456490439085,-0.8139361694983875,-0.24474602739648574,1.399660958090668,-0.5690667592803338,0.10284268754132027,-1.0493291743851698,0.8627545558195271,-0.9045099347478545,-1.026386794162491,0.060680317538162075,-0.3415314804401644,-2.3994321359360637,-1.8292002486713017,-0.2954406411178994,0.4308804806320366,-0.10689556363777028,1.4089556192348474,0.5716511233697971,0.18342394810870205,0.36969571924469097,-0.6231566510192728,-1.3706148974987369,-0.28615276432148967,0.22151874757782652,0.8618996252866993,-2.104564936295545,0.050772616377669236,-1.5751320938408422,0.529309231319148,1.2505362277466154,0.5802563261424589,1.7510243835154893,-0.1627631243159947,-0.07003449753416875,-0.7440752774362521,0.31874611082693405,0.1704263449760727,-0.11002542802261428,-0.24391672792443203,0.12914644876715653,-0.11217720875904467,-1.1825183945583666,-0.6923098843607846,-0.7681572995718657,1.1967731690030423,-1.0847602441923174,-0.2468238604708724,-1.275210084786202,-0.2937753192692088,-0.009646863994237882,-0.09900121737954734,-2.273401838062692,0.6410847024367559,-1.0315530517482356,-0.23298010070511913,0.21011149847632665,-1.6448213858583116,0.9457050033179516,-0.558715442009201,-0.4626338089775159,-0.4970146323240726,0.5580016935266144,1.4573952335048144,0.013241314320308596,-0.5396902491902932,2.0752884236753153,0.32674800644109625,-0.9622506422535216,0.018215536423492086,0.8843134448695068,-0.018465958943413796,-1.1360868737298324,-1.7102980416719817,-1.6399112314218767,-1.9949333484692264,0.4223668366027454,-1.205824691590463,-1.0046967973566239,1.0545659444662052,-0.16281636113476167,-2.195290457025516,-0.40360203397521616,-0.5068641103072004,-1.010766369579888,1.035543712197159,0.11165562042085199,-0.6837883644397107,0.06629731977819796],\"xaxis\":\"x8\",\"y\":[-0.46449043768408943,0.3523981764252299,-2.3568287709836473,2.390595577632367,-0.9711494279100952,-0.598162370267831,-0.3968615131465438,-1.4678698356334754,-0.28684894742407796,0.9208405274368389,0.9624893523587785,-0.4726705970974675,-0.6879754336784105,-1.3738071612856435,0.15306973430517098,1.39271128590778,1.4306641888922735,-1.7229685803087822,0.876023771464418,-0.6803902408216923,-0.5941052879566986,0.12043446146704843,-0.28515613992993033,-0.32609061091749375,0.47425472148627396,-1.2522126657446717,-0.3243536009422392,0.5049793346016036,-0.04176998943973294,0.40192394612822196,-0.28054043055164984,0.14883547195933453,-0.12105123038966474,1.0343349745490065,0.5991071166463736,0.567778493863068,0.3037646239706531,-1.3719041517480557,-0.4436317499417215,0.38529293294782807,0.18887020024921888,-0.44131088434181726,-1.345417457240369,0.1950054187256295,0.008516791334651708,-0.030138945389232976,-0.052181696931563104,-0.28531533414502924,-0.3837973447267495,-0.07335949970633836,-0.5016619524152183,-0.07377196799595183,1.314600491631252,-0.5755533402380913,1.04234687914125,-1.9884263599852992,-0.4546812851638831,-0.9135355999965279,0.1202491772493144,0.2982883545760662,1.1759196674481656,0.1765180905394663,-0.1393540853360605,-1.6912307557741173,0.6517544039399077,-0.11723751480317693,0.225761143742028,2.575309512971,-0.38535401952248977,0.12673017985596988,-0.07216106803459287,1.5616852752254324,-1.0467543733046534,0.8101267949195068,-0.42749849903243314,-0.11251204442772755,-1.1106289672153369,0.3332379125685002,1.0663205215842115,-1.9046403985666256,1.8284597174145687,-0.6975813374405788,0.46500534847745456,0.2676519512599508,-0.9130053337789412,-0.1662797376110315,0.8053195931493092,-1.3026754192540417,0.15700431317050292,-1.207547463863445,0.3039178415683296,1.994212832448182,-0.14322280376679514,-1.0562473515513469,-1.2639667192364323,-0.8634228472340293,1.4018232890368303,-1.6562191518856821,-0.21648483960705828,-0.05978220684500359],\"yaxis\":\"y8\",\"type\":\"scatter\"},{\"line\":{\"color\":\"rgba(128, 128, 128, 1.0)\",\"dash\":\"solid\",\"shape\":\"linear\",\"width\":1.3},\"marker\":{\"size\":2,\"symbol\":\"circle\"},\"mode\":\"markers\",\"name\":\"C\",\"text\":\"\",\"x\":[0.886481626762867,-0.3499620218114763,-1.585776582814845,0.6484898454257476,-1.9979968441142282,0.1201311235502911,-0.4148740926620486,0.48602098140719663,-0.4421915736894337,1.2418778460177193,0.10118778876868344,-0.3818017352390294,-1.0889405954178286,-1.0775398374986283,0.7176163433204604,0.33913004139571756,-0.4032606079303681,-0.3637756464595728,-1.4718184440680067,0.713886037258169,0.19269588171664376,0.23304829932510332,0.5709190035735119,-1.8433915506663612,0.8324219856241711,-1.0757550291979756,0.5077556723582699,-0.44413901106422243,-1.0086197778973143,-1.4028236947855495,0.7121967790439677,0.3204505587958397,0.4445431803849003,-0.7710464998332621,-0.32331670313769884,-0.37674258119090615,-0.4248675218977924,0.40764947955994546,-1.3078826247959392,1.0601288365287158,-0.07365209559188851,-0.15604718500861364,0.6942083782207596,1.6486670014904792,-0.7077253997726066,1.2800832468714303,-0.9465578355996911,-0.20620629379940864,-0.7963607240498749,-0.36078265872225806,1.2110561274705427,-0.1104525081824256,-0.6700042401655598,0.5569922218535346,0.3089864141526496,-0.2255228252683958,-0.2420062158747075,1.422815466914821,0.1503362119866953,-0.08743388513554257,-2.0349797681611563,0.8458105742183093,1.5407511255122293,0.029309506747405435,0.8584238640416992,0.9580984168929361,-0.9005130295018315,-0.013473286256282085,-0.8038220434152606,0.5661970188353798,-0.41924053958573,-0.29814007571196643,-0.03279477170129877,0.29650560309755564,-0.5463247852636246,-0.7671606914275885,1.0529157002903464,0.7838311671342689,1.9802407213895976,0.47847443413408924,1.0458971972595335,-1.2475785868909688,-0.8810956529233439,-1.6642079892521435,0.7756690712728784,-0.14000153305790228,-0.298192880456967,0.6070013657895164,0.9080645827077884,0.7257777964960853,-2.3168928477995996,-0.23743985166319456,-0.6036935396622959,-1.022352491479891,1.11444393383111,1.145304707468234,-3.250282066368351,1.5221237939575507,0.14200502104205395,0.38571662007639357],\"xaxis\":\"x9\",\"y\":[0.5201109778797136,0.07261771142678988,0.4845486456551353,0.04175729206404078,0.07214813886953271,2.5606694217959833,0.07923671155527522,-0.2554548938241622,-0.48350893289418834,-0.3601080724389737,0.1791297395186548,-0.3718455967328699,-0.10285950790430816,0.1352652300933272,-0.403587208589028,-0.9703320757531556,-1.0309098376147865,-0.7839258323598245,0.42945907942978373,-0.16623496285325534,-1.4169503388885316,0.2539949991347254,-0.020580254158317893,-1.0488541639354112,-2.900279322232684,0.014575478409169191,-0.326673408691736,-0.18735692164121553,0.5945073068751859,-1.1483605677505577,-0.06420435125397268,0.18831486406559445,-2.0494593872241715,-0.293484960876104,-0.9929240294800716,-0.4339844599054614,-0.8077561213226911,0.16124317270479846,-0.9424420244798318,-3.0363692113542298,-1.0081465330942094,-0.2576960247641065,-0.629302913191415,-0.7512827541389725,1.3097259912622083,0.3891212137644769,0.25792350431937977,-1.4255660416617586,0.6313337215541744,-0.8086724659291554,-0.31398184848967853,0.8968079243347657,-0.41047214370925006,0.3085293139653205,2.440954175592653,1.172510577125236,-0.21452964732278043,1.2500901451930229,0.43545890987911706,-0.15450392741326677,0.34389616421093383,0.7022310466650089,0.26950241011431497,-0.4087380376584617,-0.05854610989108658,-1.2253792268194523,0.36920968290947853,0.9510900473471998,-0.58479957902115,0.2012651723901271,-2.2157890554992186,0.2572549110191389,0.6026994347030282,-0.5190278348745757,-0.659545259399039,0.1013534807846591,-1.3857377750410784,0.6780432092694408,-2.7686858883402987,-1.151356806602218,-0.38093518884231675,1.7752163898008257,1.638870823306406,0.42769795627912727,-1.724320012317729,-0.313077254850423,-1.6924590866164944,0.24414122730241494,0.004458488897950751,1.232211012758207,-0.5640207859786823,1.4659627874886405,-1.4612430503540268,0.5515163223382007,-1.1760157382514314,-0.5280048160291578,0.6642118534920832,-0.41497442121476247,0.4840723227255899,1.4572878058103327],\"yaxis\":\"y9\",\"type\":\"scatter\"},{\"line\":{\"color\":\"rgba(128, 128, 128, 1.0)\",\"dash\":\"solid\",\"shape\":\"linear\",\"width\":1.3},\"marker\":{\"size\":2,\"symbol\":\"circle\"},\"mode\":\"markers\",\"name\":\"C\",\"text\":\"\",\"x\":[-0.46449043768408943,0.3523981764252299,-2.3568287709836473,2.390595577632367,-0.9711494279100952,-0.598162370267831,-0.3968615131465438,-1.4678698356334754,-0.28684894742407796,0.9208405274368389,0.9624893523587785,-0.4726705970974675,-0.6879754336784105,-1.3738071612856435,0.15306973430517098,1.39271128590778,1.4306641888922735,-1.7229685803087822,0.876023771464418,-0.6803902408216923,-0.5941052879566986,0.12043446146704843,-0.28515613992993033,-0.32609061091749375,0.47425472148627396,-1.2522126657446717,-0.3243536009422392,0.5049793346016036,-0.04176998943973294,0.40192394612822196,-0.28054043055164984,0.14883547195933453,-0.12105123038966474,1.0343349745490065,0.5991071166463736,0.567778493863068,0.3037646239706531,-1.3719041517480557,-0.4436317499417215,0.38529293294782807,0.18887020024921888,-0.44131088434181726,-1.345417457240369,0.1950054187256295,0.008516791334651708,-0.030138945389232976,-0.052181696931563104,-0.28531533414502924,-0.3837973447267495,-0.07335949970633836,-0.5016619524152183,-0.07377196799595183,1.314600491631252,-0.5755533402380913,1.04234687914125,-1.9884263599852992,-0.4546812851638831,-0.9135355999965279,0.1202491772493144,0.2982883545760662,1.1759196674481656,0.1765180905394663,-0.1393540853360605,-1.6912307557741173,0.6517544039399077,-0.11723751480317693,0.225761143742028,2.575309512971,-0.38535401952248977,0.12673017985596988,-0.07216106803459287,1.5616852752254324,-1.0467543733046534,0.8101267949195068,-0.42749849903243314,-0.11251204442772755,-1.1106289672153369,0.3332379125685002,1.0663205215842115,-1.9046403985666256,1.8284597174145687,-0.6975813374405788,0.46500534847745456,0.2676519512599508,-0.9130053337789412,-0.1662797376110315,0.8053195931493092,-1.3026754192540417,0.15700431317050292,-1.207547463863445,0.3039178415683296,1.994212832448182,-0.14322280376679514,-1.0562473515513469,-1.2639667192364323,-0.8634228472340293,1.4018232890368303,-1.6562191518856821,-0.21648483960705828,-0.05978220684500359],\"xaxis\":\"x10\",\"y\":[0.5201109778797136,0.07261771142678988,0.4845486456551353,0.04175729206404078,0.07214813886953271,2.5606694217959833,0.07923671155527522,-0.2554548938241622,-0.48350893289418834,-0.3601080724389737,0.1791297395186548,-0.3718455967328699,-0.10285950790430816,0.1352652300933272,-0.403587208589028,-0.9703320757531556,-1.0309098376147865,-0.7839258323598245,0.42945907942978373,-0.16623496285325534,-1.4169503388885316,0.2539949991347254,-0.020580254158317893,-1.0488541639354112,-2.900279322232684,0.014575478409169191,-0.326673408691736,-0.18735692164121553,0.5945073068751859,-1.1483605677505577,-0.06420435125397268,0.18831486406559445,-2.0494593872241715,-0.293484960876104,-0.9929240294800716,-0.4339844599054614,-0.8077561213226911,0.16124317270479846,-0.9424420244798318,-3.0363692113542298,-1.0081465330942094,-0.2576960247641065,-0.629302913191415,-0.7512827541389725,1.3097259912622083,0.3891212137644769,0.25792350431937977,-1.4255660416617586,0.6313337215541744,-0.8086724659291554,-0.31398184848967853,0.8968079243347657,-0.41047214370925006,0.3085293139653205,2.440954175592653,1.172510577125236,-0.21452964732278043,1.2500901451930229,0.43545890987911706,-0.15450392741326677,0.34389616421093383,0.7022310466650089,0.26950241011431497,-0.4087380376584617,-0.05854610989108658,-1.2253792268194523,0.36920968290947853,0.9510900473471998,-0.58479957902115,0.2012651723901271,-2.2157890554992186,0.2572549110191389,0.6026994347030282,-0.5190278348745757,-0.659545259399039,0.1013534807846591,-1.3857377750410784,0.6780432092694408,-2.7686858883402987,-1.151356806602218,-0.38093518884231675,1.7752163898008257,1.638870823306406,0.42769795627912727,-1.724320012317729,-0.313077254850423,-1.6924590866164944,0.24414122730241494,0.004458488897950751,1.232211012758207,-0.5640207859786823,1.4659627874886405,-1.4612430503540268,0.5515163223382007,-1.1760157382514314,-0.5280048160291578,0.6642118534920832,-0.41497442121476247,0.4840723227255899,1.4572878058103327],\"yaxis\":\"y10\",\"type\":\"scatter\"},{\"histfunc\":\"count\",\"histnorm\":\"\",\"marker\":{\"color\":\"rgba(50, 171, 96, 1.0)\",\"line\":{\"color\":\"#4D5663\",\"width\":1.3}},\"name\":\"C\",\"nbinsx\":10,\"opacity\":0.8,\"orientation\":\"v\",\"x\":[0.5201109778797136,0.07261771142678988,0.4845486456551353,0.04175729206404078,0.07214813886953271,2.5606694217959833,0.07923671155527522,-0.2554548938241622,-0.48350893289418834,-0.3601080724389737,0.1791297395186548,-0.3718455967328699,-0.10285950790430816,0.1352652300933272,-0.403587208589028,-0.9703320757531556,-1.0309098376147865,-0.7839258323598245,0.42945907942978373,-0.16623496285325534,-1.4169503388885316,0.2539949991347254,-0.020580254158317893,-1.0488541639354112,-2.900279322232684,0.014575478409169191,-0.326673408691736,-0.18735692164121553,0.5945073068751859,-1.1483605677505577,-0.06420435125397268,0.18831486406559445,-2.0494593872241715,-0.293484960876104,-0.9929240294800716,-0.4339844599054614,-0.8077561213226911,0.16124317270479846,-0.9424420244798318,-3.0363692113542298,-1.0081465330942094,-0.2576960247641065,-0.629302913191415,-0.7512827541389725,1.3097259912622083,0.3891212137644769,0.25792350431937977,-1.4255660416617586,0.6313337215541744,-0.8086724659291554,-0.31398184848967853,0.8968079243347657,-0.41047214370925006,0.3085293139653205,2.440954175592653,1.172510577125236,-0.21452964732278043,1.2500901451930229,0.43545890987911706,-0.15450392741326677,0.34389616421093383,0.7022310466650089,0.26950241011431497,-0.4087380376584617,-0.05854610989108658,-1.2253792268194523,0.36920968290947853,0.9510900473471998,-0.58479957902115,0.2012651723901271,-2.2157890554992186,0.2572549110191389,0.6026994347030282,-0.5190278348745757,-0.659545259399039,0.1013534807846591,-1.3857377750410784,0.6780432092694408,-2.7686858883402987,-1.151356806602218,-0.38093518884231675,1.7752163898008257,1.638870823306406,0.42769795627912727,-1.724320012317729,-0.313077254850423,-1.6924590866164944,0.24414122730241494,0.004458488897950751,1.232211012758207,-0.5640207859786823,1.4659627874886405,-1.4612430503540268,0.5515163223382007,-1.1760157382514314,-0.5280048160291578,0.6642118534920832,-0.41497442121476247,0.4840723227255899,1.4572878058103327],\"xaxis\":\"x11\",\"yaxis\":\"y11\",\"type\":\"histogram\"},{\"line\":{\"color\":\"rgba(128, 128, 128, 1.0)\",\"dash\":\"solid\",\"shape\":\"linear\",\"width\":1.3},\"marker\":{\"size\":2,\"symbol\":\"circle\"},\"mode\":\"markers\",\"name\":\"C\",\"text\":\"\",\"x\":[-0.8988369730855046,-0.5973989117894579,-2.4769542611372675,0.18580822703921393,-1.4477266106016817,0.7475126441147879,-0.40662767732843136,0.21562464027425288,-0.8437175533042076,-0.9206671582879606,-0.5128985721362068,0.4125456490439085,-0.8139361694983875,-0.24474602739648574,1.399660958090668,-0.5690667592803338,0.10284268754132027,-1.0493291743851698,0.8627545558195271,-0.9045099347478545,-1.026386794162491,0.060680317538162075,-0.3415314804401644,-2.3994321359360637,-1.8292002486713017,-0.2954406411178994,0.4308804806320366,-0.10689556363777028,1.4089556192348474,0.5716511233697971,0.18342394810870205,0.36969571924469097,-0.6231566510192728,-1.3706148974987369,-0.28615276432148967,0.22151874757782652,0.8618996252866993,-2.104564936295545,0.050772616377669236,-1.5751320938408422,0.529309231319148,1.2505362277466154,0.5802563261424589,1.7510243835154893,-0.1627631243159947,-0.07003449753416875,-0.7440752774362521,0.31874611082693405,0.1704263449760727,-0.11002542802261428,-0.24391672792443203,0.12914644876715653,-0.11217720875904467,-1.1825183945583666,-0.6923098843607846,-0.7681572995718657,1.1967731690030423,-1.0847602441923174,-0.2468238604708724,-1.275210084786202,-0.2937753192692088,-0.009646863994237882,-0.09900121737954734,-2.273401838062692,0.6410847024367559,-1.0315530517482356,-0.23298010070511913,0.21011149847632665,-1.6448213858583116,0.9457050033179516,-0.558715442009201,-0.4626338089775159,-0.4970146323240726,0.5580016935266144,1.4573952335048144,0.013241314320308596,-0.5396902491902932,2.0752884236753153,0.32674800644109625,-0.9622506422535216,0.018215536423492086,0.8843134448695068,-0.018465958943413796,-1.1360868737298324,-1.7102980416719817,-1.6399112314218767,-1.9949333484692264,0.4223668366027454,-1.205824691590463,-1.0046967973566239,1.0545659444662052,-0.16281636113476167,-2.195290457025516,-0.40360203397521616,-0.5068641103072004,-1.010766369579888,1.035543712197159,0.11165562042085199,-0.6837883644397107,0.06629731977819796],\"xaxis\":\"x12\",\"y\":[0.5201109778797136,0.07261771142678988,0.4845486456551353,0.04175729206404078,0.07214813886953271,2.5606694217959833,0.07923671155527522,-0.2554548938241622,-0.48350893289418834,-0.3601080724389737,0.1791297395186548,-0.3718455967328699,-0.10285950790430816,0.1352652300933272,-0.403587208589028,-0.9703320757531556,-1.0309098376147865,-0.7839258323598245,0.42945907942978373,-0.16623496285325534,-1.4169503388885316,0.2539949991347254,-0.020580254158317893,-1.0488541639354112,-2.900279322232684,0.014575478409169191,-0.326673408691736,-0.18735692164121553,0.5945073068751859,-1.1483605677505577,-0.06420435125397268,0.18831486406559445,-2.0494593872241715,-0.293484960876104,-0.9929240294800716,-0.4339844599054614,-0.8077561213226911,0.16124317270479846,-0.9424420244798318,-3.0363692113542298,-1.0081465330942094,-0.2576960247641065,-0.629302913191415,-0.7512827541389725,1.3097259912622083,0.3891212137644769,0.25792350431937977,-1.4255660416617586,0.6313337215541744,-0.8086724659291554,-0.31398184848967853,0.8968079243347657,-0.41047214370925006,0.3085293139653205,2.440954175592653,1.172510577125236,-0.21452964732278043,1.2500901451930229,0.43545890987911706,-0.15450392741326677,0.34389616421093383,0.7022310466650089,0.26950241011431497,-0.4087380376584617,-0.05854610989108658,-1.2253792268194523,0.36920968290947853,0.9510900473471998,-0.58479957902115,0.2012651723901271,-2.2157890554992186,0.2572549110191389,0.6026994347030282,-0.5190278348745757,-0.659545259399039,0.1013534807846591,-1.3857377750410784,0.6780432092694408,-2.7686858883402987,-1.151356806602218,-0.38093518884231675,1.7752163898008257,1.638870823306406,0.42769795627912727,-1.724320012317729,-0.313077254850423,-1.6924590866164944,0.24414122730241494,0.004458488897950751,1.232211012758207,-0.5640207859786823,1.4659627874886405,-1.4612430503540268,0.5515163223382007,-1.1760157382514314,-0.5280048160291578,0.6642118534920832,-0.41497442121476247,0.4840723227255899,1.4572878058103327],\"yaxis\":\"y12\",\"type\":\"scatter\"},{\"line\":{\"color\":\"rgba(128, 128, 128, 1.0)\",\"dash\":\"solid\",\"shape\":\"linear\",\"width\":1.3},\"marker\":{\"size\":2,\"symbol\":\"circle\"},\"mode\":\"markers\",\"name\":\"D\",\"text\":\"\",\"x\":[0.886481626762867,-0.3499620218114763,-1.585776582814845,0.6484898454257476,-1.9979968441142282,0.1201311235502911,-0.4148740926620486,0.48602098140719663,-0.4421915736894337,1.2418778460177193,0.10118778876868344,-0.3818017352390294,-1.0889405954178286,-1.0775398374986283,0.7176163433204604,0.33913004139571756,-0.4032606079303681,-0.3637756464595728,-1.4718184440680067,0.713886037258169,0.19269588171664376,0.23304829932510332,0.5709190035735119,-1.8433915506663612,0.8324219856241711,-1.0757550291979756,0.5077556723582699,-0.44413901106422243,-1.0086197778973143,-1.4028236947855495,0.7121967790439677,0.3204505587958397,0.4445431803849003,-0.7710464998332621,-0.32331670313769884,-0.37674258119090615,-0.4248675218977924,0.40764947955994546,-1.3078826247959392,1.0601288365287158,-0.07365209559188851,-0.15604718500861364,0.6942083782207596,1.6486670014904792,-0.7077253997726066,1.2800832468714303,-0.9465578355996911,-0.20620629379940864,-0.7963607240498749,-0.36078265872225806,1.2110561274705427,-0.1104525081824256,-0.6700042401655598,0.5569922218535346,0.3089864141526496,-0.2255228252683958,-0.2420062158747075,1.422815466914821,0.1503362119866953,-0.08743388513554257,-2.0349797681611563,0.8458105742183093,1.5407511255122293,0.029309506747405435,0.8584238640416992,0.9580984168929361,-0.9005130295018315,-0.013473286256282085,-0.8038220434152606,0.5661970188353798,-0.41924053958573,-0.29814007571196643,-0.03279477170129877,0.29650560309755564,-0.5463247852636246,-0.7671606914275885,1.0529157002903464,0.7838311671342689,1.9802407213895976,0.47847443413408924,1.0458971972595335,-1.2475785868909688,-0.8810956529233439,-1.6642079892521435,0.7756690712728784,-0.14000153305790228,-0.298192880456967,0.6070013657895164,0.9080645827077884,0.7257777964960853,-2.3168928477995996,-0.23743985166319456,-0.6036935396622959,-1.022352491479891,1.11444393383111,1.145304707468234,-3.250282066368351,1.5221237939575507,0.14200502104205395,0.38571662007639357],\"xaxis\":\"x13\",\"y\":[-0.8988369730855046,-0.5973989117894579,-2.4769542611372675,0.18580822703921393,-1.4477266106016817,0.7475126441147879,-0.40662767732843136,0.21562464027425288,-0.8437175533042076,-0.9206671582879606,-0.5128985721362068,0.4125456490439085,-0.8139361694983875,-0.24474602739648574,1.399660958090668,-0.5690667592803338,0.10284268754132027,-1.0493291743851698,0.8627545558195271,-0.9045099347478545,-1.026386794162491,0.060680317538162075,-0.3415314804401644,-2.3994321359360637,-1.8292002486713017,-0.2954406411178994,0.4308804806320366,-0.10689556363777028,1.4089556192348474,0.5716511233697971,0.18342394810870205,0.36969571924469097,-0.6231566510192728,-1.3706148974987369,-0.28615276432148967,0.22151874757782652,0.8618996252866993,-2.104564936295545,0.050772616377669236,-1.5751320938408422,0.529309231319148,1.2505362277466154,0.5802563261424589,1.7510243835154893,-0.1627631243159947,-0.07003449753416875,-0.7440752774362521,0.31874611082693405,0.1704263449760727,-0.11002542802261428,-0.24391672792443203,0.12914644876715653,-0.11217720875904467,-1.1825183945583666,-0.6923098843607846,-0.7681572995718657,1.1967731690030423,-1.0847602441923174,-0.2468238604708724,-1.275210084786202,-0.2937753192692088,-0.009646863994237882,-0.09900121737954734,-2.273401838062692,0.6410847024367559,-1.0315530517482356,-0.23298010070511913,0.21011149847632665,-1.6448213858583116,0.9457050033179516,-0.558715442009201,-0.4626338089775159,-0.4970146323240726,0.5580016935266144,1.4573952335048144,0.013241314320308596,-0.5396902491902932,2.0752884236753153,0.32674800644109625,-0.9622506422535216,0.018215536423492086,0.8843134448695068,-0.018465958943413796,-1.1360868737298324,-1.7102980416719817,-1.6399112314218767,-1.9949333484692264,0.4223668366027454,-1.205824691590463,-1.0046967973566239,1.0545659444662052,-0.16281636113476167,-2.195290457025516,-0.40360203397521616,-0.5068641103072004,-1.010766369579888,1.035543712197159,0.11165562042085199,-0.6837883644397107,0.06629731977819796],\"yaxis\":\"y13\",\"type\":\"scatter\"},{\"line\":{\"color\":\"rgba(128, 128, 128, 1.0)\",\"dash\":\"solid\",\"shape\":\"linear\",\"width\":1.3},\"marker\":{\"size\":2,\"symbol\":\"circle\"},\"mode\":\"markers\",\"name\":\"D\",\"text\":\"\",\"x\":[-0.46449043768408943,0.3523981764252299,-2.3568287709836473,2.390595577632367,-0.9711494279100952,-0.598162370267831,-0.3968615131465438,-1.4678698356334754,-0.28684894742407796,0.9208405274368389,0.9624893523587785,-0.4726705970974675,-0.6879754336784105,-1.3738071612856435,0.15306973430517098,1.39271128590778,1.4306641888922735,-1.7229685803087822,0.876023771464418,-0.6803902408216923,-0.5941052879566986,0.12043446146704843,-0.28515613992993033,-0.32609061091749375,0.47425472148627396,-1.2522126657446717,-0.3243536009422392,0.5049793346016036,-0.04176998943973294,0.40192394612822196,-0.28054043055164984,0.14883547195933453,-0.12105123038966474,1.0343349745490065,0.5991071166463736,0.567778493863068,0.3037646239706531,-1.3719041517480557,-0.4436317499417215,0.38529293294782807,0.18887020024921888,-0.44131088434181726,-1.345417457240369,0.1950054187256295,0.008516791334651708,-0.030138945389232976,-0.052181696931563104,-0.28531533414502924,-0.3837973447267495,-0.07335949970633836,-0.5016619524152183,-0.07377196799595183,1.314600491631252,-0.5755533402380913,1.04234687914125,-1.9884263599852992,-0.4546812851638831,-0.9135355999965279,0.1202491772493144,0.2982883545760662,1.1759196674481656,0.1765180905394663,-0.1393540853360605,-1.6912307557741173,0.6517544039399077,-0.11723751480317693,0.225761143742028,2.575309512971,-0.38535401952248977,0.12673017985596988,-0.07216106803459287,1.5616852752254324,-1.0467543733046534,0.8101267949195068,-0.42749849903243314,-0.11251204442772755,-1.1106289672153369,0.3332379125685002,1.0663205215842115,-1.9046403985666256,1.8284597174145687,-0.6975813374405788,0.46500534847745456,0.2676519512599508,-0.9130053337789412,-0.1662797376110315,0.8053195931493092,-1.3026754192540417,0.15700431317050292,-1.207547463863445,0.3039178415683296,1.994212832448182,-0.14322280376679514,-1.0562473515513469,-1.2639667192364323,-0.8634228472340293,1.4018232890368303,-1.6562191518856821,-0.21648483960705828,-0.05978220684500359],\"xaxis\":\"x14\",\"y\":[-0.8988369730855046,-0.5973989117894579,-2.4769542611372675,0.18580822703921393,-1.4477266106016817,0.7475126441147879,-0.40662767732843136,0.21562464027425288,-0.8437175533042076,-0.9206671582879606,-0.5128985721362068,0.4125456490439085,-0.8139361694983875,-0.24474602739648574,1.399660958090668,-0.5690667592803338,0.10284268754132027,-1.0493291743851698,0.8627545558195271,-0.9045099347478545,-1.026386794162491,0.060680317538162075,-0.3415314804401644,-2.3994321359360637,-1.8292002486713017,-0.2954406411178994,0.4308804806320366,-0.10689556363777028,1.4089556192348474,0.5716511233697971,0.18342394810870205,0.36969571924469097,-0.6231566510192728,-1.3706148974987369,-0.28615276432148967,0.22151874757782652,0.8618996252866993,-2.104564936295545,0.050772616377669236,-1.5751320938408422,0.529309231319148,1.2505362277466154,0.5802563261424589,1.7510243835154893,-0.1627631243159947,-0.07003449753416875,-0.7440752774362521,0.31874611082693405,0.1704263449760727,-0.11002542802261428,-0.24391672792443203,0.12914644876715653,-0.11217720875904467,-1.1825183945583666,-0.6923098843607846,-0.7681572995718657,1.1967731690030423,-1.0847602441923174,-0.2468238604708724,-1.275210084786202,-0.2937753192692088,-0.009646863994237882,-0.09900121737954734,-2.273401838062692,0.6410847024367559,-1.0315530517482356,-0.23298010070511913,0.21011149847632665,-1.6448213858583116,0.9457050033179516,-0.558715442009201,-0.4626338089775159,-0.4970146323240726,0.5580016935266144,1.4573952335048144,0.013241314320308596,-0.5396902491902932,2.0752884236753153,0.32674800644109625,-0.9622506422535216,0.018215536423492086,0.8843134448695068,-0.018465958943413796,-1.1360868737298324,-1.7102980416719817,-1.6399112314218767,-1.9949333484692264,0.4223668366027454,-1.205824691590463,-1.0046967973566239,1.0545659444662052,-0.16281636113476167,-2.195290457025516,-0.40360203397521616,-0.5068641103072004,-1.010766369579888,1.035543712197159,0.11165562042085199,-0.6837883644397107,0.06629731977819796],\"yaxis\":\"y14\",\"type\":\"scatter\"},{\"line\":{\"color\":\"rgba(128, 128, 128, 1.0)\",\"dash\":\"solid\",\"shape\":\"linear\",\"width\":1.3},\"marker\":{\"size\":2,\"symbol\":\"circle\"},\"mode\":\"markers\",\"name\":\"D\",\"text\":\"\",\"x\":[0.5201109778797136,0.07261771142678988,0.4845486456551353,0.04175729206404078,0.07214813886953271,2.5606694217959833,0.07923671155527522,-0.2554548938241622,-0.48350893289418834,-0.3601080724389737,0.1791297395186548,-0.3718455967328699,-0.10285950790430816,0.1352652300933272,-0.403587208589028,-0.9703320757531556,-1.0309098376147865,-0.7839258323598245,0.42945907942978373,-0.16623496285325534,-1.4169503388885316,0.2539949991347254,-0.020580254158317893,-1.0488541639354112,-2.900279322232684,0.014575478409169191,-0.326673408691736,-0.18735692164121553,0.5945073068751859,-1.1483605677505577,-0.06420435125397268,0.18831486406559445,-2.0494593872241715,-0.293484960876104,-0.9929240294800716,-0.4339844599054614,-0.8077561213226911,0.16124317270479846,-0.9424420244798318,-3.0363692113542298,-1.0081465330942094,-0.2576960247641065,-0.629302913191415,-0.7512827541389725,1.3097259912622083,0.3891212137644769,0.25792350431937977,-1.4255660416617586,0.6313337215541744,-0.8086724659291554,-0.31398184848967853,0.8968079243347657,-0.41047214370925006,0.3085293139653205,2.440954175592653,1.172510577125236,-0.21452964732278043,1.2500901451930229,0.43545890987911706,-0.15450392741326677,0.34389616421093383,0.7022310466650089,0.26950241011431497,-0.4087380376584617,-0.05854610989108658,-1.2253792268194523,0.36920968290947853,0.9510900473471998,-0.58479957902115,0.2012651723901271,-2.2157890554992186,0.2572549110191389,0.6026994347030282,-0.5190278348745757,-0.659545259399039,0.1013534807846591,-1.3857377750410784,0.6780432092694408,-2.7686858883402987,-1.151356806602218,-0.38093518884231675,1.7752163898008257,1.638870823306406,0.42769795627912727,-1.724320012317729,-0.313077254850423,-1.6924590866164944,0.24414122730241494,0.004458488897950751,1.232211012758207,-0.5640207859786823,1.4659627874886405,-1.4612430503540268,0.5515163223382007,-1.1760157382514314,-0.5280048160291578,0.6642118534920832,-0.41497442121476247,0.4840723227255899,1.4572878058103327],\"xaxis\":\"x15\",\"y\":[-0.8988369730855046,-0.5973989117894579,-2.4769542611372675,0.18580822703921393,-1.4477266106016817,0.7475126441147879,-0.40662767732843136,0.21562464027425288,-0.8437175533042076,-0.9206671582879606,-0.5128985721362068,0.4125456490439085,-0.8139361694983875,-0.24474602739648574,1.399660958090668,-0.5690667592803338,0.10284268754132027,-1.0493291743851698,0.8627545558195271,-0.9045099347478545,-1.026386794162491,0.060680317538162075,-0.3415314804401644,-2.3994321359360637,-1.8292002486713017,-0.2954406411178994,0.4308804806320366,-0.10689556363777028,1.4089556192348474,0.5716511233697971,0.18342394810870205,0.36969571924469097,-0.6231566510192728,-1.3706148974987369,-0.28615276432148967,0.22151874757782652,0.8618996252866993,-2.104564936295545,0.050772616377669236,-1.5751320938408422,0.529309231319148,1.2505362277466154,0.5802563261424589,1.7510243835154893,-0.1627631243159947,-0.07003449753416875,-0.7440752774362521,0.31874611082693405,0.1704263449760727,-0.11002542802261428,-0.24391672792443203,0.12914644876715653,-0.11217720875904467,-1.1825183945583666,-0.6923098843607846,-0.7681572995718657,1.1967731690030423,-1.0847602441923174,-0.2468238604708724,-1.275210084786202,-0.2937753192692088,-0.009646863994237882,-0.09900121737954734,-2.273401838062692,0.6410847024367559,-1.0315530517482356,-0.23298010070511913,0.21011149847632665,-1.6448213858583116,0.9457050033179516,-0.558715442009201,-0.4626338089775159,-0.4970146323240726,0.5580016935266144,1.4573952335048144,0.013241314320308596,-0.5396902491902932,2.0752884236753153,0.32674800644109625,-0.9622506422535216,0.018215536423492086,0.8843134448695068,-0.018465958943413796,-1.1360868737298324,-1.7102980416719817,-1.6399112314218767,-1.9949333484692264,0.4223668366027454,-1.205824691590463,-1.0046967973566239,1.0545659444662052,-0.16281636113476167,-2.195290457025516,-0.40360203397521616,-0.5068641103072004,-1.010766369579888,1.035543712197159,0.11165562042085199,-0.6837883644397107,0.06629731977819796],\"yaxis\":\"y15\",\"type\":\"scatter\"},{\"histfunc\":\"count\",\"histnorm\":\"\",\"marker\":{\"color\":\"rgba(128, 0, 128, 1.0)\",\"line\":{\"color\":\"#4D5663\",\"width\":1.3}},\"name\":\"D\",\"nbinsx\":10,\"opacity\":0.8,\"orientation\":\"v\",\"x\":[-0.8988369730855046,-0.5973989117894579,-2.4769542611372675,0.18580822703921393,-1.4477266106016817,0.7475126441147879,-0.40662767732843136,0.21562464027425288,-0.8437175533042076,-0.9206671582879606,-0.5128985721362068,0.4125456490439085,-0.8139361694983875,-0.24474602739648574,1.399660958090668,-0.5690667592803338,0.10284268754132027,-1.0493291743851698,0.8627545558195271,-0.9045099347478545,-1.026386794162491,0.060680317538162075,-0.3415314804401644,-2.3994321359360637,-1.8292002486713017,-0.2954406411178994,0.4308804806320366,-0.10689556363777028,1.4089556192348474,0.5716511233697971,0.18342394810870205,0.36969571924469097,-0.6231566510192728,-1.3706148974987369,-0.28615276432148967,0.22151874757782652,0.8618996252866993,-2.104564936295545,0.050772616377669236,-1.5751320938408422,0.529309231319148,1.2505362277466154,0.5802563261424589,1.7510243835154893,-0.1627631243159947,-0.07003449753416875,-0.7440752774362521,0.31874611082693405,0.1704263449760727,-0.11002542802261428,-0.24391672792443203,0.12914644876715653,-0.11217720875904467,-1.1825183945583666,-0.6923098843607846,-0.7681572995718657,1.1967731690030423,-1.0847602441923174,-0.2468238604708724,-1.275210084786202,-0.2937753192692088,-0.009646863994237882,-0.09900121737954734,-2.273401838062692,0.6410847024367559,-1.0315530517482356,-0.23298010070511913,0.21011149847632665,-1.6448213858583116,0.9457050033179516,-0.558715442009201,-0.4626338089775159,-0.4970146323240726,0.5580016935266144,1.4573952335048144,0.013241314320308596,-0.5396902491902932,2.0752884236753153,0.32674800644109625,-0.9622506422535216,0.018215536423492086,0.8843134448695068,-0.018465958943413796,-1.1360868737298324,-1.7102980416719817,-1.6399112314218767,-1.9949333484692264,0.4223668366027454,-1.205824691590463,-1.0046967973566239,1.0545659444662052,-0.16281636113476167,-2.195290457025516,-0.40360203397521616,-0.5068641103072004,-1.010766369579888,1.035543712197159,0.11165562042085199,-0.6837883644397107,0.06629731977819796],\"xaxis\":\"x16\",\"yaxis\":\"y16\",\"type\":\"histogram\"}],                        {\"bargap\":0.02,\"legend\":{\"bgcolor\":\"#F5F6F9\",\"font\":{\"color\":\"#4D5663\"}},\"paper_bgcolor\":\"#F5F6F9\",\"plot_bgcolor\":\"#F5F6F9\",\"showlegend\":false,\"template\":{\"data\":{\"barpolar\":[{\"marker\":{\"line\":{\"color\":\"#E5ECF6\",\"width\":0.5},\"pattern\":{\"fillmode\":\"overlay\",\"size\":10,\"solidity\":0.2}},\"type\":\"barpolar\"}],\"bar\":[{\"error_x\":{\"color\":\"#2a3f5f\"},\"error_y\":{\"color\":\"#2a3f5f\"},\"marker\":{\"line\":{\"color\":\"#E5ECF6\",\"width\":0.5},\"pattern\":{\"fillmode\":\"overlay\",\"size\":10,\"solidity\":0.2}},\"type\":\"bar\"}],\"carpet\":[{\"aaxis\":{\"endlinecolor\":\"#2a3f5f\",\"gridcolor\":\"white\",\"linecolor\":\"white\",\"minorgridcolor\":\"white\",\"startlinecolor\":\"#2a3f5f\"},\"baxis\":{\"endlinecolor\":\"#2a3f5f\",\"gridcolor\":\"white\",\"linecolor\":\"white\",\"minorgridcolor\":\"white\",\"startlinecolor\":\"#2a3f5f\"},\"type\":\"carpet\"}],\"choropleth\":[{\"colorbar\":{\"outlinewidth\":0,\"ticks\":\"\"},\"type\":\"choropleth\"}],\"contourcarpet\":[{\"colorbar\":{\"outlinewidth\":0,\"ticks\":\"\"},\"type\":\"contourcarpet\"}],\"contour\":[{\"colorbar\":{\"outlinewidth\":0,\"ticks\":\"\"},\"colorscale\":[[0.0,\"#0d0887\"],[0.1111111111111111,\"#46039f\"],[0.2222222222222222,\"#7201a8\"],[0.3333333333333333,\"#9c179e\"],[0.4444444444444444,\"#bd3786\"],[0.5555555555555556,\"#d8576b\"],[0.6666666666666666,\"#ed7953\"],[0.7777777777777778,\"#fb9f3a\"],[0.8888888888888888,\"#fdca26\"],[1.0,\"#f0f921\"]],\"type\":\"contour\"}],\"heatmapgl\":[{\"colorbar\":{\"outlinewidth\":0,\"ticks\":\"\"},\"colorscale\":[[0.0,\"#0d0887\"],[0.1111111111111111,\"#46039f\"],[0.2222222222222222,\"#7201a8\"],[0.3333333333333333,\"#9c179e\"],[0.4444444444444444,\"#bd3786\"],[0.5555555555555556,\"#d8576b\"],[0.6666666666666666,\"#ed7953\"],[0.7777777777777778,\"#fb9f3a\"],[0.8888888888888888,\"#fdca26\"],[1.0,\"#f0f921\"]],\"type\":\"heatmapgl\"}],\"heatmap\":[{\"colorbar\":{\"outlinewidth\":0,\"ticks\":\"\"},\"colorscale\":[[0.0,\"#0d0887\"],[0.1111111111111111,\"#46039f\"],[0.2222222222222222,\"#7201a8\"],[0.3333333333333333,\"#9c179e\"],[0.4444444444444444,\"#bd3786\"],[0.5555555555555556,\"#d8576b\"],[0.6666666666666666,\"#ed7953\"],[0.7777777777777778,\"#fb9f3a\"],[0.8888888888888888,\"#fdca26\"],[1.0,\"#f0f921\"]],\"type\":\"heatmap\"}],\"histogram2dcontour\":[{\"colorbar\":{\"outlinewidth\":0,\"ticks\":\"\"},\"colorscale\":[[0.0,\"#0d0887\"],[0.1111111111111111,\"#46039f\"],[0.2222222222222222,\"#7201a8\"],[0.3333333333333333,\"#9c179e\"],[0.4444444444444444,\"#bd3786\"],[0.5555555555555556,\"#d8576b\"],[0.6666666666666666,\"#ed7953\"],[0.7777777777777778,\"#fb9f3a\"],[0.8888888888888888,\"#fdca26\"],[1.0,\"#f0f921\"]],\"type\":\"histogram2dcontour\"}],\"histogram2d\":[{\"colorbar\":{\"outlinewidth\":0,\"ticks\":\"\"},\"colorscale\":[[0.0,\"#0d0887\"],[0.1111111111111111,\"#46039f\"],[0.2222222222222222,\"#7201a8\"],[0.3333333333333333,\"#9c179e\"],[0.4444444444444444,\"#bd3786\"],[0.5555555555555556,\"#d8576b\"],[0.6666666666666666,\"#ed7953\"],[0.7777777777777778,\"#fb9f3a\"],[0.8888888888888888,\"#fdca26\"],[1.0,\"#f0f921\"]],\"type\":\"histogram2d\"}],\"histogram\":[{\"marker\":{\"pattern\":{\"fillmode\":\"overlay\",\"size\":10,\"solidity\":0.2}},\"type\":\"histogram\"}],\"mesh3d\":[{\"colorbar\":{\"outlinewidth\":0,\"ticks\":\"\"},\"type\":\"mesh3d\"}],\"parcoords\":[{\"line\":{\"colorbar\":{\"outlinewidth\":0,\"ticks\":\"\"}},\"type\":\"parcoords\"}],\"pie\":[{\"automargin\":true,\"type\":\"pie\"}],\"scatter3d\":[{\"line\":{\"colorbar\":{\"outlinewidth\":0,\"ticks\":\"\"}},\"marker\":{\"colorbar\":{\"outlinewidth\":0,\"ticks\":\"\"}},\"type\":\"scatter3d\"}],\"scattercarpet\":[{\"marker\":{\"colorbar\":{\"outlinewidth\":0,\"ticks\":\"\"}},\"type\":\"scattercarpet\"}],\"scattergeo\":[{\"marker\":{\"colorbar\":{\"outlinewidth\":0,\"ticks\":\"\"}},\"type\":\"scattergeo\"}],\"scattergl\":[{\"marker\":{\"colorbar\":{\"outlinewidth\":0,\"ticks\":\"\"}},\"type\":\"scattergl\"}],\"scattermapbox\":[{\"marker\":{\"colorbar\":{\"outlinewidth\":0,\"ticks\":\"\"}},\"type\":\"scattermapbox\"}],\"scatterpolargl\":[{\"marker\":{\"colorbar\":{\"outlinewidth\":0,\"ticks\":\"\"}},\"type\":\"scatterpolargl\"}],\"scatterpolar\":[{\"marker\":{\"colorbar\":{\"outlinewidth\":0,\"ticks\":\"\"}},\"type\":\"scatterpolar\"}],\"scatter\":[{\"marker\":{\"colorbar\":{\"outlinewidth\":0,\"ticks\":\"\"}},\"type\":\"scatter\"}],\"scatterternary\":[{\"marker\":{\"colorbar\":{\"outlinewidth\":0,\"ticks\":\"\"}},\"type\":\"scatterternary\"}],\"surface\":[{\"colorbar\":{\"outlinewidth\":0,\"ticks\":\"\"},\"colorscale\":[[0.0,\"#0d0887\"],[0.1111111111111111,\"#46039f\"],[0.2222222222222222,\"#7201a8\"],[0.3333333333333333,\"#9c179e\"],[0.4444444444444444,\"#bd3786\"],[0.5555555555555556,\"#d8576b\"],[0.6666666666666666,\"#ed7953\"],[0.7777777777777778,\"#fb9f3a\"],[0.8888888888888888,\"#fdca26\"],[1.0,\"#f0f921\"]],\"type\":\"surface\"}],\"table\":[{\"cells\":{\"fill\":{\"color\":\"#EBF0F8\"},\"line\":{\"color\":\"white\"}},\"header\":{\"fill\":{\"color\":\"#C8D4E3\"},\"line\":{\"color\":\"white\"}},\"type\":\"table\"}]},\"layout\":{\"annotationdefaults\":{\"arrowcolor\":\"#2a3f5f\",\"arrowhead\":0,\"arrowwidth\":1},\"autotypenumbers\":\"strict\",\"coloraxis\":{\"colorbar\":{\"outlinewidth\":0,\"ticks\":\"\"}},\"colorscale\":{\"diverging\":[[0,\"#8e0152\"],[0.1,\"#c51b7d\"],[0.2,\"#de77ae\"],[0.3,\"#f1b6da\"],[0.4,\"#fde0ef\"],[0.5,\"#f7f7f7\"],[0.6,\"#e6f5d0\"],[0.7,\"#b8e186\"],[0.8,\"#7fbc41\"],[0.9,\"#4d9221\"],[1,\"#276419\"]],\"sequential\":[[0.0,\"#0d0887\"],[0.1111111111111111,\"#46039f\"],[0.2222222222222222,\"#7201a8\"],[0.3333333333333333,\"#9c179e\"],[0.4444444444444444,\"#bd3786\"],[0.5555555555555556,\"#d8576b\"],[0.6666666666666666,\"#ed7953\"],[0.7777777777777778,\"#fb9f3a\"],[0.8888888888888888,\"#fdca26\"],[1.0,\"#f0f921\"]],\"sequentialminus\":[[0.0,\"#0d0887\"],[0.1111111111111111,\"#46039f\"],[0.2222222222222222,\"#7201a8\"],[0.3333333333333333,\"#9c179e\"],[0.4444444444444444,\"#bd3786\"],[0.5555555555555556,\"#d8576b\"],[0.6666666666666666,\"#ed7953\"],[0.7777777777777778,\"#fb9f3a\"],[0.8888888888888888,\"#fdca26\"],[1.0,\"#f0f921\"]]},\"colorway\":[\"#636efa\",\"#EF553B\",\"#00cc96\",\"#ab63fa\",\"#FFA15A\",\"#19d3f3\",\"#FF6692\",\"#B6E880\",\"#FF97FF\",\"#FECB52\"],\"font\":{\"color\":\"#2a3f5f\"},\"geo\":{\"bgcolor\":\"white\",\"lakecolor\":\"white\",\"landcolor\":\"#E5ECF6\",\"showlakes\":true,\"showland\":true,\"subunitcolor\":\"white\"},\"hoverlabel\":{\"align\":\"left\"},\"hovermode\":\"closest\",\"mapbox\":{\"style\":\"light\"},\"paper_bgcolor\":\"white\",\"plot_bgcolor\":\"#E5ECF6\",\"polar\":{\"angularaxis\":{\"gridcolor\":\"white\",\"linecolor\":\"white\",\"ticks\":\"\"},\"bgcolor\":\"#E5ECF6\",\"radialaxis\":{\"gridcolor\":\"white\",\"linecolor\":\"white\",\"ticks\":\"\"}},\"scene\":{\"xaxis\":{\"backgroundcolor\":\"#E5ECF6\",\"gridcolor\":\"white\",\"gridwidth\":2,\"linecolor\":\"white\",\"showbackground\":true,\"ticks\":\"\",\"zerolinecolor\":\"white\"},\"yaxis\":{\"backgroundcolor\":\"#E5ECF6\",\"gridcolor\":\"white\",\"gridwidth\":2,\"linecolor\":\"white\",\"showbackground\":true,\"ticks\":\"\",\"zerolinecolor\":\"white\"},\"zaxis\":{\"backgroundcolor\":\"#E5ECF6\",\"gridcolor\":\"white\",\"gridwidth\":2,\"linecolor\":\"white\",\"showbackground\":true,\"ticks\":\"\",\"zerolinecolor\":\"white\"}},\"shapedefaults\":{\"line\":{\"color\":\"#2a3f5f\"}},\"ternary\":{\"aaxis\":{\"gridcolor\":\"white\",\"linecolor\":\"white\",\"ticks\":\"\"},\"baxis\":{\"gridcolor\":\"white\",\"linecolor\":\"white\",\"ticks\":\"\"},\"bgcolor\":\"#E5ECF6\",\"caxis\":{\"gridcolor\":\"white\",\"linecolor\":\"white\",\"ticks\":\"\"}},\"title\":{\"x\":0.05},\"xaxis\":{\"automargin\":true,\"gridcolor\":\"white\",\"linecolor\":\"white\",\"ticks\":\"\",\"title\":{\"standoff\":15},\"zerolinecolor\":\"white\",\"zerolinewidth\":2},\"yaxis\":{\"automargin\":true,\"gridcolor\":\"white\",\"linecolor\":\"white\",\"ticks\":\"\",\"title\":{\"standoff\":15},\"zerolinecolor\":\"white\",\"zerolinewidth\":2}}},\"title\":{\"font\":{\"color\":\"#4D5663\"}},\"xaxis\":{\"anchor\":\"y\",\"domain\":[0.0,0.2125],\"gridcolor\":\"#E1E5ED\",\"showgrid\":false,\"tickfont\":{\"color\":\"#4D5663\"},\"title\":{\"font\":{\"color\":\"#4D5663\"},\"text\":\"\"},\"zerolinecolor\":\"#E1E5ED\"},\"yaxis\":{\"anchor\":\"x\",\"domain\":[0.8025,1.0],\"gridcolor\":\"#E1E5ED\",\"showgrid\":false,\"tickfont\":{\"color\":\"#4D5663\"},\"title\":{\"font\":{\"color\":\"#4D5663\"},\"text\":\"\"},\"zerolinecolor\":\"#E1E5ED\"},\"xaxis2\":{\"anchor\":\"y2\",\"domain\":[0.2625,0.475],\"gridcolor\":\"#E1E5ED\",\"showgrid\":false,\"tickfont\":{\"color\":\"#4D5663\"},\"title\":{\"font\":{\"color\":\"#4D5663\"},\"text\":\"\"},\"zerolinecolor\":\"#E1E5ED\"},\"yaxis2\":{\"anchor\":\"x2\",\"domain\":[0.8025,1.0],\"gridcolor\":\"#E1E5ED\",\"showgrid\":false,\"tickfont\":{\"color\":\"#4D5663\"},\"title\":{\"font\":{\"color\":\"#4D5663\"},\"text\":\"\"},\"zerolinecolor\":\"#E1E5ED\"},\"xaxis3\":{\"anchor\":\"y3\",\"domain\":[0.525,0.7375],\"gridcolor\":\"#E1E5ED\",\"showgrid\":false,\"tickfont\":{\"color\":\"#4D5663\"},\"title\":{\"font\":{\"color\":\"#4D5663\"},\"text\":\"\"},\"zerolinecolor\":\"#E1E5ED\"},\"yaxis3\":{\"anchor\":\"x3\",\"domain\":[0.8025,1.0],\"gridcolor\":\"#E1E5ED\",\"showgrid\":false,\"tickfont\":{\"color\":\"#4D5663\"},\"title\":{\"font\":{\"color\":\"#4D5663\"},\"text\":\"\"},\"zerolinecolor\":\"#E1E5ED\"},\"xaxis4\":{\"anchor\":\"y4\",\"domain\":[0.7875,1.0],\"gridcolor\":\"#E1E5ED\",\"showgrid\":false,\"tickfont\":{\"color\":\"#4D5663\"},\"title\":{\"font\":{\"color\":\"#4D5663\"},\"text\":\"\"},\"zerolinecolor\":\"#E1E5ED\"},\"yaxis4\":{\"anchor\":\"x4\",\"domain\":[0.8025,1.0],\"gridcolor\":\"#E1E5ED\",\"showgrid\":false,\"tickfont\":{\"color\":\"#4D5663\"},\"title\":{\"font\":{\"color\":\"#4D5663\"},\"text\":\"\"},\"zerolinecolor\":\"#E1E5ED\"},\"xaxis5\":{\"anchor\":\"y5\",\"domain\":[0.0,0.2125],\"gridcolor\":\"#E1E5ED\",\"showgrid\":false,\"tickfont\":{\"color\":\"#4D5663\"},\"title\":{\"font\":{\"color\":\"#4D5663\"},\"text\":\"\"},\"zerolinecolor\":\"#E1E5ED\"},\"yaxis5\":{\"anchor\":\"x5\",\"domain\":[0.535,0.7325],\"gridcolor\":\"#E1E5ED\",\"showgrid\":false,\"tickfont\":{\"color\":\"#4D5663\"},\"title\":{\"font\":{\"color\":\"#4D5663\"},\"text\":\"\"},\"zerolinecolor\":\"#E1E5ED\"},\"xaxis6\":{\"anchor\":\"y6\",\"domain\":[0.2625,0.475],\"gridcolor\":\"#E1E5ED\",\"showgrid\":false,\"tickfont\":{\"color\":\"#4D5663\"},\"title\":{\"font\":{\"color\":\"#4D5663\"},\"text\":\"\"},\"zerolinecolor\":\"#E1E5ED\"},\"yaxis6\":{\"anchor\":\"x6\",\"domain\":[0.535,0.7325],\"gridcolor\":\"#E1E5ED\",\"showgrid\":false,\"tickfont\":{\"color\":\"#4D5663\"},\"title\":{\"font\":{\"color\":\"#4D5663\"},\"text\":\"\"},\"zerolinecolor\":\"#E1E5ED\"},\"xaxis7\":{\"anchor\":\"y7\",\"domain\":[0.525,0.7375],\"gridcolor\":\"#E1E5ED\",\"showgrid\":false,\"tickfont\":{\"color\":\"#4D5663\"},\"title\":{\"font\":{\"color\":\"#4D5663\"},\"text\":\"\"},\"zerolinecolor\":\"#E1E5ED\"},\"yaxis7\":{\"anchor\":\"x7\",\"domain\":[0.535,0.7325],\"gridcolor\":\"#E1E5ED\",\"showgrid\":false,\"tickfont\":{\"color\":\"#4D5663\"},\"title\":{\"font\":{\"color\":\"#4D5663\"},\"text\":\"\"},\"zerolinecolor\":\"#E1E5ED\"},\"xaxis8\":{\"anchor\":\"y8\",\"domain\":[0.7875,1.0],\"gridcolor\":\"#E1E5ED\",\"showgrid\":false,\"tickfont\":{\"color\":\"#4D5663\"},\"title\":{\"font\":{\"color\":\"#4D5663\"},\"text\":\"\"},\"zerolinecolor\":\"#E1E5ED\"},\"yaxis8\":{\"anchor\":\"x8\",\"domain\":[0.535,0.7325],\"gridcolor\":\"#E1E5ED\",\"showgrid\":false,\"tickfont\":{\"color\":\"#4D5663\"},\"title\":{\"font\":{\"color\":\"#4D5663\"},\"text\":\"\"},\"zerolinecolor\":\"#E1E5ED\"},\"xaxis9\":{\"anchor\":\"y9\",\"domain\":[0.0,0.2125],\"gridcolor\":\"#E1E5ED\",\"showgrid\":false,\"tickfont\":{\"color\":\"#4D5663\"},\"title\":{\"font\":{\"color\":\"#4D5663\"},\"text\":\"\"},\"zerolinecolor\":\"#E1E5ED\"},\"yaxis9\":{\"anchor\":\"x9\",\"domain\":[0.2675,0.465],\"gridcolor\":\"#E1E5ED\",\"showgrid\":false,\"tickfont\":{\"color\":\"#4D5663\"},\"title\":{\"font\":{\"color\":\"#4D5663\"},\"text\":\"\"},\"zerolinecolor\":\"#E1E5ED\"},\"xaxis10\":{\"anchor\":\"y10\",\"domain\":[0.2625,0.475],\"gridcolor\":\"#E1E5ED\",\"showgrid\":false,\"tickfont\":{\"color\":\"#4D5663\"},\"title\":{\"font\":{\"color\":\"#4D5663\"},\"text\":\"\"},\"zerolinecolor\":\"#E1E5ED\"},\"yaxis10\":{\"anchor\":\"x10\",\"domain\":[0.2675,0.465],\"gridcolor\":\"#E1E5ED\",\"showgrid\":false,\"tickfont\":{\"color\":\"#4D5663\"},\"title\":{\"font\":{\"color\":\"#4D5663\"},\"text\":\"\"},\"zerolinecolor\":\"#E1E5ED\"},\"xaxis11\":{\"anchor\":\"y11\",\"domain\":[0.525,0.7375],\"gridcolor\":\"#E1E5ED\",\"showgrid\":false,\"tickfont\":{\"color\":\"#4D5663\"},\"title\":{\"font\":{\"color\":\"#4D5663\"},\"text\":\"\"},\"zerolinecolor\":\"#E1E5ED\"},\"yaxis11\":{\"anchor\":\"x11\",\"domain\":[0.2675,0.465],\"gridcolor\":\"#E1E5ED\",\"showgrid\":false,\"tickfont\":{\"color\":\"#4D5663\"},\"title\":{\"font\":{\"color\":\"#4D5663\"},\"text\":\"\"},\"zerolinecolor\":\"#E1E5ED\"},\"xaxis12\":{\"anchor\":\"y12\",\"domain\":[0.7875,1.0],\"gridcolor\":\"#E1E5ED\",\"showgrid\":false,\"tickfont\":{\"color\":\"#4D5663\"},\"title\":{\"font\":{\"color\":\"#4D5663\"},\"text\":\"\"},\"zerolinecolor\":\"#E1E5ED\"},\"yaxis12\":{\"anchor\":\"x12\",\"domain\":[0.2675,0.465],\"gridcolor\":\"#E1E5ED\",\"showgrid\":false,\"tickfont\":{\"color\":\"#4D5663\"},\"title\":{\"font\":{\"color\":\"#4D5663\"},\"text\":\"\"},\"zerolinecolor\":\"#E1E5ED\"},\"xaxis13\":{\"anchor\":\"y13\",\"domain\":[0.0,0.2125],\"gridcolor\":\"#E1E5ED\",\"showgrid\":false,\"tickfont\":{\"color\":\"#4D5663\"},\"title\":{\"font\":{\"color\":\"#4D5663\"},\"text\":\"\"},\"zerolinecolor\":\"#E1E5ED\"},\"yaxis13\":{\"anchor\":\"x13\",\"domain\":[0.0,0.1975],\"gridcolor\":\"#E1E5ED\",\"showgrid\":false,\"tickfont\":{\"color\":\"#4D5663\"},\"title\":{\"font\":{\"color\":\"#4D5663\"},\"text\":\"\"},\"zerolinecolor\":\"#E1E5ED\"},\"xaxis14\":{\"anchor\":\"y14\",\"domain\":[0.2625,0.475],\"gridcolor\":\"#E1E5ED\",\"showgrid\":false,\"tickfont\":{\"color\":\"#4D5663\"},\"title\":{\"font\":{\"color\":\"#4D5663\"},\"text\":\"\"},\"zerolinecolor\":\"#E1E5ED\"},\"yaxis14\":{\"anchor\":\"x14\",\"domain\":[0.0,0.1975],\"gridcolor\":\"#E1E5ED\",\"showgrid\":false,\"tickfont\":{\"color\":\"#4D5663\"},\"title\":{\"font\":{\"color\":\"#4D5663\"},\"text\":\"\"},\"zerolinecolor\":\"#E1E5ED\"},\"xaxis15\":{\"anchor\":\"y15\",\"domain\":[0.525,0.7375],\"gridcolor\":\"#E1E5ED\",\"showgrid\":false,\"tickfont\":{\"color\":\"#4D5663\"},\"title\":{\"font\":{\"color\":\"#4D5663\"},\"text\":\"\"},\"zerolinecolor\":\"#E1E5ED\"},\"yaxis15\":{\"anchor\":\"x15\",\"domain\":[0.0,0.1975],\"gridcolor\":\"#E1E5ED\",\"showgrid\":false,\"tickfont\":{\"color\":\"#4D5663\"},\"title\":{\"font\":{\"color\":\"#4D5663\"},\"text\":\"\"},\"zerolinecolor\":\"#E1E5ED\"},\"xaxis16\":{\"anchor\":\"y16\",\"domain\":[0.7875,1.0],\"gridcolor\":\"#E1E5ED\",\"showgrid\":false,\"tickfont\":{\"color\":\"#4D5663\"},\"title\":{\"font\":{\"color\":\"#4D5663\"},\"text\":\"\"},\"zerolinecolor\":\"#E1E5ED\"},\"yaxis16\":{\"anchor\":\"x16\",\"domain\":[0.0,0.1975],\"gridcolor\":\"#E1E5ED\",\"showgrid\":false,\"tickfont\":{\"color\":\"#4D5663\"},\"title\":{\"font\":{\"color\":\"#4D5663\"},\"text\":\"\"},\"zerolinecolor\":\"#E1E5ED\"}},                        {\"showLink\": true, \"linkText\": \"Export to plot.ly\", \"plotlyServerURL\": \"https://plot.ly\", \"responsive\": true}                    ).then(function(){\n",
       "                            \n",
       "var gd = document.getElementById('b3e691e5-1cab-463d-88c4-bfad70fe125d');\n",
       "var x = new MutationObserver(function (mutations, observer) {{\n",
       "        var display = window.getComputedStyle(gd).display;\n",
       "        if (!display || display === 'none') {{\n",
       "            console.log([gd, 'removed!']);\n",
       "            Plotly.purge(gd);\n",
       "            observer.disconnect();\n",
       "        }}\n",
       "}});\n",
       "\n",
       "// Listen for the removal of the full notebook cells\n",
       "var notebookContainer = gd.closest('#notebook-container');\n",
       "if (notebookContainer) {{\n",
       "    x.observe(notebookContainer, {childList: true});\n",
       "}}\n",
       "\n",
       "// Listen for the clearing of the current output cell\n",
       "var outputEl = gd.closest('.output');\n",
       "if (outputEl) {{\n",
       "    x.observe(outputEl, {childList: true});\n",
       "}}\n",
       "\n",
       "                        })                };                });            </script>        </div>"
      ]
     },
     "metadata": {},
     "output_type": "display_data"
    }
   ],
   "source": [
    "#for a scatter matrix plot, make sure all your columns have numerical data only\n",
    "df.scatter_matrix()"
   ]
  }
 ],
 "metadata": {
  "interpreter": {
   "hash": "20bb7e915129be2440817e85fcb2f61d9415d6722a6075d97b5b724c3b79bb8f"
  },
  "kernelspec": {
   "display_name": "Python 3.9.9 64-bit (windows store)",
   "language": "python",
   "name": "python3"
  },
  "language_info": {
   "codemirror_mode": {
    "name": "ipython",
    "version": 3
   },
   "file_extension": ".py",
   "mimetype": "text/x-python",
   "name": "python",
   "nbconvert_exporter": "python",
   "pygments_lexer": "ipython3",
   "version": "3.9.9"
  },
  "orig_nbformat": 4
 },
 "nbformat": 4,
 "nbformat_minor": 2
}
